{
 "cells": [
  {
   "cell_type": "markdown",
   "id": "b841be4f-688e-4d37-8da3-a5cbc487aee3",
   "metadata": {
    "tags": []
   },
   "source": [
    "# Notebook to interactively manipulate equilibrium boundary and getting corresponding MXH coefficients"
   ]
  },
  {
   "cell_type": "code",
   "execution_count": null,
   "id": "4e55da2a-99cf-485c-a867-446a48a7dcfb",
   "metadata": {
    "tags": []
   },
   "outputs": [],
   "source": [
    "using FUSE\n",
    "using Plots; gr();\n",
    "using IMAS"
   ]
  },
  {
   "cell_type": "code",
   "execution_count": null,
   "id": "bc267a7d-ee8c-4593-b1bf-30bc3ce8573f",
   "metadata": {
    "tags": []
   },
   "outputs": [],
   "source": [
    "using Interact\n",
    "\n",
    "my_mxh = Dict()\n",
    "upnull = false\n",
    "lonull = false\n",
    "@manipulate for mhx_order in 1:10,\n",
    "    a in LinRange(0.1, 10, 101),\n",
    "    eps in LinRange(0.1, 1, 101),\n",
    "    kapu in LinRange(1.0, 3.0, 101),\n",
    "    kapl in LinRange(1.0, 3.0, 101),\n",
    "    delu in LinRange(-1.0, 1.0, 101),\n",
    "    dell in LinRange(-1.0, 1.0, 101),\n",
    "    zetaou in LinRange(-sqrt(2) / 2, 1.0, 101),\n",
    "    zetaiu in LinRange(-sqrt(2) / 2, 1.0, 101),\n",
    "    zetaol in LinRange(-sqrt(2) / 2, 1.0, 101),\n",
    "    zetail in LinRange(-sqrt(2) / 2, 1.0, 101)#,\n",
    "    #upnull in [false,true],\n",
    "    #lonull in [false,true],\n",
    "\n",
    "    r, z, zref = try\n",
    "        IMAS.boundary_shape(; a, eps, kapu, kapl, delu, dell, zetaou, zetaiu, zetail, zetaol, zoffset=0.0, upnull, lonull)\n",
    "    catch e\n",
    "        [NaN], [NaN], [NaN]\n",
    "    end\n",
    "    my_mxh[\"current\"] = mxh = IMAS.MXH(r, z, mhx_order)\n",
    "\n",
    "    plot(r, z; aspect_ratio=:equal, lw=2, label=\"numerical\")\n",
    "    plot!(mxh,label=\"MXH\")\n",
    "end"
   ]
  },
  {
   "cell_type": "code",
   "execution_count": null,
   "id": "6b5330f7-631a-40e5-98c7-6a243ff0477e",
   "metadata": {
    "tags": []
   },
   "outputs": [],
   "source": [
    "mhx_order = 4\n",
    "\n",
    "R0 = 5.0\n",
    "eps = 1/3.5\n",
    "a = R0*eps\n",
    "kapu = 2.0\n",
    "kapl = 2.2\n",
    "delu = 0.5\n",
    "dell = 0.7\n",
    "zetaou = -0.0\n",
    "zetaol = -0.2\n",
    "zetaiu = -0.0\n",
    "zetail = -0.2\n",
    "upnull = false\n",
    "lonull = false\n",
    "\n",
    "r, z, zref = try\n",
    "    IMAS.boundary_shape(; a, eps, kapu, kapl, delu, dell, zetaou, zetaiu, zetaol, zetail, zoffset=0.0, upnull, lonull)\n",
    "catch e\n",
    "    [NaN], [NaN], [NaN]\n",
    "end\n",
    "\n",
    "mxh = IMAS.MXH(r, z, mhx_order)\n",
    "plot(r, z; aspect_ratio=:equal, lw=2, label=\"numerical\")\n",
    "display(plot!(mxh,label=\"MXH\"))\n",
    "display(mxh)"
   ]
  },
  {
   "cell_type": "code",
   "execution_count": null,
   "id": "911aa4b3-b817-4986-97fd-f415f9b11369",
   "metadata": {
    "tags": []
   },
   "outputs": [],
   "source": [
    "mxh_vect = IMAS.flat_coeffs(mxh)"
   ]
  },
  {
   "cell_type": "code",
   "execution_count": null,
   "id": "8f936b9f-f8b7-4d3c-b1b8-a239cae3010a",
   "metadata": {
    "tags": []
   },
   "outputs": [],
   "source": [
    "# CHEASE deadstart MXH\n",
    "dd = IMAS.dd()\n",
    "ini, act = FUSE.case_parameters(:ITER, init_from=:scalars);\n",
    "ini.equilibrium.boundary_from = :MXH_params\n",
    "ini.equilibrium.MXH_params = mxh_vect\n",
    "ini.equilibrium.xpoints_number = 1\n",
    "act.ActorEquilibrium.model = :CHEASE\n",
    "\n",
    "act"
   ]
  },
  {
   "cell_type": "code",
   "execution_count": null,
   "id": "5eb10512-b26a-4a5b-ab20-6fab30543dea",
   "metadata": {
    "tags": []
   },
   "outputs": [],
   "source": [
    "dd = FUSE.init(dd, ini, act)\n",
    "mxh_plot = plot(dd.equilibrium, label=\"CHEASE deadstart MXH\")\n",
    "display(mxh_plot)"
   ]
  },
  {
   "cell_type": "code",
   "execution_count": null,
   "id": "efcabde2-b027-4d12-a655-6c0ae95720e3",
   "metadata": {},
   "outputs": [],
   "source": []
  }
 ],
 "metadata": {
  "@webio": {
   "lastCommId": "13850f87-7bd4-4540-8812-3cd57151d750",
   "lastKernelId": "daff8f2b-dfbe-490b-baf2-89e090c180cd"
  },
  "kernelspec": {
   "display_name": "Julia 1.8.5",
   "language": "julia",
   "name": "julia-1.8"
  },
  "language_info": {
   "file_extension": ".jl",
   "mimetype": "application/julia",
   "name": "julia",
   "version": "1.8.5"
  }
 },
 "nbformat": 4,
 "nbformat_minor": 5
}
