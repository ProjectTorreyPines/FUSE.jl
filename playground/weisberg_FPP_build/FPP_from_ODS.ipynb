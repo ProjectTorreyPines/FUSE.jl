{
 "cells": [
  {
   "cell_type": "markdown",
   "id": "4bc90d37-5c16-482c-9418-ccc39ad31efd",
   "metadata": {},
   "source": [
    "# Make FPP from STEP ODS"
   ]
  },
  {
   "cell_type": "code",
   "execution_count": 1,
   "id": "67452adf-1989-4480-b605-44f09aa6decb",
   "metadata": {
    "tags": []
   },
   "outputs": [
    {
     "name": "stderr",
     "output_type": "stream",
     "text": [
      "WARNING: redefinition of constant UNIT_FORMATS. This may fail, cause incorrect answers, or produce other errors.\n"
     ]
    }
   ],
   "source": [
    "using Revise\n",
    "using FUSE\n",
    "using IMAS\n",
    "using Plots;\n",
    "FUSE.logging(Logging.Info);"
   ]
  },
  {
   "cell_type": "markdown",
   "id": "4d940868-4d18-42e9-a3c2-143bf0631d8a",
   "metadata": {},
   "source": [
    "## Load in ODS"
   ]
  },
  {
   "cell_type": "code",
   "execution_count": 2,
   "id": "abd198db-662b-4e3e-8933-d830d0331792",
   "metadata": {
    "tags": []
   },
   "outputs": [],
   "source": [
    "ini, act = FUSE.case_parameters(:FPP, version=:v1_demount, init_from=:ods);"
   ]
  },
  {
   "cell_type": "code",
   "execution_count": 10,
   "id": "35a6fadc-17bf-4440-9375-900561687a83",
   "metadata": {
    "tags": []
   },
   "outputs": [],
   "source": [
    "ini.ods.filename = \"8MA_fastion_1160.json\";"
   ]
  },
  {
   "cell_type": "markdown",
   "id": "7db702dd-d04a-4ba5-baa9-930b7b1d2e73",
   "metadata": {},
   "source": [
    "## Run init"
   ]
  },
  {
   "cell_type": "code",
   "execution_count": 11,
   "id": "81f240d6-f521-40f3-9fc4-1affda650e9d",
   "metadata": {
    "tags": []
   },
   "outputs": [
    {
     "ename": "LoadError",
     "evalue": "Can't assign data to `core_transport.model[1].profiles_1d[1].ion[1].particles.flux` before [\"core_transport.model[:].profiles_1d[:].grid_flux.rho_tor_norm\"]",
     "output_type": "error",
     "traceback": [
      "Can't assign data to `core_transport.model[1].profiles_1d[1].ion[1].particles.flux` before [\"core_transport.model[:].profiles_1d[:].grid_flux.rho_tor_norm\"]",
      "",
      "Stacktrace:",
      "  [1] error(s::String)",
      "    @ Base ./error.jl:35",
      "  [2] setproperty!(ids::IMASDD.IDS, field::Symbol, v::Vector{Float64}; skip_non_coordinates::Bool, error_on_missing_coordinates::Bool)",
      "    @ IMASDD ~/.julia/dev/IMASDD/src/data.jl:520",
      "  [3] dict2imas(dct::Dict{String, Any}, ids::IMASDD.core_transport__model___profiles_1d___ion___particles{Float64}, path::Vector{String}; skip_non_coordinates::Bool, error_on_missing_coordinates::Bool, verbose::Bool)",
      "    @ IMASDD ~/.julia/dev/IMASDD/src/io.jl:118",
      "  [4] dict2imas(dct::Dict{String, Any}, ids::IMASDD.core_transport__model___profiles_1d___ion{Float64}, path::Vector{String}; skip_non_coordinates::Bool, error_on_missing_coordinates::Bool, verbose::Bool)",
      "    @ IMASDD ~/.julia/dev/IMASDD/src/io.jl:78",
      "  [5] dict2imas(dct::Dict{String, Any}, ids::IMASDD.core_transport__model___profiles_1d{Float64}, path::Vector{String}; skip_non_coordinates::Bool, error_on_missing_coordinates::Bool, verbose::Bool) (repeats 3 times)",
      "    @ IMASDD ~/.julia/dev/IMASDD/src/io.jl:93",
      "  [6] dict2imas(dct::Dict{String, Any}, ids::IMASDD.dd{Float64}, path::Vector{String}; skip_non_coordinates::Bool, error_on_missing_coordinates::Bool, verbose::Bool)",
      "    @ IMASDD ~/.julia/dev/IMASDD/src/io.jl:78",
      "  [7] dict2imas(dct::Dict{String, Any}, ids::IMASDD.dd{Float64}; error_on_missing_coordinates::Bool, verbose::Bool)",
      "    @ IMASDD ~/.julia/dev/IMASDD/src/io.jl:52",
      "  [8] json2imas(filename::String, ids::IMASDD.dd{Float64}; error_on_missing_coordinates::Bool, verbose::Bool)",
      "    @ IMASDD ~/.julia/dev/IMASDD/src/io.jl:218",
      "  [9] json2imas (repeats 2 times)",
      "    @ ~/.julia/dev/IMASDD/src/io.jl:216 [inlined]",
      " [10] macro expansion",
      "    @ /fusion/ga/projects/ird/ptp/weisbergd/julia/dev/FUSE/src/ddinit/init.jl:16 [inlined]",
      " [11] macro expansion",
      "    @ ~/.julia/packages/TimerOutputs/RsWnF/src/TimerOutput.jl:237 [inlined]",
      " [12] init(dd::IMASDD.dd{Float64}, ini::FUSE.ParametersInits{Float64}, act::FUSE.ParametersActors{Float64}; do_plot::Bool)",
      "    @ FUSE /fusion/ga/projects/ird/ptp/weisbergd/julia/dev/FUSE/src/ddinit/init.jl:12",
      " [13] top-level scope",
      "    @ In[11]:1"
     ]
    }
   ],
   "source": [
    "dd = IMAS.dd();\n",
    "FUSE.init(dd, ini, act; do_plot=false);"
   ]
  },
  {
   "cell_type": "code",
   "execution_count": null,
   "id": "5ecbeec7-393a-4a3b-a7b2-46eb5ec70e79",
   "metadata": {},
   "outputs": [],
   "source": []
  }
 ],
 "metadata": {
  "kernelspec": {
   "display_name": "Julia 1.8.5",
   "language": "julia",
   "name": "julia-1.8"
  },
  "language_info": {
   "file_extension": ".jl",
   "mimetype": "application/julia",
   "name": "julia",
   "version": "1.8.5"
  }
 },
 "nbformat": 4,
 "nbformat_minor": 5
}
