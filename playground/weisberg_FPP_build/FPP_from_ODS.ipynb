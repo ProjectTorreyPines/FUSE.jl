{
 "cells": [
  {
   "cell_type": "markdown",
   "id": "4bc90d37-5c16-482c-9418-ccc39ad31efd",
   "metadata": {},
   "source": [
    "# Make FPP from STEP ODS"
   ]
  },
  {
   "cell_type": "code",
   "execution_count": 22,
   "id": "67452adf-1989-4480-b605-44f09aa6decb",
   "metadata": {
    "tags": []
   },
   "outputs": [],
   "source": [
    "using Revise\n",
    "using FUSE\n",
    "using IMAS\n",
    "using Plots;\n",
    "FUSE.logging(Logging.Info);"
   ]
  },
  {
   "cell_type": "markdown",
   "id": "4d940868-4d18-42e9-a3c2-143bf0631d8a",
   "metadata": {},
   "source": [
    "## Load in ODS"
   ]
  },
  {
   "cell_type": "code",
   "execution_count": 23,
   "id": "abd198db-662b-4e3e-8933-d830d0331792",
   "metadata": {
    "tags": []
   },
   "outputs": [],
   "source": [
    "ini, act = FUSE.case_parameters(:FPP, version=:v2, init_from=:ods);"
   ]
  },
  {
   "cell_type": "code",
   "execution_count": 24,
   "id": "35a6fadc-17bf-4440-9375-900561687a83",
   "metadata": {
    "tags": []
   },
   "outputs": [],
   "source": [
    "ini.ods.filename = \"8MA_fastion_1160.json\";"
   ]
  },
  {
   "cell_type": "code",
   "execution_count": 25,
   "id": "81dff313",
   "metadata": {},
   "outputs": [
    {
     "data": {
      "text/plain": [
       ":ods"
      ]
     },
     "metadata": {},
     "output_type": "display_data"
    }
   ],
   "source": [
    "ini.general.init_from = :ods"
   ]
  },
  {
   "cell_type": "markdown",
   "id": "7db702dd-d04a-4ba5-baa9-930b7b1d2e73",
   "metadata": {},
   "source": [
    "## Run init"
   ]
  },
  {
   "cell_type": "code",
   "execution_count": 26,
   "id": "81f240d6-f521-40f3-9fc4-1affda650e9d",
   "metadata": {
    "tags": []
   },
   "outputs": [
    {
     "ename": "ErrorException",
     "evalue": "Can't assign data to `core_transport.model[1].profiles_1d[1].grid_d.rho_tor` before [\"core_transport.model[:].profiles_1d[:].grid_d.rho_tor_norm\"]",
     "output_type": "error",
     "traceback": [
      "Can't assign data to `core_transport.model[1].profiles_1d[1].grid_d.rho_tor` before [\"core_transport.model[:].profiles_1d[:].grid_d.rho_tor_norm\"]\n",
      "\n",
      "Stacktrace:\n",
      "  [1] error(s::String)\n",
      "    @ Base ./error.jl:35\n",
      "  [2] setproperty!(ids::IMASDD.IDS, field::Symbol, v::Vector{Float64}; skip_non_coordinates::Bool, error_on_missing_coordinates::Bool)\n",
      "    @ IMASDD ~/.julia/dev/IMASDD/src/data.jl:724\n",
      "  [3] dict2imas(dct::Dict{String, Any}, ids::IMASDD.core_transport__model___profiles_1d___grid_d{Float64}, path::Vector{String}; skip_non_coordinates::Bool, error_on_missing_coordinates::Bool, verbose::Bool)\n",
      "    @ IMASDD ~/.julia/dev/IMASDD/src/io.jl:188\n",
      "  [4] dict2imas(dct::Dict{String, Any}, ids::IMASDD.core_transport__model___profiles_1d{Float64}, path::Vector{String}; skip_non_coordinates::Bool, error_on_missing_coordinates::Bool, verbose::Bool)\n",
      "    @ IMASDD ~/.julia/dev/IMASDD/src/io.jl:144\n",
      "  [5] dict2imas(dct::Dict{String, Any}, ids::IMASDD.core_transport__model{Float64}, path::Vector{String}; skip_non_coordinates::Bool, error_on_missing_coordinates::Bool, verbose::Bool)\n",
      "    @ IMASDD ~/.julia/dev/IMASDD/src/io.jl:159\n",
      "  [6] dict2imas(dct::Dict{String, Any}, ids::IMASDD.core_transport{Float64}, path::Vector{String}; skip_non_coordinates::Bool, error_on_missing_coordinates::Bool, verbose::Bool)\n",
      "    @ IMASDD ~/.julia/dev/IMASDD/src/io.jl:159\n",
      "  [7] dict2imas(dct::Dict{String, Any}, ids::IMASDD.dd{Float64}, path::Vector{String}; skip_non_coordinates::Bool, error_on_missing_coordinates::Bool, verbose::Bool)\n",
      "    @ IMASDD ~/.julia/dev/IMASDD/src/io.jl:144\n",
      "  [8] dict2imas\n",
      "    @ ~/.julia/dev/IMASDD/src/io.jl:125 [inlined]\n",
      "  [9] dict2imas(dct::Dict{String, Any}, ids::IMASDD.dd{Float64}; error_on_missing_coordinates::Bool, verbose::Bool)\n",
      "    @ IMASDD ~/.julia/dev/IMASDD/src/io.jl:118\n",
      " [10] str2imas(json_string::String, ids::IMASDD.dd{Float64}; error_on_missing_coordinates::Bool, verbose::Bool)\n",
      "    @ IMASDD ~/.julia/dev/IMASDD/src/io.jl:314\n",
      " [11] str2imas\n",
      "    @ ~/.julia/dev/IMASDD/src/io.jl:312 [inlined]\n",
      " [12] #67\n",
      "    @ ~/.julia/dev/IMASDD/src/io.jl:297 [inlined]\n",
      " [13] open(::IMASDD.var\"#67#68\"{Bool, Bool, IMASDD.dd{Float64}}, ::String, ::Vararg{String}; kwargs::Base.Pairs{Symbol, Union{}, Tuple{}, NamedTuple{(), Tuple{}}})\n",
      "    @ Base ./io.jl:395\n",
      " [14] open\n",
      "    @ ./io.jl:392 [inlined]\n",
      " [15] #json2imas#66\n",
      "    @ ~/.julia/dev/IMASDD/src/io.jl:296 [inlined]\n",
      " [16] json2imas (repeats 2 times)\n",
      "    @ ~/.julia/dev/IMASDD/src/io.jl:295 [inlined]\n",
      " [17] load_ODSs_from_string(filenames::String)\n",
      "    @ FUSE ~/.julia/dev/FUSE/src/parameters_inits.jl:475\n",
      " [18] ini_from_ods!(ini::FUSE.ParametersInits{Float64})\n",
      "    @ FUSE ~/.julia/dev/FUSE/src/ddinit/init_from_ods.jl:17\n",
      " [19] macro expansion\n",
      "    @ ~/.julia/dev/FUSE/src/ddinit/init.jl:30 [inlined]\n",
      " [20] macro expansion\n",
      "    @ ~/.julia/packages/TimerOutputs/RsWnF/src/TimerOutput.jl:237 [inlined]\n",
      " [21] init(dd::IMASDD.dd{Float64}, ini::FUSE.ParametersInits{Float64}, act::FUSE.ParametersActors{Float64}; do_plot::Bool, initialize_hardware::Bool)\n",
      "    @ FUSE ~/.julia/dev/FUSE/src/ddinit/init.jl:12\n",
      " [22] top-level scope\n",
      "    @ ~/.julia/dev/FUSE/playground/weisberg_FPP_build/FPP_from_ODS.ipynb:2"
     ]
    }
   ],
   "source": [
    "dd = IMAS.dd();\n",
    "FUSE.init(dd, ini, act; do_plot=false);"
   ]
  },
  {
   "cell_type": "code",
   "execution_count": 27,
   "id": "5ecbeec7-393a-4a3b-a7b2-46eb5ec70e79",
   "metadata": {},
   "outputs": [
    {
     "ename": "ErrorException",
     "evalue": "Attempt to access 0-element IMASDD.IDSvector{IMASDD.equilibrium__time_slice{Float64}} at index [1]. Need to `resize!(ids, 1)`.",
     "output_type": "error",
     "traceback": [
      "Attempt to access 0-element IMASDD.IDSvector{IMASDD.equilibrium__time_slice{Float64}} at index [1]. Need to `resize!(ids, 1)`.\n",
      "\n",
      "Stacktrace:\n",
      "  [1] error(s::String)\n",
      "    @ Base ./error.jl:35\n",
      "  [2] getindex\n",
      "    @ ~/.julia/dev/IMASDD/src/data.jl:937 [inlined]\n",
      "  [3] getindex(ids::IMASDD.IDSvector{IMASDD.equilibrium__time_slice{Float64}}, time0::Float64)\n",
      "    @ IMASDD ~/.julia/dev/IMASDD/src/time.jl:9\n",
      "  [4] getindex(ids::IMASDD.IDSvector{IMASDD.equilibrium__time_slice{Float64}})\n",
      "    @ IMASDD ~/.julia/dev/IMASDD/src/time.jl:4\n",
      "  [5] macro expansion\n",
      "    @ ~/.julia/dev/IMAS/src/plot.jl:301 [inlined]\n",
      "  [6] macro expansion\n",
      "    @ ~/.julia/packages/RecipesBase/BRe07/src/RecipesBase.jl:340 [inlined]\n",
      "  [7] macro expansion\n",
      "    @ ~/.julia/dev/IMAS/src/plot.jl:300 [inlined]\n",
      "  [8] apply_recipe(plotattributes::AbstractDict{Symbol, Any}, eq::IMASDD.equilibrium)\n",
      "    @ IMAS ~/.julia/packages/RecipesBase/BRe07/src/RecipesBase.jl:300\n",
      "  [9] _process_userrecipes!(plt::Any, plotattributes::Any, args::Any)\n",
      "    @ RecipesPipeline ~/.julia/packages/RecipesPipeline/BGM3l/src/user_recipe.jl:38\n",
      " [10] recipe_pipeline!(plt::Any, plotattributes::Any, args::Any)\n",
      "    @ RecipesPipeline ~/.julia/packages/RecipesPipeline/BGM3l/src/RecipesPipeline.jl:72\n",
      " [11] _plot!(plt::Plots.Plot, plotattributes::Any, args::Any)\n",
      "    @ Plots ~/.julia/packages/Plots/sxUvK/src/plot.jl:223\n",
      " [12] #plot#188\n",
      "    @ ~/.julia/packages/Plots/sxUvK/src/plot.jl:102 [inlined]\n",
      " [13] plot(args::Any)\n",
      "    @ Plots ~/.julia/packages/Plots/sxUvK/src/plot.jl:93\n",
      " [14] top-level scope\n",
      "    @ ~/.julia/dev/FUSE/playground/weisberg_FPP_build/FPP_from_ODS.ipynb:1"
     ]
    }
   ],
   "source": [
    "plot(dd.equilibrium)"
   ]
  },
  {
   "cell_type": "code",
   "execution_count": 28,
   "id": "e3ec52f5",
   "metadata": {},
   "outputs": [
    {
     "ename": "ErrorException",
     "evalue": "Attempt to access 0-element IMASDD.IDSvector{IMASDD.core_profiles__profiles_1d{Float64}} at index [1]. Need to `resize!(ids, 1)`.",
     "output_type": "error",
     "traceback": [
      "Attempt to access 0-element IMASDD.IDSvector{IMASDD.core_profiles__profiles_1d{Float64}} at index [1]. Need to `resize!(ids, 1)`.\n",
      "\n",
      "Stacktrace:\n",
      "  [1] error(s::String)\n",
      "    @ Base ./error.jl:35\n",
      "  [2] getindex\n",
      "    @ ~/.julia/dev/IMASDD/src/data.jl:937 [inlined]\n",
      "  [3] getindex(ids::IMASDD.IDSvector{IMASDD.core_profiles__profiles_1d{Float64}}, time0::Float64)\n",
      "    @ IMASDD ~/.julia/dev/IMASDD/src/time.jl:9\n",
      "  [4] getindex(ids::IMASDD.IDSvector{IMASDD.core_profiles__profiles_1d{Float64}})\n",
      "    @ IMASDD ~/.julia/dev/IMASDD/src/time.jl:4\n",
      "  [5] macro expansion\n",
      "    @ ~/.julia/dev/IMAS/src/plot.jl:1353 [inlined]\n",
      "  [6] macro expansion\n",
      "    @ ~/.julia/packages/RecipesBase/BRe07/src/RecipesBase.jl:340 [inlined]\n",
      "  [7] macro expansion\n",
      "    @ ~/.julia/dev/IMAS/src/plot.jl:1352 [inlined]\n",
      "  [8] apply_recipe(plotattributes::AbstractDict{Symbol, Any}, cp::IMASDD.core_profiles)\n",
      "    @ IMAS ~/.julia/packages/RecipesBase/BRe07/src/RecipesBase.jl:300\n",
      "  [9] _process_userrecipes!(plt::Any, plotattributes::Any, args::Any)\n",
      "    @ RecipesPipeline ~/.julia/packages/RecipesPipeline/BGM3l/src/user_recipe.jl:38\n",
      " [10] recipe_pipeline!(plt::Any, plotattributes::Any, args::Any)\n",
      "    @ RecipesPipeline ~/.julia/packages/RecipesPipeline/BGM3l/src/RecipesPipeline.jl:72\n",
      " [11] _plot!(plt::Plots.Plot, plotattributes::Any, args::Any)\n",
      "    @ Plots ~/.julia/packages/Plots/sxUvK/src/plot.jl:223\n",
      " [12] #plot#188\n",
      "    @ ~/.julia/packages/Plots/sxUvK/src/plot.jl:102 [inlined]\n",
      " [13] plot(args::Any)\n",
      "    @ Plots ~/.julia/packages/Plots/sxUvK/src/plot.jl:93\n",
      " [14] top-level scope\n",
      "    @ ~/.julia/dev/FUSE/playground/weisberg_FPP_build/FPP_from_ODS.ipynb:1"
     ]
    }
   ],
   "source": [
    "plot(dd.core_profiles)"
   ]
  },
  {
   "cell_type": "code",
   "execution_count": 29,
   "id": "442d2ccd",
   "metadata": {},
   "outputs": [],
   "source": []
  }
 ],
 "metadata": {
  "kernelspec": {
   "display_name": "Julia 1.9.4",
   "language": "julia",
   "name": "julia-1.9"
  },
  "language_info": {
   "file_extension": ".jl",
   "mimetype": "application/julia",
   "name": "julia",
   "version": "1.9.4"
  }
 },
 "nbformat": 4,
 "nbformat_minor": 5
}
