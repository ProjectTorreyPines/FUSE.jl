{
 "cells": [
  {
   "cell_type": "markdown",
   "id": "0632f467-5489-4065-b996-46ff9b64a1dc",
   "metadata": {},
   "source": [
    "# FPP optimization workflow "
   ]
  },
  {
   "cell_type": "code",
   "execution_count": 1,
   "id": "453918aa",
   "metadata": {},
   "outputs": [],
   "source": [
    "using Revise\n",
    "using FUSE\n",
    "using IMAS\n",
    "using Plots;\n",
    "FUSE.logging(Logging.Info; actors=Logging.Debug);"
   ]
  },
  {
   "cell_type": "markdown",
   "id": "7b11b5b2-ae2d-4435-a2cd-bdcbb0347412",
   "metadata": {
    "tags": []
   },
   "source": [
    "## Make new FPP equilibirum from scratch"
   ]
  },
  {
   "cell_type": "markdown",
   "id": "7dd9491d-0251-48db-8974-7a6605b41a2c",
   "metadata": {},
   "source": [
    "### Initialize from FPP v1_demount"
   ]
  },
  {
   "cell_type": "code",
   "execution_count": null,
   "id": "fdc77cbe-0425-4a54-a1a0-75d149c8c0c0",
   "metadata": {},
   "outputs": [],
   "source": [
    "dd = IMAS.dd()\n",
    "ini, act = FUSE.case_parameters(:FPP, version=:v1_demount, init_from=:scalars);"
   ]
  },
  {
   "cell_type": "markdown",
   "id": "93cda883-a395-460c-a847-7bd00656f29e",
   "metadata": {},
   "source": [
    "### Modify ini"
   ]
  },
  {
   "cell_type": "code",
   "execution_count": null,
   "id": "d044afdc-919c-426e-a192-d5f2eb7801f8",
   "metadata": {
    "tags": []
   },
   "outputs": [],
   "source": [
    "ini.equilibrium.R0 = 5.0\n",
    "ini.equilibrium.B0 = 6.0\n",
    "ini.equilibrium.ip = 8.75e6\n",
    "ini.equilibrium.ϵ = 1/3.5\n",
    "ini.equilibrium.κ = 0.8826 # set less than one so that init uses this as the f_kappa parameter\n",
    "ini.equilibrium.δ = 0.7\n",
    "ini.equilibrium.ζ = 0.0\n",
    "ini.equilibrium.pressure_core = 1.5e6\n",
    "\n",
    "delete!(ini.build.layers,:hfs_vacuum_vessel_wall_inner)\n",
    "delete!(ini.build.layers,:hfs_vacuum_vessel_wall_outer)\n",
    "delete!(ini.build.layers,:lfs_vacuum_vessel_wall_inner)\n",
    "delete!(ini.build.layers,:lfs_vacuum_vessel_wall_outer)\n",
    "\n",
    "ini.core_profiles.impurity = :Kr\n",
    "ini.core_profiles.n_shaping = 2.5\n",
    "ini.core_profiles.T_shaping = 2.5\n",
    "ini.core_profiles.T_ratio = 0.825\n",
    "ini.core_profiles.greenwald_fraction = 1.0\n",
    "ini.core_profiles.ne_ped = missing\n",
    "ini.core_profiles.greenwald_fraction_ped = 0.7\n",
    "ini.core_profiles.helium_fraction = 0.04\n",
    "\n",
    "ini.build.plasma_gap = 0.125\n",
    "ini.equilibrium.xpoints = :lower\n",
    "ini.build.divertors = :lower\n",
    "ini.build.symmetric = false\n",
    "\n",
    "ini.ec_launchers.power_launched = 20e6\n",
    "\n",
    "ini.pf_active.n_coils_outside = 8\n",
    "\n",
    "ini.requirements.flattop_duration = 24*3600.0"
   ]
  },
  {
   "cell_type": "code",
   "execution_count": null,
   "id": "c4d5dcd4-66dd-4f0a-b24b-094f06154094",
   "metadata": {},
   "outputs": [],
   "source": [
    "R0 = ini.equilibrium.R0\n",
    "ϵ = ini.equilibrium.ϵ\n",
    "a = R0*ϵ\n",
    "\n",
    "RiPlasma = R0 - a\n",
    "\n",
    "# HFS layers\n",
    "\n",
    "ini.build.layers[:plasma] = 2*a*(1+ini.build.plasma_gap)\n",
    "ini.build.layers[:hfs_first_wall] = 0.02\n",
    "ini.build.layers[:hfs_blanket] = 0.55*((1/ϵ-1.8)/2.2)^0.5\n",
    "ini.build.layers[:hfs_high_temp_shield] = RiPlasma*0.05\n",
    "ini.build.layers[:hfs_gap_high_temp_shield_vacuum_vessel] = RiPlasma * 0.02\n",
    "ini.build.layers[:hfs_vacuum_vessel] = RiPlasma * 0.05\n",
    "ini.build.layers[:hfs_gap_vacuum_vessel_low_temp_shield] = RiPlasma * 0.02\n",
    "ini.build.layers[:hfs_low_temp_shield] = 0.45-0.15*((1/ϵ-1.8)/2.2)^0.5\n",
    "ini.build.layers[:hfs_gap_low_temp_shield_TF] = RiPlasma * 0.02\n",
    "\n",
    "rbCenterPost = (R0 - 0.5*ini.build.layers[:plasma] - ini.build.layers[:hfs_first_wall] - ini.build.layers[:hfs_blanket]\n",
    "    - ini.build.layers[:hfs_high_temp_shield] - ini.build.layers[:hfs_gap_high_temp_shield_vacuum_vessel]\n",
    "    - ini.build.layers[:hfs_vacuum_vessel] - ini.build.layers[:hfs_gap_vacuum_vessel_low_temp_shield]\n",
    "    - ini.build.layers[:hfs_low_temp_shield] - ini.build.layers[:hfs_gap_low_temp_shield_TF]);\n",
    "\n",
    "ini.build.layers[:hfs_TF] = rbCenterPost * 0.25\n",
    "ini.build.layers[:OH] = rbCenterPost * 0.25\n",
    "ini.build.layers[:gap_TF_OH] = RiPlasma * 0.02\n",
    "ini.build.layers[:gap_OH] = rbCenterPost - ini.build.layers[:hfs_TF] - ini.build.layers[:gap_TF_OH] - ini.build.layers[:OH]\n",
    "\n",
    "# LFS layers\n",
    "\n",
    "ini.build.layers[:lfs_first_wall] = 0.02\n",
    "ini.build.layers[:lfs_blanket] = 1.0 - 0.25*((1/ϵ-2.1)/1.9)^0.5\n",
    "ini.build.layers[:lfs_high_temp_shield] = RiPlasma * 0.05\n",
    "ini.build.layers[:lfs_gap_high_temp_shield_vacuum_vessel] = RiPlasma * 0.4\n",
    "ini.build.layers[:lfs_vacuum_vessel] = RiPlasma * 0.05\n",
    "ini.build.layers[:lfs_gap_vacuum_vessel_low_temp_shield] = RiPlasma * 0.02\n",
    "ini.build.layers[:lfs_low_temp_shield] = 0.45-0.15*((1/ϵ-1.8)/2.2)^0.5\n",
    "ini.build.layers[:lfs_gap_low_temp_shield_TF] = RiPlasma * 0.02\n",
    "ini.build.layers[:lfs_TF] = ini.build.layers[:hfs_TF]"
   ]
  },
  {
   "cell_type": "markdown",
   "id": "3683ad45-67f7-4381-9089-0f00bc142905",
   "metadata": {},
   "source": [
    "### Modify act"
   ]
  },
  {
   "cell_type": "code",
   "execution_count": null,
   "id": "b51d2841-2db4-41ed-a011-34dbcb212766",
   "metadata": {
    "tags": []
   },
   "outputs": [],
   "source": [
    "act.ActorEquilibrium.model = :TEQUILA\n",
    "act.ActorEquilibrium.symmetrize = false\n",
    "\n",
    "act.ActorECsimple.rho_0 = 0.6\n",
    "act.ActorECsimple.width = 0.05\n",
    "\n",
    "act.ActorPedestal.update_core_profiles = false\n",
    "act.ActorPedestal.only_powerlaw = false\n",
    "act.ActorPedestal.T_ratio_pedestal = 1.0\n",
    "\n",
    "act.ActorHFSsizing.do_plot = true\n",
    "act.ActorHFSsizing.verbose = true\n",
    "act.ActorHFSsizing.j_tolerance = 0.5\n",
    "act.ActorHFSsizing.stress_tolerance = 0.01\n",
    "act.ActorHFSsizing.error_on_technology = false\n",
    "act.ActorHFSsizing.error_on_performance = false\n",
    "act.ActorFluxSwing.operate_oh_at_j_crit = true\n",
    "\n",
    "act.ActorPFcoilsOpt.do_plot = false\n",
    "act.ActorPFcoilsOpt.update_equilibrium = false\n",
    "act.ActorPFcoilsOpt.optimization_scheme = :none\n",
    "\n",
    "act.ActorPowerNeeds.model = :thermal_power_fraction\n",
    "act.ActorPowerNeeds.thermal_power_fraction = 0.2\n",
    "\n",
    "act.ActorThermalCycle.power_cycle_type = :fixed_cycle_efficiency\n",
    "act.ActorThermalCycle.fixed_cycle_efficiency = 0.4\n",
    "\n",
    "act.ActorStabilityLimits.raise_on_breach = false\n",
    "act.ActorStabilityLimits.models = [:beta_troyon_1984, :model_201, :model_401] # include βn check\n",
    "\n",
    "act.ActorCosting.model = :GASC\n",
    "act.ActorCosting.production_increase = 10.0\n",
    "act.ActorCosting.learning_rate = 0.616\n",
    "\n",
    "act.ActorFixedProfiles.T_shaping = ini.core_profiles.T_shaping\n",
    "act.ActorFixedProfiles.n_shaping = ini.core_profiles.n_shaping\n",
    "act.ActorFixedProfiles.T_ratio_pedestal = 1.0\n",
    "act.ActorFixedProfiles.T_ratio_core = ini.core_profiles.T_ratio\n",
    "\n",
    "act.ActorCoreTransport.model = :FixedProfiles\n",
    "\n",
    "act.ActorStationaryPlasma.convergence_error = 1e-2\n",
    "act.ActorStationaryPlasma.max_iter = 10\n",
    "act.ActorStationaryPlasma.do_plot = true"
   ]
  },
  {
   "cell_type": "markdown",
   "id": "67e039cb-f526-4bb7-9970-f1709a05b4f6",
   "metadata": {},
   "source": [
    "## Run WholeFacility Actor"
   ]
  },
  {
   "cell_type": "code",
   "execution_count": null,
   "id": "77cb602d-608d-4508-9f82-8417e2dba9e7",
   "metadata": {
    "tags": []
   },
   "outputs": [],
   "source": [
    "dd = IMAS.dd()\n",
    "@time FUSE.init(dd, ini, act; do_plot=false);\n",
    "#mxh_plot = plot(dd.equilibrium)\n",
    "#display(mxh_plot)"
   ]
  },
  {
   "cell_type": "code",
   "execution_count": null,
   "id": "0b0a19b9-8e14-4613-b987-ac3671b93b48",
   "metadata": {},
   "outputs": [],
   "source": [
    "@time FUSE.ActorWholeFacility(dd, act);"
   ]
  },
  {
   "cell_type": "markdown",
   "id": "72aabcfe-7802-4bc9-899d-0421b924f275",
   "metadata": {},
   "source": [
    "## Summary"
   ]
  },
  {
   "cell_type": "code",
   "execution_count": null,
   "id": "d193ab9e-18ab-48d2-a64a-e01634f37941",
   "metadata": {
    "tags": []
   },
   "outputs": [],
   "source": [
    "#redirect_stdio(stdout=\"timing.txt\") do\n",
    "#    show(FUSE.timer)\n",
    "#end\n",
    "\n",
    "\n",
    "show(FUSE.timer)"
   ]
  },
  {
   "cell_type": "code",
   "execution_count": null,
   "id": "9510a59f",
   "metadata": {},
   "outputs": [],
   "source": [
    "dd.build.flux_swing"
   ]
  },
  {
   "cell_type": "code",
   "execution_count": null,
   "id": "ddafb1c7-afa9-4d87-a8ba-108d853f5587",
   "metadata": {
    "tags": []
   },
   "outputs": [],
   "source": [
    "FUSE.digest(dd)"
   ]
  }
 ],
 "metadata": {
  "kernelspec": {
   "display_name": "Julia 1.10.0-rc2",
   "language": "julia",
   "name": "julia-1.10"
  },
  "language_info": {
   "file_extension": ".jl",
   "mimetype": "application/julia",
   "name": "julia",
   "version": "1.10.0-rc2"
  },
  "toc-autonumbering": true,
  "toc-showcode": false,
  "toc-showmarkdowntxt": true
 },
 "nbformat": 4,
 "nbformat_minor": 5
}
