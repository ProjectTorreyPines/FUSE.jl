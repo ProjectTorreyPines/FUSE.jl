{
 "cells": [
  {
   "attachments": {},
   "cell_type": "markdown",
   "id": "0632f467-5489-4065-b996-46ff9b64a1dc",
   "metadata": {},
   "source": [
    "# FPP GASC v1.7 benchmarking "
   ]
  },
  {
   "cell_type": "code",
   "execution_count": null,
   "id": "e94a6b4d-529e-4198-9151-0971f5786b87",
   "metadata": {
    "tags": []
   },
   "outputs": [],
   "source": [
    "using Revise\n",
    "using FUSE\n",
    "using IMAS\n",
    "using Plots;\n",
    "FUSE.logging(Logging.Info);"
   ]
  },
  {
   "attachments": {},
   "cell_type": "markdown",
   "id": "7b11b5b2-ae2d-4435-a2cd-bdcbb0347412",
   "metadata": {
    "tags": []
   },
   "source": [
    "## Make new FPP equilibirum from scratch"
   ]
  },
  {
   "attachments": {},
   "cell_type": "markdown",
   "id": "7dd9491d-0251-48db-8974-7a6605b41a2c",
   "metadata": {},
   "source": [
    "### Initialize from FPP v1_demount"
   ]
  },
  {
   "cell_type": "code",
   "execution_count": null,
   "id": "fdc77cbe-0425-4a54-a1a0-75d149c8c0c0",
   "metadata": {
    "tags": []
   },
   "outputs": [],
   "source": [
    "dd = IMAS.dd();\n",
    "ini, act = FUSE.case_parameters(:FPP, version=:v1_demount, init_from=:scalars);\n",
    "#display(ini)"
   ]
  },
  {
   "attachments": {},
   "cell_type": "markdown",
   "id": "93cda883-a395-460c-a847-7bd00656f29e",
   "metadata": {},
   "source": [
    "### Modify ini"
   ]
  },
  {
   "cell_type": "code",
   "execution_count": null,
   "id": "d044afdc-919c-426e-a192-d5f2eb7801f8",
   "metadata": {
    "tags": []
   },
   "outputs": [],
   "source": [
    "ini.equilibrium.R0 = 4.82\n",
    "ini.equilibrium.B0 = 4.71\n",
    "ini.equilibrium.ip = 9.01e6\n",
    "ini.equilibrium.ϵ = 1/3.5\n",
    "ini.equilibrium.κ = 2.19\n",
    "ini.equilibrium.δ = 0.7\n",
    "ini.equilibrium.ζ = 0.0\n",
    "\n",
    "ini.build.plasma_gap = 0.2\n",
    "ini.build.layers[:hfs_vacuum_vessel] += ini.build.layers[:hfs_vacuum_vessel_wall_inner] + ini.build.layers[:hfs_vacuum_vessel_wall_outer]\n",
    "delete!(ini.build.layers,:hfs_vacuum_vessel_wall_inner)\n",
    "delete!(ini.build.layers,:hfs_vacuum_vessel_wall_outer)\n",
    "ini.build.layers[:lfs_vacuum_vessel] += ini.build.layers[:lfs_vacuum_vessel_wall_inner] + ini.build.layers[:lfs_vacuum_vessel_wall_outer]\n",
    "delete!(ini.build.layers,:lfs_vacuum_vessel_wall_inner)\n",
    "delete!(ini.build.layers,:lfs_vacuum_vessel_wall_outer)\n",
    "\n",
    "ini.core_profiles.impurity = :Kr\n",
    "ini.core_profiles.n_shaping = 1.5\n",
    "ini.core_profiles.T_shaping = 1.5\n",
    "ini.core_profiles.T_ratio = 1.0\n",
    "ini.core_profiles.greenwald_fraction = 0.87\n",
    "ini.core_profiles.ne_ped = 1.0e20\n",
    "ini.core_profiles.greenwald_fraction_ped = missing\n",
    "\n",
    "ini.equilibrium.boundary_from = :scalars\n",
    "ini.equilibrium.xpoints_number = 1\n",
    "ini.equilibrium.field_null_surface = 0.5\n",
    "\n",
    "ini.ec_launchers.power_launched = 75.4e6\n",
    "\n",
    "ini.pf_active.n_coils_outside = 8\n",
    "\n",
    "ini.gasc.filename = missing\n",
    "ini.gasc.case = missing\n",
    "\n",
    "ini.requirements.flattop_duration = 24*3600\n",
    "\n",
    "display(ini)"
   ]
  },
  {
   "attachments": {},
   "cell_type": "markdown",
   "id": "3683ad45-67f7-4381-9089-0f00bc142905",
   "metadata": {},
   "source": [
    "### Modify act"
   ]
  },
  {
   "cell_type": "code",
   "execution_count": null,
   "id": "b51d2841-2db4-41ed-a011-34dbcb212766",
   "metadata": {
    "tags": []
   },
   "outputs": [],
   "source": [
    "act.ActorEquilibrium.model = :Solovev\n",
    "act.ActorEquilibrium.symmetrize = true\n",
    "act.ActorCHEASE.free_boundary = false\n",
    "act.ActorCXbuild.rebuild_wall = true\n",
    "\n",
    "act.ActorHFSsizing.do_plot = true\n",
    "act.ActorHFSsizing.verbose = true\n",
    "act.ActorHFSsizing.j_tolerance = 1.0\n",
    "act.ActorHFSsizing.stress_tolerance = 0.0\n",
    "act.ActorHFSsizing.aspect_ratio_tolerance = 0.0\n",
    "\n",
    "act.ActorEquilibriumTransport.max_iter = 8\n",
    "act.ActorEquilibriumTransport.convergence_error = 1e-2\n",
    "act.ActorEquilibriumTransport.do_plot = true\n",
    "act.ActorTauenn.transport_model = :ds03\n",
    "act.ActorTauenn.confinement_factor = 1.0\n",
    "act.ActorTauenn.T_shaping = 2.5\n",
    "act.ActorTauenn.temp_pedestal_ratio = 1.0\n",
    "act.ActorTauenn.error = 1e-3\n",
    "\n",
    "act.ActorPFcoilsOpt.do_plot = true\n",
    "act.ActorPFcoilsOpt.symmetric = true\n",
    "act.ActorPFcoilsOpt.update_equilibrium = false\n",
    "act.ActorPFcoilsOpt.optimization_scheme = :currents\n",
    "\n",
    "act.ActorPowerNeeds.model = :thermal_power_fraction\n",
    "act.ActorPowerNeeds.thermal_power_fraction = 0.1\n",
    "\n",
    "act.ActorThermalCycle.power_cycle_type = :fixed_cycle_efficiency\n",
    "act.ActorThermalCycle.fixed_cycle_efficiency = 0.44\n",
    "\n",
    "act.ActorCosting.model = :Sheffield\n",
    "\n",
    "display(act)"
   ]
  },
  {
   "attachments": {},
   "cell_type": "markdown",
   "id": "67e039cb-f526-4bb7-9970-f1709a05b4f6",
   "metadata": {},
   "source": [
    "## Run WholeFacility Actor"
   ]
  },
  {
   "cell_type": "code",
   "execution_count": null,
   "id": "77cb602d-608d-4508-9f82-8417e2dba9e7",
   "metadata": {
    "tags": []
   },
   "outputs": [],
   "source": [
    "dd = IMAS.dd();\n",
    "@time FUSE.init(dd, ini, act; do_plot=false);\n",
    "#FUSE.digest(dd)"
   ]
  },
  {
   "attachments": {},
   "cell_type": "markdown",
   "id": "e4dc8634-1a31-46e5-913c-e472f0f4c8b7",
   "metadata": {},
   "source": [
    "### Modify dd IMAS parameters"
   ]
  },
  {
   "cell_type": "code",
   "execution_count": null,
   "id": "6c5a35ec-e831-4a2c-9dd0-56a987075505",
   "metadata": {
    "tags": []
   },
   "outputs": [],
   "source": [
    "dd.build.layer[8].material = \"Steel, Stainless 316\"\n",
    "dd.build.layer[18].material = \"Steel, Stainless 316\"\n",
    "dd.build.layer[24].material = \"Steel, Stainless 316\"\n",
    "dd.build.tf.technology.temperature = 4.5\n",
    "dd.build.oh.technology.temperature = 4.5"
   ]
  },
  {
   "cell_type": "code",
   "execution_count": null,
   "id": "0b0a19b9-8e14-4613-b987-ac3671b93b48",
   "metadata": {},
   "outputs": [],
   "source": [
    "@time FUSE.ActorWholeFacility(dd, act);"
   ]
  },
  {
   "attachments": {},
   "cell_type": "markdown",
   "id": "72aabcfe-7802-4bc9-899d-0421b924f275",
   "metadata": {},
   "source": [
    "## Summary"
   ]
  },
  {
   "cell_type": "code",
   "execution_count": null,
   "id": "ddafb1c7-afa9-4d87-a8ba-108d853f5587",
   "metadata": {
    "tags": []
   },
   "outputs": [],
   "source": [
    "FUSE.digest(dd)"
   ]
  },
  {
   "attachments": {},
   "cell_type": "markdown",
   "id": "d17db37d",
   "metadata": {},
   "source": [
    "# Checks"
   ]
  },
  {
   "attachments": {},
   "cell_type": "markdown",
   "id": "ccbb4e64-92d9-425b-83d4-80bd7d521263",
   "metadata": {},
   "source": [
    "## TF current density"
   ]
  },
  {
   "cell_type": "code",
   "execution_count": null,
   "id": "9829bd23-d41e-4988-b167-0c793b1b2e77",
   "metadata": {},
   "outputs": [],
   "source": [
    "using Printf\n",
    "\n",
    "R0 = dd.equilibrium.vacuum_toroidal_field.r0\n",
    "B0 = dd.equilibrium.vacuum_toroidal_field.b0[1]\n",
    "Itf = 5*B0*R0\n",
    "Rtf_start = dd.build.layer[4].start_radius\n",
    "Rtf_end = dd.build.layer[4].end_radius\n",
    "Atf = pi*(Rtf_end^2-Rtf_start^2)\n",
    "Jtf = Itf/Atf\n",
    "Btf = 0.2*Itf/(Rtf_end)\n",
    "\n",
    "fHTSinTapeTF = 1/46.54\n",
    "ratioSCtoCopperTF = 1.0\n",
    "fractionCableTF = (1-dd.build.tf.technology.fraction_stainless-dd.build.tf.technology.fraction_void)\n",
    "fractionTapeTF = fractionCableTF * ratioSCtoCopperTF/(1+ratioSCtoCopperTF)\n",
    "fractionSCTF = fHTSinTapeTF * fractionTapeTF\n",
    "\n",
    "Jsc = Jtf/fractionSCTF\n",
    "\n",
    "Jcrit_sc = FUSE.YBCO_Jcrit(Btf,0.0,dd.build.tf.technology.temperature)[1]/1e6\n",
    "\n",
    "Jcrit_tf = Jcrit_sc * fractionSCTF\n",
    "\n",
    "@printf(\"R_0 = %.2f m\\n\",R0)\n",
    "@printf(\"B_0 = %.2f T\\n\",B0)\n",
    "@printf(\"I_TF = %.2f MA\\n\", Itf)\n",
    "@printf(\"J_TF = %.2f MA/m^2\\n\", Jtf)\n",
    "@printf(\"B_TF = %.2f T\\n\", Btf)\n",
    "@printf(\"fractionCableTF = %.4f \\n\", fractionCableTF)\n",
    "@printf(\"fractionTapeTF = %.4f \\n\", fractionTapeTF)\n",
    "@printf(\"fractionSCTF = %.4f \\n\", fractionSCTF)\n",
    "\n",
    "@printf(\"J_sc = %.2f MA/m^2\\n\", Jsc)\n",
    "\n",
    "@printf(\"Jcrit_sc = %.2f MA/m^2\\n\", Jcrit_sc)\n",
    "@printf(\"Jcrit_tf = %.2f MA/m^2\\n\", Jcrit_tf)\n",
    "@printf(\"Jmargin_tf = %.2f \\n\", (Jcrit_tf-Jtf)/Jtf)\n",
    "@printf(\"Jmargin_sc = %.2f \\n\", (Jcrit_sc-Jsc)/Jsc)\n",
    "\n"
   ]
  },
  {
   "attachments": {},
   "cell_type": "markdown",
   "id": "faa35926",
   "metadata": {},
   "source": [
    "## Power Balance"
   ]
  },
  {
   "cell_type": "code",
   "execution_count": null,
   "id": "aea76242",
   "metadata": {},
   "outputs": [],
   "source": [
    "display(dd.balance_of_plant)\n",
    "display(dd.core_sources)"
   ]
  },
  {
   "cell_type": "code",
   "execution_count": null,
   "id": "18effd5d-528d-4263-a639-f0670ceb90d9",
   "metadata": {},
   "outputs": [],
   "source": [
    "powerAux = dd.ec_launchers.beam[1].power_launched.data[1]\n",
    "powerAuxElectric = dd.balance_of_plant.power_electric_plant_operation.system[1].power[1]\n",
    "powerBoP = dd.balance_of_plant.power_electric_plant_operation.system[2].power[1]\n",
    "\n",
    "powerLine = dd.core_sources.source[8].profiles_1d[1].electrons.power_inside[end]\n",
    "powerSync = dd.core_sources.source[4].profiles_1d[1].electrons.power_inside[end]\n",
    "powerBrehm = dd.core_sources.source[3].profiles_1d[1].electrons.power_inside[end]\n",
    "powerRad = powerLine + powerSync + powerBrehm\n",
    "\n",
    "powerFusion = dd.summary.fusion.power.value[1]*5\n",
    "powerNeutrons = powerFusion*0.8\n",
    "powerAlphas = powerFusion*0.2\n",
    "powerHeat = powerAlphas + powerAux\n",
    "blanketMult = act.ActorBlanket.blanket_multiplier\n",
    "powerRadFrac = powerRad/powerHeat\n",
    "\n",
    "powerLFSBlanket = dd.blanket.module[1].time_slice[1].power_thermal_extracted\n",
    "#powerHFSBlanket = dd.blanket.module[2].time_slice[1].power_thermal_extracted\n",
    "powerBlanket = powerLFSBlanket #+ powerHFSBlanket\n",
    "powerBoPBreeder = dd.balance_of_plant.heat_transfer.breeder.heat_load[1]\n",
    "powerBoPWall = dd.balance_of_plant.heat_transfer.wall.heat_load[1]\n",
    "powerBoPDivertors = dd.balance_of_plant.heat_transfer.divertor.heat_load[1]\n",
    "powerDivertors = dd.divertors.divertor[1].power_thermal_extracted.data[1]\n",
    "powerSOL = powerAlphas + powerAux + powerRad\n",
    "fractionNeutronEnergyCaptured = powerBlanket / blanketMult / powerNeutrons\n",
    "\n",
    "powerRunPlant = powerBoP + powerAuxElectric\n",
    "powerThermalCycle = dd.balance_of_plant.thermal_cycle.total_useful_heat_power[1]\n",
    "powerElectricGross = dd.balance_of_plant.thermal_cycle.power_electric_generated[1]\n",
    "powerElectricNet = powerElectricGross - powerRunPlant\n",
    "\n",
    "@printf(\"powerFusion = %.2f MW\\n\",powerFusion/1e6)\n",
    "@printf(\"powerNeutrons = %.2f MW\\n\",powerNeutrons/1e6)\n",
    "@printf(\"powerLFSBlanket = %.2f MW\\n\",powerLFSBlanket/1e6)\n",
    "#@printf(\"powerHFSBlanket = %.2f MW\\n\",powerHFSBlanket/1e6)\n",
    "@printf(\"powerBlanket = %.2f MW\\n\",powerBlanket/1e6)\n",
    "@printf(\"powerBoPBreeder = %.2f MW\\n\",powerBoPBreeder/1e6)\n",
    "@printf(\"fractionNeutronEnergyCaptured = %.3f \\n\",fractionNeutronEnergyCaptured)\n",
    "@printf(\"\\n\")\n",
    "@printf(\"powerLine = %.2f MW\\n\",powerLine/1e6)\n",
    "@printf(\"powerSync = %.2f MW\\n\",powerSync/1e6)\n",
    "@printf(\"powerBrehm = %.2f MW\\n\",powerBrehm/1e6)\n",
    "@printf(\"powerRad = %.2f MW\\n\",powerRad/1e6)\n",
    "@printf(\"powerBoPWall = %.2f MW\\n\",powerBoPWall/1e6)\n",
    "@printf(\"\\n\")\n",
    "@printf(\"powerAux = %.2f MW\\n\",powerAux/1e6)\n",
    "@printf(\"powerAlphas = %.2f MW\\n\",powerAlphas/1e6)\n",
    "@printf(\"powerHeat = %.2f MW\\n\",powerHeat/1e6)\n",
    "@printf(\"RadFrac = %.3f\\n\",-1*powerRadFrac)\n",
    "@printf(\"powerSOL = %.2f MW\\n\",powerSOL/1e6)\n",
    "@printf(\"powerBoPDivertors = %.2f MW\\n\",powerBoPDivertors/1e6)\n",
    "@printf(\"powerDivertors = %.2f MW\\n\",powerDivertors/1e6)\n",
    "@printf(\"\\n\")\n",
    "@printf(\"powerAuxElectric = %.2f MW\\n\",powerAuxElectric/1e6)\n",
    "@printf(\"powerBoP = %.2f MW\\n\",powerBoP/1e6)\n",
    "@printf(\"powerRunPlant = %.2f MW\\n\",powerRunPlant/1e6)\n",
    "@printf(\"powerThermalCycle = %.2f MW\\n\",powerThermalCycle/1e6)\n",
    "@printf(\"powerElectricGross = %.2f MW\\n\",powerElectricGross/1e6)\n",
    "@printf(\"powerElectricNet = %.2f MW\\n\",powerElectricNet/1e6)\n",
    "\n"
   ]
  },
  {
   "attachments": {},
   "cell_type": "markdown",
   "id": "bde6e758",
   "metadata": {},
   "source": [
    "## Costing"
   ]
  },
  {
   "cell_type": "code",
   "execution_count": null,
   "id": "e8936868-08e2-45f0-8ca8-c18044f79133",
   "metadata": {},
   "outputs": [],
   "source": [
    "display(dd.costing)"
   ]
  },
  {
   "cell_type": "code",
   "execution_count": null,
   "id": "71160de7",
   "metadata": {},
   "outputs": [],
   "source": [
    "#display(dd.build.tf)\n",
    "\n",
    "primary_coils_hfs = IMAS.get_build(dd.build, type = IMAS._tf_, fs = IMAS._hfs_)\n",
    "display(primary_coils_hfs)\n",
    "\n",
    "volumeTF = dd.build.layer[4].volume\n",
    "stainlessFractionTF = dd.build.tf.technology.fraction_stainless\n",
    "voidFractionTF = dd.build.tf.technology.fraction_void\n",
    "ratioTF = dd.build.tf.technology.ratio_SC_to_copper\n",
    "volumeSteelTF = volumeTF * stainlessFractionTF\n",
    "volumeCopperTF = volumeTF*(1-stainlessFractionTF-voidFractionTF)*1/(1+ratioTF)\n",
    "volumeSCTF = volumeTF*(1-stainlessFractionTF-voidFractionTF)*ratioTF/(1+ratioTF)\n",
    "\n",
    "volumeOH = dd.build.layer[2].volume\n",
    "stainlessFractionOH = dd.build.oh.technology.fraction_stainless\n",
    "voidFractionOH = dd.build.oh.technology.fraction_void\n",
    "ratioOH = dd.build.oh.technology.ratio_SC_to_copper\n",
    "volumeSteelOH = volumeOH * stainlessFractionOH\n",
    "volumeCopperOH = volumeOH*(1-stainlessFractionOH-voidFractionOH)*1/(1+ratioOH)\n",
    "volumeSCOH = volumeOH*(1-stainlessFractionOH-voidFractionOH)*ratioOH/(1+ratioOH)\n",
    "\n",
    "production_increase = dd.costing.future.learning.hts.production_increase\n",
    "learning_rate = dd.costing.future.learning.hts.learning_rate\n",
    "hts_discount_factor = production_increase^(log(learning_rate) / log(2))\n",
    "\n",
    "costSteelTF = volumeSteelTF * 0.36\n",
    "costCopperTF = volumeCopperTF * 0.5\n",
    "costSCTF = volumeSCTF * (87.5/2) * hts_discount_factor\n",
    "\n",
    "costSteelOH = volumeSteelOH * 0.36\n",
    "costCopperOH = volumeCopperOH * 0.5\n",
    "costSCOH = volumeSCOH * (87.5/2) * hts_discount_factor\n",
    "\n",
    "costTF = 1.5*(costSteelTF+costCopperTF+costSCTF)\n",
    "costTFtoday = costTF * 300/240\n",
    "costPrimaryCoils = dd.costing.cost_direct_capital.system[2].subsystem[2].cost \n",
    "\n",
    "@printf(\"volumeTF = %.2f m^3\\n\", volumeTF)\n",
    "@printf(\"volumeSCTF = %.2f m^3\\n\", volumeSCTF)\n",
    "@printf(\"stainlessFractionTF = %.3f\\n\", stainlessFractionTF)\n",
    "@printf(\"volumeOH = %.2f m^3\\n\", volumeOH)\n",
    "@printf(\"volumeSCOH = %.2f m^3\\n\", volumeSCOH)\n",
    "@printf(\"stainlessFractionOH = %.3f\\n\", stainlessFractionOH)\n",
    "@printf(\"\\n\")\n",
    "@printf(\"prodution_increase = %.2f\\n\",production_increase)\n",
    "@printf(\"learning_rate = %.2f\\n\", learning_rate)\n",
    "@printf(\"hts_discount_factor = %.2f\\n\", hts_discount_factor)\n",
    "@printf(\"\\n\")\n",
    "@printf(\"costSteelTF = %.2f \\$M\\n\",costSteelTF)\n",
    "@printf(\"costCopperTF = %.2f \\$M\\n\",costCopperTF)\n",
    "@printf(\"costSCTF = %.2f \\$M\\n\",costSCTF)\n",
    "@printf(\"costSteelOH = %.2f \\$M\\n\",costSteelOH)\n",
    "@printf(\"costCopperOH = %.2f \\$M\\n\",costCopperOH)\n",
    "@printf(\"costSCOH = %.2f \\$M\\n\",costSCOH)\n",
    "@printf(\"costTF = %.2f \\$M\\n\", costTF)\n",
    "@printf(\"costTFtoday = %.2f \\$M\\n\", costTFtoday)\n",
    "@printf(\"costPrimaryCoils = %.2f \\$M\\n\", costPrimaryCoils)"
   ]
  },
  {
   "attachments": {},
   "cell_type": "markdown",
   "id": "a898c9ed",
   "metadata": {},
   "source": [
    "## Confinement scaling factor"
   ]
  },
  {
   "cell_type": "code",
   "execution_count": null,
   "id": "ad7261b7",
   "metadata": {},
   "outputs": [],
   "source": []
  }
 ],
 "metadata": {
  "kernelspec": {
   "display_name": "Julia 1.8.5",
   "language": "julia",
   "name": "julia-1.8"
  },
  "language_info": {
   "file_extension": ".jl",
   "mimetype": "application/julia",
   "name": "julia",
   "version": "1.8.5"
  },
  "toc-autonumbering": true,
  "toc-showcode": false,
  "toc-showmarkdowntxt": true,
  "toc-showtags": false
 },
 "nbformat": 4,
 "nbformat_minor": 5
}
