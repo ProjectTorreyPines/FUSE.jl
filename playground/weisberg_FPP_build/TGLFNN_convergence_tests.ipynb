{
 "cells": [
  {
   "cell_type": "markdown",
   "id": "4bc90d37-5c16-482c-9418-ccc39ad31efd",
   "metadata": {},
   "source": [
    "# Make FPP from STEP ODS"
   ]
  },
  {
   "cell_type": "code",
   "execution_count": 1,
   "id": "67452adf-1989-4480-b605-44f09aa6decb",
   "metadata": {
    "tags": []
   },
   "outputs": [],
   "source": [
    "using Revise\n",
    "using FUSE\n",
    "using IMAS\n",
    "using Plots;\n",
    "FUSE.logging(Logging.Info; actors=Logging.Debug);"
   ]
  },
  {
   "cell_type": "markdown",
   "id": "4d940868-4d18-42e9-a3c2-143bf0631d8a",
   "metadata": {},
   "source": [
    "## Load in ODS"
   ]
  },
  {
   "cell_type": "code",
   "execution_count": 2,
   "id": "abd198db-662b-4e3e-8933-d830d0331792",
   "metadata": {
    "tags": []
   },
   "outputs": [
    {
     "data": {
      "text/plain": [
       "\"sat0_es_d3d\""
      ]
     },
     "metadata": {},
     "output_type": "display_data"
    }
   ],
   "source": [
    "ini, act = FUSE.case_parameters(:FPP, version=:v1, init_from=:ods);\n",
    "ini.equilibrium.boundary_from = :ods;\n",
    "ini.ods.filename = \"__FUSE__/sample/highbatap_fpp_8MA_adhoc_EC.json\"\n",
    "#ini.ods.filename = \"__FUSE__/sample/highbetap_fpp_325_ods.json\"\n",
    "act.ActorTGLF.user_specified_model = \"sat0_es_d3d\"\n",
    "\n"
   ]
  },
  {
   "cell_type": "markdown",
   "id": "7db702dd-d04a-4ba5-baa9-930b7b1d2e73",
   "metadata": {},
   "source": [
    "## Run init"
   ]
  },
  {
   "cell_type": "code",
   "execution_count": 3,
   "id": "81f240d6-f521-40f3-9fc4-1affda650e9d",
   "metadata": {
    "tags": []
   },
   "outputs": [],
   "source": [
    "dd = IMAS.dd();\n",
    "FUSE.init(dd, ini, act; do_plot=false);"
   ]
  },
  {
   "cell_type": "code",
   "execution_count": null,
   "id": "b7295d47",
   "metadata": {},
   "outputs": [],
   "source": [
    "# delete qfuse and qfusi sources from STEP ods file \n",
    "# this avoids double-counting of fusion power\n",
    "\n",
    "deleteat!(dd.core_sources.source, \"identifier.name\" => \"qfuse\");\n",
    "deleteat!(dd.core_sources.source, \"identifier.name\" => \"qfusi\");\n"
   ]
  },
  {
   "cell_type": "code",
   "execution_count": null,
   "id": "204ddd49",
   "metadata": {},
   "outputs": [],
   "source": [
    "FUSE.ActorFluxCalculator(dd, act; rho_transport = 0.25:0.05:0.85);"
   ]
  },
  {
   "cell_type": "code",
   "execution_count": null,
   "id": "5ecbeec7-393a-4a3b-a7b2-46eb5ec70e79",
   "metadata": {},
   "outputs": [],
   "source": [
    "plot(dd.equilibrium, coordinate=:rho_tor_norm)"
   ]
  },
  {
   "cell_type": "code",
   "execution_count": null,
   "id": "e3ec52f5",
   "metadata": {},
   "outputs": [],
   "source": [
    "plot(dd.core_profiles)"
   ]
  },
  {
   "cell_type": "code",
   "execution_count": null,
   "id": "442d2ccd",
   "metadata": {},
   "outputs": [],
   "source": [
    "display(plot(dd.core_sources, only=1))\n",
    "display(plot(dd.core_sources, only=2))\n",
    "display(plot(dd.core_sources, only=3))\n"
   ]
  },
  {
   "cell_type": "code",
   "execution_count": null,
   "id": "0633f6e9",
   "metadata": {},
   "outputs": [],
   "source": [
    "display(plot(dd.core_transport, only=1))\n",
    "display(plot(dd.core_transport, only=2))\n",
    "display(plot(dd.core_transport, only=3))"
   ]
  },
  {
   "cell_type": "code",
   "execution_count": null,
   "id": "41f65642",
   "metadata": {},
   "outputs": [],
   "source": [
    "act.ActorCoreTransport"
   ]
  },
  {
   "cell_type": "code",
   "execution_count": null,
   "id": "e57f913a",
   "metadata": {},
   "outputs": [],
   "source": []
  }
 ],
 "metadata": {
  "kernelspec": {
   "display_name": "Julia 1.10.0",
   "language": "julia",
   "name": "julia-1.10"
  },
  "language_info": {
   "file_extension": ".jl",
   "mimetype": "application/julia",
   "name": "julia",
   "version": "1.10.0"
  }
 },
 "nbformat": 4,
 "nbformat_minor": 5
}
