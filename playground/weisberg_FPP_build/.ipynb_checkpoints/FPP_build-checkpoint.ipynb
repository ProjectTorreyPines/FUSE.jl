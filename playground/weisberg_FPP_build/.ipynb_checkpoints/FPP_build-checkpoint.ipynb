{
 "cells": [
  {
   "cell_type": "markdown",
   "id": "0632f467-5489-4065-b996-46ff9b64a1dc",
   "metadata": {},
   "source": [
    "# FPP optimization workflow "
   ]
  },
  {
   "cell_type": "code",
   "execution_count": 1,
   "id": "e94a6b4d-529e-4198-9151-0971f5786b87",
   "metadata": {
    "tags": []
   },
   "outputs": [
    {
     "name": "stderr",
     "output_type": "stream",
     "text": [
      "\u001b[36m\u001b[1m[ \u001b[22m\u001b[39m\u001b[36m\u001b[1mInfo: \u001b[22m\u001b[39mPrecompiling FUSE [e64856f0-3bb8-4376-b4b7-c03396503992]\n",
      "WARNING: redefinition of constant UNIT_FORMATS. This may fail, cause incorrect answers, or produce other errors.\n"
     ]
    }
   ],
   "source": [
    "using Revise\n",
    "using FUSE\n",
    "using IMAS\n",
    "using Plots;\n",
    "FUSE.logging(Logging.Info);"
   ]
  },
  {
   "cell_type": "markdown",
   "id": "7b11b5b2-ae2d-4435-a2cd-bdcbb0347412",
   "metadata": {},
   "source": [
    "## Make new FPP equilibirum from scratch"
   ]
  },
  {
   "cell_type": "code",
   "execution_count": null,
   "id": "d044afdc-919c-426e-a192-d5f2eb7801f8",
   "metadata": {
    "tags": []
   },
   "outputs": [],
   "source": [
    "# CHEASE deadstart Miller\n",
    "dd = IMAS.dd()\n",
    "ini, act = FUSE.case_parameters(:FPP, version=:v1_demount, init_from=:scalars);\n",
    "act.ActorEquilibrium.model = :CHEASE\n",
    "act.ActorEquilibrium.symmetrize = false\n",
    "act.ActorCHEASE.free_boundary = true\n",
    "act.ActorCXbuild.rebuild_wall = true\n",
    "\n",
    "ini.equilibrium.R0 = missing # 5.0\n",
    "ini.equilibrium.B0 = 7.0\n",
    "ini.equilibrium.ϵ = missing # 1/3.5\n",
    "ini.equilibrium.κ = missing # 2.1\n",
    "ini.equilibrium.δ = missing # 0.6\n",
    "ini.equilibrium.ζ = missing # 0.0\n",
    "\n",
    "mhx_order = 4\n",
    "R0 = 5.0\n",
    "eps = 1/3.5\n",
    "a = R0*eps\n",
    "kapu = 2.0\n",
    "kapl = 2.2\n",
    "delu = 0.5\n",
    "dell = 0.7\n",
    "zetaou = -0.0\n",
    "zetaol = -0.2\n",
    "zetaiu = -0.0\n",
    "zetail = -0.2\n",
    "upnull = false\n",
    "lonull = false\n",
    "\n",
    "r, z, zref = try\n",
    "    IMAS.boundary_shape(; a, eps, kapu, kapl, delu, dell, zetaou, zetaiu, zetaol, zetail, zoffset=0.0, upnull, lonull)\n",
    "catch e\n",
    "    [NaN], [NaN], [NaN]\n",
    "end\n",
    "\n",
    "mxh = IMAS.MXH(r, z, mhx_order)\n",
    "mxh_vect = IMAS.flat_coeffs(mxh)\n",
    "\n",
    "ini.core_profiles.impurity = :Kr\n",
    "\n",
    "ini.nbi.power_launched = 1e6\n",
    "ini.nbi.beam_energy = 100e3\n",
    "\n",
    "ini.equilibrium.boundary_from = :MXH_params\n",
    "ini.equilibrium.MXH_params = mxh_vect\n",
    "ini.equilibrium.xpoints_number = 1\n",
    "ini.equilibrium.field_null_surface = 0.8\n",
    "\n",
    "ini.build.symmetric = missing\n",
    "\n",
    "ini.pf_active.n_coils_outside = 8\n",
    "\n",
    "ini.gasc.filename = missing\n",
    "ini.gasc.case = missing\n",
    "\n",
    "plot(r, z; aspect_ratio=:equal, lw=2, label=\"numerical\")\n",
    "display(plot!(mxh,label=\"MXH\"))\n",
    "display(mxh)\n",
    "\n",
    "display(ini)\n",
    "#display(act)"
   ]
  },
  {
   "cell_type": "markdown",
   "id": "67e039cb-f526-4bb7-9970-f1709a05b4f6",
   "metadata": {},
   "source": [
    "## Walk through WholeFacility Actors"
   ]
  },
  {
   "cell_type": "code",
   "execution_count": null,
   "id": "77cb602d-608d-4508-9f82-8417e2dba9e7",
   "metadata": {},
   "outputs": [],
   "source": [
    "dd = IMAS.dd()\n",
    "@time FUSE.init(dd, ini, act; do_plot=false);"
   ]
  },
  {
   "cell_type": "markdown",
   "id": "318e28dc-8950-48ec-a718-344601b2cb3f",
   "metadata": {},
   "source": [
    "### EquilibriumTransport"
   ]
  },
  {
   "cell_type": "code",
   "execution_count": null,
   "id": "39985494-5ec5-4726-9cf6-bee3d1c30f6f",
   "metadata": {
    "tags": []
   },
   "outputs": [],
   "source": [
    "act.ActorEquilibriumTransport.max_iter = 10\n",
    "act.ActorEquilibriumTransport.do_plot = false\n",
    "act.ActorCHEASE.free_boundary = false\n",
    "act.ActorTauenn.transport_model = :ds03\n",
    "act.ActorTauenn.confinement_factor = 0.85\n",
    "act.ActorTauenn.T_shaping = 3.0\n",
    "\n",
    "display(act.ActorEquilibriumTransport)\n",
    "display(act.ActorSteadyStateCurrent)\n",
    "display(act.ActorHCD)\n",
    "display(act.ActorECsimple)\n",
    "display(act.ActorCoreTransport)\n",
    "display(act.ActorTauenn)\n",
    "display(act.ActorEquilibrium)\n",
    "display(act.ActorCHEASE)"
   ]
  },
  {
   "cell_type": "code",
   "execution_count": null,
   "id": "e42b13a9-eef5-44e6-8763-a330acd6de42",
   "metadata": {
    "tags": []
   },
   "outputs": [],
   "source": [
    "@time FUSE.ActorEquilibriumTransport(dd, act);\n",
    "FUSE.digest(dd)"
   ]
  },
  {
   "cell_type": "code",
   "execution_count": null,
   "id": "6da67a2e-073b-47a4-895b-32361029a5ef",
   "metadata": {
    "tags": []
   },
   "outputs": [],
   "source": [
    "act.ActorCHEASE.free_boundary = true\n",
    "@time FUSE.ActorCHEASE(dd, act);"
   ]
  },
  {
   "cell_type": "markdown",
   "id": "6e044647-be08-45b2-a98b-62526861219c",
   "metadata": {},
   "source": [
    "### StabilityLimits"
   ]
  },
  {
   "cell_type": "code",
   "execution_count": null,
   "id": "b2121192-9348-4b3e-a3c7-c76b1925653f",
   "metadata": {
    "tags": []
   },
   "outputs": [],
   "source": [
    "act.ActorStabilityLimits.models = [:model_201, :model_301, :model_401]\n",
    "act.ActorStabilityLimits.raise_on_breach = false\n",
    "\n",
    "display(act.ActorStabilityLimits)"
   ]
  },
  {
   "cell_type": "code",
   "execution_count": null,
   "id": "9446dc01-50a7-4854-9ce7-07338d9a5baa",
   "metadata": {
    "tags": []
   },
   "outputs": [],
   "source": [
    "@time FUSE.ActorStabilityLimits(dd, act);\n",
    "dd.stability"
   ]
  },
  {
   "cell_type": "markdown",
   "id": "3f3df4c5-a564-46cf-86b6-52e40ad70e12",
   "metadata": {},
   "source": [
    "### HFSsizing"
   ]
  },
  {
   "cell_type": "code",
   "execution_count": null,
   "id": "3826f961-001a-4170-a920-3a2ad9dc224f",
   "metadata": {
    "tags": []
   },
   "outputs": [],
   "source": [
    "act.ActorHFSsizing.do_plot = true\n",
    "act.ActorHFSsizing.verbose = true\n",
    "\n",
    "display(act.ActorHFSsizing)"
   ]
  },
  {
   "cell_type": "code",
   "execution_count": null,
   "id": "21148100-9ea3-44b5-b403-02a40ef3d06b",
   "metadata": {
    "tags": []
   },
   "outputs": [],
   "source": [
    "@time FUSE.ActorHFSsizing(dd, act);"
   ]
  },
  {
   "cell_type": "markdown",
   "id": "5b33e8b6-c7bc-420f-95af-3ee69a74112f",
   "metadata": {},
   "source": [
    "### LFSsizing"
   ]
  },
  {
   "cell_type": "code",
   "execution_count": null,
   "id": "1550a966-a869-4cce-8fa5-18eb48e5b082",
   "metadata": {
    "tags": []
   },
   "outputs": [],
   "source": [
    "act.ActorLFSsizing.do_plot = true\n",
    "act.ActorLFSsizing.verbose = true\n",
    "\n",
    "display(act.ActorLFSsizing)"
   ]
  },
  {
   "cell_type": "code",
   "execution_count": null,
   "id": "a33e5820-ae49-42e5-afd5-6c7d5221261c",
   "metadata": {
    "tags": []
   },
   "outputs": [],
   "source": [
    "@time FUSE.ActorLFSsizing(dd, act);"
   ]
  },
  {
   "cell_type": "markdown",
   "id": "8b650ce9-d69a-4254-a988-a3dfee4d3d13",
   "metadata": {
    "tags": []
   },
   "source": [
    "### CXbuild"
   ]
  },
  {
   "cell_type": "code",
   "execution_count": null,
   "id": "3a020782-eb71-4668-9d81-85ee7eac7178",
   "metadata": {
    "tags": []
   },
   "outputs": [],
   "source": [
    "act.ActorCXbuild.do_plot = true\n",
    "\n",
    "display(act.ActorCXbuild)"
   ]
  },
  {
   "cell_type": "code",
   "execution_count": null,
   "id": "ce3648ad-be73-4444-ad31-532caed8ae0e",
   "metadata": {
    "tags": []
   },
   "outputs": [],
   "source": [
    "@time FUSE.ActorCXbuild(dd, act);"
   ]
  },
  {
   "cell_type": "markdown",
   "id": "ebbc6c37-3b68-454f-9009-8754f1a34a4d",
   "metadata": {},
   "source": [
    "### PFcoilsOpt"
   ]
  },
  {
   "cell_type": "code",
   "execution_count": null,
   "id": "052d1324-41e6-4b28-b8bf-9430252cc11a",
   "metadata": {
    "tags": []
   },
   "outputs": [],
   "source": [
    "display(dd.equilibrium.time_slice[1])\n",
    "\n",
    "act.ActorPFcoilsOpt.do_plot = true\n",
    "act.ActorPFcoilsOpt.symmetric = false\n",
    "act.ActorPFcoilsOpt.update_equilibrium = true\n",
    "act.ActorPFcoilsOpt.optimization_scheme = :currents\n",
    "\n",
    "display(act.ActorPFcoilsOpt)"
   ]
  },
  {
   "cell_type": "code",
   "execution_count": null,
   "id": "186dda02-fdc0-4719-8924-18a262d001f5",
   "metadata": {
    "tags": []
   },
   "outputs": [],
   "source": [
    "@time FUSE.ActorPFcoilsOpt(dd, act);"
   ]
  },
  {
   "cell_type": "markdown",
   "id": "d5676963-912a-4aae-a5bf-5fab7fdc818e",
   "metadata": {},
   "source": [
    "### PassiveStructures"
   ]
  },
  {
   "cell_type": "code",
   "execution_count": null,
   "id": "2b08a3af-abdb-469c-923e-ad7ac1ebe0d5",
   "metadata": {
    "tags": []
   },
   "outputs": [],
   "source": [
    "act.ActorPassiveStructures.do_plot = true\n",
    "\n",
    "display(act.ActorPassiveStructures)"
   ]
  },
  {
   "cell_type": "code",
   "execution_count": null,
   "id": "49665a2d-7ba1-4b44-9fe6-16196c96ea20",
   "metadata": {
    "tags": []
   },
   "outputs": [],
   "source": [
    "@time FUSE.ActorPassiveStructures(dd, act);"
   ]
  },
  {
   "cell_type": "markdown",
   "id": "0d9b620e-ae67-450d-a974-a786a259fe15",
   "metadata": {},
   "source": [
    "### Neutronics"
   ]
  },
  {
   "cell_type": "code",
   "execution_count": null,
   "id": "f87a7f79-341f-4436-a76c-243e2bd81e4a",
   "metadata": {
    "tags": []
   },
   "outputs": [],
   "source": [
    "act.ActorNeutronics.do_plot = true\n",
    "\n",
    "display(act.ActorNeutronics)"
   ]
  },
  {
   "cell_type": "code",
   "execution_count": null,
   "id": "97ccde6e-bf40-45bb-b91c-beb688b05e71",
   "metadata": {
    "tags": []
   },
   "outputs": [],
   "source": [
    "@time FUSE.ActorNeutronics(dd, act);"
   ]
  },
  {
   "cell_type": "markdown",
   "id": "15718e25-632e-4d3b-aa27-c7afa8c1ffa8",
   "metadata": {},
   "source": [
    "### Blanket"
   ]
  },
  {
   "cell_type": "code",
   "execution_count": null,
   "id": "b7afd501-2168-42d5-ba52-dfd1f37b1411",
   "metadata": {
    "tags": []
   },
   "outputs": [],
   "source": [
    "display(act.ActorBlanket)"
   ]
  },
  {
   "cell_type": "code",
   "execution_count": null,
   "id": "1298185d-00a7-4408-bb24-152810b427e3",
   "metadata": {
    "tags": []
   },
   "outputs": [],
   "source": [
    "@time FUSE.ActorBlanket(dd, act);"
   ]
  },
  {
   "cell_type": "code",
   "execution_count": null,
   "id": "f3aa671c-a418-44f9-9a03-77fd9ad4e28f",
   "metadata": {
    "tags": []
   },
   "outputs": [],
   "source": [
    "dd.blanket"
   ]
  },
  {
   "cell_type": "markdown",
   "id": "c281d513-882c-4076-89c1-e42a7b0b404c",
   "metadata": {},
   "source": [
    "### Divertors"
   ]
  },
  {
   "cell_type": "code",
   "execution_count": null,
   "id": "33cbcf88-a7a3-489e-b4f3-1dce2872afe9",
   "metadata": {
    "tags": []
   },
   "outputs": [],
   "source": [
    "display(act.ActorDivertors)"
   ]
  },
  {
   "cell_type": "code",
   "execution_count": null,
   "id": "6d02f78e-3bbb-4d1d-8380-9deb97805ab2",
   "metadata": {
    "tags": []
   },
   "outputs": [],
   "source": [
    "@time FUSE.ActorDivertors(dd, act);"
   ]
  },
  {
   "cell_type": "code",
   "execution_count": null,
   "id": "14962e84-f15b-461f-80af-5d82753f761e",
   "metadata": {
    "tags": []
   },
   "outputs": [],
   "source": [
    "dd.divertors"
   ]
  },
  {
   "cell_type": "markdown",
   "id": "8cd37ba8-16c7-4c2a-a7fa-e697a760706f",
   "metadata": {},
   "source": [
    "### BalanceOfPlant"
   ]
  },
  {
   "cell_type": "code",
   "execution_count": null,
   "id": "4a7d9224-46de-479b-bc0d-5513a5d674bc",
   "metadata": {
    "tags": []
   },
   "outputs": [],
   "source": [
    "act.ActorBalanceOfPlant.do_plot = true\n",
    "\n",
    "display(act.ActorBalanceOfPlant)"
   ]
  },
  {
   "cell_type": "code",
   "execution_count": null,
   "id": "f125b109-689a-4e61-acea-4212be390e69",
   "metadata": {
    "tags": []
   },
   "outputs": [],
   "source": [
    "@time FUSE.ActorBalanceOfPlant(dd, act);"
   ]
  },
  {
   "cell_type": "code",
   "execution_count": null,
   "id": "cdccc285-87c7-4186-bdd5-06e20db6d17d",
   "metadata": {
    "tags": []
   },
   "outputs": [],
   "source": [
    "dd.balance_of_plant.thermal_cycle"
   ]
  },
  {
   "cell_type": "markdown",
   "id": "32d342ec-f232-4796-8d71-208e50e41a1a",
   "metadata": {},
   "source": [
    "### Costing"
   ]
  },
  {
   "cell_type": "code",
   "execution_count": null,
   "id": "92d2a172-703e-47c7-a837-ff62c17f938b",
   "metadata": {
    "tags": []
   },
   "outputs": [],
   "source": [
    "act.ActorCosting.model = :Sheffield\n",
    "\n",
    "display(act.ActorCosting)"
   ]
  },
  {
   "cell_type": "code",
   "execution_count": null,
   "id": "a103d938-b2a4-4efe-8826-1f8a2fb5335b",
   "metadata": {
    "tags": []
   },
   "outputs": [],
   "source": [
    "@time FUSE.ActorCosting(dd, act);"
   ]
  },
  {
   "cell_type": "code",
   "execution_count": null,
   "id": "13c999d0-7a11-4121-80fc-66bd07456bc0",
   "metadata": {
    "tags": []
   },
   "outputs": [],
   "source": [
    "display(dd.costing)\n",
    "display(dd.costing.cost_direct_capital.cost)"
   ]
  },
  {
   "cell_type": "markdown",
   "id": "72aabcfe-7802-4bc9-899d-0421b924f275",
   "metadata": {},
   "source": [
    "## Summary"
   ]
  },
  {
   "cell_type": "code",
   "execution_count": null,
   "id": "ddafb1c7-afa9-4d87-a8ba-108d853f5587",
   "metadata": {
    "tags": []
   },
   "outputs": [],
   "source": [
    "FUSE.digest(dd)"
   ]
  },
  {
   "cell_type": "code",
   "execution_count": null,
   "id": "135bcbc2-f320-43f5-8a6e-744bf311bd6a",
   "metadata": {},
   "outputs": [],
   "source": []
  }
 ],
 "metadata": {
  "kernelspec": {
   "display_name": "Julia (20 threads) 1.8.5",
   "language": "julia",
   "name": "julia-_20-threads_-1.8"
  },
  "language_info": {
   "file_extension": ".jl",
   "mimetype": "application/julia",
   "name": "julia",
   "version": "1.8.5"
  }
 },
 "nbformat": 4,
 "nbformat_minor": 5
}
