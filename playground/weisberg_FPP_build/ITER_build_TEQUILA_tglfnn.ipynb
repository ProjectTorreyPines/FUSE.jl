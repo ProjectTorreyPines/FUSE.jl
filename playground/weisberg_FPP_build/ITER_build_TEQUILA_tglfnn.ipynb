{
 "cells": [
  {
   "cell_type": "markdown",
   "id": "0632f467-5489-4065-b996-46ff9b64a1dc",
   "metadata": {},
   "source": [
    "# FPP optimization workflow "
   ]
  },
  {
   "cell_type": "code",
   "execution_count": 1,
   "id": "453918aa",
   "metadata": {},
   "outputs": [],
   "source": [
    "using Revise\n",
    "using FUSE\n",
    "using IMAS\n",
    "using Plots;\n",
    "FUSE.logging(Logging.Info; actors=Logging.Debug);"
   ]
  },
  {
   "cell_type": "markdown",
   "id": "7b11b5b2-ae2d-4435-a2cd-bdcbb0347412",
   "metadata": {
    "tags": []
   },
   "source": [
    "## Make new FPP equilibirum from scratch"
   ]
  },
  {
   "cell_type": "markdown",
   "id": "7dd9491d-0251-48db-8974-7a6605b41a2c",
   "metadata": {},
   "source": [
    "### Initialize from FPP v1_demount"
   ]
  },
  {
   "cell_type": "code",
   "execution_count": null,
   "id": "fdc77cbe-0425-4a54-a1a0-75d149c8c0c0",
   "metadata": {},
   "outputs": [],
   "source": [
    "dd = IMAS.dd()\n",
    "ini, act = FUSE.case_parameters(:ITER, init_from=:scalars);"
   ]
  },
  {
   "cell_type": "markdown",
   "id": "93cda883-a395-460c-a847-7bd00656f29e",
   "metadata": {},
   "source": [
    "### Modify ini"
   ]
  },
  {
   "cell_type": "code",
   "execution_count": null,
   "id": "d044afdc-919c-426e-a192-d5f2eb7801f8",
   "metadata": {
    "tags": []
   },
   "outputs": [],
   "source": [
    "ini.nbi.power_launched = 20e6\n",
    "ini.ec_launchers.power_launched = 30e6\n",
    "ini.ic_antennas.power_launched = 0e6\n",
    "\n",
    "ini"
   ]
  },
  {
   "cell_type": "code",
   "execution_count": null,
   "id": "c4d5dcd4-66dd-4f0a-b24b-094f06154094",
   "metadata": {},
   "outputs": [],
   "source": [
    "act.ActorECsimple.rho_0 = 0.0\n",
    "\n",
    "act"
   ]
  },
  {
   "cell_type": "markdown",
   "id": "3683ad45-67f7-4381-9089-0f00bc142905",
   "metadata": {},
   "source": [
    "### Modify act"
   ]
  },
  {
   "cell_type": "code",
   "execution_count": null,
   "id": "b51d2841-2db4-41ed-a011-34dbcb212766",
   "metadata": {
    "tags": []
   },
   "outputs": [],
   "source": [
    "act.ActorEquilibrium.model = :TEQUILA\n",
    "act.ActorTEQUILA.free_boundary = false\n",
    "\n",
    "act.ActorHFSsizing.do_plot = true\n",
    "act.ActorHFSsizing.verbose = true\n",
    "act.ActorHFSsizing.error_on_technology = false\n",
    "act.ActorHFSsizing.error_on_performance = false\n",
    "\n",
    "act.ActorPFcoilsOpt.do_plot = false\n",
    "act.ActorPFcoilsOpt.update_equilibrium = false\n",
    "act.ActorPFcoilsOpt.optimization_scheme = :none\n",
    "\n",
    "\n",
    "act.ActorCoreTransport.model = :FluxMatcher\n",
    "act.ActorFluxMatcher.do_plot = false\n",
    "act.ActorFluxMatcher.verbose = false\n",
    "\n",
    "act.ActorStationaryPlasma.convergence_error = 1e-2\n",
    "act.ActorStationaryPlasma.max_iter = 5\n",
    "act.ActorStationaryPlasma.do_plot = true\n",
    "act.ActorStationaryPlasma.verbose = true\n",
    "\n",
    "act.ActorFluxMatcher\n"
   ]
  },
  {
   "cell_type": "code",
   "execution_count": null,
   "id": "1c30d9fd",
   "metadata": {},
   "outputs": [],
   "source": []
  },
  {
   "cell_type": "markdown",
   "id": "67e039cb-f526-4bb7-9970-f1709a05b4f6",
   "metadata": {},
   "source": [
    "## Run WholeFacility Actor"
   ]
  },
  {
   "cell_type": "code",
   "execution_count": null,
   "id": "77cb602d-608d-4508-9f82-8417e2dba9e7",
   "metadata": {
    "tags": []
   },
   "outputs": [],
   "source": [
    "dd = IMAS.dd()\n",
    "@time FUSE.init(dd, ini, act; do_plot=false);\n",
    "display(IMAS.extract(dd))"
   ]
  },
  {
   "cell_type": "code",
   "execution_count": null,
   "id": "0b0a19b9-8e14-4613-b987-ac3671b93b48",
   "metadata": {},
   "outputs": [],
   "source": [
    "@time FUSE.ActorHFSsizing(dd, act);"
   ]
  },
  {
   "cell_type": "markdown",
   "id": "72aabcfe-7802-4bc9-899d-0421b924f275",
   "metadata": {},
   "source": [
    "## Summary"
   ]
  },
  {
   "cell_type": "code",
   "execution_count": null,
   "id": "d193ab9e-18ab-48d2-a64a-e01634f37941",
   "metadata": {
    "tags": []
   },
   "outputs": [],
   "source": [
    "#redirect_stdio(stdout=\"timing.txt\") do\n",
    "#    show(FUSE.timer)\n",
    "#end\n",
    "show(FUSE.timer)"
   ]
  },
  {
   "cell_type": "code",
   "execution_count": null,
   "id": "a5e51c1a",
   "metadata": {},
   "outputs": [],
   "source": [
    "display(IMAS.extract(dd))\n",
    "FUSE.digest(dd)"
   ]
  },
  {
   "cell_type": "code",
   "execution_count": null,
   "id": "eacd8d2c",
   "metadata": {},
   "outputs": [],
   "source": []
  }
 ],
 "metadata": {
  "kernelspec": {
   "display_name": "Julia 1.9.4",
   "language": "julia",
   "name": "julia-1.9"
  },
  "language_info": {
   "file_extension": ".jl",
   "mimetype": "application/julia",
   "name": "julia",
   "version": "1.9.4"
  },
  "toc-autonumbering": true,
  "toc-showcode": false,
  "toc-showmarkdowntxt": true
 },
 "nbformat": 4,
 "nbformat_minor": 5
}
