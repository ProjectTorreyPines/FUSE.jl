{
 "cells": [
  {
   "cell_type": "markdown",
   "id": "5ba7cdc2-1dd9-42b7-a062-6f4523f29f4b",
   "metadata": {
    "tags": []
   },
   "source": [
    "# Benchmark FUSE against GASC"
   ]
  },
  {
   "cell_type": "code",
   "execution_count": null,
   "id": "4fdf8130-2210-4ac5-95c6-a60d88cc1513",
   "metadata": {
    "tags": []
   },
   "outputs": [],
   "source": [
    "using Revise\n",
    "using FUSE\n",
    "using Plots; gr();\n",
    "FUSE.logging(Logging.Info);"
   ]
  },
  {
   "cell_type": "markdown",
   "id": "629a3684-bf8e-44d0-a691-d62ead6ff5aa",
   "metadata": {},
   "source": [
    "## Initialize with GASC v1 JSON file (FPPv1.0_aspectRatio3.5_PBpR35.json)"
   ]
  },
  {
   "cell_type": "code",
   "execution_count": null,
   "id": "e4069d37-ab93-4ee5-9276-7c60e2eeebed",
   "metadata": {
    "tags": []
   },
   "outputs": [],
   "source": [
    "ini, act = FUSE.case_parameters(:FPP; version=:v1, init_from=:scalars);"
   ]
  },
  {
   "cell_type": "markdown",
   "id": "dbc85d11-82f8-4da7-8b9b-6c5b413ef387",
   "metadata": {},
   "source": [
    "### Modify select parameters to better match GASC solution"
   ]
  },
  {
   "cell_type": "code",
   "execution_count": null,
   "id": "d1b8cc0a-967a-4068-85a8-4f37388a0e7b",
   "metadata": {
    "tags": []
   },
   "outputs": [],
   "source": [
    "ini.equilibrium.R0 = 4.824\n",
    "ini.equilibrium.ϵ = 1/3.5\n",
    "ini.equilibrium.κ = 2.19\n",
    "ini.equilibrium.δ = 0.7\n",
    "ini.equilibrium.ζ = 0.0\n",
    "\n",
    "ini.equilibrium.ip = 9.0e6\n",
    "#ini.material.wall = \"Tungsten\"\n",
    "#ini.material.shield = \"Steel, Stainless 316\"\n",
    "ini.core_profiles.T_shaping = 2.0\n",
    "ini.core_profiles.n_shaping = 2.0\n",
    "ini.core_profiles.greenwald_fraction = 0.95\n",
    "ini.core_profiles.greenwald_fraction_ped = missing\n",
    "ini.core_profiles.ne_ped = 1.18e20\n",
    "ini.core_profiles.impurity = :Kr\n",
    "ini.core_profiles.zeff = 1.1\n",
    "ini.pf_active.n_coils_outside = 8\n",
    "\n",
    "\n",
    "ini.equilibrium.boundary_from = :scalars\n",
    "ini.equilibrium.xpoints_number = 2\n",
    "\n",
    "#ini.build.n_first_wall_conformal_layers = 3\n",
    "\n",
    "#display(ini)"
   ]
  },
  {
   "cell_type": "markdown",
   "id": "46aa3e3d-4765-4a3b-a0c9-952f26be3b7b",
   "metadata": {},
   "source": [
    "### Modify select actor settings to better match GASC solution"
   ]
  },
  {
   "cell_type": "code",
   "execution_count": null,
   "id": "9115e2a7-989f-462d-bbb9-2103d38e7793",
   "metadata": {
    "tags": []
   },
   "outputs": [],
   "source": [
    "act.ActorEquilibrium.model = :CHEASE\n",
    "act.ActorEquilibrium.symmetrize = true\n",
    "act.ActorCHEASE.free_boundary = true\n",
    "act.ActorCXbuild.rebuild_wall = true\n",
    "\n",
    "act.ActorTauenn.T_shaping = 2.0\n",
    "act.ActorTauenn.confinement_factor = 0.9\n",
    "\n",
    "act.ActorCosting.model = :Sheffield\n",
    "\n",
    "#display(act)"
   ]
  },
  {
   "cell_type": "markdown",
   "id": "d0f7a752-7452-4934-9536-7118484cd56f",
   "metadata": {},
   "source": [
    "### Run FUSE.init"
   ]
  },
  {
   "cell_type": "code",
   "execution_count": null,
   "id": "94f6e065-1c63-457b-9959-112aa60bd649",
   "metadata": {
    "tags": []
   },
   "outputs": [],
   "source": [
    "dd = IMAS.dd()\n",
    "FUSE.init(dd, ini, act; do_plot=false);\n",
    "FUSE.digest(dd)"
   ]
  },
  {
   "cell_type": "code",
   "execution_count": null,
   "id": "e1fab53b-addf-4b77-ae72-61e1a4863393",
   "metadata": {
    "tags": []
   },
   "outputs": [],
   "source": [
    "tf_to_plasma = IMAS.get_build(dd.build, fs=IMAS._hfs_, return_only_one=false, return_index=true)\n",
    "display(tf_to_plasma)\n",
    "display(IMAS._offset_)\n",
    "display(IMAS._negative_offset_)\n",
    "display(dd.build.layer[14])\n"
   ]
  },
  {
   "cell_type": "markdown",
   "id": "b986c3a6-32b4-4393-826a-fbc233d52122",
   "metadata": {},
   "source": [
    "## Model entire facility"
   ]
  },
  {
   "cell_type": "code",
   "execution_count": null,
   "id": "0c717ba8-d7d9-4af1-b304-948763bbbb2b",
   "metadata": {
    "tags": []
   },
   "outputs": [],
   "source": [
    "#@time FUSE.ActorWholeFacility(dd, act);\n",
    "#FUSE.digest(dd)"
   ]
  },
  {
   "cell_type": "code",
   "execution_count": null,
   "id": "588e4c88-2a5b-4e6a-ac56-a50f9805ddf4",
   "metadata": {},
   "outputs": [],
   "source": []
  }
 ],
 "metadata": {
  "kernelspec": {
   "display_name": "Julia (20 threads) 1.8.5",
   "language": "julia",
   "name": "julia-_20-threads_-1.8"
  },
  "language_info": {
   "file_extension": ".jl",
   "mimetype": "application/julia",
   "name": "julia",
   "version": "1.8.5"
  },
  "toc-autonumbering": true,
  "toc-showcode": true,
  "toc-showmarkdowntxt": false,
  "toc-showtags": false
 },
 "nbformat": 4,
 "nbformat_minor": 5
}
