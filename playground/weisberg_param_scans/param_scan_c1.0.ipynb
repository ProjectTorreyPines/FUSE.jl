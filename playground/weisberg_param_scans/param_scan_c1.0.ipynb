{
 "cells": [
  {
   "cell_type": "markdown",
   "id": "b3ed67e4-fd1c-42a9-99a3-91c7a2b9e056",
   "metadata": {},
   "source": [
    "# FPP parametric scan"
   ]
  },
  {
   "cell_type": "markdown",
   "id": "0a3df4a7-31ce-4ea0-b4dd-da2f9701b0cf",
   "metadata": {
    "tags": []
   },
   "source": [
    "### Import packages"
   ]
  },
  {
   "cell_type": "code",
   "execution_count": null,
   "id": "8fbd53c2-52b6-4405-94ef-a3a9b6f4cb2d",
   "metadata": {
    "tags": []
   },
   "outputs": [],
   "source": [
    "using Revise\n",
    "using FUSE\n",
    "using Plots; gr();\n",
    "FUSE.logging(Logging.Info; actors=Logging.Error);"
   ]
  },
  {
   "cell_type": "markdown",
   "id": "bc59fd89-2daf-43eb-850b-4a547427ef58",
   "metadata": {
    "execution": {
     "iopub.execute_input": "2023-03-11T21:57:41.735000-08:00",
     "iopub.status.busy": "2023-03-11T21:57:41.190000-08:00",
     "iopub.status.idle": "2023-03-11T21:57:42.754000-08:00",
     "shell.execute_reply": "2023-03-11T21:57:42.752000-08:00"
    },
    "tags": []
   },
   "source": [
    "### Setup distributed computing environment\n",
    "\n",
    "See more details here: https://fuse.help/parallel.html"
   ]
  },
  {
   "cell_type": "code",
   "execution_count": null,
   "id": "0b29afb5-d48e-45e6-b13e-7895b6676cfe",
   "metadata": {
    "tags": []
   },
   "outputs": [],
   "source": [
    "FUSE.parallel_environment(\"localhost\")\n",
    "using Distributed\n",
    "@everywhere using FUSE"
   ]
  },
  {
   "cell_type": "markdown",
   "id": "8c84cd28-78a7-43d7-8c7d-0d0cb864a54d",
   "metadata": {
    "execution": {
     "iopub.execute_input": "2023-03-12T00:55:07.825000-08:00",
     "iopub.status.busy": "2023-03-12T00:55:07.825000-08:00",
     "iopub.status.idle": "2023-03-12T00:55:07.839000-08:00",
     "shell.execute_reply": "2023-03-12T00:55:07.838000-08:00"
    },
    "tags": []
   },
   "source": [
    "### Define workflow and extent of the scan"
   ]
  },
  {
   "cell_type": "code",
   "execution_count": null,
   "id": "feec7547-9a5a-4341-a6ff-24bdcf996338",
   "metadata": {
    "tags": []
   },
   "outputs": [],
   "source": [
    "ini, act = FUSE.case_parameters(:FPP; version=:v1_demount, init_from=:ods);"
   ]
  },
  {
   "cell_type": "code",
   "execution_count": null,
   "id": "0bae19ea-ef36-459d-93a5-2056b6473fe8",
   "metadata": {
    "collapsed": true,
    "jupyter": {
     "outputs_hidden": true
    },
    "tags": []
   },
   "outputs": [],
   "source": [
    "act.ActorCosting.model = :Sheffield;\n",
    "#act.ActorCoreTransport.model = :tglf;\n",
    "act"
   ]
  },
  {
   "cell_type": "code",
   "execution_count": null,
   "id": "a83ae923-17a1-4087-9945-a89b7ee79232",
   "metadata": {
    "collapsed": true,
    "jupyter": {
     "outputs_hidden": true
    },
    "tags": []
   },
   "outputs": [],
   "source": [
    "ini"
   ]
  },
  {
   "cell_type": "markdown",
   "id": "3267832a-bb46-4835-845f-a36bd1b9937e",
   "metadata": {
    "execution": {
     "iopub.execute_input": "2023-03-12T00:56:17.393000-08:00",
     "iopub.status.busy": "2023-03-12T00:56:17.393000-08:00",
     "iopub.status.idle": "2023-03-12T00:56:17.406000-08:00",
     "shell.execute_reply": "2023-03-12T00:56:17.405000-08:00"
    }
   },
   "source": [
    "### Extract quantities of interest from series of `dd`'s"
   ]
  },
  {
   "cell_type": "code",
   "execution_count": null,
   "id": "682f91c9-3480-44f9-bf97-944ccdcef5ff",
   "metadata": {
    "tags": []
   },
   "outputs": [],
   "source": [
    "results=FUSE.extract(reshape(DD,length(DD)))"
   ]
  },
  {
   "cell_type": "markdown",
   "id": "48bd86da-cea5-4541-9df2-34ea1fab240a",
   "metadata": {},
   "source": [
    "### Plot scan results"
   ]
  },
  {
   "cell_type": "code",
   "execution_count": null,
   "id": "71fe2df3-3b87-482f-84f5-79eea54c452d",
   "metadata": {
    "tags": []
   },
   "outputs": [],
   "source": [
    "results_ = reshape(results.Pfusion,(length(B0_)))\n",
    "scatter(B0_,results_,xlabel=\"SPF fraction\",ylabel=\"B0\",levels=10,grid=false)\n",
    "hline!(B0_,color=:gray,alpha=0.2,label=\"\")"
   ]
  },
  {
   "cell_type": "code",
   "execution_count": null,
   "id": "2a96b6ff-7b62-45c7-8135-97082b2b0dc9",
   "metadata": {
    "tags": []
   },
   "outputs": [],
   "source": [
    "p=plot(DD[1].equilibrium)\n",
    "p"
   ]
  },
  {
   "cell_type": "code",
   "execution_count": null,
   "id": "2b3d5f17-3764-4db3-ad93-a5ef44767751",
   "metadata": {},
   "outputs": [],
   "source": []
  }
 ],
 "metadata": {
  "@webio": {
   "lastCommId": "e30e4ebc-4274-4503-a587-e4cb4b068c40",
   "lastKernelId": "ea8fc238-7816-4afa-8b55-c6a2673b8716"
  },
  "kernelspec": {
   "display_name": "Julia (20 threads) 1.8.5",
   "language": "julia",
   "name": "julia-_20-threads_-1.8"
  },
  "language_info": {
   "file_extension": ".jl",
   "mimetype": "application/julia",
   "name": "julia",
   "version": "1.8.5"
  }
 },
 "nbformat": 4,
 "nbformat_minor": 5
}
