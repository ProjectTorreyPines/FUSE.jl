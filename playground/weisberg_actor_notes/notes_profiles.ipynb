{
 "cells": [
  {
   "cell_type": "code",
   "execution_count": null,
   "id": "6d81e781-0849-408e-868e-97e4a9d6fe5c",
   "metadata": {
    "tags": []
   },
   "outputs": [],
   "source": [
    "using IMAS\n",
    "using Plots"
   ]
  },
  {
   "cell_type": "code",
   "execution_count": null,
   "id": "a3a2f3de-cdab-469a-b21b-af485517d139",
   "metadata": {
    "tags": []
   },
   "outputs": [],
   "source": [
    "T_edge = 0.4\n",
    "T_ped = 0.9\n",
    "T_core = 1.2\n",
    "ngrid = 101\n",
    "T_shaping = 2.0\n",
    "ped_width = 0.05\n",
    "\n",
    "p = IMAS.Hmode_profiles(T_edge,T_ped,T_core,ngrid,T_shaping,T_shaping,ped_width)\n",
    "\n",
    "xpsi = LinRange(0.0, 1.0, ngrid)\n",
    "\n",
    "plot(xpsi,p)"
   ]
  },
  {
   "cell_type": "code",
   "execution_count": null,
   "id": "4170661d-2514-4f13-b5dc-79f508934b56",
   "metadata": {},
   "outputs": [],
   "source": []
  }
 ],
 "metadata": {
  "kernelspec": {
   "display_name": "Julia 1.8.5",
   "language": "julia",
   "name": "julia-1.8"
  },
  "language_info": {
   "file_extension": ".jl",
   "mimetype": "application/julia",
   "name": "julia",
   "version": "1.8.5"
  }
 },
 "nbformat": 4,
 "nbformat_minor": 5
}
