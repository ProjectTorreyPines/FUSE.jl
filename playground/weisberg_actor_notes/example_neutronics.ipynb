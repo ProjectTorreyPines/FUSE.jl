{
 "cells": [
  {
   "cell_type": "markdown",
   "id": "4deaa32e-7305-4f56-b406-41659192f109",
   "metadata": {},
   "source": [
    "# Neutronics"
   ]
  },
  {
   "cell_type": "code",
   "execution_count": null,
   "id": "135a182b-acd4-429a-9c81-988e8eff77b5",
   "metadata": {},
   "outputs": [],
   "source": [
    "using Revise\n",
    "using FUSE\n",
    "using Plots;\n",
    "FUSE.logging(Logging.Info);"
   ]
  },
  {
   "cell_type": "markdown",
   "id": "adb39907-abbd-462e-9739-adecfedf6fda",
   "metadata": {},
   "source": [
    "### Initialize FPP v1_demount case\n",
    "[FPP v1 demount case documentation](https://fuse.help/cases.html#FPP)"
   ]
  },
  {
   "cell_type": "code",
   "execution_count": null,
   "id": "e509e91b-cd8b-441c-92e1-e31444e5651b",
   "metadata": {},
   "outputs": [],
   "source": [
    "dd, ini, act = FUSE.init(:FPP, version=:v1_demount, init_from=:scalars, do_plot=false);"
   ]
  },
  {
   "cell_type": "markdown",
   "id": "e5ff3f13-eb83-4354-a322-2b28d86f7d1a",
   "metadata": {},
   "source": [
    "### Run the Neutronics actor"
   ]
  },
  {
   "cell_type": "code",
   "execution_count": null,
   "id": "73180772-39f7-4f47-a5c2-147b33615485",
   "metadata": {},
   "outputs": [],
   "source": [
    "FUSE.ActorNeutronics(dd, act; do_plot=true);"
   ]
  },
  {
   "cell_type": "markdown",
   "id": "451f23d8-8c53-4a2b-aedf-5d7578bc0c51",
   "metadata": {},
   "source": [
    "### Plot neutron wall loading"
   ]
  },
  {
   "cell_type": "code",
   "execution_count": null,
   "id": "a6703f0b-6a45-461a-9115-b7341092b8f2",
   "metadata": {},
   "outputs": [],
   "source": [
    "plot(dd.neutronics.time_slice[].wall_loading; cx=true)"
   ]
  },
  {
   "cell_type": "code",
   "execution_count": null,
   "id": "2132bd08-7f1b-49a1-abc7-191d3cd53476",
   "metadata": {},
   "outputs": [],
   "source": [
    "plot(dd.neutronics.time_slice[].wall_loading; cx=false)"
   ]
  }
 ],
 "metadata": {
  "kernelspec": {
   "display_name": "Julia 1.8.0-rc3",
   "language": "julia",
   "name": "julia-1.8"
  },
  "language_info": {
   "file_extension": ".jl",
   "mimetype": "application/julia",
   "name": "julia",
   "version": "1.7.3"
  }
 },
 "nbformat": 4,
 "nbformat_minor": 5
}
