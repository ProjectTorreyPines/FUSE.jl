{
 "cells": [
  {
   "cell_type": "markdown",
   "id": "cb0f124d",
   "metadata": {},
   "source": [
    "# Transport Solver"
   ]
  },
  {
   "cell_type": "code",
   "execution_count": null,
   "id": "6d68d4fd-8b56-443c-a8ce-abd2a30072ad",
   "metadata": {
    "tags": []
   },
   "outputs": [],
   "source": [
    "using Revise\n",
    "using FUSE\n",
    "using Plots;\n",
    "FUSE.logging(Logging.Info);"
   ]
  },
  {
   "cell_type": "markdown",
   "id": "1b924f73-a227-4776-b5a0-3d3fab3ea805",
   "metadata": {
    "execution": {
     "iopub.execute_input": "2022-09-20T16:43:27.874000-07:00",
     "iopub.status.busy": "2022-09-20T16:43:27.671000-07:00",
     "iopub.status.idle": "2022-09-20T16:43:28.605000-07:00",
     "shell.execute_reply": "2022-09-20T16:43:28.604000-07:00"
    },
    "tags": []
   },
   "source": [
    "### Let's initialize the case with the DIII-D standard Hmode case\n",
    "\n",
    "This is a standard DIII-D shot with some 5MW of NBI and some Hmode initialized profiles (not from experiment)"
   ]
  },
  {
   "cell_type": "code",
   "execution_count": null,
   "id": "77f6ea33-5efc-44c7-9f7f-7fe19dc08300",
   "metadata": {
    "tags": []
   },
   "outputs": [],
   "source": [
    "dd, ini, act = FUSE.init(:D3D, do_plot=false);"
   ]
  },
  {
   "cell_type": "markdown",
   "id": "938fd629-c02f-40dd-953c-de1824d898c2",
   "metadata": {
    "execution": {
     "iopub.execute_input": "2022-09-22T13:43:12.965000-07:00",
     "iopub.status.busy": "2022-09-22T13:43:12.964000-07:00",
     "iopub.status.idle": "2022-09-22T13:43:13.433000-07:00",
     "shell.execute_reply": "2022-09-22T13:43:13.433000-07:00"
    },
    "tags": []
   },
   "source": [
    "### Take a look at the parameters of the actors associated with the transport solver\n",
    "1. ActorTransportSolver\n",
    "2. ActorCoreTransport\n",
    "3. ActorTGLF\n",
    "4. ActorNeoclassical"
   ]
  },
  {
   "cell_type": "code",
   "execution_count": null,
   "id": "b057293b-baa5-4547-983e-90f1b8cc9b49",
   "metadata": {
    "tags": []
   },
   "outputs": [],
   "source": [
    "#display(act.ActorTransportSolver)\n",
    "display(act.ActorCoreTransport)\n",
    "display(act.ActorTGLF)\n",
    "display(act.ActorNeoclassical)"
   ]
  },
  {
   "cell_type": "markdown",
   "id": "7c435a16-2c81-4181-905d-2c95f7a18b99",
   "metadata": {},
   "source": [
    "#### We can the actors for the transport fluxes individually"
   ]
  },
  {
   "cell_type": "code",
   "execution_count": null,
   "id": "56c089b8-b7db-4eac-8b80-e3248097dd8c",
   "metadata": {
    "tags": []
   },
   "outputs": [],
   "source": [
    "# We are running with the fast tglfnn model\n",
    "act.ActorTGLF.sat_rule = :sat0\n",
    "act.ActorTGLF.electromagnetic = false\n",
    "act.ActorTGLF.nn = true\n",
    "FUSE.ActorTGLF(dd,act)\n",
    "FUSE.ActorNeoclassical(dd,act);\n",
    "plot(dd.core_transport)"
   ]
  },
  {
   "cell_type": "markdown",
   "id": "fbdff704-2f98-4005-abae-5bef5e5dcb28",
   "metadata": {
    "execution": {
     "iopub.execute_input": "2022-09-22T13:57:36.849000-07:00",
     "iopub.status.busy": "2022-09-22T13:57:36.848000-07:00",
     "iopub.status.idle": "2022-09-22T13:57:42.555000-07:00",
     "shell.execute_reply": "2022-09-22T13:57:42.555000-07:00"
    },
    "tags": []
   },
   "source": [
    "#### act.ActorTransportSolver defines what is evolved. In this case:\n",
    "   -  Electron Temperature Te\n",
    "   -  Ion temperature Ti\n",
    "   -  Electron density ne\n",
    "\n",
    "We are keeping the rotation fixed and use Deuterium for quasi neutrality and let Carbon match the ne_scale lengths\n",
    "\n",
    "#### Setting up the actor parameters in act is next"
   ]
  },
  {
   "cell_type": "code",
   "execution_count": null,
   "id": "cbac58f5-1785-4ffe-bcb5-2738010c1ca7",
   "metadata": {
    "tags": []
   },
   "outputs": [],
   "source": [
    "# Resetting dd, ini, act so that we don't have to scroll up every time\n",
    "dd, ini, act = FUSE.init(:D3D, do_plot=false);\n",
    "#dd, ini, act = FUSE.init(:ITER, init_from=:ods; do_plot=false)\n",
    "\n",
    "act.ActorTGLF.warn_nn_train_bounds=true\n",
    "# We are running with the fast tglfnn model\n",
    "act.ActorTGLF.nn = true\n",
    "act.ActorTGLF.sat_rule = :sat0\n",
    "act.ActorTGLF.electromagnetic = false\n",
    "\n",
    "act.ActorTransportSolver.rho_transport = 0.3:0.1:0.8\n",
    "act.ActorTransportSolver.max_iterations = 100\n",
    "act.ActorTransportSolver.optimizer_algorithm = :anderson # or :jacobian_based\n",
    "act.ActorTransportSolver.step_size = 0.2\n",
    "act.ActorTransportSolver.verbose = true\n",
    "act.ActorTransportSolver.evolve_rotation = :fixed\n",
    "\n",
    "# show pre evolution\n",
    "display(act.ActorTransportSolver)\n",
    "display(plot(dd.core_profiles, label=\" before\"))\n",
    "\n",
    "#FUSE.ActorPedestal(dd,act)\n",
    "actor_transport = FUSE.ActorTransportSolver(dd, act)\n",
    "\n",
    "# show after\n",
    "display(plot!(dd.core_profiles, label=\" after\"))\n",
    "\n",
    "# plot the flux_matching \n",
    "display(plot(dd.core_transport))"
   ]
  },
  {
   "cell_type": "markdown",
   "id": "451ccee5-1371-498a-8d14-61d062d9ae60",
   "metadata": {},
   "source": [
    "### For the channels that we evolved the flux_matching looks spot on!"
   ]
  },
  {
   "cell_type": "code",
   "execution_count": null,
   "id": "d7ade6a8-6941-4fff-98e6-5dd156c42231",
   "metadata": {
    "tags": []
   },
   "outputs": [],
   "source": [
    "# let's see if our end result satisfies quasi neutral\n",
    "IMAS.is_quasi_neutral(dd)"
   ]
  },
  {
   "cell_type": "markdown",
   "id": "aa8b58a8-aac2-4953-ac0a-753e120d46d7",
   "metadata": {},
   "source": [
    "#### How does TGLF compare to TGLF_nn in this case?"
   ]
  },
  {
   "cell_type": "code",
   "execution_count": null,
   "id": "485cd614-a3bd-48b4-9b74-f8538a71e27d",
   "metadata": {
    "tags": []
   },
   "outputs": [],
   "source": [
    "act.ActorTGLF.nn = false\n",
    "\n",
    "# Dialing the iterations a bit down since tglf_sat0 is much slower than it's neural net counterpart\n",
    "act.ActorTransportSolver.max_iterations = 30\n",
    "\n",
    "display(plot(dd.core_profiles, label=\"  tglfnn\"))\n",
    "FUSE.ActorTransportSolver(dd, act)\n",
    "\n",
    "display(plot!(dd.core_profiles, label=\"  tglf\"))\n",
    "display(plot(dd.core_transport))"
   ]
  },
  {
   "cell_type": "markdown",
   "id": "2b733158-6348-4ef5-94cc-065ef81b9c8c",
   "metadata": {},
   "source": [
    "#### As you can see TGLF sat0 converges well except for a point @ rho = 0.5\n",
    "#### However, as you can see this doesn't affect the results very much!"
   ]
  }
 ],
 "metadata": {
  "@webio": {
   "lastCommId": "b5f29248-4a21-422a-a490-042792c6a6b5",
   "lastKernelId": "4a158dcb-c6e3-446a-b35c-10f0629578bd"
  },
  "kernelspec": {
   "display_name": "Julia 1.8.5",
   "language": "julia",
   "name": "julia-1.8"
  },
  "language_info": {
   "file_extension": ".jl",
   "mimetype": "application/julia",
   "name": "julia",
   "version": "1.8.5"
  }
 },
 "nbformat": 4,
 "nbformat_minor": 5
}
