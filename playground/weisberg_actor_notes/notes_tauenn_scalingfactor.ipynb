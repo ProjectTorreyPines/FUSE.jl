{
 "cells": [
  {
   "cell_type": "markdown",
   "metadata": {},
   "source": [
    "# Notes on TAUENN confinement scaling factor optimization"
   ]
  },
  {
   "cell_type": "code",
   "execution_count": 1,
   "metadata": {},
   "outputs": [
    {
     "name": "stderr",
     "output_type": "stream",
     "text": [
      "\u001b[36m\u001b[1m[ \u001b[22m\u001b[39m\u001b[36m\u001b[1mInfo: \u001b[22m\u001b[39mPrecompiling FUSE [e64856f0-3bb8-4376-b4b7-c03396503992]\n",
      "WARNING: redefinition of constant UNIT_FORMATS. This may fail, cause incorrect answers, or produce other errors.\n"
     ]
    }
   ],
   "source": [
    "using Revise\n",
    "using FUSE\n",
    "using IMAS\n",
    "using IMASDD\n",
    "using TAUENN\n",
    "using Printf\n",
    "using Plots;\n",
    "FUSE.logging(Logging.Info);"
   ]
  },
  {
   "cell_type": "markdown",
   "metadata": {},
   "source": [
    "## Load ini and act from FPP v1_demount case"
   ]
  },
  {
   "cell_type": "code",
   "execution_count": 2,
   "metadata": {},
   "outputs": [],
   "source": [
    "ini, act = FUSE.case_parameters(:FPP, version=:v1_demount, init_from=:scalars);"
   ]
  },
  {
   "cell_type": "markdown",
   "metadata": {},
   "source": [
    "## Set ini and act parameters"
   ]
  },
  {
   "cell_type": "code",
   "execution_count": 3,
   "metadata": {},
   "outputs": [
    {
     "data": {
      "text/plain": [
       "86400.0"
      ]
     },
     "execution_count": 3,
     "metadata": {},
     "output_type": "execute_result"
    }
   ],
   "source": [
    "ini.equilibrium.ϵ = 1/3.5\n",
    "ini.equilibrium.κ = 0.8826 # set less than one so that init uses this as the f_kappa parameter\n",
    "ini.equilibrium.δ = 0.7\n",
    "ini.equilibrium.ζ = 0.0\n",
    "\n",
    "ini.build.plasma_gap = 0.2\n",
    "\n",
    "ini.core_profiles.impurity = :Kr\n",
    "ini.core_profiles.n_shaping = 2.5\n",
    "ini.core_profiles.T_shaping = 2.5\n",
    "ini.core_profiles.T_ratio = 0.825\n",
    "ini.core_profiles.greenwald_fraction = 1.0\n",
    "ini.core_profiles.ne_ped = missing\n",
    "ini.core_profiles.greenwald_fraction_ped = 0.7\n",
    "ini.core_profiles.helium_fraction = 0.04\n",
    "\n",
    "ini.equilibrium.xpoints = :lower\n",
    "ini.build.divertors = :lower\n",
    "ini.build.symmetric = false\n",
    "\n",
    "ini.ec_launchers.power_launched = 55e6\n",
    "\n",
    "ini.pf_active.n_coils_outside = 8\n",
    "\n",
    "ini.requirements.flattop_duration = 24*3600.0"
   ]
  },
  {
   "cell_type": "code",
   "execution_count": 29,
   "metadata": {},
   "outputs": [
    {
     "data": {
      "text/plain": [
       "true"
      ]
     },
     "execution_count": 29,
     "metadata": {},
     "output_type": "execute_result"
    }
   ],
   "source": [
    "act.ActorEquilibriumTransport.do_plot = false\n",
    "act.ActorEquilibriumTransport.max_iter = 1\n",
    "\n",
    "act.ActorEquilibrium.model = :Solovev\n",
    "act.ActorEquilibrium.symmetrize = false\n",
    "\n",
    "act.ActorTauenn.transport_model = :ds03\n",
    "act.ActorTauenn.confinement_factor = 0.9\n",
    "act.ActorTauenn.T_shaping = 2.5\n",
    "act.ActorTauenn.T_ratio_pedestal = 0.825\n",
    "act.ActorTauenn.error = 1e-4\n",
    "act.ActorTauenn.eped_only_powerlaw = true # more reliable for broader exploration\n",
    "act.ActorTauenn.verbose = true"
   ]
  },
  {
   "cell_type": "markdown",
   "metadata": {},
   "source": [
    "## Scan over pressure_core"
   ]
  },
  {
   "cell_type": "code",
   "execution_count": 33,
   "metadata": {},
   "outputs": [
    {
     "data": {
      "text/plain": [
       "\"Nelder-Mead\""
      ]
     },
     "metadata": {},
     "output_type": "display_data"
    },
    {
     "data": {
      "text/plain": [
       "\"2.000 KeV ==> cost 1.60e+00\""
      ]
     },
     "metadata": {},
     "output_type": "display_data"
    },
    {
     "data": {
      "text/plain": [
       "\"3.000 KeV ==> cost 1.58e+00\""
      ]
     },
     "metadata": {},
     "output_type": "display_data"
    },
    {
     "data": {
      "text/plain": [
       "\"4.000 KeV ==> cost 1.51e+00\""
      ]
     },
     "metadata": {},
     "output_type": "display_data"
    },
    {
     "data": {
      "text/plain": [
       "\"6.000 KeV ==> cost 1.36e+00\""
      ]
     },
     "metadata": {},
     "output_type": "display_data"
    },
    {
     "data": {
      "text/plain": [
       "\"9.000 KeV ==> cost 1.15e+00\""
      ]
     },
     "metadata": {},
     "output_type": "display_data"
    },
    {
     "data": {
      "text/plain": [
       "\"15.000 KeV ==> cost 8.10e-01\""
      ]
     },
     "metadata": {},
     "output_type": "display_data"
    },
    {
     "data": {
      "text/plain": [
       "\"24.001 KeV ==> cost 5.23e-01\""
      ]
     },
     "metadata": {},
     "output_type": "display_data"
    },
    {
     "data": {
      "text/plain": [
       "\"42.001 KeV ==> cost 2.38e-01\""
      ]
     },
     "metadata": {},
     "output_type": "display_data"
    },
    {
     "data": {
      "text/plain": [
       "\"69.002 KeV ==> cost 2.68e-02\""
      ]
     },
     "metadata": {},
     "output_type": "display_data"
    },
    {
     "data": {
      "text/plain": [
       "\"123.003 KeV ==> cost 4.90e-01\""
      ]
     },
     "metadata": {},
     "output_type": "display_data"
    },
    {
     "data": {
      "text/plain": [
       "\"96.002 KeV ==> cost 2.59e-01\""
      ]
     },
     "metadata": {},
     "output_type": "display_data"
    },
    {
     "data": {
      "text/plain": [
       "\"62.252 KeV ==> cost 3.22e-02\""
      ]
     },
     "metadata": {},
     "output_type": "display_data"
    },
    {
     "data": {
      "text/plain": [
       "\"75.752 KeV ==> cost 8.60e-02\""
      ]
     },
     "metadata": {},
     "output_type": "display_data"
    },
    {
     "data": {
      "text/plain": [
       "\"67.314 KeV ==> cost 1.27e-02\""
      ]
     },
     "metadata": {},
     "output_type": "display_data"
    },
    {
     "data": {
      "text/plain": [
       "\"65.627 KeV ==> cost 2.40e-03\""
      ]
     },
     "metadata": {},
     "output_type": "display_data"
    },
    {
     "data": {
      "text/plain": [
       "\"62.252 KeV ==> cost 3.27e-02\""
      ]
     },
     "metadata": {},
     "output_type": "display_data"
    },
    {
     "data": {
      "text/plain": [
       "\"63.939 KeV ==> cost 1.76e-02\""
      ]
     },
     "metadata": {},
     "output_type": "display_data"
    },
    {
     "data": {
      "text/plain": [
       "\"66.048 KeV ==> cost 1.28e-03\""
      ]
     },
     "metadata": {},
     "output_type": "display_data"
    },
    {
     "data": {
      "text/plain": [
       "\"66.470 KeV ==> cost 5.07e-03\""
      ]
     },
     "metadata": {},
     "output_type": "display_data"
    },
    {
     "data": {
      "text/plain": [
       "\"65.943 KeV ==> cost 3.99e-04\""
      ]
     },
     "metadata": {},
     "output_type": "display_data"
    },
    {
     "data": {
      "text/plain": [
       "\"65.838 KeV ==> cost 5.50e-04\""
      ]
     },
     "metadata": {},
     "output_type": "display_data"
    },
    {
     "data": {
      "text/plain": [
       "\"65.917 KeV ==> cost 1.51e-04\""
      ]
     },
     "metadata": {},
     "output_type": "display_data"
    },
    {
     "data": {
      "text/plain": [
       "\"65.890 KeV ==> cost 8.16e-05\""
      ]
     },
     "metadata": {},
     "output_type": "display_data"
    },
    {
     "data": {
      "text/plain": [
       "\"65.838 KeV ==> cost 5.51e-04\""
      ]
     },
     "metadata": {},
     "output_type": "display_data"
    },
    {
     "data": {
      "text/plain": [
       "\"65.890 KeV ==> cost 8.33e-05\""
      ]
     },
     "metadata": {},
     "output_type": "display_data"
    },
    {
     "data": {
      "text/plain": [
       "\"65.890 KeV ==> cost 8.22e-05\""
      ]
     },
     "metadata": {},
     "output_type": "display_data"
    },
    {
     "name": "stdout",
     "output_type": "stream",
     "text": [
      " * Status: success\n",
      "\n",
      " * Candidate solution\n",
      "    Final objective value:     8.163981e-05\n",
      "\n",
      " * Found with\n",
      "    Algorithm:     Nelder-Mead\n",
      "\n",
      " * Convergence measures\n",
      "    √(Σ(yᵢ-ȳ)²)/n ≤ 1.0e-04\n",
      "\n",
      " * Work counters\n",
      "    Seconds run:   1  (vs limit Inf)\n",
      "    Iterations:    11\n",
      "    f(x) calls:    25\n",
      "\n",
      "method = Optim.NelderMead{Optim.AffineSimplexer, Optim.AdaptiveParameters}(Optim.AffineSimplexer(0.025, 0.5), Optim.AdaptiveParameters(1.0, 1.0, 0.75, 1.0))\n",
      "initial_x = [2000.0]\n",
      "minimizer = [65890.26909179689]\n",
      "minimum = 8.16398051995959e-5\n",
      "iterations = 11\n",
      "iteration_converged = false\n",
      "x_converged = false\n",
      "x_abstol = 0.0\n",
      "x_reltol = 0.0\n",
      "x_abschange = NaN\n",
      "x_relchange = NaN\n",
      "f_converged = false\n",
      "f_abstol = 0.0\n",
      "f_reltol = 0.0\n",
      "f_abschange = NaN\n",
      "f_relchange = NaN\n",
      "g_converged = true\n",
      "g_abstol = 0.0001\n",
      "g_residual = 3.4740393035803674e-5\n",
      "f_increased = false\n",
      "f_calls = 25\n",
      "g_calls = 0\n",
      "h_calls = 0\n",
      "ls_success = true\n",
      "time_limit = NaN\n",
      "time_run = 0.7486538887023926\n",
      "stopped_by = (f_limit_reached = false, g_limit_reached = false, h_limit_reached = false, time_limit = false, callback = false, f_increased = false)\n"
     ]
    },
    {
     "data": {
      "text/plain": [
       "\"Nelder-Mead\""
      ]
     },
     "metadata": {},
     "output_type": "display_data"
    },
    {
     "data": {
      "text/plain": [
       "\"2.000 KeV ==> cost 4.10e-01\""
      ]
     },
     "metadata": {},
     "output_type": "display_data"
    },
    {
     "data": {
      "text/plain": [
       "\"3.000 KeV ==> cost 3.71e-01\""
      ]
     },
     "metadata": {},
     "output_type": "display_data"
    },
    {
     "data": {
      "text/plain": [
       "\"4.000 KeV ==> cost 3.05e-01\""
      ]
     },
     "metadata": {},
     "output_type": "display_data"
    },
    {
     "data": {
      "text/plain": [
       "\"6.000 KeV ==> cost 1.91e-01\""
      ]
     },
     "metadata": {},
     "output_type": "display_data"
    },
    {
     "data": {
      "text/plain": [
       "\"9.000 KeV ==> cost 8.82e-02\""
      ]
     },
     "metadata": {},
     "output_type": "display_data"
    },
    {
     "data": {
      "text/plain": [
       "\"15.000 KeV ==> cost 5.02e-02\""
      ]
     },
     "metadata": {},
     "output_type": "display_data"
    },
    {
     "data": {
      "text/plain": [
       "\"24.001 KeV ==> cost 4.36e-02\""
      ]
     },
     "metadata": {},
     "output_type": "display_data"
    },
    {
     "data": {
      "text/plain": [
       "\"42.001 KeV ==> cost 5.41e-02\""
      ]
     },
     "metadata": {},
     "output_type": "display_data"
    },
    {
     "data": {
      "text/plain": [
       "\"33.001 KeV ==> cost 1.11e-03\""
      ]
     },
     "metadata": {},
     "output_type": "display_data"
    },
    {
     "data": {
      "text/plain": [
       "\"51.001 KeV ==> cost 1.16e-01\""
      ]
     },
     "metadata": {},
     "output_type": "display_data"
    },
    {
     "data": {
      "text/plain": [
       "\"42.001 KeV ==> cost 5.50e-02\""
      ]
     },
     "metadata": {},
     "output_type": "display_data"
    },
    {
     "data": {
      "text/plain": [
       "\"30.751 KeV ==> cost 1.33e-02\""
      ]
     },
     "metadata": {},
     "output_type": "display_data"
    },
    {
     "data": {
      "text/plain": [
       "\"35.251 KeV ==> cost 1.15e-02\""
      ]
     },
     "metadata": {},
     "output_type": "display_data"
    },
    {
     "data": {
      "text/plain": [
       "\"33.563 KeV ==> cost 1.81e-03\""
      ]
     },
     "metadata": {},
     "output_type": "display_data"
    },
    {
     "data": {
      "text/plain": [
       "\"32.438 KeV ==> cost 4.62e-03\""
      ]
     },
     "metadata": {},
     "output_type": "display_data"
    },
    {
     "data": {
      "text/plain": [
       "\"33.141 KeV ==> cost 7.22e-04\""
      ]
     },
     "metadata": {},
     "output_type": "display_data"
    },
    {
     "data": {
      "text/plain": [
       "\"33.282 KeV ==> cost 1.10e-04\""
      ]
     },
     "metadata": {},
     "output_type": "display_data"
    },
    {
     "data": {
      "text/plain": [
       "\"33.563 KeV ==> cost 1.73e-03\""
      ]
     },
     "metadata": {},
     "output_type": "display_data"
    },
    {
     "data": {
      "text/plain": [
       "\"33.423 KeV ==> cost 9.32e-04\""
      ]
     },
     "metadata": {},
     "output_type": "display_data"
    },
    {
     "data": {
      "text/plain": [
       "\"33.247 KeV ==> cost 7.71e-05\""
      ]
     },
     "metadata": {},
     "output_type": "display_data"
    },
    {
     "data": {
      "text/plain": [
       "\"33.247 KeV ==> cost 8.52e-05\""
      ]
     },
     "metadata": {},
     "output_type": "display_data"
    },
    {
     "data": {
      "text/plain": [
       "\"33.247 KeV ==> cost 8.52e-05\""
      ]
     },
     "metadata": {},
     "output_type": "display_data"
    },
    {
     "name": "stdout",
     "output_type": "stream",
     "text": [
      " * Status: success\n",
      "\n",
      " * Candidate solution\n",
      "    Final objective value:     7.710666e-05\n",
      "\n",
      " * Found with\n",
      "    Algorithm:     Nelder-Mead\n",
      "\n",
      " * Convergence measures\n",
      "    √(Σ(yᵢ-ȳ)²)/n ≤ 1.0e-04\n",
      "\n",
      " * Work counters\n",
      "    Seconds run:   1  (vs limit Inf)\n",
      "    Iterations:    9\n",
      "    f(x) calls:    21\n",
      "\n",
      "method = Optim.NelderMead{Optim.AffineSimplexer, Optim.AdaptiveParameters}(Optim.AffineSimplexer(0.025, 0.5), Optim.AdaptiveParameters(1.0, 1.0, 0.75, 1.0))\n",
      "initial_x = [2000.0]\n",
      "minimizer = [33246.874902343756]\n",
      "minimum = 7.710665698046348e-5\n",
      "iterations = 9\n",
      "iteration_converged = false\n",
      "x_converged = false\n",
      "x_abstol = 0.0\n",
      "x_reltol = 0.0\n",
      "x_abschange = NaN\n",
      "x_relchange = NaN\n",
      "f_converged = false\n",
      "f_abstol = 0.0\n",
      "f_reltol = 0.0\n",
      "f_abschange = NaN\n",
      "f_relchange = NaN\n",
      "g_converged = true\n",
      "g_abstol = 0.0001\n",
      "g_residual = 1.6506624068046705e-5\n",
      "f_increased = false\n",
      "f_calls = 21\n",
      "g_calls = 0\n",
      "h_calls = 0\n",
      "ls_success = true\n",
      "time_limit = NaN\n",
      "time_run = 0.6136150360107422\n",
      "stopped_by = (f_limit_reached = false, g_limit_reached = false, h_limit_reached = false, time_limit = false, callback = false, f_increased = false)\n"
     ]
    },
    {
     "data": {
      "text/plain": [
       "\"Nelder-Mead\""
      ]
     },
     "metadata": {},
     "output_type": "display_data"
    },
    {
     "data": {
      "text/plain": [
       "\"2.000 KeV ==> cost 9.90e-01\""
      ]
     },
     "metadata": {},
     "output_type": "display_data"
    },
    {
     "data": {
      "text/plain": [
       "\"3.000 KeV ==> cost 1.04e+00\""
      ]
     },
     "metadata": {},
     "output_type": "display_data"
    },
    {
     "data": {
      "text/plain": [
       "\"1.000 KeV ==> cost 8.93e-01\""
      ]
     },
     "metadata": {},
     "output_type": "display_data"
    },
    {
     "data": {
      "text/plain": [
       "\"-1.000 KeV ==> cost 8.92e-01\""
      ]
     },
     "metadata": {},
     "output_type": "display_data"
    },
    {
     "data": {
      "text/plain": [
       "\"-4.000 KeV ==> cost 1.09e+00\""
      ]
     },
     "metadata": {},
     "output_type": "display_data"
    },
    {
     "data": {
      "text/plain": [
       "\"-0.250 KeV ==> cost 8.17e-01\""
      ]
     },
     "metadata": {},
     "output_type": "display_data"
    },
    {
     "data": {
      "text/plain": [
       "\"0.500 KeV ==> cost 8.48e-01\""
      ]
     },
     "metadata": {},
     "output_type": "display_data"
    },
    {
     "data": {
      "text/plain": [
       "\"-0.063 KeV ==> cost 7.36e-01\""
      ]
     },
     "metadata": {},
     "output_type": "display_data"
    },
    {
     "data": {
      "text/plain": [
       "\"0.125 KeV ==> cost 7.82e-01\""
      ]
     },
     "metadata": {},
     "output_type": "display_data"
    },
    {
     "data": {
      "text/plain": [
       "\"-0.016 KeV ==> cost 5.55e-01\""
      ]
     },
     "metadata": {},
     "output_type": "display_data"
    },
    {
     "data": {
      "text/plain": [
       "\"0.031 KeV ==> cost 6.64e-01\""
      ]
     },
     "metadata": {},
     "output_type": "display_data"
    },
    {
     "data": {
      "text/plain": [
       "\"-0.004 KeV ==> cost 1.91e-01\""
      ]
     },
     "metadata": {},
     "output_type": "display_data"
    },
    {
     "data": {
      "text/plain": [
       "\"0.008 KeV ==> cost 3.92e-01\""
      ]
     },
     "metadata": {},
     "output_type": "display_data"
    },
    {
     "data": {
      "text/plain": [
       "\"-0.001 KeV ==> cost 2.10e-01\""
      ]
     },
     "metadata": {},
     "output_type": "display_data"
    },
    {
     "data": {
      "text/plain": [
       "\"-0.007 KeV ==> cost 3.59e-01\""
      ]
     },
     "metadata": {},
     "output_type": "display_data"
    },
    {
     "data": {
      "text/plain": [
       "\"-0.003 KeV ==> cost 1.24e-01\""
      ]
     },
     "metadata": {},
     "output_type": "display_data"
    },
    {
     "data": {
      "text/plain": [
       "\"-0.002 KeV ==> cost 4.02e-02\""
      ]
     },
     "metadata": {},
     "output_type": "display_data"
    },
    {
     "data": {
      "text/plain": [
       "\"-0.001 KeV ==> cost 2.10e-01\""
      ]
     },
     "metadata": {},
     "output_type": "display_data"
    },
    {
     "data": {
      "text/plain": [
       "\"-0.002 KeV ==> cost 6.91e-02\""
      ]
     },
     "metadata": {},
     "output_type": "display_data"
    },
    {
     "data": {
      "text/plain": [
       "\"-0.002 KeV ==> cost 1.55e-02\""
      ]
     },
     "metadata": {},
     "output_type": "display_data"
    },
    {
     "data": {
      "text/plain": [
       "\"-0.002 KeV ==> cost 1.08e-02\""
      ]
     },
     "metadata": {},
     "output_type": "display_data"
    },
    {
     "data": {
      "text/plain": [
       "\"-0.002 KeV ==> cost 6.91e-02\""
      ]
     },
     "metadata": {},
     "output_type": "display_data"
    },
    {
     "data": {
      "text/plain": [
       "\"-0.002 KeV ==> cost 3.90e-02\""
      ]
     },
     "metadata": {},
     "output_type": "display_data"
    },
    {
     "data": {
      "text/plain": [
       "\"-0.002 KeV ==> cost 4.04e-03\""
      ]
     },
     "metadata": {},
     "output_type": "display_data"
    },
    {
     "data": {
      "text/plain": [
       "\"-0.002 KeV ==> cost 2.60e-03\""
      ]
     },
     "metadata": {},
     "output_type": "display_data"
    },
    {
     "data": {
      "text/plain": [
       "\"-0.002 KeV ==> cost 1.55e-02\""
      ]
     },
     "metadata": {},
     "output_type": "display_data"
    },
    {
     "data": {
      "text/plain": [
       "\"-0.002 KeV ==> cost 9.13e-03\""
      ]
     },
     "metadata": {},
     "output_type": "display_data"
    },
    {
     "data": {
      "text/plain": [
       "\"-0.002 KeV ==> cost 9.51e-04\""
      ]
     },
     "metadata": {},
     "output_type": "display_data"
    },
    {
     "data": {
      "text/plain": [
       "\"-0.002 KeV ==> cost 7.05e-04\""
      ]
     },
     "metadata": {},
     "output_type": "display_data"
    },
    {
     "data": {
      "text/plain": [
       "\"-0.002 KeV ==> cost 4.04e-03\""
      ]
     },
     "metadata": {},
     "output_type": "display_data"
    },
    {
     "data": {
      "text/plain": [
       "\"-0.002 KeV ==> cost 2.37e-03\""
      ]
     },
     "metadata": {},
     "output_type": "display_data"
    },
    {
     "data": {
      "text/plain": [
       "\"-0.002 KeV ==> cost 2.91e-04\""
      ]
     },
     "metadata": {},
     "output_type": "display_data"
    },
    {
     "data": {
      "text/plain": [
       "\"-0.002 KeV ==> cost 1.24e-04\""
      ]
     },
     "metadata": {},
     "output_type": "display_data"
    },
    {
     "data": {
      "text/plain": [
       "\"-0.002 KeV ==> cost 9.51e-04\""
      ]
     },
     "metadata": {},
     "output_type": "display_data"
    },
    {
     "data": {
      "text/plain": [
       "\"-0.002 KeV ==> cost 1.24e-04\""
      ]
     },
     "metadata": {},
     "output_type": "display_data"
    },
    {
     "data": {
      "text/plain": [
       "\"-0.002 KeV ==> cost 1.24e-04\""
      ]
     },
     "metadata": {},
     "output_type": "display_data"
    },
    {
     "name": "stdout",
     "output_type": "stream",
     "text": [
      " * Status: success\n",
      "\n",
      " * Candidate solution\n",
      "    Final objective value:     1.237286e-04\n",
      "\n",
      " * Found with\n",
      "    Algorithm:     Nelder-Mead\n",
      "\n",
      " * Convergence measures\n",
      "    √(Σ(yᵢ-ȳ)²)/n ≤ 1.0e-04\n",
      "\n",
      " * Work counters\n",
      "    Seconds run:   1  (vs limit Inf)\n",
      "    Iterations:    16\n",
      "    f(x) calls:    35\n",
      "\n",
      "method = Optim.NelderMead{Optim.AffineSimplexer, Optim.AdaptiveParameters}(Optim.AffineSimplexer(0.025, 0.5), Optim.AdaptiveParameters(1.0, 1.0, 0.75, 1.0))\n",
      "initial_x = [2000.0]\n",
      "minimizer = [-2.1996356487276003]\n",
      "minimum = 0.0001237286142050653\n",
      "iterations = 16\n",
      "iteration_converged = false\n",
      "x_converged = false\n",
      "x_abstol = 0.0\n",
      "x_reltol = 0.0\n",
      "x_abschange = NaN\n",
      "x_relchange = NaN\n",
      "f_converged = false\n",
      "f_abstol = 0.0\n",
      "f_reltol = 0.0\n",
      "f_abschange = NaN\n",
      "f_relchange = NaN\n",
      "g_converged = true\n",
      "g_abstol = 0.0001\n",
      "g_residual = 8.340432012510224e-5\n",
      "f_increased = false\n",
      "f_calls = 35\n",
      "g_calls = 0\n",
      "h_calls = 0\n",
      "ls_success = true\n",
      "time_limit = NaN\n",
      "time_run = 0.8773229122161865\n",
      "stopped_by = (f_limit_reached = false, g_limit_reached = false, h_limit_reached = false, time_limit = false, callback = false, f_increased = false)\n"
     ]
    },
    {
     "data": {
      "image/svg+xml": [
       "<?xml version=\"1.0\" encoding=\"utf-8\"?>\n",
       "<svg xmlns=\"http://www.w3.org/2000/svg\" xmlns:xlink=\"http://www.w3.org/1999/xlink\" width=\"600\" height=\"400\" viewBox=\"0 0 2400 1600\">\n",
       "<defs>\n",
       "  <clipPath id=\"clip890\">\n",
       "    <rect x=\"0\" y=\"0\" width=\"2400\" height=\"1600\"/>\n",
       "  </clipPath>\n",
       "</defs>\n",
       "<path clip-path=\"url(#clip890)\" d=\"M0 1600 L2400 1600 L2400 0 L0 0  Z\" fill=\"#ffffff\" fill-rule=\"evenodd\" fill-opacity=\"1\"/>\n",
       "<defs>\n",
       "  <clipPath id=\"clip891\">\n",
       "    <rect x=\"480\" y=\"0\" width=\"1681\" height=\"1600\"/>\n",
       "  </clipPath>\n",
       "</defs>\n",
       "<path clip-path=\"url(#clip890)\" d=\"M156.112 1486.45 L2352.76 1486.45 L2352.76 47.2441 L156.112 47.2441  Z\" fill=\"#ffffff\" fill-rule=\"evenodd\" fill-opacity=\"1\"/>\n",
       "<defs>\n",
       "  <clipPath id=\"clip892\">\n",
       "    <rect x=\"156\" y=\"47\" width=\"2198\" height=\"1440\"/>\n",
       "  </clipPath>\n",
       "</defs>\n",
       "<polyline clip-path=\"url(#clip892)\" style=\"stroke:#000000; stroke-linecap:round; stroke-linejoin:round; stroke-width:2; stroke-opacity:0.1; fill:none\" points=\"197.349,1486.45 197.349,47.2441 \"/>\n",
       "<polyline clip-path=\"url(#clip892)\" style=\"stroke:#000000; stroke-linecap:round; stroke-linejoin:round; stroke-width:2; stroke-opacity:0.1; fill:none\" points=\"720.658,1486.45 720.658,47.2441 \"/>\n",
       "<polyline clip-path=\"url(#clip892)\" style=\"stroke:#000000; stroke-linecap:round; stroke-linejoin:round; stroke-width:2; stroke-opacity:0.1; fill:none\" points=\"1243.97,1486.45 1243.97,47.2441 \"/>\n",
       "<polyline clip-path=\"url(#clip892)\" style=\"stroke:#000000; stroke-linecap:round; stroke-linejoin:round; stroke-width:2; stroke-opacity:0.1; fill:none\" points=\"1767.28,1486.45 1767.28,47.2441 \"/>\n",
       "<polyline clip-path=\"url(#clip892)\" style=\"stroke:#000000; stroke-linecap:round; stroke-linejoin:round; stroke-width:2; stroke-opacity:0.1; fill:none\" points=\"2290.59,1486.45 2290.59,47.2441 \"/>\n",
       "<polyline clip-path=\"url(#clip890)\" style=\"stroke:#000000; stroke-linecap:round; stroke-linejoin:round; stroke-width:4; stroke-opacity:1; fill:none\" points=\"156.112,1486.45 2352.76,1486.45 \"/>\n",
       "<polyline clip-path=\"url(#clip890)\" style=\"stroke:#000000; stroke-linecap:round; stroke-linejoin:round; stroke-width:4; stroke-opacity:1; fill:none\" points=\"197.349,1486.45 197.349,1467.55 \"/>\n",
       "<polyline clip-path=\"url(#clip890)\" style=\"stroke:#000000; stroke-linecap:round; stroke-linejoin:round; stroke-width:4; stroke-opacity:1; fill:none\" points=\"720.658,1486.45 720.658,1467.55 \"/>\n",
       "<polyline clip-path=\"url(#clip890)\" style=\"stroke:#000000; stroke-linecap:round; stroke-linejoin:round; stroke-width:4; stroke-opacity:1; fill:none\" points=\"1243.97,1486.45 1243.97,1467.55 \"/>\n",
       "<polyline clip-path=\"url(#clip890)\" style=\"stroke:#000000; stroke-linecap:round; stroke-linejoin:round; stroke-width:4; stroke-opacity:1; fill:none\" points=\"1767.28,1486.45 1767.28,1467.55 \"/>\n",
       "<polyline clip-path=\"url(#clip890)\" style=\"stroke:#000000; stroke-linecap:round; stroke-linejoin:round; stroke-width:4; stroke-opacity:1; fill:none\" points=\"2290.59,1486.45 2290.59,1467.55 \"/>\n",
       "<path clip-path=\"url(#clip890)\" d=\"M197.349 1517.37 Q193.738 1517.37 191.909 1520.93 Q190.104 1524.47 190.104 1531.6 Q190.104 1538.71 191.909 1542.27 Q193.738 1545.82 197.349 1545.82 Q200.983 1545.82 202.789 1542.27 Q204.617 1538.71 204.617 1531.6 Q204.617 1524.47 202.789 1520.93 Q200.983 1517.37 197.349 1517.37 M197.349 1513.66 Q203.159 1513.66 206.215 1518.27 Q209.293 1522.85 209.293 1531.6 Q209.293 1540.33 206.215 1544.94 Q203.159 1549.52 197.349 1549.52 Q191.539 1549.52 188.46 1544.94 Q185.405 1540.33 185.405 1531.6 Q185.405 1522.85 188.46 1518.27 Q191.539 1513.66 197.349 1513.66 Z\" fill=\"#000000\" fill-rule=\"nonzero\" fill-opacity=\"1\" /><path clip-path=\"url(#clip890)\" d=\"M699.929 1544.91 L716.249 1544.91 L716.249 1548.85 L694.304 1548.85 L694.304 1544.91 Q696.966 1542.16 701.55 1537.53 Q706.156 1532.88 707.337 1531.53 Q709.582 1529.01 710.462 1527.27 Q711.364 1525.51 711.364 1523.82 Q711.364 1521.07 709.42 1519.33 Q707.499 1517.6 704.397 1517.6 Q702.198 1517.6 699.744 1518.36 Q697.314 1519.13 694.536 1520.68 L694.536 1515.95 Q697.36 1514.82 699.814 1514.24 Q702.267 1513.66 704.304 1513.66 Q709.675 1513.66 712.869 1516.35 Q716.063 1519.03 716.063 1523.52 Q716.063 1525.65 715.253 1527.57 Q714.466 1529.47 712.36 1532.07 Q711.781 1532.74 708.679 1535.95 Q705.577 1539.15 699.929 1544.91 Z\" fill=\"#000000\" fill-rule=\"nonzero\" fill-opacity=\"1\" /><path clip-path=\"url(#clip890)\" d=\"M726.11 1514.29 L744.466 1514.29 L744.466 1518.22 L730.392 1518.22 L730.392 1526.7 Q731.411 1526.35 732.429 1526.19 Q733.448 1526 734.466 1526 Q740.253 1526 743.633 1529.17 Q747.012 1532.34 747.012 1537.76 Q747.012 1543.34 743.54 1546.44 Q740.068 1549.52 733.749 1549.52 Q731.573 1549.52 729.304 1549.15 Q727.059 1548.78 724.651 1548.04 L724.651 1543.34 Q726.735 1544.47 728.957 1545.03 Q731.179 1545.58 733.656 1545.58 Q737.661 1545.58 739.999 1543.48 Q742.336 1541.37 742.336 1537.76 Q742.336 1534.15 739.999 1532.04 Q737.661 1529.94 733.656 1529.94 Q731.781 1529.94 729.906 1530.35 Q728.054 1530.77 726.11 1531.65 L726.11 1514.29 Z\" fill=\"#000000\" fill-rule=\"nonzero\" fill-opacity=\"1\" /><path clip-path=\"url(#clip890)\" d=\"M1218.67 1514.29 L1237.02 1514.29 L1237.02 1518.22 L1222.95 1518.22 L1222.95 1526.7 Q1223.97 1526.35 1224.99 1526.19 Q1226 1526 1227.02 1526 Q1232.81 1526 1236.19 1529.17 Q1239.57 1532.34 1239.57 1537.76 Q1239.57 1543.34 1236.1 1546.44 Q1232.63 1549.52 1226.31 1549.52 Q1224.13 1549.52 1221.86 1549.15 Q1219.62 1548.78 1217.21 1548.04 L1217.21 1543.34 Q1219.29 1544.47 1221.51 1545.03 Q1223.74 1545.58 1226.21 1545.58 Q1230.22 1545.58 1232.56 1543.48 Q1234.89 1541.37 1234.89 1537.76 Q1234.89 1534.15 1232.56 1532.04 Q1230.22 1529.94 1226.21 1529.94 Q1224.34 1529.94 1222.46 1530.35 Q1220.61 1530.77 1218.67 1531.65 L1218.67 1514.29 Z\" fill=\"#000000\" fill-rule=\"nonzero\" fill-opacity=\"1\" /><path clip-path=\"url(#clip890)\" d=\"M1258.78 1517.37 Q1255.17 1517.37 1253.34 1520.93 Q1251.54 1524.47 1251.54 1531.6 Q1251.54 1538.71 1253.34 1542.27 Q1255.17 1545.82 1258.78 1545.82 Q1262.42 1545.82 1264.22 1542.27 Q1266.05 1538.71 1266.05 1531.6 Q1266.05 1524.47 1264.22 1520.93 Q1262.42 1517.37 1258.78 1517.37 M1258.78 1513.66 Q1264.59 1513.66 1267.65 1518.27 Q1270.73 1522.85 1270.73 1531.6 Q1270.73 1540.33 1267.65 1544.94 Q1264.59 1549.52 1258.78 1549.52 Q1252.97 1549.52 1249.89 1544.94 Q1246.84 1540.33 1246.84 1531.6 Q1246.84 1522.85 1249.89 1518.27 Q1252.97 1513.66 1258.78 1513.66 Z\" fill=\"#000000\" fill-rule=\"nonzero\" fill-opacity=\"1\" /><path clip-path=\"url(#clip890)\" d=\"M1741.13 1514.29 L1763.35 1514.29 L1763.35 1516.28 L1750.81 1548.85 L1745.92 1548.85 L1757.73 1518.22 L1741.13 1518.22 L1741.13 1514.29 Z\" fill=\"#000000\" fill-rule=\"nonzero\" fill-opacity=\"1\" /><path clip-path=\"url(#clip890)\" d=\"M1772.52 1514.29 L1790.88 1514.29 L1790.88 1518.22 L1776.8 1518.22 L1776.8 1526.7 Q1777.82 1526.35 1778.84 1526.19 Q1779.86 1526 1780.88 1526 Q1786.66 1526 1790.04 1529.17 Q1793.42 1532.34 1793.42 1537.76 Q1793.42 1543.34 1789.95 1546.44 Q1786.48 1549.52 1780.16 1549.52 Q1777.98 1549.52 1775.71 1549.15 Q1773.47 1548.78 1771.06 1548.04 L1771.06 1543.34 Q1773.15 1544.47 1775.37 1545.03 Q1777.59 1545.58 1780.07 1545.58 Q1784.07 1545.58 1786.41 1543.48 Q1788.75 1541.37 1788.75 1537.76 Q1788.75 1534.15 1786.41 1532.04 Q1784.07 1529.94 1780.07 1529.94 Q1778.19 1529.94 1776.32 1530.35 Q1774.46 1530.77 1772.52 1531.65 L1772.52 1514.29 Z\" fill=\"#000000\" fill-rule=\"nonzero\" fill-opacity=\"1\" /><path clip-path=\"url(#clip890)\" d=\"M2250.19 1544.91 L2257.83 1544.91 L2257.83 1518.55 L2249.52 1520.21 L2249.52 1515.95 L2257.79 1514.29 L2262.46 1514.29 L2262.46 1544.91 L2270.1 1544.91 L2270.1 1548.85 L2250.19 1548.85 L2250.19 1544.91 Z\" fill=\"#000000\" fill-rule=\"nonzero\" fill-opacity=\"1\" /><path clip-path=\"url(#clip890)\" d=\"M2289.55 1517.37 Q2285.93 1517.37 2284.11 1520.93 Q2282.3 1524.47 2282.3 1531.6 Q2282.3 1538.71 2284.11 1542.27 Q2285.93 1545.82 2289.55 1545.82 Q2293.18 1545.82 2294.98 1542.27 Q2296.81 1538.71 2296.81 1531.6 Q2296.81 1524.47 2294.98 1520.93 Q2293.18 1517.37 2289.55 1517.37 M2289.55 1513.66 Q2295.36 1513.66 2298.41 1518.27 Q2301.49 1522.85 2301.49 1531.6 Q2301.49 1540.33 2298.41 1544.94 Q2295.36 1549.52 2289.55 1549.52 Q2283.73 1549.52 2280.66 1544.94 Q2277.6 1540.33 2277.6 1531.6 Q2277.6 1522.85 2280.66 1518.27 Q2283.73 1513.66 2289.55 1513.66 Z\" fill=\"#000000\" fill-rule=\"nonzero\" fill-opacity=\"1\" /><path clip-path=\"url(#clip890)\" d=\"M2319.71 1517.37 Q2316.1 1517.37 2314.27 1520.93 Q2312.46 1524.47 2312.46 1531.6 Q2312.46 1538.71 2314.27 1542.27 Q2316.1 1545.82 2319.71 1545.82 Q2323.34 1545.82 2325.15 1542.27 Q2326.98 1538.71 2326.98 1531.6 Q2326.98 1524.47 2325.15 1520.93 Q2323.34 1517.37 2319.71 1517.37 M2319.71 1513.66 Q2325.52 1513.66 2328.57 1518.27 Q2331.65 1522.85 2331.65 1531.6 Q2331.65 1540.33 2328.57 1544.94 Q2325.52 1549.52 2319.71 1549.52 Q2313.9 1549.52 2310.82 1544.94 Q2307.76 1540.33 2307.76 1531.6 Q2307.76 1522.85 2310.82 1518.27 Q2313.9 1513.66 2319.71 1513.66 Z\" fill=\"#000000\" fill-rule=\"nonzero\" fill-opacity=\"1\" /><polyline clip-path=\"url(#clip892)\" style=\"stroke:#000000; stroke-linecap:round; stroke-linejoin:round; stroke-width:2; stroke-opacity:0.1; fill:none\" points=\"156.112,1445.78 2352.76,1445.78 \"/>\n",
       "<polyline clip-path=\"url(#clip892)\" style=\"stroke:#000000; stroke-linecap:round; stroke-linejoin:round; stroke-width:2; stroke-opacity:0.1; fill:none\" points=\"156.112,1049.72 2352.76,1049.72 \"/>\n",
       "<polyline clip-path=\"url(#clip892)\" style=\"stroke:#000000; stroke-linecap:round; stroke-linejoin:round; stroke-width:2; stroke-opacity:0.1; fill:none\" points=\"156.112,653.664 2352.76,653.664 \"/>\n",
       "<polyline clip-path=\"url(#clip892)\" style=\"stroke:#000000; stroke-linecap:round; stroke-linejoin:round; stroke-width:2; stroke-opacity:0.1; fill:none\" points=\"156.112,257.608 2352.76,257.608 \"/>\n",
       "<polyline clip-path=\"url(#clip890)\" style=\"stroke:#000000; stroke-linecap:round; stroke-linejoin:round; stroke-width:4; stroke-opacity:1; fill:none\" points=\"156.112,1486.45 156.112,47.2441 \"/>\n",
       "<polyline clip-path=\"url(#clip890)\" style=\"stroke:#000000; stroke-linecap:round; stroke-linejoin:round; stroke-width:4; stroke-opacity:1; fill:none\" points=\"156.112,1445.78 175.01,1445.78 \"/>\n",
       "<polyline clip-path=\"url(#clip890)\" style=\"stroke:#000000; stroke-linecap:round; stroke-linejoin:round; stroke-width:4; stroke-opacity:1; fill:none\" points=\"156.112,1049.72 175.01,1049.72 \"/>\n",
       "<polyline clip-path=\"url(#clip890)\" style=\"stroke:#000000; stroke-linecap:round; stroke-linejoin:round; stroke-width:4; stroke-opacity:1; fill:none\" points=\"156.112,653.664 175.01,653.664 \"/>\n",
       "<polyline clip-path=\"url(#clip890)\" style=\"stroke:#000000; stroke-linecap:round; stroke-linejoin:round; stroke-width:4; stroke-opacity:1; fill:none\" points=\"156.112,257.608 175.01,257.608 \"/>\n",
       "<path clip-path=\"url(#clip890)\" d=\"M62.9365 1431.58 Q59.3254 1431.58 57.4967 1435.14 Q55.6912 1438.68 55.6912 1445.81 Q55.6912 1452.92 57.4967 1456.48 Q59.3254 1460.02 62.9365 1460.02 Q66.5707 1460.02 68.3763 1456.48 Q70.205 1452.92 70.205 1445.81 Q70.205 1438.68 68.3763 1435.14 Q66.5707 1431.58 62.9365 1431.58 M62.9365 1427.87 Q68.7467 1427.87 71.8022 1432.48 Q74.8809 1437.06 74.8809 1445.81 Q74.8809 1454.54 71.8022 1459.14 Q68.7467 1463.73 62.9365 1463.73 Q57.1264 1463.73 54.0477 1459.14 Q50.9921 1454.54 50.9921 1445.81 Q50.9921 1437.06 54.0477 1432.48 Q57.1264 1427.87 62.9365 1427.87 Z\" fill=\"#000000\" fill-rule=\"nonzero\" fill-opacity=\"1\" /><path clip-path=\"url(#clip890)\" d=\"M83.0984 1457.18 L87.9827 1457.18 L87.9827 1463.06 L83.0984 1463.06 L83.0984 1457.18 Z\" fill=\"#000000\" fill-rule=\"nonzero\" fill-opacity=\"1\" /><path clip-path=\"url(#clip890)\" d=\"M108.168 1431.58 Q104.557 1431.58 102.728 1435.14 Q100.922 1438.68 100.922 1445.81 Q100.922 1452.92 102.728 1456.48 Q104.557 1460.02 108.168 1460.02 Q111.802 1460.02 113.608 1456.48 Q115.436 1452.92 115.436 1445.81 Q115.436 1438.68 113.608 1435.14 Q111.802 1431.58 108.168 1431.58 M108.168 1427.87 Q113.978 1427.87 117.033 1432.48 Q120.112 1437.06 120.112 1445.81 Q120.112 1454.54 117.033 1459.14 Q113.978 1463.73 108.168 1463.73 Q102.358 1463.73 99.2789 1459.14 Q96.2234 1454.54 96.2234 1445.81 Q96.2234 1437.06 99.2789 1432.48 Q102.358 1427.87 108.168 1427.87 Z\" fill=\"#000000\" fill-rule=\"nonzero\" fill-opacity=\"1\" /><path clip-path=\"url(#clip890)\" d=\"M63.9319 1035.52 Q60.3208 1035.52 58.4921 1039.08 Q56.6865 1042.63 56.6865 1049.76 Q56.6865 1056.86 58.4921 1060.43 Q60.3208 1063.97 63.9319 1063.97 Q67.5661 1063.97 69.3717 1060.43 Q71.2004 1056.86 71.2004 1049.76 Q71.2004 1042.63 69.3717 1039.08 Q67.5661 1035.52 63.9319 1035.52 M63.9319 1031.82 Q69.742 1031.82 72.7976 1036.42 Q75.8763 1041.01 75.8763 1049.76 Q75.8763 1058.48 72.7976 1063.09 Q69.742 1067.67 63.9319 1067.67 Q58.1217 1067.67 55.043 1063.09 Q51.9875 1058.48 51.9875 1049.76 Q51.9875 1041.01 55.043 1036.42 Q58.1217 1031.82 63.9319 1031.82 Z\" fill=\"#000000\" fill-rule=\"nonzero\" fill-opacity=\"1\" /><path clip-path=\"url(#clip890)\" d=\"M84.0938 1061.12 L88.978 1061.12 L88.978 1067 L84.0938 1067 L84.0938 1061.12 Z\" fill=\"#000000\" fill-rule=\"nonzero\" fill-opacity=\"1\" /><path clip-path=\"url(#clip890)\" d=\"M99.2095 1032.44 L117.566 1032.44 L117.566 1036.38 L103.492 1036.38 L103.492 1044.85 Q104.51 1044.5 105.529 1044.34 Q106.547 1044.15 107.566 1044.15 Q113.353 1044.15 116.733 1047.32 Q120.112 1050.5 120.112 1055.91 Q120.112 1061.49 116.64 1064.59 Q113.168 1067.67 106.848 1067.67 Q104.672 1067.67 102.404 1067.3 Q100.159 1066.93 97.7511 1066.19 L97.7511 1061.49 Q99.8345 1062.63 102.057 1063.18 Q104.279 1063.74 106.756 1063.74 Q110.76 1063.74 113.098 1061.63 Q115.436 1059.52 115.436 1055.91 Q115.436 1052.3 113.098 1050.2 Q110.76 1048.09 106.756 1048.09 Q104.881 1048.09 103.006 1048.51 Q101.154 1048.92 99.2095 1049.8 L99.2095 1032.44 Z\" fill=\"#000000\" fill-rule=\"nonzero\" fill-opacity=\"1\" /><path clip-path=\"url(#clip890)\" d=\"M53.7467 667.009 L61.3856 667.009 L61.3856 640.644 L53.0754 642.31 L53.0754 638.051 L61.3393 636.384 L66.0152 636.384 L66.0152 667.009 L73.654 667.009 L73.654 670.944 L53.7467 670.944 L53.7467 667.009 Z\" fill=\"#000000\" fill-rule=\"nonzero\" fill-opacity=\"1\" /><path clip-path=\"url(#clip890)\" d=\"M83.0984 665.065 L87.9827 665.065 L87.9827 670.944 L83.0984 670.944 L83.0984 665.065 Z\" fill=\"#000000\" fill-rule=\"nonzero\" fill-opacity=\"1\" /><path clip-path=\"url(#clip890)\" d=\"M108.168 639.463 Q104.557 639.463 102.728 643.028 Q100.922 646.569 100.922 653.699 Q100.922 660.805 102.728 664.37 Q104.557 667.912 108.168 667.912 Q111.802 667.912 113.608 664.37 Q115.436 660.805 115.436 653.699 Q115.436 646.569 113.608 643.028 Q111.802 639.463 108.168 639.463 M108.168 635.759 Q113.978 635.759 117.033 640.366 Q120.112 644.949 120.112 653.699 Q120.112 662.426 117.033 667.032 Q113.978 671.616 108.168 671.616 Q102.358 671.616 99.2789 667.032 Q96.2234 662.426 96.2234 653.699 Q96.2234 644.949 99.2789 640.366 Q102.358 635.759 108.168 635.759 Z\" fill=\"#000000\" fill-rule=\"nonzero\" fill-opacity=\"1\" /><path clip-path=\"url(#clip890)\" d=\"M54.7421 270.953 L62.381 270.953 L62.381 244.587 L54.0708 246.254 L54.0708 241.995 L62.3347 240.328 L67.0106 240.328 L67.0106 270.953 L74.6494 270.953 L74.6494 274.888 L54.7421 274.888 L54.7421 270.953 Z\" fill=\"#000000\" fill-rule=\"nonzero\" fill-opacity=\"1\" /><path clip-path=\"url(#clip890)\" d=\"M84.0938 269.008 L88.978 269.008 L88.978 274.888 L84.0938 274.888 L84.0938 269.008 Z\" fill=\"#000000\" fill-rule=\"nonzero\" fill-opacity=\"1\" /><path clip-path=\"url(#clip890)\" d=\"M99.2095 240.328 L117.566 240.328 L117.566 244.263 L103.492 244.263 L103.492 252.735 Q104.51 252.388 105.529 252.226 Q106.547 252.041 107.566 252.041 Q113.353 252.041 116.733 255.212 Q120.112 258.384 120.112 263.8 Q120.112 269.379 116.64 272.481 Q113.168 275.559 106.848 275.559 Q104.672 275.559 102.404 275.189 Q100.159 274.819 97.7511 274.078 L97.7511 269.379 Q99.8345 270.513 102.057 271.069 Q104.279 271.624 106.756 271.624 Q110.76 271.624 113.098 269.518 Q115.436 267.411 115.436 263.8 Q115.436 260.189 113.098 258.083 Q110.76 255.976 106.756 255.976 Q104.881 255.976 103.006 256.393 Q101.154 256.809 99.2095 257.689 L99.2095 240.328 Z\" fill=\"#000000\" fill-rule=\"nonzero\" fill-opacity=\"1\" /><polyline clip-path=\"url(#clip892)\" style=\"stroke:#009af9; stroke-linecap:round; stroke-linejoin:round; stroke-width:4; stroke-opacity:1; fill:none\" points=\"218.281,87.9763 239.214,139.643 260.146,194.204 281.078,250.78 302.011,308.81 322.943,367.608 343.876,426.278 364.808,483.836 385.74,539.378 406.673,592.193 427.605,641.823 448.537,688.046 469.47,730.835 490.402,770.303 511.335,806.649 532.267,840.116 553.199,870.967 574.132,899.457 595.064,925.832 615.996,950.316 636.929,973.112 657.861,994.403 678.794,1014.35 699.726,1033.09 720.658,1050.76 741.591,1067.47 762.523,1083.31 783.456,1098.37 804.388,1112.73 825.32,1126.45 846.253,1139.6 867.185,1152.22 888.117,1164.38 909.05,1176.1 929.982,1187.43 950.915,1198.39 971.847,1209.03 992.779,1219.37 1013.71,1229.43 1034.64,1239.23 1055.58,1248.81 1076.51,1258.16 1097.44,1267.32 1118.37,1276.29 1139.31,1285.1 1160.24,1293.75 1181.17,1302.25 1202.1,1310.62 1223.04,1318.86 1243.97,1326.98 1264.9,1335 1285.83,1342.92 1306.76,1350.75 1327.7,1358.49 1348.63,1366.15 1369.56,1373.74 1390.49,1381.25 1411.43,1388.7 1432.36,1396.09 1453.29,1403.43 1474.22,1410.71 1495.16,1417.95 1516.09,1425.14 1537.02,1432.29 1557.95,1439.4 1578.89,1445.08 1599.82,1438.04 1620.75,1431.04 1641.68,1424.06 1662.62,1417.1 1683.55,1410.17 1704.48,1403.27 1725.41,1396.38 1746.34,1389.52 1767.28,1382.67 1788.21,1375.84 1809.14,1369.02 1830.07,1362.21 1851.01,1355.42 1871.94,1348.64 1892.87,1341.87 1913.8,1335.11 1934.74,1328.35 1955.67,1321.6 1976.6,1314.86 1997.53,1308.12 2018.47,1301.39 2039.4,1294.66 2060.33,1287.93 2081.26,1281.21 2102.2,1274.48 2123.13,1267.76 2144.06,1261.04 2164.99,1254.31 2185.92,1247.59 2206.86,1240.86 2227.79,1234.14 2248.72,1227.41 2269.65,1220.67 2290.59,1213.94 \"/>\n",
       "<polyline clip-path=\"url(#clip892)\" style=\"stroke:#e26f46; stroke-linecap:round; stroke-linejoin:round; stroke-width:4; stroke-opacity:1; fill:none\" points=\"218.281,1047.04 239.214,1095.4 260.146,1151.39 281.078,1204.38 302.011,1252.63 322.943,1294.64 343.876,1329.38 364.808,1356.57 385.74,1376.58 406.673,1390.35 427.605,1399.07 448.537,1404.02 469.47,1406.36 490.402,1407.04 511.335,1406.81 532.267,1406.2 553.199,1405.59 574.132,1405.21 595.064,1405.2 615.996,1405.63 636.929,1406.51 657.861,1407.86 678.794,1409.65 699.726,1411.84 720.658,1414.41 741.591,1417.32 762.523,1420.53 783.456,1424.02 804.388,1427.74 825.32,1431.68 846.253,1435.81 867.185,1440.11 888.117,1444.55 909.05,1442.42 929.982,1437.72 950.915,1432.92 971.847,1428.02 992.779,1423.04 1013.71,1417.98 1034.64,1412.86 1055.58,1407.67 1076.51,1402.42 1097.44,1397.13 1118.37,1391.78 1139.31,1386.4 1160.24,1380.97 1181.17,1375.5 1202.1,1370 1223.04,1364.47 1243.97,1358.9 1264.9,1353.31 1285.83,1347.69 1306.76,1342.04 1327.7,1336.37 1348.63,1330.67 1369.56,1324.95 1390.49,1319.21 1411.43,1313.44 1432.36,1307.65 1453.29,1301.85 1474.22,1296.02 1495.16,1290.17 1516.09,1284.3 1537.02,1278.41 1557.95,1272.51 1578.89,1266.58 1599.82,1260.64 1620.75,1254.67 1641.68,1248.69 1662.62,1242.69 1683.55,1236.67 1704.48,1230.64 1725.41,1224.59 1746.34,1218.51 1767.28,1212.43 1788.21,1206.32 1809.14,1200.2 1830.07,1194.06 1851.01,1187.9 1871.94,1181.72 1892.87,1175.53 1913.8,1169.32 1934.74,1163.09 1955.67,1156.85 1976.6,1150.59 1997.53,1144.31 2018.47,1138.01 2039.4,1131.7 2060.33,1125.37 2081.26,1119.02 2102.2,1112.66 2123.13,1106.28 2144.06,1099.88 2164.99,1093.47 2185.92,1087.04 2206.86,1080.59 2227.79,1074.13 2248.72,1067.65 2269.65,1061.15 2290.59,1054.63 \"/>\n",
       "<polyline clip-path=\"url(#clip892)\" style=\"stroke:#3da44d; stroke-linecap:round; stroke-linejoin:round; stroke-width:4; stroke-opacity:1; fill:none\" points=\"218.281,728.429 239.214,679.182 260.146,625.775 281.078,581.258 302.011,549.042 322.943,531.639 343.876,530.016 364.808,543.415 385.74,569.644 406.673,605.65 427.605,648.137 448.537,694.06 469.47,740.913 490.402,786.822 511.335,830.513 532.267,871.213 553.199,908.53 574.132,942.339 595.064,972.699 615.996,999.774 636.929,1023.79 657.861,1045 678.794,1063.67 699.726,1080.04 720.658,1094.35 741.591,1106.81 762.523,1117.63 783.456,1126.97 804.388,1135 825.32,1141.86 846.253,1147.66 867.185,1152.51 888.117,1156.52 909.05,1159.77 929.982,1162.33 950.915,1164.27 971.847,1165.65 992.779,1166.51 1013.71,1166.91 1034.64,1166.89 1055.58,1166.48 1076.51,1165.71 1097.44,1164.63 1118.37,1163.24 1139.31,1161.57 1160.24,1159.65 1181.17,1157.5 1202.1,1155.13 1223.04,1152.55 1243.97,1149.78 1264.9,1146.84 1285.83,1143.73 1306.76,1140.47 1327.7,1137.07 1348.63,1133.52 1369.56,1129.85 1390.49,1126.06 1411.43,1122.15 1432.36,1118.13 1453.29,1114.01 1474.22,1109.8 1495.16,1105.49 1516.09,1101.09 1537.02,1096.61 1557.95,1092.05 1578.89,1087.41 1599.82,1082.7 1620.75,1077.91 1641.68,1073.06 1662.62,1068.15 1683.55,1063.17 1704.48,1058.13 1725.41,1053.03 1746.34,1047.88 1767.28,1042.67 1788.21,1037.41 1809.14,1032.1 1830.07,1026.74 1851.01,1021.33 1871.94,1015.88 1892.87,1010.38 1913.8,1004.83 1934.74,999.248 1955.67,993.62 1976.6,987.951 1997.53,982.243 2018.47,976.495 2039.4,970.711 2060.33,964.889 2081.26,959.031 2102.2,953.137 2123.13,947.209 2144.06,941.247 2164.99,935.252 2185.92,929.224 2206.86,923.164 2227.79,917.072 2248.72,910.95 2269.65,904.797 2290.59,898.614 \"/>\n",
       "<circle clip-path=\"url(#clip892)\" cx=\"1576.59\" cy=\"1445.71\" r=\"14.4\" fill=\"#c271d2\" fill-rule=\"evenodd\" fill-opacity=\"1\" stroke=\"#000000\" stroke-opacity=\"1\" stroke-width=\"3.2\"/>\n",
       "<circle clip-path=\"url(#clip892)\" cx=\"893.285\" cy=\"1445.72\" r=\"14.4\" fill=\"#c271d2\" fill-rule=\"evenodd\" fill-opacity=\"1\" stroke=\"#000000\" stroke-opacity=\"1\" stroke-width=\"3.2\"/>\n",
       "<circle clip-path=\"url(#clip892)\" cx=\"266.179\" cy=\"1445.68\" r=\"14.4\" fill=\"#c271d2\" fill-rule=\"evenodd\" fill-opacity=\"1\" stroke=\"#000000\" stroke-opacity=\"1\" stroke-width=\"3.2\"/>\n",
       "<path clip-path=\"url(#clip890)\" d=\"M1842.02 354.418 L2279.53 354.418 L2279.53 95.2176 L1842.02 95.2176  Z\" fill=\"#ffffff\" fill-rule=\"evenodd\" fill-opacity=\"1\"/>\n",
       "<polyline clip-path=\"url(#clip890)\" style=\"stroke:#000000; stroke-linecap:round; stroke-linejoin:round; stroke-width:4; stroke-opacity:1; fill:none\" points=\"1842.02,354.418 2279.53,354.418 2279.53,95.2176 1842.02,95.2176 1842.02,354.418 \"/>\n",
       "<polyline clip-path=\"url(#clip890)\" style=\"stroke:#009af9; stroke-linecap:round; stroke-linejoin:round; stroke-width:4; stroke-opacity:1; fill:none\" points=\"1866.43,147.058 2012.87,147.058 \"/>\n",
       "<path clip-path=\"url(#clip890)\" d=\"M2037.95 160.402 L2045.59 160.402 L2045.59 134.037 L2037.28 135.703 L2037.28 131.444 L2045.55 129.778 L2050.22 129.778 L2050.22 160.402 L2057.86 160.402 L2057.86 164.338 L2037.95 164.338 L2037.95 160.402 Z\" fill=\"#000000\" fill-rule=\"nonzero\" fill-opacity=\"1\" /><path clip-path=\"url(#clip890)\" d=\"M2077.3 132.856 Q2073.69 132.856 2071.86 136.421 Q2070.06 139.963 2070.06 147.092 Q2070.06 154.199 2071.86 157.764 Q2073.69 161.305 2077.3 161.305 Q2080.94 161.305 2082.74 157.764 Q2084.57 154.199 2084.57 147.092 Q2084.57 139.963 2082.74 136.421 Q2080.94 132.856 2077.3 132.856 M2077.3 129.153 Q2083.11 129.153 2086.17 133.759 Q2089.25 138.342 2089.25 147.092 Q2089.25 155.819 2086.17 160.426 Q2083.11 165.009 2077.3 165.009 Q2071.49 165.009 2068.42 160.426 Q2065.36 155.819 2065.36 147.092 Q2065.36 138.342 2068.42 133.759 Q2071.49 129.153 2077.3 129.153 Z\" fill=\"#000000\" fill-rule=\"nonzero\" fill-opacity=\"1\" /><path clip-path=\"url(#clip890)\" d=\"M2107.47 132.856 Q2103.85 132.856 2102.03 136.421 Q2100.22 139.963 2100.22 147.092 Q2100.22 154.199 2102.03 157.764 Q2103.85 161.305 2107.47 161.305 Q2111.1 161.305 2112.91 157.764 Q2114.73 154.199 2114.73 147.092 Q2114.73 139.963 2112.91 136.421 Q2111.1 132.856 2107.47 132.856 M2107.47 129.153 Q2113.28 129.153 2116.33 133.759 Q2119.41 138.342 2119.41 147.092 Q2119.41 155.819 2116.33 160.426 Q2113.28 165.009 2107.47 165.009 Q2101.66 165.009 2098.58 160.426 Q2095.52 155.819 2095.52 147.092 Q2095.52 138.342 2098.58 133.759 Q2101.66 129.153 2107.47 129.153 Z\" fill=\"#000000\" fill-rule=\"nonzero\" fill-opacity=\"1\" /><path clip-path=\"url(#clip890)\" d=\"M2137.63 132.856 Q2134.02 132.856 2132.19 136.421 Q2130.38 139.963 2130.38 147.092 Q2130.38 154.199 2132.19 157.764 Q2134.02 161.305 2137.63 161.305 Q2141.26 161.305 2143.07 157.764 Q2144.9 154.199 2144.9 147.092 Q2144.9 139.963 2143.07 136.421 Q2141.26 132.856 2137.63 132.856 M2137.63 129.153 Q2143.44 129.153 2146.49 133.759 Q2149.57 138.342 2149.57 147.092 Q2149.57 155.819 2146.49 160.426 Q2143.44 165.009 2137.63 165.009 Q2131.82 165.009 2128.74 160.426 Q2125.68 155.819 2125.68 147.092 Q2125.68 138.342 2128.74 133.759 Q2131.82 129.153 2137.63 129.153 Z\" fill=\"#000000\" fill-rule=\"nonzero\" fill-opacity=\"1\" /><path clip-path=\"url(#clip890)\" d=\"M2167.79 132.856 Q2164.18 132.856 2162.35 136.421 Q2160.54 139.963 2160.54 147.092 Q2160.54 154.199 2162.35 157.764 Q2164.18 161.305 2167.79 161.305 Q2171.42 161.305 2173.23 157.764 Q2175.06 154.199 2175.06 147.092 Q2175.06 139.963 2173.23 136.421 Q2171.42 132.856 2167.79 132.856 M2167.79 129.153 Q2173.6 129.153 2176.66 133.759 Q2179.73 138.342 2179.73 147.092 Q2179.73 155.819 2176.66 160.426 Q2173.6 165.009 2167.79 165.009 Q2161.98 165.009 2158.9 160.426 Q2155.85 155.819 2155.85 147.092 Q2155.85 138.342 2158.9 133.759 Q2161.98 129.153 2167.79 129.153 Z\" fill=\"#000000\" fill-rule=\"nonzero\" fill-opacity=\"1\" /><path clip-path=\"url(#clip890)\" d=\"M2197.95 132.856 Q2194.34 132.856 2192.51 136.421 Q2190.71 139.963 2190.71 147.092 Q2190.71 154.199 2192.51 157.764 Q2194.34 161.305 2197.95 161.305 Q2201.59 161.305 2203.39 157.764 Q2205.22 154.199 2205.22 147.092 Q2205.22 139.963 2203.39 136.421 Q2201.59 132.856 2197.95 132.856 M2197.95 129.153 Q2203.76 129.153 2206.82 133.759 Q2209.9 138.342 2209.9 147.092 Q2209.9 155.819 2206.82 160.426 Q2203.76 165.009 2197.95 165.009 Q2192.14 165.009 2189.06 160.426 Q2186.01 155.819 2186.01 147.092 Q2186.01 138.342 2189.06 133.759 Q2192.14 129.153 2197.95 129.153 Z\" fill=\"#000000\" fill-rule=\"nonzero\" fill-opacity=\"1\" /><path clip-path=\"url(#clip890)\" d=\"M2218.11 158.458 L2223 158.458 L2223 164.338 L2218.11 164.338 L2218.11 158.458 Z\" fill=\"#000000\" fill-rule=\"nonzero\" fill-opacity=\"1\" /><path clip-path=\"url(#clip890)\" d=\"M2243.18 132.856 Q2239.57 132.856 2237.74 136.421 Q2235.94 139.963 2235.94 147.092 Q2235.94 154.199 2237.74 157.764 Q2239.57 161.305 2243.18 161.305 Q2246.82 161.305 2248.62 157.764 Q2250.45 154.199 2250.45 147.092 Q2250.45 139.963 2248.62 136.421 Q2246.82 132.856 2243.18 132.856 M2243.18 129.153 Q2248.99 129.153 2252.05 133.759 Q2255.13 138.342 2255.13 147.092 Q2255.13 155.819 2252.05 160.426 Q2248.99 165.009 2243.18 165.009 Q2237.37 165.009 2234.29 160.426 Q2231.24 155.819 2231.24 147.092 Q2231.24 138.342 2234.29 133.759 Q2237.37 129.153 2243.18 129.153 Z\" fill=\"#000000\" fill-rule=\"nonzero\" fill-opacity=\"1\" /><polyline clip-path=\"url(#clip890)\" style=\"stroke:#e26f46; stroke-linecap:round; stroke-linejoin:round; stroke-width:4; stroke-opacity:1; fill:none\" points=\"1866.43,198.898 2012.87,198.898 \"/>\n",
       "<path clip-path=\"url(#clip890)\" d=\"M2037.95 212.242 L2045.59 212.242 L2045.59 185.877 L2037.28 187.543 L2037.28 183.284 L2045.55 181.618 L2050.22 181.618 L2050.22 212.242 L2057.86 212.242 L2057.86 216.178 L2037.95 216.178 L2037.95 212.242 Z\" fill=\"#000000\" fill-rule=\"nonzero\" fill-opacity=\"1\" /><path clip-path=\"url(#clip890)\" d=\"M2067.3 210.298 L2072.19 210.298 L2072.19 216.178 L2067.3 216.178 L2067.3 210.298 Z\" fill=\"#000000\" fill-rule=\"nonzero\" fill-opacity=\"1\" /><path clip-path=\"url(#clip890)\" d=\"M2092.37 184.696 Q2088.76 184.696 2086.93 188.261 Q2085.13 191.803 2085.13 198.932 Q2085.13 206.039 2086.93 209.604 Q2088.76 213.145 2092.37 213.145 Q2096.01 213.145 2097.81 209.604 Q2099.64 206.039 2099.64 198.932 Q2099.64 191.803 2097.81 188.261 Q2096.01 184.696 2092.37 184.696 M2092.37 180.993 Q2098.18 180.993 2101.24 185.599 Q2104.32 190.182 2104.32 198.932 Q2104.32 207.659 2101.24 212.266 Q2098.18 216.849 2092.37 216.849 Q2086.56 216.849 2083.48 212.266 Q2080.43 207.659 2080.43 198.932 Q2080.43 190.182 2083.48 185.599 Q2086.56 180.993 2092.37 180.993 Z\" fill=\"#000000\" fill-rule=\"nonzero\" fill-opacity=\"1\" /><path clip-path=\"url(#clip890)\" d=\"M2134.11 202.15 L2134.11 204.233 L2114.53 204.233 Q2114.8 208.631 2117.17 210.946 Q2119.55 213.238 2123.79 213.238 Q2126.24 213.238 2128.53 212.636 Q2130.85 212.034 2133.11 210.83 L2133.11 214.858 Q2130.82 215.83 2128.42 216.34 Q2126.01 216.849 2123.53 216.849 Q2117.33 216.849 2113.69 213.238 Q2110.08 209.627 2110.08 203.469 Q2110.08 197.104 2113.51 193.377 Q2116.96 189.627 2122.79 189.627 Q2128.02 189.627 2131.05 193.006 Q2134.11 196.363 2134.11 202.15 M2129.85 200.9 Q2129.8 197.405 2127.88 195.321 Q2125.98 193.238 2122.84 193.238 Q2119.27 193.238 2117.12 195.252 Q2114.99 197.266 2114.67 200.923 L2129.85 200.9 Z\" fill=\"#000000\" fill-rule=\"nonzero\" fill-opacity=\"1\" /><path clip-path=\"url(#clip890)\" d=\"M2152.28 197.034 Q2149.13 197.034 2147.28 199.187 Q2145.45 201.34 2145.45 205.09 Q2145.45 208.816 2147.28 210.992 Q2149.13 213.145 2152.28 213.145 Q2155.43 213.145 2157.26 210.992 Q2159.11 208.816 2159.11 205.09 Q2159.11 201.34 2157.26 199.187 Q2155.43 197.034 2152.28 197.034 M2161.56 182.381 L2161.56 186.641 Q2159.8 185.807 2158 185.368 Q2156.22 184.928 2154.46 184.928 Q2149.83 184.928 2147.37 188.053 Q2144.94 191.178 2144.6 197.497 Q2145.96 195.483 2148.02 194.418 Q2150.08 193.33 2152.56 193.33 Q2157.77 193.33 2160.78 196.502 Q2163.81 199.65 2163.81 205.09 Q2163.81 210.414 2160.66 213.631 Q2157.51 216.849 2152.28 216.849 Q2146.29 216.849 2143.11 212.266 Q2139.94 207.659 2139.94 198.932 Q2139.94 190.738 2143.83 185.877 Q2147.72 180.993 2154.27 180.993 Q2156.03 180.993 2157.81 181.34 Q2159.62 181.687 2161.56 182.381 Z\" fill=\"#000000\" fill-rule=\"nonzero\" fill-opacity=\"1\" /><polyline clip-path=\"url(#clip890)\" style=\"stroke:#3da44d; stroke-linecap:round; stroke-linejoin:round; stroke-width:4; stroke-opacity:1; fill:none\" points=\"1866.43,250.738 2012.87,250.738 \"/>\n",
       "<path clip-path=\"url(#clip890)\" d=\"M2042.91 264.082 L2059.23 264.082 L2059.23 268.018 L2037.28 268.018 L2037.28 264.082 Q2039.94 261.328 2044.53 256.698 Q2049.13 252.045 2050.31 250.703 Q2052.56 248.18 2053.44 246.444 Q2054.34 244.684 2054.34 242.995 Q2054.34 240.24 2052.4 238.504 Q2050.48 236.768 2047.37 236.768 Q2045.17 236.768 2042.72 237.532 Q2040.29 238.295 2037.51 239.846 L2037.51 235.124 Q2040.34 233.99 2042.79 233.411 Q2045.24 232.833 2047.28 232.833 Q2052.65 232.833 2055.85 235.518 Q2059.04 238.203 2059.04 242.694 Q2059.04 244.823 2058.23 246.745 Q2057.44 248.643 2055.34 251.235 Q2054.76 251.907 2051.66 255.124 Q2048.55 258.319 2042.91 264.082 Z\" fill=\"#000000\" fill-rule=\"nonzero\" fill-opacity=\"1\" /><path clip-path=\"url(#clip890)\" d=\"M2069.04 262.138 L2073.92 262.138 L2073.92 268.018 L2069.04 268.018 L2069.04 262.138 Z\" fill=\"#000000\" fill-rule=\"nonzero\" fill-opacity=\"1\" /><path clip-path=\"url(#clip890)\" d=\"M2094.11 236.536 Q2090.5 236.536 2088.67 240.101 Q2086.86 243.643 2086.86 250.772 Q2086.86 257.879 2088.67 261.444 Q2090.5 264.985 2094.11 264.985 Q2097.74 264.985 2099.55 261.444 Q2101.38 257.879 2101.38 250.772 Q2101.38 243.643 2099.55 240.101 Q2097.74 236.536 2094.11 236.536 M2094.11 232.833 Q2099.92 232.833 2102.98 237.439 Q2106.05 242.022 2106.05 250.772 Q2106.05 259.499 2102.98 264.106 Q2099.92 268.689 2094.11 268.689 Q2088.3 268.689 2085.22 264.106 Q2082.17 259.499 2082.17 250.772 Q2082.17 242.022 2085.22 237.439 Q2088.3 232.833 2094.11 232.833 Z\" fill=\"#000000\" fill-rule=\"nonzero\" fill-opacity=\"1\" /><path clip-path=\"url(#clip890)\" d=\"M2135.85 253.99 L2135.85 256.073 L2116.26 256.073 Q2116.54 260.471 2118.9 262.786 Q2121.29 265.078 2125.52 265.078 Q2127.98 265.078 2130.27 264.476 Q2132.58 263.874 2134.85 262.67 L2134.85 266.698 Q2132.56 267.67 2130.15 268.18 Q2127.74 268.689 2125.27 268.689 Q2119.06 268.689 2115.43 265.078 Q2111.82 261.467 2111.82 255.309 Q2111.82 248.944 2115.24 245.217 Q2118.69 241.467 2124.53 241.467 Q2129.76 241.467 2132.79 244.846 Q2135.85 248.203 2135.85 253.99 M2131.59 252.74 Q2131.54 249.245 2129.62 247.161 Q2127.72 245.078 2124.57 245.078 Q2121.01 245.078 2118.85 247.092 Q2116.73 249.106 2116.4 252.763 L2131.59 252.74 Z\" fill=\"#000000\" fill-rule=\"nonzero\" fill-opacity=\"1\" /><path clip-path=\"url(#clip890)\" d=\"M2154.02 248.874 Q2150.87 248.874 2149.02 251.027 Q2147.19 253.18 2147.19 256.93 Q2147.19 260.656 2149.02 262.832 Q2150.87 264.985 2154.02 264.985 Q2157.16 264.985 2158.99 262.832 Q2160.85 260.656 2160.85 256.93 Q2160.85 253.18 2158.99 251.027 Q2157.16 248.874 2154.02 248.874 M2163.3 234.221 L2163.3 238.481 Q2161.54 237.647 2159.73 237.208 Q2157.95 236.768 2156.19 236.768 Q2151.56 236.768 2149.11 239.893 Q2146.68 243.018 2146.33 249.337 Q2147.7 247.323 2149.76 246.258 Q2151.82 245.17 2154.29 245.17 Q2159.5 245.17 2162.51 248.342 Q2165.54 251.49 2165.54 256.93 Q2165.54 262.254 2162.4 265.471 Q2159.25 268.689 2154.02 268.689 Q2148.02 268.689 2144.85 264.106 Q2141.68 259.499 2141.68 250.772 Q2141.68 242.578 2145.57 237.717 Q2149.46 232.833 2156.01 232.833 Q2157.77 232.833 2159.55 233.18 Q2161.35 233.527 2163.3 234.221 Z\" fill=\"#000000\" fill-rule=\"nonzero\" fill-opacity=\"1\" /><circle clip-path=\"url(#clip890)\" cx=\"1939.65\" cy=\"302.578\" r=\"20.48\" fill=\"#c271d2\" fill-rule=\"evenodd\" fill-opacity=\"1\" stroke=\"#000000\" stroke-opacity=\"1\" stroke-width=\"4.55111\"/>\n",
       "<path clip-path=\"url(#clip890)\" d=\"M2051.12 322.265 Q2049.32 326.895 2047.61 328.307 Q2045.89 329.719 2043.02 329.719 L2039.62 329.719 L2039.62 326.154 L2042.12 326.154 Q2043.88 326.154 2044.85 325.32 Q2045.82 324.487 2047 321.385 L2047.77 319.441 L2037.28 293.932 L2041.8 293.932 L2049.9 314.209 L2058 293.932 L2062.51 293.932 L2051.12 322.265 Z\" fill=\"#000000\" fill-rule=\"nonzero\" fill-opacity=\"1\" /><path clip-path=\"url(#clip890)\" d=\"M2081.84 289.372 L2070.04 307.821 L2081.84 307.821 L2081.84 289.372 M2080.61 285.298 L2086.49 285.298 L2086.49 307.821 L2091.42 307.821 L2091.42 311.709 L2086.49 311.709 L2086.49 319.858 L2081.84 319.858 L2081.84 311.709 L2066.24 311.709 L2066.24 307.196 L2080.61 285.298 Z\" fill=\"#000000\" fill-rule=\"nonzero\" fill-opacity=\"1\" /></svg>\n"
      ]
     },
     "metadata": {},
     "output_type": "display_data"
    }
   ],
   "source": [
    "pressure_core_list = [0.1e6, 1.0e6, 2.0e6]\n",
    "#pressure_core_list = [0.5e6]\n",
    "dd_list = Vector{Any}([])\n",
    "err_list = Vector{Any}([])\n",
    "T0_list = Vector{Any}([])\n",
    "\n",
    "P = plot()\n",
    "\n",
    "for pressure_core in pressure_core_list\n",
    "    ini0 = deepcopy(ini)\n",
    "    act0 = deepcopy(act)\n",
    "\n",
    "    ini0.equilibrium.pressure_core = pressure_core\n",
    "\n",
    "    dd0 = IMAS.dd();\n",
    "\n",
    "    # run FUSE.init\n",
    "    FUSE.init(dd0, ini0, act0; do_plot=false);\n",
    "    # run HCD to get updated current drive\n",
    "    FUSE.ActorHCD(dd0, act0);\n",
    "    # evolve j_ohmic\n",
    "    FUSE.ActorCurrent(dd0, act0);\n",
    "\n",
    "    # assign TAUENN parameters\n",
    "    par = act0.ActorTauenn\n",
    "    parameters = TAUENN.TauennParameters(;\n",
    "            par.error,\n",
    "            par.eped_factor,\n",
    "            par.rho_fluxmatch,\n",
    "            par.T_shaping,\n",
    "            par.T_ratio_pedestal,\n",
    "            par.transport_model,\n",
    "            par.confinement_factor,\n",
    "            par.warn_nn_train_bounds,\n",
    "            par.update_pedestal,\n",
    "            par.eped_only_powerlaw)\n",
    "\n",
    "    # define T0 scan\n",
    "    T0_scan = LinRange(1e3,100e3,100)\n",
    "\n",
    "    # calculate flux error over T0 scan\n",
    "    err_scan = []\n",
    "    for T0 in T0_scan\n",
    "            err = TAUENN.get_flux_error(dd0, parameters, T0)\n",
    "            append!(err_scan, [err])\n",
    "    end\n",
    "    \n",
    "    # run tau_enn optimizer\n",
    "    tauenn_out = TAUENN.tau_enn(dd0, parameters, verbose=true, algorithm=:NelderMead)\n",
    "    append!(dd_list, [tauenn_out.dd])\n",
    "    append!(err_list, [tauenn_out.error])\n",
    "    append!(T0_list, [tauenn_out.dd.core_profiles.profiles_1d[].electrons.temperature[1]])\n",
    "    \n",
    "    # plot\n",
    "    plot!(P,T0_scan/1e3, abs.(err_scan), label=pressure_core)\n",
    "\n",
    "end\n",
    "\n",
    "scatter!(P,T0_list/1e3,err_list)\n",
    "\n",
    "display(P)"
   ]
  },
  {
   "cell_type": "code",
   "execution_count": 6,
   "metadata": {
    "tags": []
   },
   "outputs": [
    {
     "data": {
      "text/plain": [
       "53262.375039889936"
      ]
     },
     "execution_count": 6,
     "metadata": {},
     "output_type": "execute_result"
    }
   ],
   "source": [
    "dd_list[1].\n",
    "\n",
    "core_profiles.profiles_1d[].electrons.temperature[1]"
   ]
  },
  {
   "cell_type": "code",
   "execution_count": null,
   "metadata": {},
   "outputs": [],
   "source": []
  }
 ],
 "metadata": {
  "kernelspec": {
   "display_name": "Julia 1.8.5",
   "language": "julia",
   "name": "julia-1.8"
  },
  "language_info": {
   "file_extension": ".jl",
   "mimetype": "application/julia",
   "name": "julia",
   "version": "1.8.5"
  }
 },
 "nbformat": 4,
 "nbformat_minor": 4
}
