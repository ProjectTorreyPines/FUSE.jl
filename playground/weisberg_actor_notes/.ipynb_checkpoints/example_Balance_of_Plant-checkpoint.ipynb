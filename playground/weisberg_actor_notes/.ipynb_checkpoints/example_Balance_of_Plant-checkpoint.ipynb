{
 "cells": [
  {
   "cell_type": "markdown",
   "id": "c8eec54b-2533-4791-bd01-5745effb72bf",
   "metadata": {},
   "source": [
    "# Balance of plant"
   ]
  },
  {
   "cell_type": "code",
   "execution_count": null,
   "id": "cc559b9e-0829-473f-bdc1-08bfb84dacca",
   "metadata": {
    "tags": []
   },
   "outputs": [],
   "source": [
    "using Revise\n",
    "using FUSE\n",
    "using Plots;\n",
    "FUSE.logging(Logging.Info; actors=Logging.Debug);"
   ]
  },
  {
   "cell_type": "markdown",
   "id": "09535cb8-9230-43b5-a113-e2cd63664a6a",
   "metadata": {},
   "source": [
    "### Initialize FPP v1_demount case\n",
    "[FPP v1 demount case documentation](https://fuse.help/cases.html#FPP)"
   ]
  },
  {
   "cell_type": "code",
   "execution_count": null,
   "id": "9efc3773-e08b-4229-a8c7-2dd70c729143",
   "metadata": {
    "tags": []
   },
   "outputs": [],
   "source": [
    "ini, act = FUSE.case_parameters(:FPP; version=:v1_demount, init_from=:scalars);\n",
    "dd = FUSE.init(ini, act; do_plot=false);"
   ]
  },
  {
   "cell_type": "markdown",
   "id": "8b364030-898b-41ce-8776-7bf4c096b3af",
   "metadata": {},
   "source": [
    "### Run Actors that will be needed for balance of plant"
   ]
  },
  {
   "cell_type": "code",
   "execution_count": null,
   "id": "3b4fab4a-9600-4ec8-8026-b52419464451",
   "metadata": {
    "tags": []
   },
   "outputs": [],
   "source": [
    "FUSE.ActorNeutronics(dd, act; do_plot=false)\n",
    "FUSE.ActorDivertors(dd, act)\n",
    "FUSE.ActorBlanket(dd, act);"
   ]
  },
  {
   "cell_type": "markdown",
   "id": "da6ce578-1373-40fd-bf4b-1d7ef36baabe",
   "metadata": {},
   "source": [
    "### Running the simple brayton cycle\n",
    "Run the balance of plant actor, with for the simple case of \"brayton only\", this is a generalized power cycle which does not optimize itself depending on the configuration"
   ]
  },
  {
   "cell_type": "code",
   "execution_count": null,
   "id": "ba341eb3-3681-4628-91e3-a0f4cebebc4f",
   "metadata": {
    "tags": []
   },
   "outputs": [],
   "source": [
    "empty!(dd.balance_of_plant)\n",
    "act.ActorThermalCycle.power_cycle_type=:brayton_only\n",
    "FUSE.ActorBalanceOfPlant(dd, act; do_plot=true)\n",
    "display(IMAS.freeze(dd.balance_of_plant))"
   ]
  },
  {
   "cell_type": "markdown",
   "id": "87aa53d7-6103-4e09-b50f-e62f422a97c9",
   "metadata": {
    "tags": []
   },
   "source": [
    "### Running the complex_brayton file\n",
    "[ActorBalanceOfPlant documentation](https://fuse.help/actors.html#BalanceOfPlant)\n",
    "Run the balance of plant with the model \"complex_brayton\". This configuration modifies the component order and operating temperatures to minimize the heat waste. For this case, the complex_brayton model has a thermal effeciency of 45%. \n",
    "This model relies on high operating temperatures"
   ]
  },
  {
   "cell_type": "code",
   "execution_count": null,
   "id": "43275371-4f84-4151-b406-728bb4c8e0db",
   "metadata": {
    "tags": []
   },
   "outputs": [],
   "source": [
    "empty!(dd.balance_of_plant)\n",
    "act.ActorThermalCycle.power_cycle_type=:complex_brayton\n",
    "FUSE.ActorBalanceOfPlant(dd, act; do_plot = true);\n",
    "display(IMAS.freeze(dd.balance_of_plant))"
   ]
  },
  {
   "cell_type": "markdown",
   "id": "d4b1a818-c1cb-4707-b01c-331f0e681bf0",
   "metadata": {},
   "source": [
    "## Power scan for different power cycles\n",
    "\n",
    "Basic fusion power scan that only runs the ActorBalanceOfPlant, to see what is the break-even point for the different power cycles that we support. This scan knows nothing about the plasma, it only cares about the thermal power that is extracted at the blanket and divertors."
   ]
  },
  {
   "cell_type": "code",
   "execution_count": null,
   "id": "675b34f9-ea3c-4825-82fd-678c3ff383f2",
   "metadata": {},
   "outputs": [],
   "source": [
    "act = FUSE.ParametersActors()\n",
    "dd = IMAS.dd()\n",
    "\n",
    "# minimal initialization to run ActorBalanceOfPlant\n",
    "dd.core_profiles.time = [0.0]\n",
    "resize!(dd.blanket.module, 1)\n",
    "resize!(dd.blanket.module[1].time_slice)\n",
    "dd.blanket.module[1].time_slice[].power_thermal_extracted = 0.0\n",
    "resize!(dd.divertors.divertor, 1)\n",
    "@ddtime dd.divertors.divertor[1].power_incident.data = 0.0\n",
    "\n",
    "# assume 80% on blanket and rest on divertors\n",
    "blanket_div_ratio = 0.8\n",
    "\n",
    "# extent of the scan\n",
    "POW = LinRange(6, 9, 100)\n",
    "\n",
    "# run and plot\n",
    "p=plot()\n",
    "for cycle_type in [:brayton_only, :complex_brayton]#, :rankine_only\n",
    "    \n",
    "    Penet = Float64[]\n",
    "    Ppump = Float64[]\n",
    "    act.ActorThermalCycle.power_cycle_type=cycle_type\n",
    "    for pow in POW\n",
    "        dd.blanket.module[1].time_slice[].power_thermal_extracted = 10^(pow) * blanket_div_ratio\n",
    "        @ddtime dd.divertors.divertor[1].power_incident.data = 10^(pow) * (1.0 - blanket_div_ratio)\n",
    "        FUSE.ActorBalanceOfPlant(dd, act)\n",
    "        push!(Penet, dd.balance_of_plant.power_electric_net[1])\n",
    "        push!(Ppump, findfirst(:pumping, dd.balance_of_plant.power_electric_plant_operation.system).power[1])\n",
    "    end\n",
    "\n",
    "    pow0 = POW[argmin(abs.(Penet))]\n",
    "    plot!(p, 10.0 .^ POW, Penet, xscale=:log10, label=\"$cycle_type $(round(10^pow0/1E6)) MW\",\n",
    "        xlabel=\"Power thermal extracted [W]\", ylabel=\"Power_electric net [W]\",legend=:topleft)\n",
    "    #plot!(p, 10.0 .^ POW, -Ppump, primary=false)\n",
    "    vline!(p, [10^pow0], label=\"\", primary=false, ls=:dash)\n",
    "end\n",
    "hline!(p, [0.0], label=\"\", color=:black)"
   ]
  }
 ],
 "metadata": {
  "@webio": {
   "lastCommId": "6db3c963-80f4-4c31-8dc1-af34cc4374a9",
   "lastKernelId": "a8eadc22-d005-4ac6-ad4c-31258a226941"
  },
  "kernelspec": {
   "display_name": "Julia 1.8.5",
   "language": "julia",
   "name": "julia-1.8"
  },
  "language_info": {
   "file_extension": ".jl",
   "mimetype": "application/julia",
   "name": "julia",
   "version": "1.8.5"
  }
 },
 "nbformat": 4,
 "nbformat_minor": 5
}
