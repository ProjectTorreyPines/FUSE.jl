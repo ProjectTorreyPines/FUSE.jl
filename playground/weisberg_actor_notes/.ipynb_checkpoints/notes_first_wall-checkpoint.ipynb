{
 "cells": [
  {
   "cell_type": "markdown",
   "id": "08f79aaf-8070-4799-bb00-bd32035440f7",
   "metadata": {},
   "source": [
    "# First Wall notes"
   ]
  },
  {
   "cell_type": "code",
   "execution_count": 1,
   "id": "0cb522f5-a177-441d-8350-874dbdfcfd2b",
   "metadata": {
    "tags": []
   },
   "outputs": [
    {
     "name": "stderr",
     "output_type": "stream",
     "text": [
      "WARNING: redefinition of constant UNIT_FORMATS. This may fail, cause incorrect answers, or produce other errors.\n"
     ]
    }
   ],
   "source": [
    "using Revise\n",
    "using FUSE\n",
    "using IMAS\n",
    "using Plots;\n",
    "FUSE.logging(Logging.Info);"
   ]
  },
  {
   "cell_type": "markdown",
   "id": "da211133-82b8-46cd-8874-66a51d46424f",
   "metadata": {},
   "source": [
    "## Compare FW build in double-null and single-null equilibria"
   ]
  },
  {
   "cell_type": "code",
   "execution_count": null,
   "id": "55f5c1a1-78e8-4421-aa16-5ab4ae6e2446",
   "metadata": {
    "tags": []
   },
   "outputs": [],
   "source": [
    "# CHEASE deadstart Miller for custom single-null equilibrium\n",
    "dd = IMAS.dd()\n",
    "ini, act = FUSE.case_parameters(:FPP, version=:v1_demount, init_from=:scalars);\n",
    "act.ActorEquilibrium.model = :CHEASE\n",
    "act.ActorEquilibrium.symmetrize = false\n",
    "act.ActorCHEASE.free_boundary = true\n",
    "act.ActorCXbuild.rebuild_wall = true\n",
    "\n",
    "ini.equilibrium.R0 = missing # 5.0\n",
    "ini.equilibrium.B0 = 5.0\n",
    "ini.equilibrium.ϵ = missing # 1/3.5\n",
    "ini.equilibrium.κ = missing # 2.1\n",
    "ini.equilibrium.δ = missing # 0.6\n",
    "ini.equilibrium.ζ = missing # 0.0\n",
    "\n",
    "ini.build.plasma_gap = 0.01\n",
    "ini.build.symmetric = missing\n",
    "\n",
    "mhx_order = 4\n",
    "R0 = 5.0\n",
    "eps = 1/3.5\n",
    "a = R0*eps\n",
    "kapu = 2.0\n",
    "kapl = 2.2\n",
    "delu = 0.5\n",
    "dell = 0.7\n",
    "zetaou = -0.0\n",
    "zetaol = -0.2\n",
    "zetaiu = -0.0\n",
    "zetail = -0.2\n",
    "upnull = false\n",
    "lonull = false\n",
    "\n",
    "r, z, zref = try\n",
    "    IMAS.boundary_shape(; a, eps, kapu, kapl, delu, dell, zetaou, zetaiu, zetaol, zetail, zoffset=0.0, upnull, lonull)\n",
    "catch e\n",
    "    [NaN], [NaN], [NaN]\n",
    "end\n",
    "\n",
    "mxh = IMAS.MXH(r, z, mhx_order)\n",
    "mxh_vect = IMAS.flat_coeffs(mxh)\n",
    "\n",
    "ini.equilibrium.boundary_from = :MXH_params\n",
    "ini.equilibrium.MXH_params = mxh_vect\n",
    "ini.equilibrium.xpoints_number = 1\n",
    "\n",
    "dd_sn = IMAS.dd()\n",
    "@time FUSE.init(dd_sn, ini, act; do_plot=false);\n",
    "FUSE.digest(dd_sn);"
   ]
  },
  {
   "cell_type": "code",
   "execution_count": null,
   "id": "4c964474-671a-40e7-b401-2052ec1c17ed",
   "metadata": {},
   "outputs": [],
   "source": [
    "# CHEASE deadstart Miller for custom double-null equilibrium\n",
    "dd = IMAS.dd()\n",
    "ini, act = FUSE.case_parameters(:FPP, version=:v1_demount, init_from=:scalars);\n",
    "act.ActorEquilibrium.model = :CHEASE\n",
    "act.ActorEquilibrium.symmetrize = true\n",
    "act.ActorCHEASE.free_boundary = true\n",
    "act.ActorCXbuild.rebuild_wall = true\n",
    "\n",
    "ini.equilibrium.R0 = missing # 5.0\n",
    "ini.equilibrium.B0 = 5.0\n",
    "ini.equilibrium.ϵ = missing # 1/3.5\n",
    "ini.equilibrium.κ = missing # 2.1\n",
    "ini.equilibrium.δ = missing # 0.6\n",
    "ini.equilibrium.ζ = missing # 0.0\n",
    "\n",
    "ini.build.plasma_gap = 0.01\n",
    "ini.build.symmetric = missing\n",
    "\n",
    "mhx_order = 4\n",
    "R0 = 5.0\n",
    "eps = 1/3.5\n",
    "a = R0*eps\n",
    "kapu = 2.15\n",
    "kapl = 2.15\n",
    "delu = 0.7\n",
    "dell = 0.7\n",
    "zetaou = -0.0\n",
    "zetaol = -0.2\n",
    "zetaiu = -0.0\n",
    "zetail = -0.2\n",
    "upnull = false\n",
    "lonull = false\n",
    "\n",
    "r, z, zref = try\n",
    "    IMAS.boundary_shape(; a, eps, kapu, kapl, delu, dell, zetaou, zetaiu, zetaol, zetail, zoffset=0.0, upnull, lonull)\n",
    "catch e\n",
    "    [NaN], [NaN], [NaN]\n",
    "end\n",
    "\n",
    "mxh = IMAS.MXH(r, z, mhx_order)\n",
    "mxh_vect = IMAS.flat_coeffs(mxh)\n",
    "\n",
    "ini.equilibrium.boundary_from = :MXH_params\n",
    "ini.equilibrium.MXH_params = mxh_vect\n",
    "ini.equilibrium.xpoints_number = 2\n",
    "\n",
    "dd_dn = IMAS.dd()\n",
    "@time FUSE.init(dd_dn, ini, act; do_plot=false);\n",
    "FUSE.digest(dd_dn);"
   ]
  }
 ],
 "metadata": {
  "kernelspec": {
   "display_name": "Julia (20 threads) 1.8.5",
   "language": "julia",
   "name": "julia-_20-threads_-1.8"
  },
  "language_info": {
   "file_extension": ".jl",
   "mimetype": "application/julia",
   "name": "julia",
   "version": "1.8.5"
  }
 },
 "nbformat": 4,
 "nbformat_minor": 5
}
