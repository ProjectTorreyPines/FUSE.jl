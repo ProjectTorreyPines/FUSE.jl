{
 "cells": [
  {
   "cell_type": "markdown",
   "id": "4deaa32e-7305-4f56-b406-41659192f109",
   "metadata": {},
   "source": [
    "# Stresses"
   ]
  },
  {
   "cell_type": "code",
   "execution_count": null,
   "id": "135a182b-acd4-429a-9c81-988e8eff77b5",
   "metadata": {},
   "outputs": [],
   "source": [
    "using Revise\n",
    "using FUSE\n",
    "using Plots;\n",
    "FUSE.logging(Logging.Info);"
   ]
  },
  {
   "cell_type": "markdown",
   "id": "adb39907-abbd-462e-9739-adecfedf6fda",
   "metadata": {},
   "source": [
    "### Initialize FPP v1_demount case\n",
    "[FPP v1 demount case documentation](https://fuse.help/cases.html#FPP)"
   ]
  },
  {
   "cell_type": "code",
   "execution_count": null,
   "id": "56846680-3331-44ad-bfcf-4ac0f43dc90c",
   "metadata": {},
   "outputs": [],
   "source": [
    "ini, act = FUSE.case_parameters(:FPP, version=:v1_demount, init_from=:scalars);"
   ]
  },
  {
   "cell_type": "code",
   "execution_count": null,
   "id": "6641a908-fb7d-4fe2-97c3-a0844524cb23",
   "metadata": {},
   "outputs": [],
   "source": [
    "# FPP TF and OH are free-standing\n",
    "ini.center_stack"
   ]
  },
  {
   "cell_type": "code",
   "execution_count": null,
   "id": "14ebfb2f-69d6-4aa6-b5f9-cbd9cc6c3f2b",
   "metadata": {},
   "outputs": [],
   "source": [
    "# Here is the radial build\n",
    "ini.build.layers"
   ]
  },
  {
   "cell_type": "code",
   "execution_count": null,
   "id": "a639a796-5c98-4c39-8f8b-a6bca1ff3502",
   "metadata": {},
   "outputs": [],
   "source": [
    "# remove gap between TF and OH, so that we can buck them together\n",
    "pop!(ini.build.layers, \"gap_TF_OH\");\n",
    "ini.build.layers"
   ]
  },
  {
   "cell_type": "code",
   "execution_count": null,
   "id": "76896b7e-66d8-4932-9c92-a9965e71afcb",
   "metadata": {},
   "outputs": [],
   "source": [
    "# initialize\n",
    "dd = FUSE.init(ini, act);"
   ]
  },
  {
   "cell_type": "code",
   "execution_count": null,
   "id": "c72d118b-2577-41e3-bda0-39443e0758c9",
   "metadata": {},
   "outputs": [],
   "source": [
    "# print the radial build as a table\n",
    "display(dd.build.layer)\n",
    "# plot the radial build (OH and hfs TF are touching)\n",
    "plot(dd.build; cx=false)"
   ]
  },
  {
   "cell_type": "markdown",
   "id": "e5ff3f13-eb83-4354-a322-2b28d86f7d1a",
   "metadata": {},
   "source": [
    "### Run some of the actors needed to evaluate the stresses"
   ]
  },
  {
   "cell_type": "code",
   "execution_count": null,
   "id": "01137619-2731-41bf-bb16-0909790db9d0",
   "metadata": {},
   "outputs": [],
   "source": [
    "FUSE.ActorEquilibriumTransport(dd, act)\n",
    "FUSE.ActorFluxSwing(dd, act);"
   ]
  },
  {
   "cell_type": "markdown",
   "id": "16bf327a-0b0f-48a3-8f58-3612387e2ea1",
   "metadata": {},
   "source": [
    "### Run the Stresses actor\n",
    "[ActorStresses documentation](https://fuse.help/actors.html#Stresses)"
   ]
  },
  {
   "cell_type": "code",
   "execution_count": null,
   "id": "820ad8a0-369c-4760-bc26-e370d1244ec9",
   "metadata": {},
   "outputs": [],
   "source": [
    "act.ActorStresses.n_points = 51\n",
    "\n",
    "dd.solid_mechanics.center_stack.plug = 0\n",
    "dd.solid_mechanics.center_stack.bucked = 0\n",
    "dd.solid_mechanics.center_stack.noslip = 0\n",
    "\n",
    "plot(size=(800, 500))\n",
    "\n",
    "# free standing\n",
    "FUSE.ActorStresses(dd, act)\n",
    "plot!(dd.solid_mechanics.center_stack.stress, color=:blue)\n",
    "\n",
    "# add bucking\n",
    "dd.solid_mechanics.center_stack.bucked = 1\n",
    "FUSE.ActorStresses(dd, act)\n",
    "plot!(dd.solid_mechanics.center_stack.stress, color=:red)\n",
    "\n",
    "# add plug\n",
    "dd.solid_mechanics.center_stack.plug = 1\n",
    "FUSE.ActorStresses(dd, act)\n",
    "plot!(dd.solid_mechanics.center_stack.stress, color=:green)"
   ]
  }
 ],
 "metadata": {
  "kernelspec": {
   "display_name": "Julia 1.8.0-rc3",
   "language": "julia",
   "name": "julia-1.8"
  },
  "language_info": {
   "file_extension": ".jl",
   "mimetype": "application/julia",
   "name": "julia",
   "version": "1.7.3"
  }
 },
 "nbformat": 4,
 "nbformat_minor": 5
}
