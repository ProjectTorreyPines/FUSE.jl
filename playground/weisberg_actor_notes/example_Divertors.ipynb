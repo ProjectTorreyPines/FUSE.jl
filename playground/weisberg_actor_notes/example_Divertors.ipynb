{
 "cells": [
  {
   "cell_type": "markdown",
   "id": "c8eec54b-2533-4791-bd01-5745effb72bf",
   "metadata": {},
   "source": [
    "# Divertors"
   ]
  },
  {
   "cell_type": "code",
   "execution_count": null,
   "id": "cc559b9e-0829-473f-bdc1-08bfb84dacca",
   "metadata": {
    "tags": []
   },
   "outputs": [],
   "source": [
    "using Revise\n",
    "using FUSE\n",
    "using Plots;\n",
    "FUSE.logging(Logging.Info);"
   ]
  },
  {
   "cell_type": "markdown",
   "id": "09535cb8-9230-43b5-a113-e2cd63664a6a",
   "metadata": {},
   "source": [
    "### Initialize the ITER case case\n",
    "[ITER case documentation](https://fuse.help/cases.html#ITER)"
   ]
  },
  {
   "cell_type": "code",
   "execution_count": null,
   "id": "ee3ef8e6-dec8-4b7d-a594-efd8e06327d2",
   "metadata": {
    "tags": []
   },
   "outputs": [],
   "source": [
    "dd, ini, act = FUSE.init(:ITER, init_from=:ods, do_plot=true);"
   ]
  },
  {
   "cell_type": "markdown",
   "id": "8b364030-898b-41ce-8776-7bf4c096b3af",
   "metadata": {},
   "source": [
    "### Run Actors that will be needed for the Divertors"
   ]
  },
  {
   "cell_type": "code",
   "execution_count": null,
   "id": "3b4fab4a-9600-4ec8-8026-b52419464451",
   "metadata": {
    "tags": []
   },
   "outputs": [],
   "source": [
    "FUSE.ActorEquilibriumTransport(dd, act);\n",
    "FUSE.ActorCXbuild(dd, act)\n",
    "FUSE.ActorNeutronics(dd, act; do_plot=true);"
   ]
  },
  {
   "cell_type": "markdown",
   "id": "87aa53d7-6103-4e09-b50f-e62f422a97c9",
   "metadata": {},
   "source": [
    "### Running the divertors actor\n",
    "[ActorDivertors documentation](https://fuse.help/actors.html#Divertors)"
   ]
  },
  {
   "cell_type": "code",
   "execution_count": null,
   "id": "43275371-4f84-4151-b406-728bb4c8e0db",
   "metadata": {},
   "outputs": [],
   "source": [
    "FUSE.ActorDivertors(dd, act)\n",
    "dd.divertors"
   ]
  },
  {
   "cell_type": "markdown",
   "id": "da6ce578-1373-40fd-bf4b-1d7ef36baabe",
   "metadata": {},
   "source": [
    "### Some divertor metrics that should be implemented"
   ]
  },
  {
   "cell_type": "code",
   "execution_count": null,
   "id": "862b8cd8-0615-4762-9251-67024be420d5",
   "metadata": {},
   "outputs": [],
   "source": [
    "# Divertor gasc\n",
    "\n",
    "IMAS.widthSOL_eich(dd)\n",
    "\n",
    "# Outputs: \n",
    "#        OUT[\"divertor metrics\"] dict:\n",
    "#        \"widthSOL\"\n",
    "#        \"PR\",\n",
    "#        \"PBR\",\n",
    "#        \"PBpR\",\n",
    "#        \"heatFluxParallel\",\n",
    "#        \"heatFluxPoloidal\",\n",
    "#        \"divDeliveredHeatFlux\",\n",
    "#        \"qdivPeak\",\n",
    "#        \"divRadFraction\",\n",
    "\n",
    "eq = dd.equilibrium\n",
    "eqt = eq.time_slice[]\n",
    "eq1d = eqt.profiles_1d\n",
    "cp1d = dd.core_profiles.profiles_1d[]\n",
    "\n",
    "major_radius = eqt.boundary.geometric_axis.r\n",
    "minor_radius = eqt.boundary.minor_radius\n",
    "aspect_ratio = major_radius / minor_radius\n",
    "power_SOL = IMAS.total_power_source(IMAS.total_sources(dd))\n",
    "power_SOL = 219.9e6\n",
    "Bpol_average = eqt.global_quantities.ip * (4.0 * pi * 1e-7) / eqt.global_quantities.length_pol\n",
    "\n",
    "widthSOL = 1.35e-3 * (power_SOL / 1e6)^(-0.02) * major_radius^0.04 * Bpol_average^(-0.92) * aspect_ratio^(-0.42) # Eich scaling (NF 53 093031)\n",
    "\n",
    "divRadFraction = 0.004482781088966957  # is small just took the GASC calculated value\n",
    "\n",
    "divOBQFraction = 0.8 # Fraction of total power_SOL directed to the outer strike point(s) 0.8 is gasc assumption\n",
    "\n",
    "if length(dd.divertors.divertor) == 2\n",
    "    divVertQFraction = 0.5  # Fraction of total power_SOL directed to the upper divertor (assumed to be the divertor with the larger heat flux due to gradB drifts, slight unbalance in dRsep, etc.)\n",
    "else\n",
    "    divVertQFraction = 1.0\n",
    "end\n",
    "\n",
    "divPoloidalFluxExpansion = 1.0 # \"Poloidal flux expansion factor between outboard midplane and divertor targets\", gasc_standard = 1.0\n",
    "divPoloidalFieldLineAngle = 10 # \"Angle between poloidal field and divertor plate at footprint\" gasc standard = 10 deg\n",
    "divTotFieldLineAngle = 3.0# \"Total tilt angle between edge field and divertor plate at footprint\" default = 3.0 deg\n",
    "diverter_wetted_area = 2 * pi * (major_radius - 0.5 * minor_radius) * widthSOL * divPoloidalFluxExpansion / sin(divPoloidalFieldLineAngle / 180.0 * pi)\n",
    "divRadArea = 2 * pi * (major_radius - 0.5 * minor_radius) * minor_radius\n",
    "\n",
    "qdivPeak = power_SOL * divVertQFraction * divOBQFraction * ((1 - divRadFraction) / diverter_wetted_area + divRadFraction / divRadArea)\n",
    "\n",
    "\n",
    "\n",
    "# calc heat fluxes at outboard midplane\n",
    "heatFluxPoloidal = power_SOL / (2.0 * pi * (major_radius + minor_radius) * length(dd.divertors.divertor) * widthSOL)\n",
    "heatFluxParallel = heatFluxPoloidal * eqt.global_quantities.magnetic_axis.b_field_tor / Bpol_average\n",
    "\n",
    "\n",
    "# calculate unmitigated heat flux at divertor target (no radiation, no flux expansion)\n",
    "divDeliveredHeatFlux = heatFluxParallel * sin(divTotFieldLineAngle * pi / 180.0)\n",
    "\n",
    "@show widthSOL, power_SOL / 1e6, qdivPeak / 1e6, divDeliveredHeatFlux / 1e6, \"MW/m^2\"\n",
    "@show diverter_wetted_area * divDeliveredHeatFlux / 1e6\n",
    "\"\"\"\n",
    "     \"power_SOL\": 219.92776950858612,\n",
    "     \"widthSOL\": 0.0009726739483561888,\n",
    "     \"PR\": 45.58624844119182,\n",
    "     \"PBR\": 214.85581559316367,\n",
    "     \"PBpR\": 34.99428003654665,\n",
    "     \"heatFluxParallel\": 17809.933014915052,\n",
    "     \"heatFluxPoloidal\": 2900.7629215688094,\n",
    "     \"divDeliveredHeatFlux\": 932.0998749583548,\n",
    "     \"qdivPeak\": 601.7560074909352,\n",
    "     \"divRadFraction\": 0.004482781088966957\n",
    "\n",
    "    \"divRadFraction\": 0.004482781088966957\n",
    "     \"magneticPoloidalField\": 0.7676499214821493,\n",
    "\n",
    "\"\"\";\n",
    "\n",
    "# divDeliveredHeatFlux, heatFluxParallel, \n"
   ]
  }
 ],
 "metadata": {
  "@webio": {
   "lastCommId": "94e16e9b-1bc9-4cb0-8211-7c26a9e9c3a5",
   "lastKernelId": "22682f81-af15-4f81-bd21-08647014ef9b"
  },
  "kernelspec": {
   "display_name": "Julia 1.8.2",
   "language": "julia",
   "name": "julia-1.8"
  },
  "language_info": {
   "file_extension": ".jl",
   "mimetype": "application/julia",
   "name": "julia",
   "version": "1.8.2"
  }
 },
 "nbformat": 4,
 "nbformat_minor": 5
}
