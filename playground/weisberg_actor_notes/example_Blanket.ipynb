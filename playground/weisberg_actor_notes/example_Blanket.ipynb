{
 "cells": [
  {
   "cell_type": "markdown",
   "id": "c8eec54b-2533-4791-bd01-5745effb72bf",
   "metadata": {},
   "source": [
    "# Blanket"
   ]
  },
  {
   "cell_type": "code",
   "execution_count": null,
   "id": "cc559b9e-0829-473f-bdc1-08bfb84dacca",
   "metadata": {
    "tags": []
   },
   "outputs": [],
   "source": [
    "using Revise\n",
    "using FUSE\n",
    "using Plots;\n",
    "FUSE.logging(Logging.Info);"
   ]
  },
  {
   "cell_type": "markdown",
   "id": "09535cb8-9230-43b5-a113-e2cd63664a6a",
   "metadata": {},
   "source": [
    "### Initialize case"
   ]
  },
  {
   "cell_type": "code",
   "execution_count": null,
   "id": "ee3ef8e6-dec8-4b7d-a594-efd8e06327d2",
   "metadata": {
    "tags": []
   },
   "outputs": [],
   "source": [
    "ini, act = FUSE.case_parameters(:FPP; version=:v1_demount, init_from=:scalars);\n",
    "dd = FUSE.init(ini, act; do_plot=false);"
   ]
  },
  {
   "cell_type": "markdown",
   "id": "8b364030-898b-41ce-8776-7bf4c096b3af",
   "metadata": {},
   "source": [
    "### Run Neutronics actors"
   ]
  },
  {
   "cell_type": "code",
   "execution_count": null,
   "id": "3b4fab4a-9600-4ec8-8026-b52419464451",
   "metadata": {
    "tags": []
   },
   "outputs": [],
   "source": [
    "FUSE.ActorNeutronics(dd, act; do_plot=true);"
   ]
  },
  {
   "cell_type": "markdown",
   "id": "da6ce578-1373-40fd-bf4b-1d7ef36baabe",
   "metadata": {},
   "source": [
    "### Running the blanket actor\n",
    "[ActorBlanket documentation](https://fuse.help/actors.html#Blanket)"
   ]
  },
  {
   "cell_type": "code",
   "execution_count": null,
   "id": "ba341eb3-3681-4628-91e3-a0f4cebebc4f",
   "metadata": {
    "tags": []
   },
   "outputs": [],
   "source": [
    "dd.build.structure\n",
    "act.ActorBlanket.minimum_first_wall_thickness = 0.02\n",
    "FUSE.ActorBlanket(dd, act, verbose=true);\n",
    "dd.blanket"
   ]
  }
 ],
 "metadata": {
  "@webio": {
   "lastCommId": "5c4ae04f-dad6-4e02-b93b-c500445445b6",
   "lastKernelId": "1f1798ce-0c50-4668-9e05-8d84cd51a101"
  },
  "kernelspec": {
   "display_name": "Julia 1.8.5",
   "language": "julia",
   "name": "julia-1.8"
  },
  "language_info": {
   "file_extension": ".jl",
   "mimetype": "application/julia",
   "name": "julia",
   "version": "1.8.5"
  }
 },
 "nbformat": 4,
 "nbformat_minor": 5
}
