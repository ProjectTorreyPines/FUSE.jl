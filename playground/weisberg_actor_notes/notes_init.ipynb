{
 "cells": [
  {
   "cell_type": "markdown",
   "metadata": {},
   "source": [
    "# Notes for FUSE.init"
   ]
  },
  {
   "cell_type": "code",
   "execution_count": 1,
   "metadata": {},
   "outputs": [
    {
     "name": "stderr",
     "output_type": "stream",
     "text": [
      "\u001b[36m\u001b[1m[ \u001b[22m\u001b[39m\u001b[36m\u001b[1mInfo: \u001b[22m\u001b[39mPrecompiling FUSE [e64856f0-3bb8-4376-b4b7-c03396503992]\n",
      "WARNING: redefinition of constant UNIT_FORMATS. This may fail, cause incorrect answers, or produce other errors.\n"
     ]
    }
   ],
   "source": [
    "using Revise\n",
    "using FUSE\n",
    "using IMAS\n",
    "using IMASDD\n",
    "using Printf\n",
    "using Plots;\n",
    "FUSE.logging(Logging.Info);"
   ]
  },
  {
   "cell_type": "markdown",
   "metadata": {},
   "source": [
    "## Load ini and act from FPP v1_demount case"
   ]
  },
  {
   "cell_type": "code",
   "execution_count": 2,
   "metadata": {},
   "outputs": [],
   "source": [
    "ini, act = FUSE.case_parameters(:FPP, version=:v1_demount, init_from=:scalars);"
   ]
  },
  {
   "cell_type": "markdown",
   "metadata": {},
   "source": [
    "## Set ini and act parameters"
   ]
  },
  {
   "cell_type": "code",
   "execution_count": 3,
   "metadata": {},
   "outputs": [
    {
     "data": {
      "text/plain": [
       "86400.0"
      ]
     },
     "execution_count": 3,
     "metadata": {},
     "output_type": "execute_result"
    }
   ],
   "source": [
    "ini.equilibrium.ϵ = 1/3.5\n",
    "ini.equilibrium.κ = 0.8826 # set less than one so that init uses this as the f_kappa parameter\n",
    "ini.equilibrium.δ = 0.7\n",
    "ini.equilibrium.ζ = 0.0\n",
    "ini.equilibrium.pressure_core = 1e6\n",
    "\n",
    "ini.build.plasma_gap = 0.2\n",
    "\n",
    "ini.core_profiles.impurity = :Kr\n",
    "ini.core_profiles.n_shaping = 2.5\n",
    "ini.core_profiles.T_shaping = 2.5\n",
    "ini.core_profiles.T_ratio = 0.825\n",
    "ini.core_profiles.greenwald_fraction = 1.0\n",
    "ini.core_profiles.ne_ped = missing\n",
    "ini.core_profiles.greenwald_fraction_ped = 0.7\n",
    "ini.core_profiles.helium_fraction = 0.04\n",
    "\n",
    "ini.equilibrium.xpoints = :lower\n",
    "ini.build.divertors = :lower\n",
    "ini.build.symmetric = false\n",
    "\n",
    "ini.ec_launchers.power_launched = 55e6\n",
    "\n",
    "ini.pf_active.n_coils_outside = 8\n",
    "\n",
    "ini.requirements.flattop_duration = 24*3600.0"
   ]
  },
  {
   "cell_type": "code",
   "execution_count": 4,
   "metadata": {},
   "outputs": [
    {
     "data": {
      "text/plain": [
       "true"
      ]
     },
     "execution_count": 4,
     "metadata": {},
     "output_type": "execute_result"
    }
   ],
   "source": [
    "act.ActorEquilibriumTransport.do_plot = false\n",
    "act.ActorEquilibriumTransport.max_iter = 1\n",
    "\n",
    "act.ActorEquilibrium.model = :Solovev\n",
    "act.ActorEquilibrium.symmetrize = false\n",
    "\n",
    "act.ActorTauenn.transport_model = :ds03\n",
    "act.ActorTauenn.confinement_factor = 0.9\n",
    "act.ActorTauenn.T_shaping = 2.5\n",
    "act.ActorTauenn.T_ratio_pedestal = 0.825\n",
    "act.ActorTauenn.error = 1e-3\n",
    "act.ActorTauenn.eped_only_powerlaw = true # more reliable for broader exploration\n",
    "act.ActorTauenn.verbose = true"
   ]
  },
  {
   "cell_type": "markdown",
   "metadata": {},
   "source": [
    "## Run FUSE.init"
   ]
  },
  {
   "cell_type": "code",
   "execution_count": 5,
   "metadata": {},
   "outputs": [],
   "source": [
    "dd = IMAS.dd();\n",
    "FUSE.init(dd, ini, act; do_plot=false);\n"
   ]
  },
  {
   "cell_type": "markdown",
   "metadata": {},
   "source": [
    "## Scan over pressure_core"
   ]
  },
  {
   "cell_type": "code",
   "execution_count": 11,
   "metadata": {
    "tags": []
   },
   "outputs": [
    {
     "data": {
      "text/plain": [
       "\"Success!\""
      ]
     },
     "metadata": {},
     "output_type": "display_data"
    },
    {
     "data": {
      "text/plain": [
       "\"Nelder-Mead\""
      ]
     },
     "metadata": {},
     "output_type": "display_data"
    },
    {
     "data": {
      "text/plain": [
       "\"2.000 KeV ==> cost 1.65e+00\""
      ]
     },
     "metadata": {},
     "output_type": "display_data"
    },
    {
     "data": {
      "text/plain": [
       "\"3.000 KeV ==> cost 1.58e+00\""
      ]
     },
     "metadata": {},
     "output_type": "display_data"
    },
    {
     "data": {
      "text/plain": [
       "\"4.000 KeV ==> cost 1.51e+00\""
      ]
     },
     "metadata": {},
     "output_type": "display_data"
    },
    {
     "data": {
      "text/plain": [
       "\"6.000 KeV ==> cost 1.36e+00\""
      ]
     },
     "metadata": {},
     "output_type": "display_data"
    },
    {
     "data": {
      "text/plain": [
       "\"9.000 KeV ==> cost 1.15e+00\""
      ]
     },
     "metadata": {},
     "output_type": "display_data"
    },
    {
     "data": {
      "text/plain": [
       "\"15.000 KeV ==> cost 8.10e-01\""
      ]
     },
     "metadata": {},
     "output_type": "display_data"
    },
    {
     "data": {
      "text/plain": [
       "\"24.001 KeV ==> cost 5.23e-01\""
      ]
     },
     "metadata": {},
     "output_type": "display_data"
    },
    {
     "data": {
      "text/plain": [
       "\"42.001 KeV ==> cost 2.38e-01\""
      ]
     },
     "metadata": {},
     "output_type": "display_data"
    },
    {
     "data": {
      "text/plain": [
       "\"69.002 KeV ==> cost 2.68e-02\""
      ]
     },
     "metadata": {},
     "output_type": "display_data"
    },
    {
     "data": {
      "text/plain": [
       "\"123.003 KeV ==> cost 4.90e-01\""
      ]
     },
     "metadata": {},
     "output_type": "display_data"
    },
    {
     "data": {
      "text/plain": [
       "\"96.002 KeV ==> cost 2.59e-01\""
      ]
     },
     "metadata": {},
     "output_type": "display_data"
    },
    {
     "data": {
      "text/plain": [
       "\"62.252 KeV ==> cost 3.22e-02\""
      ]
     },
     "metadata": {},
     "output_type": "display_data"
    },
    {
     "data": {
      "text/plain": [
       "\"75.752 KeV ==> cost 8.60e-02\""
      ]
     },
     "metadata": {},
     "output_type": "display_data"
    },
    {
     "data": {
      "text/plain": [
       "\"67.314 KeV ==> cost 1.27e-02\""
      ]
     },
     "metadata": {},
     "output_type": "display_data"
    },
    {
     "data": {
      "text/plain": [
       "\"65.627 KeV ==> cost 2.40e-03\""
      ]
     },
     "metadata": {},
     "output_type": "display_data"
    },
    {
     "data": {
      "text/plain": [
       "\"62.252 KeV ==> cost 3.27e-02\""
      ]
     },
     "metadata": {},
     "output_type": "display_data"
    },
    {
     "data": {
      "text/plain": [
       "\"63.939 KeV ==> cost 1.76e-02\""
      ]
     },
     "metadata": {},
     "output_type": "display_data"
    },
    {
     "data": {
      "text/plain": [
       "\"66.048 KeV ==> cost 1.28e-03\""
      ]
     },
     "metadata": {},
     "output_type": "display_data"
    },
    {
     "data": {
      "text/plain": [
       "\"66.048 KeV ==> cost 1.33e-03\""
      ]
     },
     "metadata": {},
     "output_type": "display_data"
    },
    {
     "data": {
      "text/plain": [
       "\"66.048 KeV ==> cost 1.33e-03\""
      ]
     },
     "metadata": {},
     "output_type": "display_data"
    },
    {
     "name": "stdout",
     "output_type": "stream",
     "text": [
      " * Status: success\n",
      "\n",
      " * Candidate solution\n",
      "    Final objective value:     1.282319e-03\n",
      "\n",
      " * Found with\n",
      "    Algorithm:     Nelder-Mead\n",
      "\n",
      " * Convergence measures\n",
      "    √(Σ(yᵢ-ȳ)²)/n ≤ 1.0e-03\n",
      "\n",
      " * Work counters\n",
      "    Seconds run:   0  (vs limit Inf)\n",
      "    Iterations:    8\n",
      "    f(x) calls:    19\n",
      "\n",
      "method = Optim.NelderMead{Optim.AffineSimplexer, Optim.AdaptiveParameters}(Optim.AffineSimplexer(0.025, 0.5), Optim.AdaptiveParameters(1.0, 1.0, 0.75, 1.0))\n",
      "initial_x = [2000.0]\n",
      "minimizer = [66048.47617187501]\n",
      "minimum = 0.0012823193390059107\n",
      "iterations = 8\n",
      "iteration_converged = false\n",
      "x_converged = false\n",
      "x_abstol = 0.0\n",
      "x_reltol = 0.0\n",
      "x_abschange = NaN\n",
      "x_relchange = NaN\n",
      "f_converged = false\n",
      "f_abstol = 0.0\n",
      "f_reltol = 0.0\n",
      "f_abschange = NaN\n",
      "f_relchange = NaN\n",
      "g_converged = true\n",
      "g_abstol = 0.001\n",
      "g_residual = 0.0005576612015951721\n",
      "f_increased = false\n",
      "f_calls = 19\n",
      "g_calls = 0\n",
      "h_calls = 0\n",
      "ls_success = true\n",
      "time_limit = NaN\n",
      "time_run = 0.41275596618652344\n",
      "stopped_by = (f_limit_reached = false, g_limit_reached = false, h_limit_reached = false, time_limit = false, callback = false, f_increased = false)\n"
     ]
    },
    {
     "data": {
      "text/plain": [
       "error = 0.001\n",
       "eped_factor = 1.0\n",
       "rho_fluxmatch = 0.6\n",
       "T_shaping = 2.5\n",
       "T_ratio_pedestal = 0.825\n",
       "transport_model = ds03\n",
       "confinement_factor = 0.9\n",
       "warn_nn_train_bounds = false\n",
       "eped_only_powerlaw = true\n",
       "update_pedestal = true\n"
      ]
     },
     "metadata": {},
     "output_type": "display_data"
    },
    {
     "name": "stderr",
     "output_type": "stream",
     "text": [
      "\u001b[33m\u001b[1m┌ \u001b[22m\u001b[39m\u001b[33m\u001b[1mWarning: \u001b[22m\u001b[39mMax number of iterations (1) has been reached with convergence error of [13.006] compared to threshold of 0.05\n",
      "\u001b[33m\u001b[1m└ \u001b[22m\u001b[39m\u001b[90m@ FUSE /fusion/ga/projects/ird/ptp/weisbergd/julia/dev/FUSE/src/actors/compound/equilibrium_transport_actor.jl:105\u001b[39m\n"
     ]
    },
    {
     "data": {
      "text/plain": [
       "\"Success!\""
      ]
     },
     "metadata": {},
     "output_type": "display_data"
    },
    {
     "data": {
      "text/plain": [
       "\"Nelder-Mead\""
      ]
     },
     "metadata": {},
     "output_type": "display_data"
    },
    {
     "data": {
      "text/plain": [
       "\"2.000 KeV ==> cost 4.31e-01\""
      ]
     },
     "metadata": {},
     "output_type": "display_data"
    },
    {
     "data": {
      "text/plain": [
       "\"3.000 KeV ==> cost 3.72e-01\""
      ]
     },
     "metadata": {},
     "output_type": "display_data"
    },
    {
     "data": {
      "text/plain": [
       "\"4.000 KeV ==> cost 3.05e-01\""
      ]
     },
     "metadata": {},
     "output_type": "display_data"
    },
    {
     "data": {
      "text/plain": [
       "\"6.000 KeV ==> cost 1.91e-01\""
      ]
     },
     "metadata": {},
     "output_type": "display_data"
    },
    {
     "data": {
      "text/plain": [
       "\"9.000 KeV ==> cost 8.82e-02\""
      ]
     },
     "metadata": {},
     "output_type": "display_data"
    },
    {
     "data": {
      "text/plain": [
       "\"15.000 KeV ==> cost 5.02e-02\""
      ]
     },
     "metadata": {},
     "output_type": "display_data"
    },
    {
     "data": {
      "text/plain": [
       "\"24.001 KeV ==> cost 4.36e-02\""
      ]
     },
     "metadata": {},
     "output_type": "display_data"
    },
    {
     "data": {
      "text/plain": [
       "\"42.001 KeV ==> cost 5.41e-02\""
      ]
     },
     "metadata": {},
     "output_type": "display_data"
    },
    {
     "data": {
      "text/plain": [
       "\"33.001 KeV ==> cost 1.11e-03\""
      ]
     },
     "metadata": {},
     "output_type": "display_data"
    },
    {
     "data": {
      "text/plain": [
       "\"51.001 KeV ==> cost 1.16e-01\""
      ]
     },
     "metadata": {},
     "output_type": "display_data"
    },
    {
     "data": {
      "text/plain": [
       "\"42.001 KeV ==> cost 5.50e-02\""
      ]
     },
     "metadata": {},
     "output_type": "display_data"
    },
    {
     "data": {
      "text/plain": [
       "\"30.751 KeV ==> cost 1.33e-02\""
      ]
     },
     "metadata": {},
     "output_type": "display_data"
    },
    {
     "data": {
      "text/plain": [
       "\"35.251 KeV ==> cost 1.15e-02\""
      ]
     },
     "metadata": {},
     "output_type": "display_data"
    },
    {
     "data": {
      "text/plain": [
       "\"33.563 KeV ==> cost 1.81e-03\""
      ]
     },
     "metadata": {},
     "output_type": "display_data"
    },
    {
     "data": {
      "text/plain": [
       "\"33.001 KeV ==> cost 1.47e-03\""
      ]
     },
     "metadata": {},
     "output_type": "display_data"
    },
    {
     "data": {
      "text/plain": [
       "\"33.001 KeV ==> cost 1.49e-03\""
      ]
     },
     "metadata": {},
     "output_type": "display_data"
    },
    {
     "name": "stdout",
     "output_type": "stream",
     "text": [
      " * Status: success\n",
      "\n",
      " * Candidate solution\n",
      "    Final objective value:     1.106428e-03\n",
      "\n",
      " * Found with\n",
      "    Algorithm:     Nelder-Mead\n",
      "\n",
      " * Convergence measures\n",
      "    √(Σ(yᵢ-ȳ)²)/n ≤ 1.0e-03\n",
      "\n",
      " * Work counters\n",
      "    Seconds run:   0  (vs limit Inf)\n",
      "    Iterations:    6\n",
      "    f(x) calls:    15\n",
      "\n",
      "method = Optim.NelderMead{Optim.AffineSimplexer, Optim.AdaptiveParameters}(Optim.AffineSimplexer(0.025, 0.5), Optim.AdaptiveParameters(1.0, 1.0, 0.75, 1.0))\n",
      "initial_x = [2000.0]\n",
      "minimizer = [33000.775]\n",
      "minimum = 0.0011064275152816716\n",
      "iterations = 6\n",
      "iteration_converged = false\n",
      "x_converged = false\n",
      "x_abstol = 0.0\n",
      "x_reltol = 0.0\n",
      "x_abschange = NaN\n",
      "x_relchange = NaN\n",
      "f_converged = false\n",
      "f_abstol = 0.0\n",
      "f_reltol = 0.0\n",
      "f_abschange = NaN\n",
      "f_relchange = NaN\n",
      "g_converged = true\n",
      "g_abstol = 0.001\n",
      "g_residual = 0.0003533057985090071\n",
      "f_increased = false\n",
      "f_calls = 15\n",
      "g_calls = 0\n",
      "h_calls = 0\n",
      "ls_success = true\n",
      "time_limit = NaN\n",
      "time_run = 0.31509900093078613\n",
      "stopped_by = (f_limit_reached = false, g_limit_reached = false, h_limit_reached = false, time_limit = false, callback = false, f_increased = false)\n"
     ]
    },
    {
     "data": {
      "text/plain": [
       "error = 0.001\n",
       "eped_factor = 1.0\n",
       "rho_fluxmatch = 0.6\n",
       "T_shaping = 2.5\n",
       "T_ratio_pedestal = 0.825\n",
       "transport_model = ds03\n",
       "confinement_factor = 0.9\n",
       "warn_nn_train_bounds = false\n",
       "eped_only_powerlaw = true\n",
       "update_pedestal = true\n"
      ]
     },
     "metadata": {},
     "output_type": "display_data"
    },
    {
     "name": "stderr",
     "output_type": "stream",
     "text": [
      "\u001b[33m\u001b[1m┌ \u001b[22m\u001b[39m\u001b[33m\u001b[1mWarning: \u001b[22m\u001b[39mMax number of iterations (1) has been reached with convergence error of [0.357] compared to threshold of 0.05\n",
      "\u001b[33m\u001b[1m└ \u001b[22m\u001b[39m\u001b[90m@ FUSE /fusion/ga/projects/ird/ptp/weisbergd/julia/dev/FUSE/src/actors/compound/equilibrium_transport_actor.jl:105\u001b[39m\n"
     ]
    },
    {
     "data": {
      "text/plain": [
       "\"Success!\""
      ]
     },
     "metadata": {},
     "output_type": "display_data"
    },
    {
     "data": {
      "text/plain": [
       "\"Nelder-Mead\""
      ]
     },
     "metadata": {},
     "output_type": "display_data"
    },
    {
     "data": {
      "text/plain": [
       "\"2.000 KeV ==> cost 9.80e-01\""
      ]
     },
     "metadata": {},
     "output_type": "display_data"
    },
    {
     "data": {
      "text/plain": [
       "\"3.000 KeV ==> cost 1.04e+00\""
      ]
     },
     "metadata": {},
     "output_type": "display_data"
    },
    {
     "data": {
      "text/plain": [
       "\"1.000 KeV ==> cost 8.93e-01\""
      ]
     },
     "metadata": {},
     "output_type": "display_data"
    },
    {
     "data": {
      "text/plain": [
       "\"-1.000 KeV ==> cost 8.92e-01\""
      ]
     },
     "metadata": {},
     "output_type": "display_data"
    },
    {
     "data": {
      "text/plain": [
       "\"-4.000 KeV ==> cost 1.09e+00\""
      ]
     },
     "metadata": {},
     "output_type": "display_data"
    },
    {
     "data": {
      "text/plain": [
       "\"-0.250 KeV ==> cost 8.17e-01\""
      ]
     },
     "metadata": {},
     "output_type": "display_data"
    },
    {
     "data": {
      "text/plain": [
       "\"0.500 KeV ==> cost 8.48e-01\""
      ]
     },
     "metadata": {},
     "output_type": "display_data"
    },
    {
     "data": {
      "text/plain": [
       "\"-0.063 KeV ==> cost 7.36e-01\""
      ]
     },
     "metadata": {},
     "output_type": "display_data"
    },
    {
     "data": {
      "text/plain": [
       "\"0.125 KeV ==> cost 7.82e-01\""
      ]
     },
     "metadata": {},
     "output_type": "display_data"
    },
    {
     "data": {
      "text/plain": [
       "\"-0.016 KeV ==> cost 5.55e-01\""
      ]
     },
     "metadata": {},
     "output_type": "display_data"
    },
    {
     "data": {
      "text/plain": [
       "\"0.031 KeV ==> cost 6.64e-01\""
      ]
     },
     "metadata": {},
     "output_type": "display_data"
    },
    {
     "data": {
      "text/plain": [
       "\"-0.004 KeV ==> cost 1.91e-01\""
      ]
     },
     "metadata": {},
     "output_type": "display_data"
    },
    {
     "data": {
      "text/plain": [
       "\"0.008 KeV ==> cost 3.92e-01\""
      ]
     },
     "metadata": {},
     "output_type": "display_data"
    },
    {
     "data": {
      "text/plain": [
       "\"-0.001 KeV ==> cost 2.10e-01\""
      ]
     },
     "metadata": {},
     "output_type": "display_data"
    },
    {
     "data": {
      "text/plain": [
       "\"-0.007 KeV ==> cost 3.59e-01\""
      ]
     },
     "metadata": {},
     "output_type": "display_data"
    },
    {
     "data": {
      "text/plain": [
       "\"-0.003 KeV ==> cost 1.24e-01\""
      ]
     },
     "metadata": {},
     "output_type": "display_data"
    },
    {
     "data": {
      "text/plain": [
       "\"-0.002 KeV ==> cost 4.02e-02\""
      ]
     },
     "metadata": {},
     "output_type": "display_data"
    },
    {
     "data": {
      "text/plain": [
       "\"-0.001 KeV ==> cost 2.10e-01\""
      ]
     },
     "metadata": {},
     "output_type": "display_data"
    },
    {
     "data": {
      "text/plain": [
       "\"-0.002 KeV ==> cost 6.91e-02\""
      ]
     },
     "metadata": {},
     "output_type": "display_data"
    },
    {
     "data": {
      "text/plain": [
       "\"-0.002 KeV ==> cost 1.55e-02\""
      ]
     },
     "metadata": {},
     "output_type": "display_data"
    },
    {
     "data": {
      "text/plain": [
       "\"-0.002 KeV ==> cost 1.08e-02\""
      ]
     },
     "metadata": {},
     "output_type": "display_data"
    },
    {
     "data": {
      "text/plain": [
       "\"-0.002 KeV ==> cost 6.91e-02\""
      ]
     },
     "metadata": {},
     "output_type": "display_data"
    },
    {
     "data": {
      "text/plain": [
       "\"-0.002 KeV ==> cost 3.90e-02\""
      ]
     },
     "metadata": {},
     "output_type": "display_data"
    },
    {
     "data": {
      "text/plain": [
       "\"-0.002 KeV ==> cost 4.04e-03\""
      ]
     },
     "metadata": {},
     "output_type": "display_data"
    },
    {
     "data": {
      "text/plain": [
       "\"-0.002 KeV ==> cost 2.60e-03\""
      ]
     },
     "metadata": {},
     "output_type": "display_data"
    },
    {
     "data": {
      "text/plain": [
       "\"-0.002 KeV ==> cost 1.55e-02\""
      ]
     },
     "metadata": {},
     "output_type": "display_data"
    },
    {
     "data": {
      "text/plain": [
       "\"-0.002 KeV ==> cost 2.60e-03\""
      ]
     },
     "metadata": {},
     "output_type": "display_data"
    },
    {
     "data": {
      "text/plain": [
       "\"-0.002 KeV ==> cost 2.60e-03\""
      ]
     },
     "metadata": {},
     "output_type": "display_data"
    },
    {
     "name": "stdout",
     "output_type": "stream",
     "text": [
      " * Status: success\n",
      "\n",
      " * Candidate solution\n",
      "    Final objective value:     2.600240e-03\n",
      "\n",
      " * Found with\n",
      "    Algorithm:     Nelder-Mead\n",
      "\n",
      " * Convergence measures\n",
      "    √(Σ(yᵢ-ȳ)²)/n ≤ 1.0e-03\n",
      "\n",
      " * Work counters\n",
      "    Seconds run:   1  (vs limit Inf)\n",
      "    Iterations:    12\n",
      "    f(x) calls:    27\n",
      "\n",
      "method = Optim.NelderMead{Optim.AffineSimplexer, Optim.AdaptiveParameters}(Optim.AffineSimplexer(0.025, 0.5), Optim.AdaptiveParameters(1.0, 1.0, 0.75, 1.0))\n",
      "initial_x = [2000.0]\n",
      "minimizer = [-2.2168022155763545]\n",
      "minimum = 0.002600240431434253\n",
      "iterations = 12\n",
      "iteration_converged = false\n",
      "x_converged = false\n",
      "x_abstol = 0.0\n",
      "x_reltol = 0.0\n",
      "x_abschange = NaN\n",
      "x_relchange = NaN\n",
      "f_converged = false\n",
      "f_abstol = 0.0\n",
      "f_reltol = 0.0\n",
      "f_abschange = NaN\n",
      "f_relchange = NaN\n",
      "g_converged = true\n",
      "g_abstol = 0.001\n",
      "g_residual = 0.0007191758109893476\n",
      "f_increased = false\n",
      "f_calls = 27\n",
      "g_calls = 0\n",
      "h_calls = 0\n",
      "ls_success = true\n",
      "time_limit = NaN\n",
      "time_run = 0.6596090793609619\n",
      "stopped_by = (f_limit_reached = false, g_limit_reached = false, h_limit_reached = false, time_limit = false, callback = false, f_increased = false)\n"
     ]
    },
    {
     "data": {
      "text/plain": [
       "error = 0.001\n",
       "eped_factor = 1.0\n",
       "rho_fluxmatch = 0.6\n",
       "T_shaping = 2.5\n",
       "T_ratio_pedestal = 0.825\n",
       "transport_model = ds03\n",
       "confinement_factor = 0.9\n",
       "warn_nn_train_bounds = false\n",
       "eped_only_powerlaw = true\n",
       "update_pedestal = true\n"
      ]
     },
     "metadata": {},
     "output_type": "display_data"
    },
    {
     "name": "stderr",
     "output_type": "stream",
     "text": [
      "\u001b[33m\u001b[1m┌ \u001b[22m\u001b[39m\u001b[33m\u001b[1mWarning: \u001b[22m\u001b[39mMax number of iterations (1) has been reached with convergence error of [0.504] compared to threshold of 0.05\n",
      "\u001b[33m\u001b[1m└ \u001b[22m\u001b[39m\u001b[90m@ FUSE /fusion/ga/projects/ird/ptp/weisbergd/julia/dev/FUSE/src/actors/compound/equilibrium_transport_actor.jl:105\u001b[39m\n"
     ]
    },
    {
     "data": {
      "text/plain": [
       "\"Success!\""
      ]
     },
     "metadata": {},
     "output_type": "display_data"
    },
    {
     "data": {
      "text/plain": [
       "\"Nelder-Mead\""
      ]
     },
     "metadata": {},
     "output_type": "display_data"
    },
    {
     "data": {
      "text/plain": [
       "\"2.000 KeV ==> cost 1.74e+00\""
      ]
     },
     "metadata": {},
     "output_type": "display_data"
    },
    {
     "data": {
      "text/plain": [
       "\"3.000 KeV ==> cost 1.80e+00\""
      ]
     },
     "metadata": {},
     "output_type": "display_data"
    },
    {
     "data": {
      "text/plain": [
       "\"1.000 KeV ==> cost 1.64e+00\""
      ]
     },
     "metadata": {},
     "output_type": "display_data"
    },
    {
     "data": {
      "text/plain": [
       "\"-1.000 KeV ==> cost 1.64e+00\""
      ]
     },
     "metadata": {},
     "output_type": "display_data"
    },
    {
     "data": {
      "text/plain": [
       "\"-4.000 KeV ==> cost 1.85e+00\""
      ]
     },
     "metadata": {},
     "output_type": "display_data"
    },
    {
     "data": {
      "text/plain": [
       "\"-0.250 KeV ==> cost 1.49e+00\""
      ]
     },
     "metadata": {},
     "output_type": "display_data"
    },
    {
     "data": {
      "text/plain": [
       "\"0.500 KeV ==> cost 1.57e+00\""
      ]
     },
     "metadata": {},
     "output_type": "display_data"
    },
    {
     "data": {
      "text/plain": [
       "\"-0.063 KeV ==> cost 1.20e+00\""
      ]
     },
     "metadata": {},
     "output_type": "display_data"
    },
    {
     "data": {
      "text/plain": [
       "\"0.125 KeV ==> cost 1.37e+00\""
      ]
     },
     "metadata": {},
     "output_type": "display_data"
    },
    {
     "data": {
      "text/plain": [
       "\"-0.016 KeV ==> cost 6.54e-01\""
      ]
     },
     "metadata": {},
     "output_type": "display_data"
    },
    {
     "data": {
      "text/plain": [
       "\"0.031 KeV ==> cost 9.53e-01\""
      ]
     },
     "metadata": {},
     "output_type": "display_data"
    },
    {
     "data": {
      "text/plain": [
       "\"-0.004 KeV ==> cost 4.86e-02\""
      ]
     },
     "metadata": {},
     "output_type": "display_data"
    },
    {
     "data": {
      "text/plain": [
       "\"0.008 KeV ==> cost 3.25e-01\""
      ]
     },
     "metadata": {},
     "output_type": "display_data"
    },
    {
     "data": {
      "text/plain": [
       "\"-0.001 KeV ==> cost 2.35e-01\""
      ]
     },
     "metadata": {},
     "output_type": "display_data"
    },
    {
     "data": {
      "text/plain": [
       "\"-0.007 KeV ==> cost 2.71e-01\""
      ]
     },
     "metadata": {},
     "output_type": "display_data"
    },
    {
     "data": {
      "text/plain": [
       "\"-0.003 KeV ==> cost 1.96e-02\""
      ]
     },
     "metadata": {},
     "output_type": "display_data"
    },
    {
     "data": {
      "text/plain": [
       "\"-0.002 KeV ==> cost 9.30e-02\""
      ]
     },
     "metadata": {},
     "output_type": "display_data"
    },
    {
     "data": {
      "text/plain": [
       "\"-0.003 KeV ==> cost 2.07e-03\""
      ]
     },
     "metadata": {},
     "output_type": "display_data"
    },
    {
     "data": {
      "text/plain": [
       "\"-0.004 KeV ==> cost 1.52e-02\""
      ]
     },
     "metadata": {},
     "output_type": "display_data"
    },
    {
     "data": {
      "text/plain": [
       "\"-0.003 KeV ==> cost 2.28e-03\""
      ]
     },
     "metadata": {},
     "output_type": "display_data"
    },
    {
     "data": {
      "text/plain": [
       "\"-0.003 KeV ==> cost 2.07e-03\""
      ]
     },
     "metadata": {},
     "output_type": "display_data"
    },
    {
     "data": {
      "text/plain": [
       "\"-0.003 KeV ==> cost 2.07e-03\""
      ]
     },
     "metadata": {},
     "output_type": "display_data"
    },
    {
     "name": "stdout",
     "output_type": "stream",
     "text": [
      " * Status: success\n",
      "\n",
      " * Candidate solution\n",
      "    Final objective value:     2.065772e-03\n",
      "\n",
      " * Found with\n",
      "    Algorithm:     Nelder-Mead\n",
      "\n",
      " * Convergence measures\n",
      "    √(Σ(yᵢ-ȳ)²)/n ≤ 1.0e-03\n",
      "\n",
      " * Work counters\n",
      "    Seconds run:   0  (vs limit Inf)\n",
      "    Iterations:    9\n",
      "    f(x) calls:    21\n",
      "\n",
      "method = Optim.NelderMead{Optim.AffineSimplexer, Optim.AdaptiveParameters}(Optim.AffineSimplexer(0.025, 0.5), Optim.AdaptiveParameters(1.0, 1.0, 0.75, 1.0))\n",
      "initial_x = [2000.0]\n",
      "minimizer = [-3.4070175170900256]\n",
      "minimum = 0.0020657718326202446\n",
      "iterations = 9\n",
      "iteration_converged = false\n",
      "x_converged = false\n",
      "x_abstol = 0.0\n",
      "x_reltol = 0.0\n",
      "x_abschange = NaN\n",
      "x_relchange = NaN\n",
      "f_converged = false\n",
      "f_abstol = 0.0\n",
      "f_reltol = 0.0\n",
      "f_abschange = NaN\n",
      "f_relchange = NaN\n",
      "g_converged = true\n",
      "g_abstol = 0.001\n",
      "g_residual = 0.0001057287104392346\n",
      "f_increased = false\n",
      "f_calls = 21\n",
      "g_calls = 0\n",
      "h_calls = 0\n",
      "ls_success = true\n",
      "time_limit = NaN\n",
      "time_run = 0.4957869052886963\n",
      "stopped_by = (f_limit_reached = false, g_limit_reached = false, h_limit_reached = false, time_limit = false, callback = false, f_increased = false)\n"
     ]
    },
    {
     "data": {
      "text/plain": [
       "error = 0.001\n",
       "eped_factor = 1.0\n",
       "rho_fluxmatch = 0.6\n",
       "T_shaping = 2.5\n",
       "T_ratio_pedestal = 0.825\n",
       "transport_model = ds03\n",
       "confinement_factor = 0.9\n",
       "warn_nn_train_bounds = false\n",
       "eped_only_powerlaw = true\n",
       "update_pedestal = true\n"
      ]
     },
     "metadata": {},
     "output_type": "display_data"
    },
    {
     "name": "stderr",
     "output_type": "stream",
     "text": [
      "\u001b[33m\u001b[1m┌ \u001b[22m\u001b[39m\u001b[33m\u001b[1mWarning: \u001b[22m\u001b[39mMax number of iterations (1) has been reached with convergence error of [0.564] compared to threshold of 0.05\n",
      "\u001b[33m\u001b[1m└ \u001b[22m\u001b[39m\u001b[90m@ FUSE /fusion/ga/projects/ird/ptp/weisbergd/julia/dev/FUSE/src/actors/compound/equilibrium_transport_actor.jl:105\u001b[39m\n"
     ]
    }
   ],
   "source": [
    "pressure_core_list = [0.1e6, 1.0e6, 2.0e6, 2.5e6]\n",
    "dd_init_list = Vector{Any}([])\n",
    "dd_eqtrans_list = Vector{Any}([])\n",
    "\n",
    "for pressure_core in pressure_core_list\n",
    "    ini0 = deepcopy(ini)\n",
    "    act0 = deepcopy(act)\n",
    "\n",
    "    ini0.equilibrium.pressure_core = pressure_core\n",
    "\n",
    "    dd0 = IMAS.dd();\n",
    "\n",
    "    FUSE.init(dd0, ini0, act0; do_plot=false);\n",
    "    append!(dd_init_list,[dd0]);\n",
    "    display(\"Success!\")\n",
    "\n",
    "    dd1 = deepcopy(dd0)\n",
    "\n",
    "    try\n",
    "        FUSE.ActorEquilibriumTransport(dd1, act0);\n",
    "        append!(dd_eqtrans_list, [dd1])\n",
    "    catch e\n",
    "        @printf(\"ActorEquilibriumTransport failed for P0 = %.2e\",pressure_core)\n",
    "        display(e)\n",
    "        append!(dd_eqtrans_list, [nothing])\n",
    "    end\n",
    "\n",
    "end"
   ]
  },
  {
   "cell_type": "code",
   "execution_count": 12,
   "metadata": {},
   "outputs": [
    {
     "name": "stdout",
     "output_type": "stream",
     "text": [
      "-------------------\n",
      "P0_ini = 0.10 MPa\n",
      "-------------------\n",
      "Param\tUnit\tInit\tEqTrans\n",
      "-----\t-----\t-----\t-----\n",
      "P0mhd\tMPa\t0.10\t2.78\n",
      "P0tot\tMPa\t0.09\t2.73\n",
      "Te0\tkeV\t2.0\t66.0\n",
      "Pfus\tMW\t0.1\t1303.6\n",
      "Pheat\tMW\t56.3\t316.9\n",
      "Prad\tMW\t-246.1\t-86.7\n",
      "Wth\tMJ\t21.5\t271.7\n",
      "βn\t-\t0.4\t8.7\n",
      "τe_th\ts\t0.38\t0.86\n",
      "τe_ds03\ts\t2.46\t0.95\n",
      "ds03\t-\t0.16\t0.90\n",
      "\n",
      "-------------------\n",
      "P0_ini = 1.00 MPa\n",
      "-------------------\n",
      "Param\tUnit\tInit\tEqTrans\n",
      "-----\t-----\t-----\t-----\n",
      "P0mhd\tMPa\t1.00\t1.67\n",
      "P0tot\tMPa\t1.05\t1.65\n",
      "Te0\tkeV\t20.3\t33.0\n",
      "Pfus\tMW\t349.3\t758.1\n",
      "Pheat\tMW\t125.0\t207.1\n",
      "Prad\tMW\t-67.8\t-67.3\n",
      "Wth\tMJ\t172.2\t224.8\n",
      "βn\t-\t3.4\t5.1\n",
      "τe_th\ts\t1.38\t1.09\n",
      "τe_ds03\ts\t1.59\t1.21\n",
      "ds03\t-\t0.86\t0.90\n",
      "\n",
      "-------------------\n",
      "P0_ini = 2.00 MPa\n",
      "-------------------\n",
      "Param\tUnit\tInit\tEqTrans\n",
      "-----\t-----\t-----\t-----\n",
      "P0mhd\tMPa\t2.00\t0.89\n",
      "P0tot\tMPa\t2.40\t0.88\n",
      "Te0\tkeV\t40.5\t3.3\n",
      "Pfus\tMW\t1057.4\t3.4\n",
      "Pheat\tMW\t267.2\t55.7\n",
      "Prad\tMW\t-69.0\t-129.1\n",
      "Wth\tMJ\t349.9\t183.8\n",
      "βn\t-\t7.6\t3.2\n",
      "τe_th\ts\t1.31\t3.30\n",
      "τe_ds03\ts\t1.05\t2.50\n",
      "ds03\t-\t1.24\t1.32\n",
      "\n",
      "-------------------\n",
      "P0_ini = 2.50 MPa\n",
      "-------------------\n",
      "Param\tUnit\tInit\tEqTrans\n",
      "-----\t-----\t-----\t-----\n",
      "P0mhd\tMPa\t2.50\t1.09\n",
      "P0tot\tMPa\t3.06\t1.08\n",
      "Te0\tkeV\t51.7\t3.3\n",
      "Pfus\tMW\t1324.2\t3.5\n",
      "Pheat\tMW\t320.8\t55.7\n",
      "Prad\tMW\t-76.5\t-128.4\n",
      "Wth\tMJ\t447.0\t226.6\n",
      "βn\t-\t9.9\t3.8\n",
      "τe_th\ts\t1.39\t4.06\n",
      "τe_ds03\ts\t0.95\t2.49\n",
      "ds03\t-\t1.47\t1.63\n",
      "\n"
     ]
    }
   ],
   "source": [
    "using Printf\n",
    "\n",
    "for (i,p0) in enumerate(pressure_core_list)\n",
    "    \n",
    "    dd_init = dd_init_list[i]\n",
    "    cs_init = dd_init.core_sources\n",
    "    cp1d_init = dd_init.core_profiles.profiles_1d[]\n",
    "    total_source_init = IMAS.total_sources(cs_init, cp1d_init; fields=[:power_inside, :total_ion_power_inside])\n",
    "\n",
    "    dd_eqtr = dd_eqtrans_list[i]\n",
    "    cs_eqtr = dd_eqtr.core_sources\n",
    "    cp1d_eqtr = dd_eqtr.core_profiles.profiles_1d[]\n",
    "    total_source_eqtr = IMAS.total_sources(cs_eqtr, cp1d_eqtr; fields=[:power_inside, :total_ion_power_inside])\n",
    "\n",
    "    @printf(\"-------------------\\n\")\n",
    "    @printf(\"P0_ini = %.2f MPa\\n\", p0/1e6)\n",
    "    @printf(\"-------------------\\n\")\n",
    "\n",
    "    @printf(\"Param\\tUnit\\tInit\\tEqTrans\\n\")\n",
    "    @printf(\"-----\\t-----\\t-----\\t-----\\n\")\n",
    "    @printf(\"P0mhd\\tMPa\\t%.2f\\t%.2f\\n\",\n",
    "        dd_init.equilibrium.time_slice[2].profiles_1d.pressure[1]/1e6,\n",
    "        dd_eqtr.equilibrium.time_slice[2].profiles_1d.pressure[1]/1e6)\n",
    "\n",
    "    @printf(\"P0tot\\tMPa\\t%.2f\\t%.2f\\n\",\n",
    "        cp1d_init.pressure[1]/1e6,\n",
    "        cp1d_eqtr.pressure[1]/1e6)\n",
    "    \n",
    "    @printf(\"Te0\\tkeV\\t%.1f\\t%.1f\\n\",\n",
    "        cp1d_init.electrons.temperature[1]/1e3,\n",
    "        cp1d_eqtr.electrons.temperature[1]/1e3)\n",
    "\n",
    "    @printf(\"Pfus\\tMW\\t%.1f\\t%.1f\\n\",\n",
    "        IMAS.fusion_power(dd_init)/1e6,\n",
    "        IMAS.fusion_power(dd_eqtr)/1e6)\n",
    "\n",
    "    @printf(\"Pheat\\tMW\\t%.1f\\t%.1f\\n\",\n",
    "        (total_source_init.electrons.power_inside[end] + total_source_init.total_ion_power_inside[end] - IMAS.radiation_losses(cs_init))/1e6,\n",
    "        (total_source_eqtr.electrons.power_inside[end] + total_source_eqtr.total_ion_power_inside[end] - IMAS.radiation_losses(cs_eqtr))/1e6,)\n",
    "\n",
    "    @printf(\"Prad\\tMW\\t%.1f\\t%.1f\\n\",\n",
    "        IMAS.radiation_losses(cs_init)/1e6,\n",
    "        IMAS.radiation_losses(cs_eqtr)/1e6)\n",
    "\n",
    "    @printf(\"Wth\\tMJ\\t%.1f\\t%.1f\\n\",\n",
    "        IMAS.energy_thermal(cp1d_init)/1e6,\n",
    "        IMAS.energy_thermal(cp1d_eqtr)/1e6)\n",
    "\n",
    "    @printf(\"βn\\t-\\t%.1f\\t%.1f\\n\",\n",
    "        dd_init.summary.global_quantities.beta_tor_norm.value[1],\n",
    "        dd_eqtr.summary.global_quantities.beta_tor_norm.value[1])\n",
    "\n",
    "    @printf(\"τe_th\\ts\\t%.2f\\t%.2f\\n\",\n",
    "        IMAS.tau_e_thermal(cp1d_init, cs_init),\n",
    "        IMAS.tau_e_thermal(cp1d_eqtr, cs_eqtr))\n",
    "\n",
    "    @printf(\"τe_ds03\\ts\\t%.2f\\t%.2f\\n\",\n",
    "        IMAS.tau_e_ds03(dd_init),\n",
    "        IMAS.tau_e_ds03(dd_eqtr))\n",
    "\n",
    "    @printf(\"ds03\\t-\\t%.2f\\t%.2f\\n\",\n",
    "        IMAS.tau_e_thermal(cp1d_init, cs_init) / IMAS.tau_e_ds03(dd_init),\n",
    "        IMAS.tau_e_thermal(cp1d_eqtr, cs_eqtr) / IMAS.tau_e_ds03(dd_eqtr))\n",
    "    @printf(\"\\n\")\n",
    "end\n",
    "\n"
   ]
  },
  {
   "cell_type": "code",
   "execution_count": null,
   "metadata": {},
   "outputs": [],
   "source": []
  }
 ],
 "metadata": {
  "kernelspec": {
   "display_name": "Julia 1.8.5",
   "language": "julia",
   "name": "julia-1.8"
  },
  "language_info": {
   "file_extension": ".jl",
   "mimetype": "application/julia",
   "name": "julia",
   "version": "1.8.5"
  }
 },
 "nbformat": 4,
 "nbformat_minor": 4
}
