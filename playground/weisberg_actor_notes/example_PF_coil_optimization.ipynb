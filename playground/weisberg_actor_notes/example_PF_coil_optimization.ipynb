{
 "cells": [
  {
   "cell_type": "markdown",
   "id": "a94d2fc3-c5ad-41e8-8706-5bc53b9f984a",
   "metadata": {},
   "source": [
    "# Poloidal field coil optimization (ITER)"
   ]
  },
  {
   "cell_type": "code",
   "execution_count": null,
   "id": "2c0ebbc2-53d3-4e91-8d33-e1babaa0f374",
   "metadata": {
    "tags": []
   },
   "outputs": [],
   "source": [
    "using Revise\n",
    "using FUSE\n",
    "using Plots;\n",
    "FUSE.logging(Logging.Info);"
   ]
  },
  {
   "cell_type": "markdown",
   "id": "240d42c6-7c71-4ab4-8699-7920ab625438",
   "metadata": {},
   "source": [
    "### Initialization of `dd`, `ini`, `act` for the ITER use case"
   ]
  },
  {
   "cell_type": "code",
   "execution_count": null,
   "id": "2c2e2bf4-519d-4ab4-9cb3-38c8f461e8a3",
   "metadata": {
    "tags": []
   },
   "outputs": [],
   "source": [
    "dd, ini, act = FUSE.init(:ITER, init_from=:ods, do_plot=true);"
   ]
  },
  {
   "cell_type": "markdown",
   "id": "24f7d71e-e269-4196-b4bf-ea1fb749d492",
   "metadata": {},
   "source": [
    "### Run the SteadyStateCurrent actor in order to estimate how much ohmic current will be required during flattop\n",
    "[SteadyStateCurrent actor](https://fuse.help/actors.html#SteadyStateCurrent)\n"
   ]
  },
  {
   "cell_type": "code",
   "execution_count": null,
   "id": "42c2a46b-c9bf-46e2-8958-80a49a79b2de",
   "metadata": {
    "tags": []
   },
   "outputs": [],
   "source": [
    "FUSE.ActorSteadyStateCurrent(dd, act);"
   ]
  },
  {
   "cell_type": "markdown",
   "id": "1636ea43-730b-41b0-8b9d-2d3a7edb7606",
   "metadata": {},
   "source": [
    "### Estimate how much flux is required during start-up\n",
    "[FluxSwing actor](https://fuse.help/actors.html#FluxSwing)\n",
    "\n"
   ]
  },
  {
   "cell_type": "code",
   "execution_count": null,
   "id": "8306a6a4-160d-4b69-9194-0f60104994c1",
   "metadata": {
    "tags": []
   },
   "outputs": [],
   "source": [
    "FUSE.ActorFluxSwing(dd, act; operate_at_j_crit=true, j_tolerance=0.0)\n",
    "# critial_j shoudl be the same as max_j\n",
    "dd.build.oh\n",
    "# Estimated flattop durration at maximum oh current operation suggests that ITER can run for 3500 seconds! "
   ]
  },
  {
   "cell_type": "markdown",
   "id": "3db0b2c3-58a1-4130-8568-5c78a8189d01",
   "metadata": {},
   "source": [
    "### Take a look at the PF coils optimization parameters"
   ]
  },
  {
   "cell_type": "code",
   "execution_count": null,
   "id": "78731096-4bf9-4bbc-b54d-f571d928b32e",
   "metadata": {
    "tags": []
   },
   "outputs": [],
   "source": [
    "display(act.ActorPFcoilsOpt)\n",
    "display(act.ActorPFcoilsOpt[:optimization_scheme])"
   ]
  },
  {
   "cell_type": "markdown",
   "id": "d21ed174-138f-494d-a24e-135cf04f7eb1",
   "metadata": {},
   "source": [
    "### Run PF coils optimization and plot"
   ]
  },
  {
   "cell_type": "code",
   "execution_count": null,
   "id": "d424bf53-90bf-4441-9c05-ce64fc8a94ce",
   "metadata": {
    "tags": []
   },
   "outputs": [],
   "source": [
    "FUSE.init_pf_active(dd, ini, act)\n",
    "act.ActorPFcoilsOpt.weight_currents=1.0\n",
    "act.ActorPFcoilsOpt.weight_lcfs=1.0\n",
    "act.ActorPFcoilsOpt.weight_null=1.0\n",
    "act.ActorPFcoilsOpt.weight_strike=1.0\n",
    "FUSE.ActorPFcoilsOpt(dd, act; optimization_scheme=:rail, do_plot=true);"
   ]
  }
 ],
 "metadata": {
  "@webio": {
   "lastCommId": "947d91ab-3559-496c-a4bb-7a5f8a03654a",
   "lastKernelId": "ff356255-59a5-4f05-af43-9cd9703001bf"
  },
  "kernelspec": {
   "display_name": "Julia 1.8.1",
   "language": "julia",
   "name": "julia-1.8"
  },
  "language_info": {
   "file_extension": ".jl",
   "mimetype": "application/julia",
   "name": "julia",
   "version": "1.8.1"
  }
 },
 "nbformat": 4,
 "nbformat_minor": 5
}
