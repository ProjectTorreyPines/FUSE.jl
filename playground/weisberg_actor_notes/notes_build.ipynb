{
 "cells": [
  {
   "cell_type": "markdown",
   "id": "f1f0d62c-4f5e-49a9-b901-da223f90717f",
   "metadata": {},
   "source": [
    "# Build Notes"
   ]
  },
  {
   "cell_type": "code",
   "execution_count": null,
   "id": "144af7d0-f9bc-40fe-9c0a-5948515e8b15",
   "metadata": {
    "tags": []
   },
   "outputs": [],
   "source": [
    "using Revise\n",
    "using FUSE\n",
    "using Plots;\n",
    "FUSE.logging(Logging.Info);"
   ]
  },
  {
   "cell_type": "markdown",
   "id": "77a980d5-e4bc-4a4a-a310-8944309fff45",
   "metadata": {
    "tags": []
   },
   "source": [
    "## Initialize FPP v1_demount"
   ]
  },
  {
   "cell_type": "code",
   "execution_count": null,
   "id": "1e53ac3c-6634-4ce4-a47e-ba3aafd6eaf7",
   "metadata": {
    "tags": []
   },
   "outputs": [],
   "source": [
    "ini, act = FUSE.case_parameters(:FPP; version=:v1_demount, init_from=:scalars);\n",
    "\n",
    "ini.build.layers[:hfs_vacuum_vessel] += ini.build.layers[:hfs_vacuum_vessel_wall_inner] + ini.build.layers[:hfs_vacuum_vessel_wall_outer]\n",
    "delete!(ini.build.layers,:hfs_vacuum_vessel_wall_inner)\n",
    "delete!(ini.build.layers,:hfs_vacuum_vessel_wall_outer)\n",
    "ini.build.layers[:lfs_vacuum_vessel] += ini.build.layers[:lfs_vacuum_vessel_wall_inner] + ini.build.layers[:lfs_vacuum_vessel_wall_outer]\n",
    "delete!(ini.build.layers,:lfs_vacuum_vessel_wall_inner)\n",
    "delete!(ini.build.layers,:lfs_vacuum_vessel_wall_outer)\n",
    "display(ini.build)\n",
    "ini.equilibrium.B0 = 8.0\n",
    "display(act.ActorHFSsizing)\n",
    "act.ActorPFcoilsOpt.update_equilibrium = true\n",
    "\n"
   ]
  },
  {
   "cell_type": "code",
   "execution_count": null,
   "id": "eb81e7de-16e4-43fd-b8a2-f5b2a5845823",
   "metadata": {
    "tags": []
   },
   "outputs": [],
   "source": [
    "dd = IMAS.dd()\n",
    "FUSE.init(dd, ini, act; do_plot=false);\n",
    "FUSE.digest(dd)"
   ]
  },
  {
   "cell_type": "code",
   "execution_count": null,
   "id": "66b3b9a2-0354-4485-9579-3739991db7de",
   "metadata": {
    "tags": []
   },
   "outputs": [],
   "source": [
    "println(\"OH R_start = \", dd.build.layer[2].start_radius)\n",
    "println(\"OH R_end = \",dd.build.layer[2].end_radius)\n",
    "\n",
    "println(\"TF R_start = \", dd.build.layer[4].start_radius)\n",
    "println(\"TF R_end = \",dd.build.layer[4].end_radius)\n",
    "\n",
    "dd.build.layer[8].material = \"Steel, Stainless 316\"\n",
    "dd.build.layer[18].material = \"Steel, Stainless 316\"\n",
    "dd.build.layer[24].material = \"Steel, Stainless 316\"\n",
    "\n",
    "\n",
    "display(dd.build)\n",
    "\n",
    "display(dd.build.tf)\n",
    "display(dd.build.oh)"
   ]
  },
  {
   "cell_type": "markdown",
   "id": "9a8c42f8-580c-485c-bf5f-cecc2d89f0c6",
   "metadata": {},
   "source": [
    "## Experiment with HFS build settings"
   ]
  },
  {
   "cell_type": "code",
   "execution_count": null,
   "id": "887f5a34-cd49-4fc7-9028-cd42f322f720",
   "metadata": {
    "tags": []
   },
   "outputs": [],
   "source": [
    "act.ActorHFSsizing.do_plot = true\n",
    "act.ActorHFSsizing.verbose = true\n",
    "act.ActorHFSsizing.aspect_ratio_tolerance = 0.01\n",
    "act.ActorHFSsizing.j_tolerance = 0.5\n",
    "act.ActorHFSsizing.stress_tolerance = 0.2\n",
    "act.ActorHFSsizing.operate_at_j_crit = true\n",
    "act.ActorHFSsizing"
   ]
  },
  {
   "cell_type": "code",
   "execution_count": null,
   "id": "337a5e36-2f57-49a8-844d-01ea4d1c755d",
   "metadata": {
    "tags": []
   },
   "outputs": [],
   "source": [
    "FUSE.ActorHFSsizing(dd, act);"
   ]
  },
  {
   "cell_type": "code",
   "execution_count": null,
   "id": "97ca6787-21ea-46d7-9277-cd1f0d32dc3d",
   "metadata": {},
   "outputs": [],
   "source": [
    "FUSE.ActorLFSsizing(dd, act);\n",
    "FUSE.ActorCXbuild(dd, act);\n",
    "FUSE.ActorPFcoilsOpt(dd, act);\n",
    "FUSE.ActorPassiveStructures(dd,act);\n"
   ]
  },
  {
   "cell_type": "code",
   "execution_count": null,
   "id": "7342ba49-81bc-4db9-8a2a-381a68f6a108",
   "metadata": {},
   "outputs": [],
   "source": [
    "using Printf\n",
    "\n",
    "@printf(\"OH R_start = %.2f m\\n\", dd.build.layer[2].start_radius)\n",
    "@printf(\"OH R_end   = %.2f m\\n\",dd.build.layer[2].end_radius)\n",
    "\n",
    "@printf(\"TF R_start = %.2f m\\n\", dd.build.layer[4].start_radius)\n",
    "@printf(\"TF R_end   = %.2f m\\n\",dd.build.layer[4].end_radius)\n",
    "\n",
    "#display(dd.build.tf)\n",
    "#display(dd.build.oh)\n",
    "\n",
    "tf_j_max = dd.build.tf.max_j\n",
    "oh_j_max = dd.build.oh.max_j\n",
    "\n",
    "tf_j_crit = dd.build.tf.critical_j\n",
    "oh_j_crit = dd.build.oh.critical_j\n",
    "\n",
    "tf_vms_max = (maximum(abs.(dd.solid_mechanics.center_stack.stress.vonmises.tf)))\n",
    "oh_vms_max = (maximum(abs.(dd.solid_mechanics.center_stack.stress.vonmises.oh)))\n",
    "\n",
    "\n",
    "@printf(\"\\n\")\n",
    "@printf(\"TF stainless_fraction = %.3f\\n\", dd.build.tf.technology.fraction_stainless)\n",
    "@printf(\"OH stainless_fraction = %.3f\\n\", dd.build.oh.technology.fraction_stainless)\n",
    "\n",
    "@printf(\"\\n\")\n",
    "@printf(\"TF J_op = %.1f MA\\n\", tf_j_max/1e6)\n",
    "#@printf(\"TF J_max = %.1f MA\\n\", tf_j_crit*(1-act.ActorHFSsizing.j_tolerance)/1e6)\n",
    "@printf(\"TF J_crit = %.1f MA\\n\", tf_j_crit/1e6)\n",
    "\n",
    "@printf(\"\\n\")\n",
    "@printf(\"OH J_op = %.1f MA\\n\", oh_j_max/1e6)\n",
    "#@printf(\"OH J_max = %.1f MA\\n\", oh_j_crit*(1-act.ActorHFSsizing.j_tolerance)/1e6)\n",
    "@printf(\"OH J_crit = %.1f MA\\n\", oh_j_crit/1e6)\n",
    "\n",
    "@printf(\"\\n\")\n",
    "@printf(\"TF stress_op = %.1f MPa\\n\", tf_vms_max/1e6)\n",
    "#@printf(\"TF stress_max = %.1f MPa\\n\", 800*(1-act.ActorHFSsizing.stress_tolerance))\n",
    "@printf(\"TF stress_crit = %.1f MPa\\n\", 800)\n",
    "\n",
    "@printf(\"\\n\")\n",
    "@printf(\"OH stress_op = %.1f MPa\\n\", oh_vms_max/1e6)\n",
    "#@printf(\"OH stress_max = %.1f MPa\\n\", 800*(1-act.ActorHFSsizing.stress_tolerance))\n",
    "@printf(\"OH stress_crit = %.1f MPa\\n\", 800)\n",
    "\n",
    "\n"
   ]
  },
  {
   "cell_type": "code",
   "execution_count": null,
   "id": "c53d4a33-9453-4497-89ef-f077e30b474f",
   "metadata": {
    "tags": []
   },
   "outputs": [],
   "source": [
    "plot(dd.solid_mechanics.center_stack.stress)"
   ]
  },
  {
   "cell_type": "markdown",
   "id": "55b78d5a-3b98-48c5-a422-36241294c2f7",
   "metadata": {},
   "source": [
    "## Change CX build settings"
   ]
  },
  {
   "cell_type": "code",
   "execution_count": null,
   "id": "e566a721-1e48-4a88-ba0d-888df19112cb",
   "metadata": {},
   "outputs": [],
   "source": [
    "FUSE.digest(dd)"
   ]
  },
  {
   "cell_type": "code",
   "execution_count": null,
   "id": "61214336-46f4-4d5f-b479-8b7511c6987d",
   "metadata": {},
   "outputs": [],
   "source": []
  }
 ],
 "metadata": {
  "kernelspec": {
   "display_name": "Julia (20 threads) 1.8.5",
   "language": "julia",
   "name": "julia-_20-threads_-1.8"
  },
  "language_info": {
   "file_extension": ".jl",
   "mimetype": "application/julia",
   "name": "julia",
   "version": "1.8.5"
  }
 },
 "nbformat": 4,
 "nbformat_minor": 5
}
