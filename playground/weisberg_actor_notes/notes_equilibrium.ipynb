{
 "cells": [
  {
   "cell_type": "markdown",
   "id": "ede531a4-3e4f-4e7e-aac3-b04a02b0bc84",
   "metadata": {},
   "source": [
    "# Equilibirum notes"
   ]
  },
  {
   "cell_type": "code",
   "execution_count": null,
   "id": "28d4402b-3e6a-465d-8084-7789a14f19a8",
   "metadata": {
    "tags": []
   },
   "outputs": [],
   "source": [
    "using Revise\n",
    "using FUSE\n",
    "using Plots;\n",
    "FUSE.logging(Logging.Info);"
   ]
  },
  {
   "cell_type": "markdown",
   "id": "f2a3a47b-5497-45fa-85a6-26c4c105aa20",
   "metadata": {},
   "source": [
    "### Comparing Solovev equilibirum with CHEASE equilibrium to the original ITER ods equilibrium"
   ]
  },
  {
   "cell_type": "code",
   "execution_count": null,
   "id": "2a8541bc-4dd1-49fe-b1f7-75334027223d",
   "metadata": {
    "tags": []
   },
   "outputs": [],
   "source": [
    "### Solovev init equilibrium\n",
    "ini, act = FUSE.case_parameters(:ITER, init_from=:ods);\n",
    "ini.equilibrium.B0 = 5.3\n",
    "dd = FUSE.init(ini,act)\n",
    "eq_plot = plot(dd.equilibrium, label=\"ITER ods equilibrium\")\n",
    "\n",
    "### CHEASE equilibrium\n",
    "act.ActorEquilibrium.model = :CHEASE\n",
    "act.ActorCHEASE.free_boundary = false\n",
    "FUSE.ActorEquilibrium(dd, act)\n",
    "display(plot!(eq_plot, dd.equilibrium, label=\"CHEASE equilibrium\"))\n",
    "FUSE.ActorEquilibrium(dd,act)\n",
    "display(plot!(eq_plot,dd.equilibrium, label=\"CHEASE equilibrium 3\"))\n",
    "FUSE.ActorEquilibrium(dd,act)\n",
    "display(plot!(eq_plot,dd.equilibrium, label=\"CHEASE equilibrium 4\"))"
   ]
  },
  {
   "cell_type": "code",
   "execution_count": null,
   "id": "c67729c0-c209-447f-8a21-bdcd670d011e",
   "metadata": {
    "tags": []
   },
   "outputs": [],
   "source": [
    "FUSE.digest(dd)"
   ]
  },
  {
   "cell_type": "markdown",
   "id": "7a5524b4-839e-4fdb-9e3f-4288efa5f3ad",
   "metadata": {
    "tags": []
   },
   "source": [
    "### Finding a MXH parametrization of the boundary for ITER"
   ]
  },
  {
   "cell_type": "code",
   "execution_count": null,
   "id": "d831422f-6cd6-4af1-a6f2-63d669c02cdf",
   "metadata": {
    "tags": []
   },
   "outputs": [],
   "source": [
    "import MillerExtendedHarmonic: flat_coeffs\n",
    "#dd, ini, act = FUSE.init(:ITER, init_from=:ods); start with CHEASE boundary from above\n",
    "eqt = dd.equilibrium.time_slice[]\n",
    "eqt_bound = eqt.boundary.outline\n",
    "psi_close = (eqt.profiles_1d.psi[end] + 5 * eqt.profiles_1d.psi[end]) / 6\n",
    "r_bound, z_bound = IMAS.flux_surface(eqt, psi_close)\n",
    "\n",
    "eq_plot = plot(r_bound, z_bound, label=\"1.0 of original boundary shape\")\n",
    "for order in [4]\n",
    "    mxh = IMAS.MXH(r_bound, z_bound, order)\n",
    "    @show round.(flat_coeffs(mxh), digits=5)\n",
    "    plot!(mxh, label=\"MXH $order\")\n",
    "end\n",
    "display(plot!(eqt_bound.r, eqt_bound.z, label=\"original boundary shape\", color=\"black\", marker=\"x\", lw=0, markersize=1))"
   ]
  },
  {
   "cell_type": "markdown",
   "id": "24d5c8ad-120a-4b48-befc-cd4032704816",
   "metadata": {},
   "source": [
    "### Comparing CHEASE deadstart from MXH parametrization vs. Miller parametrization"
   ]
  },
  {
   "cell_type": "code",
   "execution_count": null,
   "id": "fe5fb7b7-72c4-409b-a601-53370d4cfa06",
   "metadata": {
    "tags": []
   },
   "outputs": [],
   "source": [
    "ini, act = FUSE.case_parameters(:ITER, init_from=:scalars);\n",
    "ini"
   ]
  },
  {
   "cell_type": "code",
   "execution_count": null,
   "id": "f7193518-fced-4e7f-832c-c617a1c20a8b",
   "metadata": {
    "tags": []
   },
   "outputs": [],
   "source": [
    "# Solovev deadstart (default)\n",
    "dd, ini, act = FUSE.init(:ITER, init_from=:ods);\n",
    "ods_plot = plot(dd.equilibrium, label=\"ITER ODS eq\")\n",
    "display(ods_plot)\n",
    "\n",
    "# CHEASE deadstart MXH\n",
    "dd = IMAS.dd()\n",
    "ini, act = FUSE.case_parameters(:ITER, init_from=:scalars);\n",
    "ini.equilibrium.boundary_from = :MXH_params\n",
    "act.ActorEquilibrium.model = :CHEASE\n",
    "dd = FUSE.init(dd, ini, act)\n",
    "mxh_plot = plot(dd.equilibrium, label=\"CHEASE deadstart MXH\")\n",
    "display(mxh_plot)\n",
    "\n",
    "# CHEASE deadstart MILLER\n",
    "dd = IMAS.dd()\n",
    "ini, act = FUSE.case_parameters(:ITER, init_from=:scalars);\n",
    "ini.equilibrium.boundary_from = :scalars\n",
    "act.ActorEquilibrium.model = :CHEASE\n",
    "act.ActorCHEASE.free_boundary = false\n",
    "dd = FUSE.init(dd, ini, act)\n",
    "miller_plot = plot(dd.equilibrium, label=\"CHEASE deadstart Miller\")\n",
    "display(miller_plot)"
   ]
  },
  {
   "cell_type": "markdown",
   "id": "116a31bb-7871-43a6-95e7-98ba0d41ac51",
   "metadata": {},
   "source": [
    "### Make new FPP boundary from scratch"
   ]
  },
  {
   "cell_type": "code",
   "execution_count": null,
   "id": "cb37d3e0-f410-4354-b282-8919e47934bc",
   "metadata": {
    "tags": []
   },
   "outputs": [],
   "source": [
    "# CHEASE deadstart Miller\n",
    "dd = IMAS.dd()\n",
    "ini, act = FUSE.case_parameters(:FPP, version=:v1_demount, init_from=:scalars);\n",
    "ini.equilibrium.boundary_from = :scalars\n",
    "act.ActorEquilibrium.model = :CHEASE\n",
    "act.ActorCHEASE.free_boundary = true\n",
    "\n",
    "ini.equilibrium.κ = 2.2\n",
    "ini.equilibrium.ζ = 0.0\n",
    "\n",
    "dd = FUSE.init(dd, ini, act)\n",
    "mxh_plot = plot(dd.equilibrium, label=\"CHEASE deadstart Miller\")\n",
    "display(mxh_plot)\n",
    "\n",
    "FUSE.digest(dd)"
   ]
  }
 ],
 "metadata": {
  "kernelspec": {
   "display_name": "Julia (20 threads) 1.8.5",
   "language": "julia",
   "name": "julia-_20-threads_-1.8"
  },
  "language_info": {
   "file_extension": ".jl",
   "mimetype": "application/julia",
   "name": "julia",
   "version": "1.8.5"
  }
 },
 "nbformat": 4,
 "nbformat_minor": 5
}
