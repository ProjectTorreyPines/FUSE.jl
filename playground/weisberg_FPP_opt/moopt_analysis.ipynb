{
 "cells": [
  {
   "cell_type": "markdown",
   "id": "c8eb3e92-2476-439b-a771-6dd9a7003472",
   "metadata": {},
   "source": [
    "# Multi objective optimization post-processing analysis"
   ]
  },
  {
   "cell_type": "code",
   "execution_count": 4,
   "id": "b0776002",
   "metadata": {
    "tags": []
   },
   "outputs": [],
   "source": [
    "using Revise\n",
    "using FUSE\n",
    "using Plots;\n",
    "gr();"
   ]
  },
  {
   "cell_type": "markdown",
   "id": "193bb86f",
   "metadata": {},
   "source": [
    "## Process data"
   ]
  },
  {
   "cell_type": "markdown",
   "id": "91eb1774",
   "metadata": {},
   "source": [
    "### Load results from cache file"
   ]
  },
  {
   "cell_type": "code",
   "execution_count": 5,
   "id": "b8c6f4fe-997a-4af3-99ee-5432ed9e341a",
   "metadata": {
    "tags": []
   },
   "outputs": [
    {
     "name": "stdout",
     "output_type": "stream",
     "text": [
      "60672\n",
      "58092\n"
     ]
    },
    {
     "name": "stderr",
     "output_type": "stream",
     "text": [
      "\u001b[36m\u001b[1m[ \u001b[22m\u001b[39m\u001b[36m\u001b[1mInfo: \u001b[22m\u001b[39mLoaded cache file with 52913 results\n",
      "\u001b[32mProgress: 100%|███████████████████████████| Time: 0:07:50 ( 8.10 ms/it)\u001b[39m\u001b[32mProgress:   0%|                           |  ETA: 2:44:26 ( 0.17  s/it)\u001b[39m\n",
      "\u001b[36m\u001b[1m[ \u001b[22m\u001b[39m\u001b[36m\u001b[1mInfo: \u001b[22m\u001b[39mWritten cache file with 58092 results\n"
     ]
    }
   ],
   "source": [
    "cache_path = \"nominal/opt_betaN_cost__Solovev_Kr_flattop24_HTS0.1_qpol2.75_A3.5_Zeff2.0/opt_runs/\"\n",
    "\n",
    "write_cache = true\n",
    "\n",
    "path = cache_path\n",
    "all_dirs = filter(isdir, sort(readdir(path; join=true)))\n",
    "println(length(all_dirs))\n",
    "\n",
    "dirs = sort(filter(x -> !isfile(joinpath(x, \"error.txt\")) && isfile(joinpath(x, \"dd.json\")), all_dirs))\n",
    "println(length(dirs))\n",
    "\n",
    "IMAS.update_ExtractFunctionsLibrary!(); # to pick up any ongoing development to extract function library\n",
    "outputs = FUSE.extract(dirs; filter_invalid=:cols, cache=joinpath(cache_path, \"extract.csv\"), read_cache=true, write_cache=write_cache);"
   ]
  },
  {
   "cell_type": "code",
   "execution_count": 6,
   "id": "ce162b38-8c20-4650-9395-90f319b1f530",
   "metadata": {},
   "outputs": [
    {
     "data": {
      "text/plain": [
       "58092-element Vector{String}:\n",
       " \"nominal/opt_betaN_cost__Solovev\" ⋯ 57 bytes ⋯ \"023-08-10T00:43:34.546__3578647\"\n",
       " \"nominal/opt_betaN_cost__Solovev\" ⋯ 57 bytes ⋯ \"023-08-10T00:43:36.016__3578638\"\n",
       " \"nominal/opt_betaN_cost__Solovev\" ⋯ 57 bytes ⋯ \"023-08-10T00:43:37.738__1781931\"\n",
       " \"nominal/opt_betaN_cost__Solovev\" ⋯ 57 bytes ⋯ \"023-08-10T00:43:39.593__3578640\"\n",
       " \"nominal/opt_betaN_cost__Solovev\" ⋯ 57 bytes ⋯ \"023-08-10T00:43:41.581__3578653\"\n",
       " \"nominal/opt_betaN_cost__Solovev\" ⋯ 57 bytes ⋯ \"023-08-10T00:43:42.202__3187191\"\n",
       " \"nominal/opt_betaN_cost__Solovev\" ⋯ 57 bytes ⋯ \"023-08-10T00:43:43.074__3578630\"\n",
       " \"nominal/opt_betaN_cost__Solovev\" ⋯ 57 bytes ⋯ \"023-08-10T00:43:45.037__3578677\"\n",
       " \"nominal/opt_betaN_cost__Solovev\" ⋯ 57 bytes ⋯ \"023-08-10T00:43:45.240__3187205\"\n",
       " \"nominal/opt_betaN_cost__Solovev\" ⋯ 57 bytes ⋯ \"023-08-10T00:43:45.845__2939832\"\n",
       " \"nominal/opt_betaN_cost__Solovev\" ⋯ 57 bytes ⋯ \"023-08-10T00:43:46.072__1781973\"\n",
       " \"nominal/opt_betaN_cost__Solovev\" ⋯ 57 bytes ⋯ \"023-08-10T00:43:46.218__3578678\"\n",
       " \"nominal/opt_betaN_cost__Solovev\" ⋯ 57 bytes ⋯ \"023-08-10T00:43:46.538__2939850\"\n",
       " ⋮\n",
       " \"nominal/opt_betaN_cost__Solovev\" ⋯ 55 bytes ⋯ \"2023-08-10T07:44:12.745__794412\"\n",
       " \"nominal/opt_betaN_cost__Solovev\" ⋯ 56 bytes ⋯ \"023-08-10T07:44:12.755__1079825\"\n",
       " \"nominal/opt_betaN_cost__Solovev\" ⋯ 55 bytes ⋯ \"2023-08-10T07:44:13.522__794387\"\n",
       " \"nominal/opt_betaN_cost__Solovev\" ⋯ 55 bytes ⋯ \"2023-08-10T07:44:13.877__794391\"\n",
       " \"nominal/opt_betaN_cost__Solovev\" ⋯ 55 bytes ⋯ \"2023-08-10T07:44:14.810__794354\"\n",
       " \"nominal/opt_betaN_cost__Solovev\" ⋯ 55 bytes ⋯ \"2023-08-10T07:44:16.996__794398\"\n",
       " \"nominal/opt_betaN_cost__Solovev\" ⋯ 56 bytes ⋯ \"023-08-10T07:44:17.743__1079792\"\n",
       " \"nominal/opt_betaN_cost__Solovev\" ⋯ 56 bytes ⋯ \"023-08-10T07:44:19.401__3832607\"\n",
       " \"nominal/opt_betaN_cost__Solovev\" ⋯ 56 bytes ⋯ \"023-08-10T07:44:19.972__1467556\"\n",
       " \"nominal/opt_betaN_cost__Solovev\" ⋯ 56 bytes ⋯ \"023-08-10T07:44:20.491__3832609\"\n",
       " \"nominal/opt_betaN_cost__Solovev\" ⋯ 56 bytes ⋯ \"023-08-10T07:44:22.566__3832633\"\n",
       " \"nominal/opt_betaN_cost__Solovev\" ⋯ 56 bytes ⋯ \"023-08-10T07:44:25.106__1079795\""
      ]
     },
     "execution_count": 6,
     "metadata": {},
     "output_type": "execute_result"
    },
    {
     "name": "stderr",
     "output_type": "stream",
     "text": [
      "┌ Warning: /home/weisbergd/.julia/dev/IMAS/src/expressions is not an existing directory, Revise is not watching\n",
      "└ @ Revise /home/weisbergd/.julia/packages/Revise/do2nH/src/packagedef.jl:570\n",
      "┌ Warning: /home/weisbergd/.julia/dev/IMAS/src is not an existing directory, Revise is not watching\n",
      "└ @ Revise /home/weisbergd/.julia/packages/Revise/do2nH/src/packagedef.jl:570\n",
      "┌ Warning: /home/weisbergd/.julia/dev/IMAS/src/physics is not an existing directory, Revise is not watching\n",
      "└ @ Revise /home/weisbergd/.julia/packages/Revise/do2nH/src/packagedef.jl:570\n",
      "┌ Warning: /home/weisbergd/.julia/dev/IMASDD/src is not an existing directory, Revise is not watching\n",
      "└ @ Revise /home/weisbergd/.julia/packages/Revise/do2nH/src/packagedef.jl:570\n"
     ]
    }
   ],
   "source": [
    "dirs"
   ]
  },
  {
   "cell_type": "code",
   "execution_count": null,
   "id": "bc07f6ab-560f-4192-bdaf-1c2ff93deba1",
   "metadata": {},
   "outputs": [],
   "source": []
  }
 ],
 "metadata": {
  "@webio": {
   "lastCommId": "d4d34e5e-0270-46e8-9d35-93a0e739c646",
   "lastKernelId": "64769fa5-282f-4571-9a2a-0277615989f0"
  },
  "kernelspec": {
   "display_name": "Julia 1.8.5",
   "language": "julia",
   "name": "julia-1.8"
  },
  "language_info": {
   "file_extension": ".jl",
   "mimetype": "application/julia",
   "name": "julia",
   "version": "1.8.5"
  },
  "toc-autonumbering": false
 },
 "nbformat": 4,
 "nbformat_minor": 5
}
