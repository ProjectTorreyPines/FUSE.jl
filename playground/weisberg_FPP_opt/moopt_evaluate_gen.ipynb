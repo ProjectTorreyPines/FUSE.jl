{
 "cells": [
  {
   "cell_type": "markdown",
   "id": "1390bb9d-8bff-4fd0-bb5b-33efc5f1a084",
   "metadata": {},
   "source": [
    "# Evaluate optimization generation with distributed workers"
   ]
  },
  {
   "cell_type": "code",
   "execution_count": 1,
   "id": "a0b22b97-b87f-4bf2-9edc-ad368166d7f0",
   "metadata": {
    "tags": []
   },
   "outputs": [
    {
     "name": "stderr",
     "output_type": "stream",
     "text": [
      "WARNING: redefinition of constant UNIT_FORMATS. This may fail, cause incorrect answers, or produce other errors.\n"
     ]
    }
   ],
   "source": [
    "using FUSE\n",
    "using JLD2\n",
    "using Plots;"
   ]
  },
  {
   "cell_type": "markdown",
   "id": "7114271f-e572-4f98-913b-0e6e061b89e1",
   "metadata": {},
   "source": [
    "## Define run directories"
   ]
  },
  {
   "cell_type": "code",
   "execution_count": 2,
   "id": "ab70d6d8-5ffd-432a-81e8-a4c57dceb33a",
   "metadata": {},
   "outputs": [
    {
     "data": {
      "text/plain": [
       "1-element Vector{String}:\n",
       " \"opt_betaN_cost__Solovev_Kr_flattop24_HTS0.1_A3.5_Zeff2.0/\""
      ]
     },
     "execution_count": 2,
     "metadata": {},
     "output_type": "execute_result"
    }
   ],
   "source": [
    "top_dir = \"exploratory/\"\n",
    "run_dir = \"opt_runs3/\"\n",
    "gen_eval = 300\n",
    "\n",
    "result_paths = [\n",
    "    \"opt_betaN_cost__Solovev_Kr_flattop24_HTS0.1_A3.5_Zeff2.0/\",\n",
    "    ]"
   ]
  },
  {
   "cell_type": "markdown",
   "id": "0ef55d47-9160-44af-af86-c08d34ad55e2",
   "metadata": {},
   "source": [
    "## Setup distributed computing environment"
   ]
  },
  {
   "cell_type": "code",
   "execution_count": 3,
   "id": "82b33120-a823-4ab0-a0d9-ef25e3b36326",
   "metadata": {
    "tags": []
   },
   "outputs": [
    {
     "name": "stdout",
     "output_type": "stream",
     "text": [
      "connecting to worker 1 out of 256\n",
      "connecting to worker 2 out of 256\n",
      "connecting to worker 3 out of 256\n",
      "connecting to worker 4 out of 256\n",
      "connecting to worker 5 out of 256\n",
      "connecting to worker 6 out of 256\n",
      "connecting to worker 7 out of 256\n",
      "connecting to worker 8 out of 256\n",
      "connecting to worker 9 out of 256\n",
      "connecting to worker 10 out of 256\n",
      "connecting to worker 11 out of 256\n",
      "connecting to worker 12 out of 256\n",
      "connecting to worker 13 out of 256\n",
      "connecting to worker 14 out of 256\n",
      "connecting to worker 15 out of 256\n",
      "connecting to worker 16 out of 256\n",
      "connecting to worker 17 out of 256\n",
      "connecting to worker 18 out of 256\n",
      "connecting to worker 19 out of 256\n",
      "connecting to worker 20 out of 256\n",
      "connecting to worker 21 out of 256\n",
      "connecting to worker 22 out of 256\n",
      "connecting to worker 23 out of 256\n",
      "connecting to worker 24 out of 256\n",
      "connecting to worker 25 out of 256\n",
      "connecting to worker 26 out of 256\n",
      "connecting to worker 27 out of 256\n",
      "connecting to worker 28 out of 256\n",
      "connecting to worker 29 out of 256\n",
      "connecting to worker 30 out of 256\n",
      "connecting to worker 31 out of 256\n",
      "connecting to worker 32 out of 256\n",
      "connecting to worker 33 out of 256\n",
      "connecting to worker 34 out of 256\n",
      "connecting to worker 35 out of 256\n",
      "connecting to worker 36 out of 256\n",
      "connecting to worker 37 out of 256\n",
      "connecting to worker 38 out of 256\n",
      "connecting to worker 39 out of 256\n",
      "connecting to worker 40 out of 256\n",
      "connecting to worker 41 out of 256\n",
      "connecting to worker 42 out of 256\n",
      "connecting to worker 43 out of 256\n",
      "connecting to worker 44 out of 256\n",
      "connecting to worker 45 out of 256\n",
      "connecting to worker 46 out of 256\n",
      "connecting to worker 47 out of 256\n",
      "connecting to worker 48 out of 256\n",
      "connecting to worker 49 out of 256\n",
      "connecting to worker 50 out of 256\n",
      "connecting to worker 51 out of 256\n",
      "connecting to worker 52 out of 256\n",
      "connecting to worker 53 out of 256\n",
      "connecting to worker 54 out of 256\n",
      "connecting to worker 55 out of 256\n",
      "connecting to worker 56 out of 256\n",
      "connecting to worker 57 out of 256\n",
      "connecting to worker 58 out of 256\n",
      "connecting to worker 59 out of 256\n",
      "connecting to worker 60 out of 256\n",
      "connecting to worker 61 out of 256\n",
      "connecting to worker 62 out of 256\n",
      "connecting to worker 63 out of 256\n",
      "connecting to worker 64 out of 256\n",
      "connecting to worker 65 out of 256\n",
      "connecting to worker 66 out of 256\n",
      "connecting to worker 67 out of 256\n",
      "connecting to worker 68 out of 256\n",
      "connecting to worker 69 out of 256\n",
      "connecting to worker 70 out of 256\n",
      "connecting to worker 71 out of 256\n",
      "connecting to worker 72 out of 256\n",
      "connecting to worker 73 out of 256\n",
      "connecting to worker 74 out of 256\n",
      "connecting to worker 75 out of 256\n",
      "connecting to worker 76 out of 256\n",
      "connecting to worker 77 out of 256\n",
      "connecting to worker 78 out of 256\n",
      "connecting to worker 79 out of 256\n",
      "connecting to worker 80 out of 256\n",
      "connecting to worker 81 out of 256\n",
      "connecting to worker 82 out of 256\n",
      "connecting to worker 83 out of 256\n",
      "connecting to worker 84 out of 256\n",
      "connecting to worker 85 out of 256\n",
      "connecting to worker 86 out of 256\n",
      "connecting to worker 87 out of 256\n",
      "connecting to worker 88 out of 256\n",
      "connecting to worker 89 out of 256\n",
      "connecting to worker 90 out of 256\n",
      "connecting to worker 91 out of 256\n",
      "connecting to worker 92 out of 256\n",
      "connecting to worker 93 out of 256\n",
      "connecting to worker 94 out of 256\n",
      "connecting to worker 95 out of 256\n",
      "connecting to worker 96 out of 256\n",
      "connecting to worker 97 out of 256\n",
      "connecting to worker 98 out of 256\n",
      "connecting to worker 99 out of 256\n",
      "connecting to worker 100 out of 256\n",
      "connecting to worker 101 out of 256\n",
      "connecting to worker 102 out of 256\n",
      "connecting to worker 103 out of 256\n",
      "connecting to worker 104 out of 256\n",
      "connecting to worker 105 out of 256\n",
      "connecting to worker 106 out of 256\n",
      "connecting to worker 107 out of 256\n",
      "connecting to worker 108 out of 256\n",
      "connecting to worker 109 out of 256\n",
      "connecting to worker 110 out of 256\n",
      "connecting to worker 111 out of 256\n",
      "connecting to worker 112 out of 256\n",
      "connecting to worker 113 out of 256\n",
      "connecting to worker 114 out of 256\n",
      "connecting to worker 115 out of 256\n",
      "connecting to worker 116 out of 256\n",
      "connecting to worker 117 out of 256\n",
      "connecting to worker 118 out of 256\n",
      "connecting to worker 119 out of 256\n",
      "connecting to worker 120 out of 256\n",
      "connecting to worker 121 out of 256\n",
      "connecting to worker 122 out of 256\n",
      "connecting to worker 123 out of 256\n",
      "connecting to worker 124 out of 256\n",
      "connecting to worker 125 out of 256\n",
      "connecting to worker 126 out of 256\n",
      "connecting to worker 127 out of 256\n",
      "connecting to worker 128 out of 256\n",
      "connecting to worker 129 out of 256\n",
      "connecting to worker 130 out of 256\n",
      "connecting to worker 131 out of 256\n",
      "connecting to worker 132 out of 256\n",
      "connecting to worker 133 out of 256\n",
      "connecting to worker 134 out of 256\n",
      "connecting to worker 135 out of 256\n",
      "connecting to worker 136 out of 256\n",
      "connecting to worker 137 out of 256\n",
      "connecting to worker 138 out of 256\n",
      "connecting to worker 139 out of 256\n",
      "connecting to worker 140 out of 256\n",
      "connecting to worker 141 out of 256\n",
      "connecting to worker 142 out of 256\n",
      "connecting to worker 143 out of 256\n",
      "connecting to worker 144 out of 256\n",
      "connecting to worker 145 out of 256\n",
      "connecting to worker 146 out of 256\n",
      "connecting to worker 147 out of 256\n",
      "connecting to worker 148 out of 256\n",
      "connecting to worker 149 out of 256\n",
      "connecting to worker 150 out of 256\n",
      "connecting to worker 151 out of 256\n",
      "connecting to worker 152 out of 256\n",
      "connecting to worker 153 out of 256\n",
      "connecting to worker 154 out of 256\n",
      "connecting to worker 155 out of 256\n",
      "connecting to worker 156 out of 256\n",
      "connecting to worker 157 out of 256\n",
      "connecting to worker 158 out of 256\n",
      "connecting to worker 159 out of 256\n",
      "connecting to worker 160 out of 256\n",
      "connecting to worker 161 out of 256\n",
      "connecting to worker 162 out of 256\n",
      "connecting to worker 163 out of 256\n",
      "connecting to worker 164 out of 256\n",
      "connecting to worker 165 out of 256\n",
      "connecting to worker 166 out of 256\n",
      "connecting to worker 167 out of 256\n",
      "connecting to worker 168 out of 256\n",
      "connecting to worker 169 out of 256\n",
      "connecting to worker 170 out of 256\n",
      "connecting to worker 171 out of 256\n",
      "connecting to worker 172 out of 256\n",
      "connecting to worker 173 out of 256\n",
      "connecting to worker 174 out of 256\n",
      "connecting to worker 175 out of 256\n",
      "connecting to worker 176 out of 256\n",
      "connecting to worker 177 out of 256\n",
      "connecting to worker 178 out of 256\n",
      "connecting to worker 179 out of 256\n",
      "connecting to worker 180 out of 256\n",
      "connecting to worker 181 out of 256\n",
      "connecting to worker 182 out of 256\n",
      "connecting to worker 183 out of 256\n",
      "connecting to worker 184 out of 256\n",
      "connecting to worker 185 out of 256\n",
      "connecting to worker 186 out of 256\n",
      "connecting to worker 187 out of 256\n",
      "connecting to worker 188 out of 256\n",
      "connecting to worker 189 out of 256\n",
      "connecting to worker 190 out of 256\n",
      "connecting to worker 191 out of 256\n",
      "connecting to worker 192 out of 256\n",
      "connecting to worker 193 out of 256\n",
      "connecting to worker 194 out of 256\n",
      "connecting to worker 195 out of 256\n",
      "connecting to worker 196 out of 256\n",
      "connecting to worker 197 out of 256\n",
      "connecting to worker 198 out of 256\n",
      "connecting to worker 199 out of 256\n",
      "connecting to worker 200 out of 256\n",
      "connecting to worker 201 out of 256\n",
      "connecting to worker 202 out of 256\n",
      "connecting to worker 203 out of 256\n",
      "connecting to worker 204 out of 256\n",
      "connecting to worker 205 out of 256\n",
      "connecting to worker 206 out of 256\n",
      "connecting to worker 207 out of 256\n",
      "connecting to worker 208 out of 256\n",
      "connecting to worker 209 out of 256\n",
      "connecting to worker 210 out of 256\n",
      "connecting to worker 211 out of 256\n",
      "connecting to worker 212 out of 256\n",
      "connecting to worker 213 out of 256\n",
      "connecting to worker 214 out of 256\n",
      "connecting to worker 215 out of 256\n",
      "connecting to worker 216 out of 256\n",
      "connecting to worker 217 out of 256\n",
      "connecting to worker 218 out of 256\n",
      "connecting to worker 219 out of 256\n",
      "connecting to worker 220 out of 256\n",
      "connecting to worker 221 out of 256\n",
      "connecting to worker 222 out of 256\n",
      "connecting to worker 223 out of 256\n",
      "connecting to worker 224 out of 256\n",
      "connecting to worker 225 out of 256\n",
      "connecting to worker 226 out of 256\n",
      "connecting to worker 227 out of 256\n",
      "connecting to worker 228 out of 256\n",
      "connecting to worker 229 out of 256\n",
      "connecting to worker 230 out of 256\n",
      "connecting to worker 231 out of 256\n",
      "connecting to worker 232 out of 256\n",
      "connecting to worker 233 out of 256\n",
      "connecting to worker 234 out of 256\n",
      "connecting to worker 235 out of 256\n",
      "connecting to worker 236 out of 256\n",
      "connecting to worker 237 out of 256\n",
      "connecting to worker 238 out of 256\n",
      "connecting to worker 239 out of 256\n",
      "connecting to worker 240 out of 256\n",
      "connecting to worker 241 out of 256\n",
      "connecting to worker 242 out of 256\n",
      "connecting to worker 243 out of 256\n",
      "connecting to worker 244 out of 256\n",
      "connecting to worker 245 out of 256\n",
      "connecting to worker 246 out of 256\n",
      "connecting to worker 247 out of 256\n",
      "connecting to worker 248 out of 256\n",
      "connecting to worker 249 out of 256\n",
      "connecting to worker 250 out of 256\n",
      "connecting to worker 251 out of 256\n",
      "connecting to worker 252 out of 256\n",
      "connecting to worker 253 out of 256\n",
      "connecting to worker 254 out of 256\n",
      "connecting to worker 255 out of 256\n",
      "connecting to worker 256 out of 256\n",
      "Working with 256 processes on omega-b.gat.com\n"
     ]
    },
    {
     "data": {
      "text/plain": [
       "\"/fusion/ga/projects/ird/ptp/weisbergd/julia/dev/FUSE/playground/weisberg_FPP_opt\""
      ]
     },
     "metadata": {},
     "output_type": "display_data"
    }
   ],
   "source": [
    "old_dir = pwd()\n",
    "mkpath(top_dir)\n",
    "try\n",
    "    cd(top_dir) \n",
    "    FUSE.parallel_environment(\"omega\", 128*2) \n",
    "finally\n",
    "    cd(old_dir)\n",
    "end\n",
    "display(pwd())\n",
    "using Distributed\n",
    "#@everywhere import WarmupFUSE\n",
    "@everywhere import IJulia\n",
    "@everywhere import FUSE"
   ]
  },
  {
   "cell_type": "markdown",
   "id": "ad0bf1ec-549d-425b-be7e-bac5cf6123eb",
   "metadata": {},
   "source": [
    "## Define main loop function"
   ]
  },
  {
   "cell_type": "code",
   "execution_count": 3,
   "id": "665d6876",
   "metadata": {},
   "outputs": [
    {
     "name": "stdout",
     "output_type": "stream",
     "text": [
      "25344\n",
      "25221\n"
     ]
    },
    {
     "data": {
      "text/plain": [
       "\"Loaded result1.jld2\""
      ]
     },
     "metadata": {},
     "output_type": "display_data"
    },
    {
     "data": {
      "text/plain": [
       "\"Loaded result2.jld2\""
      ]
     },
     "metadata": {},
     "output_type": "display_data"
    },
    {
     "data": {
      "text/plain": [
       "\"Loaded result3.jld2\""
      ]
     },
     "metadata": {},
     "output_type": "display_data"
    },
    {
     "data": {
      "text/plain": [
       "\"Loaded result4.jld2\""
      ]
     },
     "metadata": {},
     "output_type": "display_data"
    },
    {
     "name": "stderr",
     "output_type": "stream",
     "text": [
      "\u001b[33m\u001b[1m┌ \u001b[22m\u001b[39m\u001b[33m\u001b[1mWarning: \u001b[22m\u001b[39mOpening file with JLD2.MmapIO failed, falling back to IOStream\n",
      "\u001b[33m\u001b[1m└ \u001b[22m\u001b[39m\u001b[90m@ JLD2 ~/.julia/packages/JLD2/cHcDY/src/JLD2.jl:287\u001b[39m\n"
     ]
    },
    {
     "data": {
      "text/plain": [
       "\"Could not find result5.jld2\""
      ]
     },
     "metadata": {},
     "output_type": "display_data"
    },
    {
     "name": "stderr",
     "output_type": "stream",
     "text": [
      "\u001b[33m\u001b[1m┌ \u001b[22m\u001b[39m\u001b[33m\u001b[1mWarning: \u001b[22m\u001b[39mOpening file with JLD2.MmapIO failed, falling back to IOStream\n",
      "\u001b[33m\u001b[1m└ \u001b[22m\u001b[39m\u001b[90m@ JLD2 ~/.julia/packages/JLD2/cHcDY/src/JLD2.jl:287\u001b[39m\n"
     ]
    },
    {
     "data": {
      "text/plain": [
       "\"Could not find result6.jld2\""
      ]
     },
     "metadata": {},
     "output_type": "display_data"
    },
    {
     "name": "stderr",
     "output_type": "stream",
     "text": [
      "\u001b[91m\u001b[1m┌ \u001b[22m\u001b[39m\u001b[91m\u001b[1mError: \u001b[22m\u001b[39mreading act.ActorDivertors.impurities : TypeError(:setfield!, \"\", Union{Missing, Vector{Symbol}}, Float64[])\n",
      "\u001b[91m\u001b[1m└ \u001b[22m\u001b[39m\u001b[90m@ SimulationParameters ~/.julia/dev/SimulationParameters/src/utils.jl:92\u001b[39m\n"
     ]
    },
    {
     "data": {
      "text/plain": [
       "\u001b[0m\u001b[1mFUSE.ParametersInits{Float64}\u001b[22m\n",
       "├─ \u001b[0m\u001b[1mgeneral\u001b[22m\n",
       "│  ├─ \u001b[0mcasename\u001b[0m ➡ \u001b[31m\"FPP_v1_demount_scalars\"\u001b[39m \u001b[97mMnemonic name of the case being run\u001b[39m\n",
       "│  └─ \u001b[0minit_from\u001b[0m ➡ \u001b[31m:scalars\u001b[39m \u001b[97mInitialize run from [:ods, :scalars]\u001b[39m\n",
       "├─ \u001b[0m\u001b[1mgasc\u001b[22m\n",
       "│  ├─ \u001b[0mfilename\u001b[0m ➡ \u001b[31m\"/fusion/ga/projects/ird/ptp/weisbergd/julia/dev/FUSE/cases/../sample/FPPv1.0_aspectRatio3.5_PBpR35_demount.json\"\u001b[39m\n",
       "│  │  \u001b[97mOutput GASC .json file from which data will be loaded\u001b[39m\n",
       "│  └─ \u001b[0mcase\u001b[0m ➡ \u001b[31m0\u001b[39m \u001b[97mNumber of the GASC run to load\u001b[39m\n",
       "├─ \u001b[0m\u001b[1mods\u001b[22m\n",
       "│  └─ \u001b[0mfilename\u001b[0m ➡ \u001b[33mmissing\u001b[39m \u001b[97mODS.json file from which equilibrium is loaded\u001b[39m\n",
       "├─ \u001b[0m\u001b[1mbuild\u001b[22m\n",
       "│  ├─ \u001b[0mlayers\u001b[0m ➡ \u001b[31mOrderedCollections.OrderedDict{Symbol, Float64}(\u001b[39m\n",
       "│  │  \u001b[31m         :gap_OH => 0.9660441468573052\u001b[39m\n",
       "│  │  \u001b[31m         :OH => 0.519738179067469\u001b[39m\n",
       "│  │  \u001b[31m         :gap_TF_OH => 0.07343221127763265\u001b[39m\n",
       "│  │  \u001b[31m         :hfs_TF => 0.519738179067469\u001b[39m\n",
       "│  │  \u001b[31m         :hfs_gap_low_temp_shield_TF => 0.07343221127763265\u001b[39m\n",
       "│  │  \u001b[31m         :hfs_low_temp_shield => 0.31814263905127016\u001b[39m\n",
       "│  │  \u001b[31m         :hfs_gap_vacuum_vessel_low_temp_shield => 0.07343221127763265\u001b[39m\n",
       "│  │  \u001b[31m         :hfs_vacuum_vessel => 0.18358052819408166\u001b[39m\n",
       "│  │  \u001b[31m         :hfs_gap_high_temp_shield_vacuum_vessel => 0.07343221127763265\u001b[39m\n",
       "│  │  \u001b[31m         :hfs_high_temp_shield => 0.18358052819408166\u001b[39m\n",
       "│  │  \u001b[31m         :hfs_blanket => 0.4834769901453429\u001b[39m\n",
       "│  │  \u001b[31m         :hfs_first_wall => 0.02\u001b[39m\n",
       "│  │  \u001b[31m         :plasma => 3.304449507493469\u001b[39m\n",
       "│  │  \u001b[31m         :lfs_first_wall => 0.02\u001b[39m\n",
       "│  │  \u001b[31m         :lfs_blanket => 0.785401231180262\u001b[39m\n",
       "│  │  \u001b[31m         :lfs_high_temp_shield => 0.18358052819408166\u001b[39m\n",
       "│  │  \u001b[31m         :lfs_gap_high_temp_shield_vacuum_vessel => 0.7343221127763266\u001b[39m\n",
       "│  │  \u001b[31m         :lfs_vacuum_vessel => 0.18358052819408166\u001b[39m\n",
       "│  │  \u001b[31m         :lfs_gap_vacuum_vessel_low_temp_shield => 0.07343221127763265\u001b[39m\n",
       "│  │  \u001b[31m         :lfs_low_temp_shield => 0.31814263905127016\u001b[39m\n",
       "│  │  \u001b[31m         :lfs_gap_low_temp_shield_TF => 0.07343221127763265\u001b[39m\n",
       "│  │  \u001b[31m         :lfs_TF => 0.519738179067469\u001b[39m\n",
       "│  │  \u001b[31m         :gap_cryostat => 1.4221989470234107\u001b[39m\n",
       "│  │  \u001b[31m         :cryostat => 0.21209509270084714)\u001b[39m\u001b[31m\u001b[1m [m]\u001b[22m\u001b[39m \u001b[97mSorted dictionary of layers thicknesses in radial build\u001b[39m\n",
       "│  ├─ \u001b[0mblanket\u001b[0m ➡ \u001b[33mmissing\u001b[39m \u001b[97mFraction of blanket in radial build\u001b[39m\n",
       "│  ├─ \u001b[0mshield\u001b[0m ➡ \u001b[33mmissing\u001b[39m \u001b[97mFraction of shield in radial build\u001b[39m\n",
       "│  ├─ \u001b[0mvessel\u001b[0m ➡ \u001b[33mmissing\u001b[39m \u001b[97mFraction of vessel in radial build\u001b[39m\n",
       "│  ├─ \u001b[0mplasma_gap\u001b[0m ➡ \u001b[31m0.125\u001b[39m \u001b[97mFraction of vacuum gap between first wall and plasma separatrix in radial build\u001b[39m\n",
       "│  ├─ \u001b[0msymmetric\u001b[0m ➡ \u001b[31mfalse\u001b[39m \u001b[97mIs the build up-down symmetric\u001b[39m\n",
       "│  ├─ \u001b[0mdivertors\u001b[0m ➡ \u001b[31m:lower\u001b[39m \u001b[97mDivertors configuration [:lower, :upper, :double, :none, :from_x_points]\u001b[39m\n",
       "│  └─ \u001b[0mn_first_wall_conformal_layers\u001b[0m ➡ \u001b[31m2\u001b[39m \u001b[97mNumber of layers that are conformal to the first wall\u001b[39m\n",
       "├─ \u001b[0m\u001b[1mmaterial\u001b[22m\n",
       "│  ├─ \u001b[0mwall\u001b[0m ➡ \u001b[31m\"Tungsten\"\u001b[39m \u001b[97mMaterial used for the wall [\"Carbon, Graphite (reactor grade)\", \"Tungsten\", \"Steel, Stainless 316\"]\u001b[39m\n",
       "│  ├─ \u001b[0mblanket\u001b[0m ➡ \u001b[31m\"lithium-lead\"\u001b[39m \u001b[97mMaterial used for blanket coils [\"lithium-lead\", \"FLiBe\"]\u001b[39m\n",
       "│  └─ \u001b[0mshield\u001b[0m ➡ \u001b[31m\"Steel, Stainless 316\"\u001b[39m \u001b[97mMaterial used for the shield [\"Tungsten\", \"Steel, Stainless 316\"]\u001b[39m\n",
       "├─ \u001b[0m\u001b[1mequilibrium\u001b[22m\n",
       "│  ├─ \u001b[0mB0\u001b[0m ➡ \u001b[31m5.384157313284614\u001b[39m\u001b[31m\u001b[1m [T]\u001b[22m\u001b[39m \u001b[97mVacuum toroidal field at R0 [T]; Positive sign means anti-clockwise when viewing from above.\u001b[39m\n",
       "│  │  \u001b[97mThe product R0B0 must be consistent with the b_tor_vacuum_r field of the tf IDS.\u001b[39m\n",
       "│  ├─ \u001b[0mR0\u001b[0m ➡ \u001b[31m5.140254789434286\u001b[39m\u001b[31m\u001b[1m [m]\u001b[22m\u001b[39m \u001b[97mGeometric genter of the plasma. NOTE: This also scales the radial build layers.\u001b[39m\n",
       "│  ├─ \u001b[0mZ0\u001b[0m ➡ \u001b[32m0.0\u001b[39m\u001b[32m\u001b[1m [m]\u001b[22m\u001b[39m \u001b[97mZ offset of the machine midplane\u001b[39m\n",
       "│  ├─ \u001b[0mϵ\u001b[0m ➡ \u001b[31m0.2857142857142857\u001b[39m \u001b[97mPlasma inverse aspect ratio. NOTE: This also scales the radial build layers.\u001b[39m\n",
       "│  ├─ \u001b[0mκ\u001b[0m ➡ \u001b[31m0.8826\u001b[39m \u001b[97mPlasma elongation. NOTE: If < 1.0 it defines the fraction of maximum controllable elongation estimate.\u001b[39m\n",
       "│  ├─ \u001b[0mδ\u001b[0m ➡ \u001b[31m0.7\u001b[39m \u001b[97mTriangularity of the plasma boundary\u001b[39m\n",
       "│  ├─ \u001b[0mζ\u001b[0m ➡ \u001b[32m0.0\u001b[39m \u001b[97mSquareness of the plasma boundary\u001b[39m\n",
       "│  ├─ \u001b[0mpressure_core\u001b[0m ➡ \u001b[31m1.666068664800766e6\u001b[39m\u001b[31m\u001b[1m [Pa]\u001b[22m\u001b[39m \u001b[97mOn axis pressure\u001b[39m\n",
       "│  ├─ \u001b[0mip\u001b[0m ➡ \u001b[31m9.157020158584353e6\u001b[39m\u001b[31m\u001b[1m [A]\u001b[22m\u001b[39m \u001b[97mPlasma current (toroidal component). Positive sign means anti-clockwise when viewed from\u001b[39m\n",
       "│  │  \u001b[97mabove.\u001b[39m\n",
       "│  ├─ \u001b[0mxpoints\u001b[0m ➡ \u001b[31m:lower\u001b[39m \u001b[97mX-points configuration [:lower, :upper, :double, :none]\u001b[39m\n",
       "│  ├─ \u001b[0mngrid\u001b[0m ➡ \u001b[32m129\u001b[39m \u001b[97mResolution of the equilibrium grid\u001b[39m\n",
       "│  ├─ \u001b[0mfield_null_surface\u001b[0m ➡ \u001b[32m0.75\u001b[39m \u001b[97mψn value of the field_null_surface. Disable with 0.0\u001b[39m\n",
       "│  ├─ \u001b[0mboundary_from\u001b[0m ➡ \u001b[31m:scalars\u001b[39m \u001b[97mThe starting r, z boundary taken from [:scalars, :MXH_params, :rz_points, :ods]\u001b[39m\n",
       "│  ├─ \u001b[0mMXH_params\u001b[0m ➡ \u001b[33mmissing\u001b[39m \u001b[97mVector of MXH flats\u001b[39m\n",
       "│  └─ \u001b[0mrz_points\u001b[0m ➡ \u001b[33mmissing\u001b[39m \u001b[97mR_Z boundary as Vector{Vector{<:Real}}} : r = rz_points[1], z = rz_points[2]\u001b[39m\n",
       "├─ \u001b[0m\u001b[1mcore_profiles\u001b[22m\n",
       "│  ├─ \u001b[0mgreenwald_fraction\u001b[0m ➡ \u001b[31m0.8138940843944762\u001b[39m \u001b[97mLine average electron density expressed as fraction of Greenwald density\u001b[39m\n",
       "│  ├─ \u001b[0mgreenwald_fraction_ped\u001b[0m ➡ \u001b[31m0.5372962948090667\u001b[39m \u001b[97mPedestal electron density expressed as fraction of Greenwald density\u001b[39m\n",
       "│  ├─ \u001b[0mne_ped\u001b[0m ➡ \u001b[33mmissing\u001b[39m \u001b[97mPedestal electron density\u001b[39m\n",
       "│  ├─ \u001b[0mw_ped\u001b[0m ➡ \u001b[32m0.05\u001b[39m \u001b[97mPedestal width expressed in fraction of ψₙ\u001b[39m\n",
       "│  ├─ \u001b[0mT_ratio\u001b[0m ➡ \u001b[31m0.825\u001b[39m \u001b[97mTi/Te ratio\u001b[39m\n",
       "│  ├─ \u001b[0mT_shaping\u001b[0m ➡ \u001b[31m2.5\u001b[39m \u001b[97mTemperature shaping factor\u001b[39m\n",
       "│  ├─ \u001b[0mn_shaping\u001b[0m ➡ \u001b[31m2.5\u001b[39m \u001b[97mDensity shaping factor\u001b[39m\n",
       "│  ├─ \u001b[0mzeff\u001b[0m ➡ \u001b[31m2.0\u001b[39m \u001b[97mEffective ion charge\u001b[39m\n",
       "│  ├─ \u001b[0mrot_core\u001b[0m ➡ \u001b[31m0.0\u001b[39m\u001b[31m\u001b[1m [s^-1]\u001b[22m\u001b[39m \u001b[97mDerivative of the flux surface averaged electrostatic potential with respect to the poloidal flux,\u001b[39m\n",
       "│  │  \u001b[97mmultiplied by -1. This quantity is the toroidal angular rotation frequency due to the ExB drift, introduced in formula\u001b[39m\n",
       "│  │  \u001b[97m(43) of Hinton and Wong, Physics of Fluids 3082 (1985), also referred to as sonic flow in regimes in which the toroidal\u001b[39m\n",
       "│  │  \u001b[97mvelocity is dominant over the poloidal velocity\u001b[39m\n",
       "│  ├─ \u001b[0mngrid\u001b[0m ➡ \u001b[32m101\u001b[39m \u001b[97mResolution of the core_profiles grid\u001b[39m\n",
       "│  ├─ \u001b[0mbulk\u001b[0m ➡ \u001b[31m:DT\u001b[39m \u001b[97mBulk ion species\u001b[39m\n",
       "│  ├─ \u001b[0mimpurity\u001b[0m ➡ \u001b[31m:Kr\u001b[39m \u001b[97mImpurity ion species\u001b[39m\n",
       "│  ├─ \u001b[0mhelium_fraction\u001b[0m ➡ \u001b[31m0.04\u001b[39m \u001b[97mHelium density / electron density fraction\u001b[39m\n",
       "│  ├─ \u001b[0mejima\u001b[0m ➡ \u001b[31m0.4\u001b[39m \u001b[97mEjima coefficient\u001b[39m\n",
       "│  └─ \u001b[0mpolarized_fuel_fraction\u001b[0m ➡ \u001b[32m0.0\u001b[39m \u001b[97mSpin polarized fuel fraction\u001b[39m\n",
       "├─ \u001b[0m\u001b[1mpf_active\u001b[22m\n",
       "│  ├─ \u001b[0mn_coils_inside\u001b[0m ➡ \u001b[31m0\u001b[39m \u001b[97mNumber of PF coils inside of the TF\u001b[39m\n",
       "│  ├─ \u001b[0mn_coils_outside\u001b[0m ➡ \u001b[31m8\u001b[39m \u001b[97mNumber of PF coils outside of the TF\u001b[39m\n",
       "│  └─ \u001b[0mtechnology\u001b[0m ➡ \u001b[31m:LTS\u001b[39m \u001b[97mPF coils technology [:copper, :LTS, :ITER, :HTS]\u001b[39m\n",
       "├─ \u001b[0m\u001b[1mtf\u001b[22m\n",
       "│  ├─ \u001b[0mn_coils\u001b[0m ➡ \u001b[31m16\u001b[39m \u001b[97mNumber of TF coils\u001b[39m\n",
       "│  ├─ \u001b[0mshape\u001b[0m ➡ \u001b[32mIMAS._double_ellipse_\u001b[39m \u001b[97mShape of the TF coils [:princeton_D, :princeton_D_scaled, :rectangle, :double_ellipse,\u001b[39m\n",
       "│  │  \u001b[97m:triple_arc, :miller, :square_miller, :spline]\u001b[39m\n",
       "│  ├─ \u001b[0mripple\u001b[0m ➡ \u001b[32m0.01\u001b[39m \u001b[97mFraction of toroidal field ripple evaluated at the outermost radius of the plasma chamber\u001b[39m\n",
       "│  └─ \u001b[0mtechnology\u001b[0m ➡ \u001b[31m:HTS\u001b[39m \u001b[97mTF coils technology [:copper, :LTS, :ITER, :HTS]\u001b[39m\n",
       "├─ \u001b[0m\u001b[1moh\u001b[22m\n",
       "│  ├─ \u001b[0mn_coils\u001b[0m ➡ \u001b[31m6\u001b[39m \u001b[97mNumber of OH coils\u001b[39m\n",
       "│  └─ \u001b[0mtechnology\u001b[0m ➡ \u001b[31m:HTS\u001b[39m \u001b[97mOH coils technology [:copper, :LTS, :ITER, :HTS]\u001b[39m\n",
       "├─ \u001b[0m\u001b[1mcenter_stack\u001b[22m\n",
       "│  ├─ \u001b[0mbucked\u001b[0m ➡ \u001b[32mfalse\u001b[39m \u001b[97mflag for bucked boundary conditions between TF and OH (and center plug, if present)\u001b[39m\n",
       "│  ├─ \u001b[0mnoslip\u001b[0m ➡ \u001b[32mfalse\u001b[39m \u001b[97mflag for no slip conditions between TF and OH (and center plug, if present)\u001b[39m\n",
       "│  └─ \u001b[0mplug\u001b[0m ➡ \u001b[32mfalse\u001b[39m \u001b[97mflag for center plug\u001b[39m\n",
       "├─ \u001b[0m\u001b[1mnbi\u001b[22m\n",
       "│  ├─ \u001b[0mpower_launched\u001b[0m ➡ \u001b[31mFloat64[]\u001b[39m\u001b[31m\u001b[1m [W]\u001b[22m\u001b[39m \u001b[97mBeam power\u001b[39m\n",
       "│  ├─ \u001b[0mbeam_energy\u001b[0m ➡ \u001b[31mFloat64[]\u001b[39m\u001b[31m\u001b[1m [eV]\u001b[22m\u001b[39m \u001b[97mBeam energy\u001b[39m\n",
       "│  ├─ \u001b[0mbeam_mass\u001b[0m ➡ \u001b[32m2.0\u001b[39m\u001b[32m\u001b[1m [AU]\u001b[22m\u001b[39m \u001b[97mBeam mass\u001b[39m\n",
       "│  ├─ \u001b[0mtoroidal_angle\u001b[0m ➡ \u001b[32m0.0\u001b[39m\u001b[32m\u001b[1m [rad]\u001b[22m\u001b[39m \u001b[97mtoroidal angle of injection\u001b[39m\n",
       "│  ├─ \u001b[0mefficiency_conversion\u001b[0m ➡ \u001b[31m0.4\u001b[39m \u001b[97mConversion efficiency of electric power to neutral beam power\u001b[39m\n",
       "│  └─ \u001b[0mefficiency_transmission\u001b[0m ➡ \u001b[31m0.94\u001b[39m \u001b[97mTransmission efficiency of neutral beam from source to port\u001b[39m\n",
       "├─ \u001b[0m\u001b[1mec_launchers\u001b[22m\n",
       "│  ├─ \u001b[0mpower_launched\u001b[0m ➡ \u001b[31m[1.0e7, 2.0e7]\u001b[39m\u001b[31m\u001b[1m [W]\u001b[22m\u001b[39m \u001b[97mEC launched power\u001b[39m\n",
       "│  ├─ \u001b[0mefficiency_conversion\u001b[0m ➡ \u001b[31m0.45\u001b[39m \u001b[97mConversion efficiency of electric power to microwave power\u001b[39m\n",
       "│  └─ \u001b[0mefficiency_transmission\u001b[0m ➡ \u001b[31m0.8\u001b[39m \u001b[97mTransmission efficiency of microwave power from generator to antenna\u001b[39m\n",
       "├─ \u001b[0m\u001b[1mic_antennas\u001b[22m\n",
       "│  ├─ \u001b[0mpower_launched\u001b[0m ➡ \u001b[31mFloat64[]\u001b[39m\u001b[31m\u001b[1m [W]\u001b[22m\u001b[39m \u001b[97mIC launched power\u001b[39m\n",
       "│  ├─ \u001b[0mefficiency_conversion\u001b[0m ➡ \u001b[31m0.9\u001b[39m \u001b[97mConversion efficiency of electric power to microwave power\u001b[39m\n",
       "│  ├─ \u001b[0mefficiency_transmission\u001b[0m ➡ \u001b[31m0.7\u001b[39m \u001b[97mTransmission efficiency of microwave power from generator to antenna\u001b[39m\n",
       "│  └─ \u001b[0mefficiency_coupling\u001b[0m ➡ \u001b[31m1.0\u001b[39m \u001b[97mCoupling efficiency of launched microwave power to the plasma\u001b[39m\n",
       "├─ \u001b[0m\u001b[1mlh_antennas\u001b[22m\n",
       "│  ├─ \u001b[0mpower_launched\u001b[0m ➡ \u001b[31mFloat64[]\u001b[39m\u001b[31m\u001b[1m [W]\u001b[22m\u001b[39m \u001b[97mLH launched power\u001b[39m\n",
       "│  ├─ \u001b[0mefficiency_conversion\u001b[0m ➡ \u001b[31m0.5\u001b[39m \u001b[97mConversion efficiency of electric power to microwave power\u001b[39m\n",
       "│  ├─ \u001b[0mefficiency_transmission\u001b[0m ➡ \u001b[31m0.72\u001b[39m \u001b[97mTransmission efficiency of microwave power from generator to antenna\u001b[39m\n",
       "│  └─ \u001b[0mefficiency_coupling\u001b[0m ➡ \u001b[31m1.0\u001b[39m \u001b[97mCoupling efficiency of launched microwave power to the plasma\u001b[39m\n",
       "└─ \u001b[0m\u001b[1mrequirements\u001b[22m\n",
       "   ├─ \u001b[0mpower_electric_net\u001b[0m ➡ \u001b[31m2.0e8\u001b[39m\u001b[31m\u001b[1m [W]\u001b[22m\u001b[39m \u001b[97mNet electric power generated by the fusion power plant\u001b[39m\n",
       "   ├─ \u001b[0mflattop_duration\u001b[0m ➡ \u001b[31m86400.0\u001b[39m\u001b[31m\u001b[1m [s]\u001b[22m\u001b[39m \u001b[97mDuration of the flattop (use Inf for steady-state)\u001b[39m\n",
       "   ├─ \u001b[0mlog10_flattop_duration\u001b[0m ➡ \u001b[33mmissing\u001b[39m \u001b[97mLog10 value of the duration of the flattop (use Inf for steady-state). Preferred over\u001b[39m\n",
       "   │  \u001b[97m`flattop_duration` for optimization studies.\u001b[39m\n",
       "   ├─ \u001b[0mtritium_breeding_ratio\u001b[0m ➡ \u001b[31m1.1\u001b[39m \u001b[97mTritium breeding ratio of the whole plant\u001b[39m\n",
       "   ├─ \u001b[0mcost\u001b[0m ➡ \u001b[33mmissing\u001b[39m \u001b[97mTotal FPP cost\u001b[39m\n",
       "   ├─ \u001b[0mne_peaking\u001b[0m ➡ \u001b[31m1.5\u001b[39m \u001b[97mOn-axis electron density / volume-averaged electron denstiy\u001b[39m\n",
       "   ├─ \u001b[0mq_pol_omp\u001b[0m ➡ \u001b[31m2.75e9\u001b[39m\u001b[31m\u001b[1m [W/m^2]\u001b[22m\u001b[39m \u001b[97mPoloidal heat flux at the outer midplane\u001b[39m\n",
       "   ├─ \u001b[0mlh_power_threshold_fraction\u001b[0m ➡ \u001b[31m1.0\u001b[39m \u001b[97mFraction of the LH power threshold\u001b[39m\n",
       "   ├─ \u001b[0mh98y2\u001b[0m ➡ \u001b[33mmissing\u001b[39m \u001b[97mH98y2 ITER elmy H-mode confinement scaling factor\u001b[39m\n",
       "   ├─ \u001b[0mhds03\u001b[0m ➡ \u001b[31m1.0\u001b[39m \u001b[97mPetty 2003 H-mode thermal energy confinement scaling factor\u001b[39m\n",
       "   ├─ \u001b[0mβn\u001b[0m ➡ \u001b[33mmissing\u001b[39m \u001b[97mNormalized total plasma beta (MHD)\u001b[39m\n",
       "   ├─ \u001b[0mcoil_j_margin\u001b[0m ➡ \u001b[31m1.5\u001b[39m \u001b[97mMagnet coil J_crit / J_max\u001b[39m\n",
       "   └─ \u001b[0mcoil_stress_margin\u001b[0m ➡ \u001b[31m1.0\u001b[39m \u001b[97mMagnet coil yield_stress / max_stress\u001b[39m\n"
      ]
     },
     "execution_count": 3,
     "metadata": {},
     "output_type": "execute_result"
    }
   ],
   "source": [
    "result_path = result_paths[1]\n",
    "\n",
    "# load opt_ini file\n",
    "@load joinpath(top_dir, result_path, \"opt_ini.jld2\") opt_ini\n",
    "\n",
    "params = opt_ini[\"free_parameters\"]\n",
    "ini, act = FUSE.case_parameters(:FPP, version=:v1_demount, init_from=:scalars);\n",
    "\n",
    "# sort run dirs\n",
    "cache_path = joinpath(top_dir*result_path, run_dir)\n",
    "\n",
    "all_dirs = filter(isdir, sort(readdir(cache_path; join=true)))\n",
    "println(length(all_dirs))\n",
    "\n",
    "dirs = sort(filter(x -> !isfile(joinpath(x, \"error.txt\")), all_dirs))\n",
    "println(length(dirs))\n",
    "\n",
    "# load optimization results file(s)\n",
    "con = []\n",
    "\n",
    "for i in range(1,6)\n",
    "\n",
    "    fname = \"result\"*string(i)*\".jld2\"\n",
    "\n",
    "    try\n",
    "        @load joinpath(top_dir, result_path, fname) result\n",
    "        display(\"Loaded \"*fname)\n",
    "        for c in result.convergence\n",
    "            con = [con; c]\n",
    "        end\n",
    "    catch\n",
    "        display(\"Could not find \"*fname)\n",
    "    end\n",
    "\n",
    "end\n",
    "\n",
    "# get population input parameters for ith generation\n",
    "X = [p.x for p in con[300].population];\n",
    "X = reduce(hcat, X)';\n",
    "\n",
    "# load ini and act from optimization dir\n",
    "dd, ini, act = FUSE.load(dirs[end]);\n",
    "\n",
    "ini1 = deepcopy(ini);"
   ]
  },
  {
   "cell_type": "code",
   "execution_count": 9,
   "id": "f93b09fc",
   "metadata": {},
   "outputs": [
    {
     "data": {
      "text/plain": [
       "\u001b[0m\u001b[1mcore_profiles{Float64}\u001b[22m\n",
       "├─ \u001b[0mgreenwald_fraction\u001b[0m ➡ \u001b[31m0.8138940843944762\u001b[39m \u001b[97mLine average electron density expressed as fraction of Greenwald density\u001b[39m\n",
       "├─ \u001b[0mgreenwald_fraction_ped\u001b[0m ➡ \u001b[31m0.5372962948090667\u001b[39m \u001b[97mPedestal electron density expressed as fraction of Greenwald density\u001b[39m\n",
       "├─ \u001b[0mne_ped\u001b[0m ➡ \u001b[33mmissing\u001b[39m \u001b[97mPedestal electron density\u001b[39m\n",
       "├─ \u001b[0mw_ped\u001b[0m ➡ \u001b[32m0.05\u001b[39m \u001b[97mPedestal width expressed in fraction of ψₙ\u001b[39m\n",
       "├─ \u001b[0mT_ratio\u001b[0m ➡ \u001b[31m0.825\u001b[39m \u001b[97mTi/Te ratio\u001b[39m\n",
       "├─ \u001b[0mT_shaping\u001b[0m ➡ \u001b[31m2.5\u001b[39m \u001b[97mTemperature shaping factor\u001b[39m\n",
       "├─ \u001b[0mn_shaping\u001b[0m ➡ \u001b[31m2.5\u001b[39m \u001b[97mDensity shaping factor\u001b[39m\n",
       "├─ \u001b[0mzeff\u001b[0m ➡ \u001b[31m2.0\u001b[39m \u001b[97mEffective ion charge\u001b[39m\n",
       "├─ \u001b[0mrot_core\u001b[0m ➡ \u001b[31m0.0\u001b[39m\u001b[31m\u001b[1m [s^-1]\u001b[22m\u001b[39m \u001b[97mDerivative of the flux surface averaged electrostatic potential with respect to the poloidal flux,\u001b[39m\n",
       "│  \u001b[97mmultiplied by -1. This quantity is the toroidal angular rotation frequency due to the ExB drift, introduced in formula\u001b[39m\n",
       "│  \u001b[97m(43) of Hinton and Wong, Physics of Fluids 3082 (1985), also referred to as sonic flow in regimes in which the toroidal\u001b[39m\n",
       "│  \u001b[97mvelocity is dominant over the poloidal velocity\u001b[39m\n",
       "├─ \u001b[0mngrid\u001b[0m ➡ \u001b[32m101\u001b[39m \u001b[97mResolution of the core_profiles grid\u001b[39m\n",
       "├─ \u001b[0mbulk\u001b[0m ➡ \u001b[31m:DT\u001b[39m \u001b[97mBulk ion species\u001b[39m\n",
       "├─ \u001b[0mimpurity\u001b[0m ➡ \u001b[31m:Kr\u001b[39m \u001b[97mImpurity ion species\u001b[39m\n",
       "├─ \u001b[0mhelium_fraction\u001b[0m ➡ \u001b[31m0.04\u001b[39m \u001b[97mHelium density / electron density fraction\u001b[39m\n",
       "├─ \u001b[0mejima\u001b[0m ➡ \u001b[31m0.4\u001b[39m \u001b[97mEjima coefficient\u001b[39m\n",
       "└─ \u001b[0mpolarized_fuel_fraction\u001b[0m ➡ \u001b[32m0.0\u001b[39m \u001b[97mSpin polarized fuel fraction\u001b[39m\n"
      ]
     },
     "metadata": {},
     "output_type": "display_data"
    },
    {
     "data": {
      "text/plain": [
       "\u001b[0m\u001b[1mcore_profiles{Float64}\u001b[22m\n",
       "├─ \u001b[0mgreenwald_fraction\u001b[0m ➡ \u001b[31m1.0\u001b[39m \u001b[97mLine average electron density expressed as fraction of Greenwald density\u001b[39m\n",
       "├─ \u001b[0mgreenwald_fraction_ped\u001b[0m ➡ \u001b[31m0.5372962948090667\u001b[39m \u001b[97mPedestal electron density expressed as fraction of Greenwald density\u001b[39m\n",
       "├─ \u001b[0mne_ped\u001b[0m ➡ \u001b[33mmissing\u001b[39m \u001b[97mPedestal electron density\u001b[39m\n",
       "├─ \u001b[0mw_ped\u001b[0m ➡ \u001b[32m0.05\u001b[39m \u001b[97mPedestal width expressed in fraction of ψₙ\u001b[39m\n",
       "├─ \u001b[0mT_ratio\u001b[0m ➡ \u001b[31m0.825\u001b[39m \u001b[97mTi/Te ratio\u001b[39m\n",
       "├─ \u001b[0mT_shaping\u001b[0m ➡ \u001b[31m2.5\u001b[39m \u001b[97mTemperature shaping factor\u001b[39m\n",
       "├─ \u001b[0mn_shaping\u001b[0m ➡ \u001b[31m2.5\u001b[39m \u001b[97mDensity shaping factor\u001b[39m\n",
       "├─ \u001b[0mzeff\u001b[0m ➡ \u001b[31m2.0\u001b[39m \u001b[97mEffective ion charge\u001b[39m\n",
       "├─ \u001b[0mrot_core\u001b[0m ➡ \u001b[31m0.0\u001b[39m\u001b[31m\u001b[1m [s^-1]\u001b[22m\u001b[39m \u001b[97mDerivative of the flux surface averaged electrostatic potential with respect to the poloidal flux,\u001b[39m\n",
       "│  \u001b[97mmultiplied by -1. This quantity is the toroidal angular rotation frequency due to the ExB drift, introduced in formula\u001b[39m\n",
       "│  \u001b[97m(43) of Hinton and Wong, Physics of Fluids 3082 (1985), also referred to as sonic flow in regimes in which the toroidal\u001b[39m\n",
       "│  \u001b[97mvelocity is dominant over the poloidal velocity\u001b[39m\n",
       "├─ \u001b[0mngrid\u001b[0m ➡ \u001b[32m101\u001b[39m \u001b[97mResolution of the core_profiles grid\u001b[39m\n",
       "├─ \u001b[0mbulk\u001b[0m ➡ \u001b[31m:DT\u001b[39m \u001b[97mBulk ion species\u001b[39m\n",
       "├─ \u001b[0mimpurity\u001b[0m ➡ \u001b[31m:Kr\u001b[39m \u001b[97mImpurity ion species\u001b[39m\n",
       "├─ \u001b[0mhelium_fraction\u001b[0m ➡ \u001b[31m0.04\u001b[39m \u001b[97mHelium density / electron density fraction\u001b[39m\n",
       "├─ \u001b[0mejima\u001b[0m ➡ \u001b[31m0.4\u001b[39m \u001b[97mEjima coefficient\u001b[39m\n",
       "└─ \u001b[0mpolarized_fuel_fraction\u001b[0m ➡ \u001b[32m0.0\u001b[39m \u001b[97mSpin polarized fuel fraction\u001b[39m\n"
      ]
     },
     "execution_count": 9,
     "metadata": {},
     "output_type": "execute_result"
    }
   ],
   "source": [
    "using SimulationParameters\n",
    "\n",
    "x = [1.0,2.0,3.0,4.0,5.0]\n",
    "\n",
    "display(ini.core_profiles)\n",
    "\n",
    "ini1.core_profiles.greenwald_fraction = ini1.core_profiles.greenwald_fraction ↔ [-Inf, Inf]\n",
    "\n",
    "SimulationParameters.parameters_from_opt!(ini1, x)\n",
    "\n",
    "ini1.core_profiles"
   ]
  },
  {
   "cell_type": "code",
   "execution_count": 12,
   "id": "55a4c506-3abf-4b40-b9b6-f0437636a83a",
   "metadata": {},
   "outputs": [
    {
     "data": {
      "text/plain": [
       "evaluate_runs (generic function with 1 method)"
      ]
     },
     "execution_count": 12,
     "metadata": {},
     "output_type": "execute_result"
    }
   ],
   "source": [
    "using ProgressMeter\n",
    "\n",
    "function evaluate_runs(top_dir, result_path, i)\n",
    "\n",
    "    # sort run dirs\n",
    "    cache_path = joinpath(top_dir*result_path, run_dir)\n",
    "\n",
    "    all_dirs = filter(isdir, sort(readdir(cache_path; join=true)))\n",
    "    println(length(all_dirs))\n",
    "\n",
    "    dirs = sort(filter(x -> !isfile(joinpath(x, \"error.txt\")), all_dirs))\n",
    "    println(length(dirs))\n",
    "\n",
    "    # load optimization results file(s)\n",
    "    con = []\n",
    "\n",
    "    for i in range(1,6)\n",
    "\n",
    "        fname = \"result\"*string(i)*\".jld2\"\n",
    "    \n",
    "        try\n",
    "            @load joinpath(result_path, fname) result\n",
    "            display(\"Loaded \"*fname)\n",
    "            for c in result.convergence\n",
    "                con = [con; c]\n",
    "            end\n",
    "        catch\n",
    "            display(\"Could not find \"*fname)\n",
    "        end\n",
    "    \n",
    "    end\n",
    "\n",
    "    # get population input parameters for ith generation\n",
    "    X = [p.x for p in con[i].population];\n",
    "    X = reduce(hcat, X)';\n",
    "\n",
    "    # load ini and act from optimization dir\n",
    "    dd, ini, act = FUSE.load(dirs[end]);\n",
    "\n",
    "    # re-assign optimization variables in ini\n",
    "    ini.core_profiles.greenwald_fraction = ini.core_profiles.greenwald_fraction ↔ [0.85, 1.3]\n",
    "    ini.equilibrium.B0 = ini.equilibrium.B0 ↔ [1.0, 10.0]\n",
    "    ini.equilibrium.ip = ini.equilibrium.ip ↔ [1.0e6, 20.0e6]\n",
    "    ini.equilibrium.R0 = ini.equilibrium.R0 ↔ [1.0, 15.0]\n",
    "    ini.equilibrium.pressure_core = ini.equilibrium.pressure_core ↔ [0.1e6, 3.0e6];\n",
    "    \n",
    "    # define objective functions and constraints\n",
    "    objective_functions = opt_ini[\"objective_functions\"]\n",
    "    constraint_functions = opt_ini[\"constraint_functions\"]\n",
    "\n",
    "    ## Run evaluation function\n",
    "    save_folder = result_path * \"gen\" * string(i)\n",
    "    println(top_dir*save_folder)\n",
    "    try \n",
    "        mkdir(top_dir*save_folder)\n",
    "    catch \n",
    "        println(\"folder already exists\")\n",
    "    end\n",
    "\n",
    "    p = ProgressMeter.Progress(1; desc=\"Iteration\", showspeed=true)\n",
    "    @time FUSE.optimization_engine(ini, act, my_workflow, X, objective_functions, constraint_functions, save_folder, true, p);\n",
    "\n",
    "end\n"
   ]
  },
  {
   "cell_type": "markdown",
   "id": "7d9aa46c-536a-4fbc-bda3-5f1d260fb95d",
   "metadata": {},
   "source": [
    "## Define opt workflow function"
   ]
  },
  {
   "cell_type": "code",
   "execution_count": 13,
   "id": "1c0ba76f-68e1-4ce3-aa3d-9deecc6d2eec",
   "metadata": {
    "tags": []
   },
   "outputs": [],
   "source": [
    "# re-define opt workflow\n",
    "\n",
    "@everywhere function my_workflow(ini::FUSE.ParametersInits, act::FUSE.ParametersActors)\n",
    "\n",
    "    ### modify ini layers\n",
    "    \n",
    "    R0 = ini.equilibrium.R0\n",
    "    ϵ = ini.equilibrium.ϵ\n",
    "    a = R0 * ϵ\n",
    "\n",
    "    RiPlasma = R0 - a\n",
    "    \n",
    "    # HFS layers\n",
    "\n",
    "    ini.build.layers[:plasma] = 2*a*(1+ini.build.plasma_gap)\n",
    "    ini.build.layers[:hfs_first_wall] = 0.02\n",
    "    ini.build.layers[:hfs_blanket] = 0.55*((1/ϵ-1.8)/2.2)^0.5\n",
    "    ini.build.layers[:hfs_high_temp_shield] = RiPlasma*0.05\n",
    "    ini.build.layers[:hfs_gap_high_temp_shield_vacuum_vessel] = RiPlasma * 0.02\n",
    "    ini.build.layers[:hfs_vacuum_vessel] = RiPlasma * 0.05\n",
    "    ini.build.layers[:hfs_gap_vacuum_vessel_low_temp_shield] = RiPlasma * 0.02\n",
    "    ini.build.layers[:hfs_low_temp_shield] = 0.45-0.15*((1/ϵ-1.8)/2.2)^0.5\n",
    "    ini.build.layers[:hfs_gap_low_temp_shield_TF] = RiPlasma * 0.02\n",
    "\n",
    "    rbCenterPost = (R0 - 0.5*ini.build.layers[:plasma] - ini.build.layers[:hfs_first_wall] - ini.build.layers[:hfs_blanket]\n",
    "        - ini.build.layers[:hfs_high_temp_shield] - ini.build.layers[:hfs_gap_high_temp_shield_vacuum_vessel]\n",
    "        - ini.build.layers[:hfs_vacuum_vessel] - ini.build.layers[:hfs_gap_vacuum_vessel_low_temp_shield]\n",
    "        - ini.build.layers[:hfs_low_temp_shield] - ini.build.layers[:hfs_gap_low_temp_shield_TF]);\n",
    "\n",
    "    ini.build.layers[:hfs_TF] = rbCenterPost * 0.25\n",
    "    ini.build.layers[:OH] = rbCenterPost * 0.25\n",
    "    ini.build.layers[:gap_TF_OH] = RiPlasma * 0.02\n",
    "    ini.build.layers[:gap_OH] = rbCenterPost - ini.build.layers[:hfs_TF] - ini.build.layers[:gap_TF_OH] - ini.build.layers[:OH]\n",
    "\n",
    "    # LFS layers\n",
    "\n",
    "    ini.build.layers[:lfs_first_wall] = 0.02\n",
    "    ini.build.layers[:lfs_blanket] = 1.0 - 0.25*((1/ϵ-2.1)/1.9)^0.5\n",
    "    ini.build.layers[:lfs_high_temp_shield] = RiPlasma * 0.05\n",
    "    ini.build.layers[:lfs_gap_high_temp_shield_vacuum_vessel] = RiPlasma * 0.2\n",
    "    ini.build.layers[:lfs_vacuum_vessel] = RiPlasma * 0.05\n",
    "    ini.build.layers[:lfs_gap_vacuum_vessel_low_temp_shield] = RiPlasma * 0.02\n",
    "    ini.build.layers[:lfs_low_temp_shield] = 0.45-0.15*((1/ϵ-1.8)/2.2)^0.5\n",
    "    ini.build.layers[:lfs_gap_low_temp_shield_TF] = RiPlasma * 0.02\n",
    "    ini.build.layers[:lfs_TF] = ini.build.layers[:hfs_TF]\n",
    "    \n",
    "    ### run init\n",
    "    \n",
    "    dd = FUSE.init(ini, act)\n",
    "    \n",
    "    ### run main compound actor\n",
    "    \n",
    "    FUSE.ActorWholeFacility(dd, act)\n",
    "    \n",
    "    return dd\n",
    "end"
   ]
  },
  {
   "cell_type": "markdown",
   "id": "5044f2d6-90c2-4ce6-83c5-3862aaebbcf0",
   "metadata": {},
   "source": [
    "## Loop through result_paths and evaluate"
   ]
  },
  {
   "cell_type": "code",
   "execution_count": 14,
   "id": "69acbd58-474d-4fcc-9f23-a920a3c9c0a1",
   "metadata": {
    "tags": []
   },
   "outputs": [
    {
     "name": "stdout",
     "output_type": "stream",
     "text": [
      "nominal/opt_betaN_cost__Solovev_Kr_flattop24_HTS0.1_qpol2.75_A3.5_Zeff2.0/\n",
      "30464\n",
      "30172\n",
      "nominal/opt_betaN_cost__Solovev_Kr_flattop24_HTS0.1_qpol2.75_A3.5_Zeff2.0/gen300\n"
     ]
    },
    {
     "name": "stderr",
     "output_type": "stream",
     "text": [
      "\u001b[91m\u001b[1m┌ \u001b[22m\u001b[39m\u001b[91m\u001b[1mError: \u001b[22m\u001b[39mreading act.ActorDivertors.impurities : TypeError(:setfield!, \"\", Union{Missing, Vector{Symbol}}, Float64[])\n",
      "\u001b[91m\u001b[1m└ \u001b[22m\u001b[39m\u001b[90m@ SimulationParameters ~/.julia/dev/SimulationParameters/src/utils.jl:92\u001b[39m\n"
     ]
    },
    {
     "name": "stdout",
     "output_type": "stream",
     "text": [
      "128.000380 seconds (1.05 M allocations: 49.491 MiB)\n",
      "\n"
     ]
    }
   ],
   "source": [
    "for result_path in result_paths\n",
    "    \n",
    "    println(top_dir*result_path)\n",
    "    evaluate_runs(top_dir,result_path,gen_eval)\n",
    "    println(\"\")\n",
    "\n",
    "    \n",
    "end"
   ]
  },
  {
   "cell_type": "markdown",
   "id": "fa1e6bc5-ba6e-48df-bf7b-a7a8f4006f70",
   "metadata": {
    "tags": []
   },
   "source": [
    "## Release computing resources"
   ]
  },
  {
   "cell_type": "code",
   "execution_count": 12,
   "id": "dd9cb467-9d9f-4825-b48c-b9acc1b5c320",
   "metadata": {
    "tags": []
   },
   "outputs": [],
   "source": [
    "# when done, release workers\n",
    "if true\n",
    "    for i in workers()\n",
    "        rmprocs(i)\n",
    "    end\n",
    "end"
   ]
  },
  {
   "cell_type": "code",
   "execution_count": null,
   "id": "8c8a3a4e-70ba-466a-a717-ed1a8507f61d",
   "metadata": {},
   "outputs": [],
   "source": []
  }
 ],
 "metadata": {
  "kernelspec": {
   "display_name": "Julia 1.8.5",
   "language": "julia",
   "name": "julia-1.8"
  },
  "language_info": {
   "file_extension": ".jl",
   "mimetype": "application/julia",
   "name": "julia",
   "version": "1.8.5"
  }
 },
 "nbformat": 4,
 "nbformat_minor": 5
}
