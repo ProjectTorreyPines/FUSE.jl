{
 "cells": [
  {
   "cell_type": "code",
   "execution_count": null,
   "metadata": {},
   "outputs": [],
   "source": [
    "using Revise\n",
    "using FUSE"
   ]
  },
  {
   "cell_type": "markdown",
   "metadata": {},
   "source": [
    "Build an arbitrary 1D geometry using `FUSE.concentric_cylinders()`"
   ]
  },
  {
   "cell_type": "code",
   "execution_count": null,
   "metadata": {},
   "outputs": [],
   "source": [
    "layer_thicknesses =  [100, 0.5,20,1]  # eventually replace with dd.build.layer.ΔR ?\n",
    "material_names = [\"DT_plasma\", \"Tungsten\", \"lithium-lead-Li6enrich=90\",\"eurofer\"] # eventually replace with dd.build.layer.material\n",
    "layers = [\"plasma\", \"First Wall\", \"Breeder\", \"Back wall\"]\n",
    "mat_tags = Dict(zip(layers, material_names))\n",
    "data_path = \"/fusion/projects/ird/ptp/mclaughlink/\"\n",
    "data_filename= \"combined_mgxs_lib.h5\"\n",
    "save_path = data_path\n",
    "save_filename = \"concentric_circles\"\n",
    "sol = FUSE.concentric_circles(layer_thicknesses, material_names, layers, data_path, data_filename, save_path, save_filename)"
   ]
  },
  {
   "cell_type": "code",
   "execution_count": null,
   "metadata": {},
   "outputs": [],
   "source": [
    "tbr = FUSE.get_tbr(sol, mat_tags, data_path, data_filename)"
   ]
  },
  {
   "cell_type": "markdown",
   "metadata": {},
   "source": [
    "Or, to build a 1D simulation based on FUSE's midplane layer thicknesses, use `FUSE.neutron_transport_1d()`:"
   ]
  },
  {
   "cell_type": "code",
   "execution_count": null,
   "metadata": {},
   "outputs": [],
   "source": [
    "ini, act = FUSE.case_parameters(:FPP; version=:v1_demount, init_from=:scalars);\n",
    "dd = FUSE.init(ini, act; do_plot=false);"
   ]
  },
  {
   "cell_type": "code",
   "execution_count": null,
   "metadata": {},
   "outputs": [],
   "source": [
    "sol = FUSE.neutron_transport_1d(dd, data_path, data_filename)"
   ]
  },
  {
   "cell_type": "code",
   "execution_count": null,
   "metadata": {},
   "outputs": [],
   "source": [
    "tbr = FUSE.get_tbr(sol, dd, data_path, data_filename)"
   ]
  }
 ],
 "metadata": {
  "@webio": {
   "lastCommId": null,
   "lastKernelId": null
  },
  "kernelspec": {
   "display_name": "Julia (10 threads) 1.9.0",
   "language": "julia",
   "name": "julia-_10-threads_-1.9"
  },
  "language_info": {
   "file_extension": ".jl",
   "mimetype": "application/julia",
   "name": "julia",
   "version": "1.9.0"
  }
 },
 "nbformat": 4,
 "nbformat_minor": 2
}
