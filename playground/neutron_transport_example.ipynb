{
 "cells": [
  {
   "cell_type": "code",
   "execution_count": 1,
   "metadata": {},
   "outputs": [
    {
     "name": "stderr",
     "output_type": "stream",
     "text": [
      "\u001b[36m\u001b[1m[ \u001b[22m\u001b[39m\u001b[36m\u001b[1mInfo: \u001b[22m\u001b[39mPrecompiling FUSE [e64856f0-3bb8-4376-b4b7-c03396503992]\n"
     ]
    }
   ],
   "source": [
    "using Revise\n",
    "using FUSE"
   ]
  },
  {
   "cell_type": "code",
   "execution_count": 2,
   "metadata": {},
   "outputs": [
    {
     "name": "stdout",
     "output_type": "stream",
     "text": [
      "Info    : Meshing 1D...\n",
      "Info    : [  0%] Meshing curve 1 (Circle)\n",
      "Info    : [ 10%] Meshing curve 2 (Circle)\n",
      "Info    : [ 10%] Meshing curve 3 (Circle)\n",
      "Info    : [ 20%] Meshing curve 4 (Circle)\n",
      "Info    : [ 20%] Meshing curve 5 (Circle)\n",
      "Info    : [ 30%] Meshing curve 6 (Circle)\n",
      "Info    : [ 30%] Meshing curve 7 (Circle)\n",
      "Info    : [ 40%] Meshing curve 8 (Circle)\n",
      "Info    : [ 40%] Meshing curve 9 (Circle)\n",
      "Info    : [ 50%] Meshing curve 10 (Circle)\n",
      "Info    : [ 50%] Meshing curve 11 (Circle)\n",
      "Info    : [ 60%] Meshing curve 12 (Circle)\n",
      "Info    : [ 60%] Meshing curve 13 (Circle)\n",
      "Info    : [ 70%] Meshing curve 14 (Circle)\n",
      "Info    : [ 70%] Meshing curve 15 (Circle)\n",
      "Info    : [ 80%] Meshing curve 16 (Circle)\n",
      "Info    : [ 80%] Meshing curve 17 (Line)\n",
      "Info    : [ 90%] Meshing curve 18 (Line)\n",
      "Info    : [ 90%] Meshing curve 19 (Line)\n",
      "Info    : [100%] Meshing curve 20 (Line)\n",
      "Info    : Done meshing 1D (Wall 0.00176152s, CPU 0.001765s)\n",
      "Info    : Meshing 2D...\n",
      "Info    : [  0%] Meshing surface 1 (Plane, Frontal-Delaunay)\n",
      "Info    : [ 20%] Meshing surface 2 (Plane, Frontal-Delaunay)\n",
      "Info    : [ 40%] Meshing surface 3 (Plane, Frontal-Delaunay)\n",
      "Info    : [ 60%] Meshing surface 4 (Plane, Frontal-Delaunay)\n",
      "Info    : [ 80%] Meshing surface 5 (Plane, Frontal-Delaunay)\n",
      "Info    : Done meshing 2D (Wall 0.124027s, CPU 0.121651s)\n",
      "Info    : 5037 nodes 10792 elements\n",
      "Info    : Writing '/fusion/projects/ird/ptp/mclaughlink/concentric_circles.msh'...\n",
      "Info    : Done writing '/fusion/projects/ird/ptp/mclaughlink/concentric_circles.msh'\n",
      "Info    : Reading '/fusion/projects/ird/ptp/mclaughlink/concentric_circles.msh'...\n",
      "Info    : 49 entities\n",
      "Info    : 5033 nodes\n",
      "Info    : 10064 elements\n",
      "Info    : Done reading '/fusion/projects/ird/ptp/mclaughlink/concentric_circles.msh'\n"
     ]
    },
    {
     "name": "stderr",
     "output_type": "stream",
     "text": [
      "\u001b[36m\u001b[1m[ \u001b[22m\u001b[39m\u001b[36m\u001b[1mInfo: \u001b[22m\u001b[39mMoC iterations start...\n",
      "\u001b[36m\u001b[1m┌ \u001b[22m\u001b[39m\u001b[36m\u001b[1mInfo: \u001b[22m\u001b[39miteration 0\n",
      "\u001b[36m\u001b[1m│ \u001b[22m\u001b[39m  sol.keff = 1.0\n",
      "\u001b[36m\u001b[1m└ \u001b[22m\u001b[39m  ϵ = 0.0\n",
      "\u001b[36m\u001b[1m┌ \u001b[22m\u001b[39m\u001b[36m\u001b[1mInfo: \u001b[22m\u001b[39miteration 10\n",
      "\u001b[36m\u001b[1m│ \u001b[22m\u001b[39m  sol.keff = 1.0\n",
      "\u001b[36m\u001b[1m└ \u001b[22m\u001b[39m  ϵ = 1.1695052929096819\n",
      "\u001b[36m\u001b[1m┌ \u001b[22m\u001b[39m\u001b[36m\u001b[1mInfo: \u001b[22m\u001b[39miteration 20\n",
      "\u001b[36m\u001b[1m│ \u001b[22m\u001b[39m  sol.keff = 1.0\n",
      "\u001b[36m\u001b[1m└ \u001b[22m\u001b[39m  ϵ = 1.0418412062419289\n",
      "\u001b[36m\u001b[1m┌ \u001b[22m\u001b[39m\u001b[36m\u001b[1mInfo: \u001b[22m\u001b[39miteration 30\n",
      "\u001b[36m\u001b[1m│ \u001b[22m\u001b[39m  sol.keff = 1.0\n",
      "\u001b[36m\u001b[1m└ \u001b[22m\u001b[39m  ϵ = 0.9742468454088984\n",
      "\u001b[36m\u001b[1m┌ \u001b[22m\u001b[39m\u001b[36m\u001b[1mInfo: \u001b[22m\u001b[39miteration 40\n",
      "\u001b[36m\u001b[1m│ \u001b[22m\u001b[39m  sol.keff = 1.0\n",
      "\u001b[36m\u001b[1m└ \u001b[22m\u001b[39m  ϵ = 0.8884272393814906\n",
      "\u001b[36m\u001b[1m┌ \u001b[22m\u001b[39m\u001b[36m\u001b[1mInfo: \u001b[22m\u001b[39miteration 50\n",
      "\u001b[36m\u001b[1m│ \u001b[22m\u001b[39m  sol.keff = 1.0\n",
      "\u001b[36m\u001b[1m└ \u001b[22m\u001b[39m  ϵ = 0.7669511417688027\n",
      "\u001b[36m\u001b[1m┌ \u001b[22m\u001b[39m\u001b[36m\u001b[1mInfo: \u001b[22m\u001b[39miteration 60\n",
      "\u001b[36m\u001b[1m│ \u001b[22m\u001b[39m  sol.keff = 1.0\n",
      "\u001b[36m\u001b[1m└ \u001b[22m\u001b[39m  ϵ = 0.6659620640863814\n",
      "\u001b[36m\u001b[1m┌ \u001b[22m\u001b[39m\u001b[36m\u001b[1mInfo: \u001b[22m\u001b[39miteration 70\n",
      "\u001b[36m\u001b[1m│ \u001b[22m\u001b[39m  sol.keff = 1.0\n",
      "\u001b[36m\u001b[1m└ \u001b[22m\u001b[39m  ϵ = 0.5862543592256201\n",
      "\u001b[36m\u001b[1m┌ \u001b[22m\u001b[39m\u001b[36m\u001b[1mInfo: \u001b[22m\u001b[39miteration 80\n",
      "\u001b[36m\u001b[1m│ \u001b[22m\u001b[39m  sol.keff = 1.0\n",
      "\u001b[36m\u001b[1m└ \u001b[22m\u001b[39m  ϵ = 0.5009387704381872\n",
      "\u001b[36m\u001b[1m┌ \u001b[22m\u001b[39m\u001b[36m\u001b[1mInfo: \u001b[22m\u001b[39miteration 90\n",
      "\u001b[36m\u001b[1m│ \u001b[22m\u001b[39m  sol.keff = 1.0\n",
      "\u001b[36m\u001b[1m└ \u001b[22m\u001b[39m  ϵ = 0.42946537375355115\n",
      "\u001b[36m\u001b[1m┌ \u001b[22m\u001b[39m\u001b[36m\u001b[1mInfo: \u001b[22m\u001b[39miteration 100\n",
      "\u001b[36m\u001b[1m│ \u001b[22m\u001b[39m  sol.keff = 1.0\n",
      "\u001b[36m\u001b[1m└ \u001b[22m\u001b[39m  ϵ = 0.36660980260517395\n",
      "\u001b[36m\u001b[1m┌ \u001b[22m\u001b[39m\u001b[36m\u001b[1mInfo: \u001b[22m\u001b[39miteration 110\n",
      "\u001b[36m\u001b[1m│ \u001b[22m\u001b[39m  sol.keff = 1.0\n",
      "\u001b[36m\u001b[1m└ \u001b[22m\u001b[39m  ϵ = 0.30697096732932583\n",
      "\u001b[36m\u001b[1m┌ \u001b[22m\u001b[39m\u001b[36m\u001b[1mInfo: \u001b[22m\u001b[39miteration 120\n",
      "\u001b[36m\u001b[1m│ \u001b[22m\u001b[39m  sol.keff = 1.0\n",
      "\u001b[36m\u001b[1m└ \u001b[22m\u001b[39m  ϵ = 0.2531339167070807\n",
      "\u001b[36m\u001b[1m┌ \u001b[22m\u001b[39m\u001b[36m\u001b[1mInfo: \u001b[22m\u001b[39miteration 130\n",
      "\u001b[36m\u001b[1m│ \u001b[22m\u001b[39m  sol.keff = 1.0\n",
      "\u001b[36m\u001b[1m└ \u001b[22m\u001b[39m  ϵ = 0.2387746394814153\n",
      "\u001b[36m\u001b[1m┌ \u001b[22m\u001b[39m\u001b[36m\u001b[1mInfo: \u001b[22m\u001b[39miteration 140\n",
      "\u001b[36m\u001b[1m│ \u001b[22m\u001b[39m  sol.keff = 1.0\n",
      "\u001b[36m\u001b[1m└ \u001b[22m\u001b[39m  ϵ = 0.17474994280480077\n",
      "\u001b[36m\u001b[1m┌ \u001b[22m\u001b[39m\u001b[36m\u001b[1mInfo: \u001b[22m\u001b[39miteration 150\n",
      "\u001b[36m\u001b[1m│ \u001b[22m\u001b[39m  sol.keff = 1.0\n",
      "\u001b[36m\u001b[1m└ \u001b[22m\u001b[39m  ϵ = 16.93115774676663\n",
      "\u001b[36m\u001b[1m┌ \u001b[22m\u001b[39m\u001b[36m\u001b[1mInfo: \u001b[22m\u001b[39miteration 160\n",
      "\u001b[36m\u001b[1m│ \u001b[22m\u001b[39m  sol.keff = 1.0\n",
      "\u001b[36m\u001b[1m└ \u001b[22m\u001b[39m  ϵ = 0.1106060574332249\n",
      "\u001b[36m\u001b[1m┌ \u001b[22m\u001b[39m\u001b[36m\u001b[1mInfo: \u001b[22m\u001b[39miteration 170\n",
      "\u001b[36m\u001b[1m│ \u001b[22m\u001b[39m  sol.keff = 1.0\n",
      "\u001b[36m\u001b[1m└ \u001b[22m\u001b[39m  ϵ = 13.169176734895325\n",
      "\u001b[36m\u001b[1m┌ \u001b[22m\u001b[39m\u001b[36m\u001b[1mInfo: \u001b[22m\u001b[39miteration 180\n",
      "\u001b[36m\u001b[1m│ \u001b[22m\u001b[39m  sol.keff = 1.0\n",
      "\u001b[36m\u001b[1m└ \u001b[22m\u001b[39m  ϵ = 0.06571983146757723\n"
     ]
    },
    {
     "data": {
      "text/plain": [
       "  keff: 1.0\n",
       "  Residual: 0.04742078109831848\n",
       "  Iterations: 185"
      ]
     },
     "execution_count": 2,
     "metadata": {},
     "output_type": "execute_result"
    }
   ],
   "source": [
    "layer_thicknesses =  [0.5,20,1]  # eventually replace with dd.build.layer.ΔR ?\n",
    "material_names = [\"Tungsten\", \"lithium-lead-Li6enrich=90\",\"eurofer\"] # eventually replace with dd.build.layer.material\n",
    "data_path = \"/fusion/projects/ird/ptp/mclaughlink/\"\n",
    "data_filename= \"combined_mgxs_lib.h5\"\n",
    "save_path = data_path\n",
    "save_filename = \"concentric_circles\"\n",
    "sol = FUSE.concentric_circles(layer_thicknesses, material_names, data_path, data_filename, save_path, save_filename)"
   ]
  },
  {
   "cell_type": "code",
   "execution_count": 3,
   "metadata": {},
   "outputs": [
    {
     "data": {
      "text/plain": [
       "0.338564632130667"
      ]
     },
     "execution_count": 3,
     "metadata": {},
     "output_type": "execute_result"
    }
   ],
   "source": [
    "tbr = FUSE.get_tbr(sol, data_path, data_filename)"
   ]
  },
  {
   "cell_type": "code",
   "execution_count": null,
   "metadata": {},
   "outputs": [],
   "source": []
  }
 ],
 "metadata": {
  "@webio": {
   "lastCommId": null,
   "lastKernelId": null
  },
  "kernelspec": {
   "display_name": "Julia (10 threads) 1.9.0",
   "language": "julia",
   "name": "julia-_10-threads_-1.9"
  },
  "language_info": {
   "file_extension": ".jl",
   "mimetype": "application/julia",
   "name": "julia",
   "version": "1.9.0"
  }
 },
 "nbformat": 4,
 "nbformat_minor": 2
}
