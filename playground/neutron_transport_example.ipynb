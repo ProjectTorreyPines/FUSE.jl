{
 "cells": [
  {
   "cell_type": "code",
   "execution_count": 1,
   "metadata": {},
   "outputs": [
    {
     "name": "stderr",
     "output_type": "stream",
     "text": [
      "\u001b[36m\u001b[1m[ \u001b[22m\u001b[39m\u001b[36m\u001b[1mInfo: \u001b[22m\u001b[39mPrecompiling FUSE [e64856f0-3bb8-4376-b4b7-c03396503992]\n"
     ]
    }
   ],
   "source": [
    "using Revise\n",
    "using FUSE"
   ]
  },
  {
   "cell_type": "code",
   "execution_count": 2,
   "metadata": {},
   "outputs": [
    {
     "name": "stdout",
     "output_type": "stream",
     "text": [
      "Info    : Meshing 1D...\n",
      "Info    : [  0%] Meshing curve 1 (Circle)\n",
      "Info    : [ 10%] Meshing curve 2 (Circle)\n",
      "Info    : [ 10%] Meshing curve 3 (Circle)\n",
      "Info    : [ 20%] Meshing curve 4 (Circle)\n",
      "Info    : [ 20%] Meshing curve 5 (Circle)\n",
      "Info    : [ 30%] Meshing curve 6 (Circle)\n",
      "Info    : [ 30%] Meshing curve 7 (Circle)\n",
      "Info    : [ 40%] Meshing curve 8 (Circle)\n",
      "Info    : [ 40%] Meshing curve 9 (Circle)\n",
      "Info    : [ 50%] Meshing curve 10 (Circle)\n",
      "Info    : [ 50%] Meshing curve 11 (Circle)\n",
      "Info    : [ 60%] Meshing curve 12 (Circle)\n",
      "Info    : [ 60%] Meshing curve 13 (Circle)\n",
      "Info    : [ 70%] Meshing curve 14 (Circle)\n",
      "Info    : [ 70%] Meshing curve 15 (Circle)\n",
      "Info    : [ 80%] Meshing curve 16 (Circle)\n",
      "Info    : [ 80%] Meshing curve 17 (Line)\n",
      "Info    : [ 90%] Meshing curve 18 (Line)\n",
      "Info    : [ 90%] Meshing curve 19 (Line)\n",
      "Info    : [100%] Meshing curve 20 (Line)\n",
      "Info    : Done meshing 1D (Wall 0.00198167s, CPU 0.001984s)\n",
      "Info    : Meshing 2D...\n",
      "Info    : [  0%] Meshing surface 1 (Plane, Frontal-Delaunay)\n",
      "Info    : [ 20%] Meshing surface 2 (Plane, Frontal-Delaunay)\n",
      "Info    : [ 40%] Meshing surface 3 (Plane, Frontal-Delaunay)\n",
      "Info    : [ 60%] Meshing surface 4 (Plane, Frontal-Delaunay)\n",
      "Info    : [ 80%] Meshing surface 5 (Plane, Frontal-Delaunay)\n",
      "Info    : Done meshing 2D (Wall 0.129617s, CPU 0.129179s)\n",
      "Info    : 5037 nodes 10792 elements\n",
      "Info    : Writing 'concentric_circles.msh'...\n",
      "Info    : Done writing 'concentric_circles.msh'\n",
      "Info    : Reading '/home/mclaughlink/.julia/dev/FUSE/playground/concentric_circles.msh'...\n",
      "Info    : 49 entities\n",
      "Info    : 5033 nodes\n",
      "Info    : 10064 elements\n",
      "Info    : Done reading '/home/mclaughlink/.julia/dev/FUSE/playground/concentric_circles.msh'\n"
     ]
    },
    {
     "name": "stderr",
     "output_type": "stream",
     "text": [
      "\u001b[36m\u001b[1m[ \u001b[22m\u001b[39m\u001b[36m\u001b[1mInfo: \u001b[22m\u001b[39mMoC iterations start...\n",
      "\u001b[36m\u001b[1m┌ \u001b[22m\u001b[39m\u001b[36m\u001b[1mInfo: \u001b[22m\u001b[39miteration 0\n",
      "\u001b[36m\u001b[1m│ \u001b[22m\u001b[39m  sol.keff = 1.0\n",
      "\u001b[36m\u001b[1m└ \u001b[22m\u001b[39m  ϵ = 0.0\n",
      "\u001b[36m\u001b[1m┌ \u001b[22m\u001b[39m\u001b[36m\u001b[1mInfo: \u001b[22m\u001b[39miteration 10\n",
      "\u001b[36m\u001b[1m│ \u001b[22m\u001b[39m  sol.keff = 1.0\n",
      "\u001b[36m\u001b[1m└ \u001b[22m\u001b[39m  ϵ = 1.1693691700582869\n",
      "\u001b[36m\u001b[1m┌ \u001b[22m\u001b[39m\u001b[36m\u001b[1mInfo: \u001b[22m\u001b[39miteration 20\n",
      "\u001b[36m\u001b[1m│ \u001b[22m\u001b[39m  sol.keff = 1.0\n",
      "\u001b[36m\u001b[1m└ \u001b[22m\u001b[39m  ϵ = 1.0420207385926725\n",
      "\u001b[36m\u001b[1m┌ \u001b[22m\u001b[39m\u001b[36m\u001b[1mInfo: \u001b[22m\u001b[39miteration 30\n",
      "\u001b[36m\u001b[1m│ \u001b[22m\u001b[39m  sol.keff = 1.0\n",
      "\u001b[36m\u001b[1m└ \u001b[22m\u001b[39m  ϵ = 0.9743924401728769\n",
      "\u001b[36m\u001b[1m┌ \u001b[22m\u001b[39m\u001b[36m\u001b[1mInfo: \u001b[22m\u001b[39miteration 40\n",
      "\u001b[36m\u001b[1m│ \u001b[22m\u001b[39m  sol.keff = 1.0\n",
      "\u001b[36m\u001b[1m└ \u001b[22m\u001b[39m  ϵ = 0.888955494659159\n",
      "\u001b[36m\u001b[1m┌ \u001b[22m\u001b[39m\u001b[36m\u001b[1mInfo: \u001b[22m\u001b[39miteration 50\n",
      "\u001b[36m\u001b[1m│ \u001b[22m\u001b[39m  sol.keff = 1.0\n",
      "\u001b[36m\u001b[1m└ \u001b[22m\u001b[39m  ϵ = 0.7663357360371075\n",
      "\u001b[36m\u001b[1m┌ \u001b[22m\u001b[39m\u001b[36m\u001b[1mInfo: \u001b[22m\u001b[39miteration 60\n",
      "\u001b[36m\u001b[1m│ \u001b[22m\u001b[39m  sol.keff = 1.0\n",
      "\u001b[36m\u001b[1m└ \u001b[22m\u001b[39m  ϵ = 0.6657126201602783\n",
      "\u001b[36m\u001b[1m┌ \u001b[22m\u001b[39m\u001b[36m\u001b[1mInfo: \u001b[22m\u001b[39miteration 70\n",
      "\u001b[36m\u001b[1m│ \u001b[22m\u001b[39m  sol.keff = 1.0\n",
      "\u001b[36m\u001b[1m└ \u001b[22m\u001b[39m  ϵ = 0.585664360481961\n",
      "\u001b[36m\u001b[1m┌ \u001b[22m\u001b[39m\u001b[36m\u001b[1mInfo: \u001b[22m\u001b[39miteration 80\n",
      "\u001b[36m\u001b[1m│ \u001b[22m\u001b[39m  sol.keff = 1.0\n",
      "\u001b[36m\u001b[1m└ \u001b[22m\u001b[39m  ϵ = 0.5006053683753839\n",
      "\u001b[36m\u001b[1m┌ \u001b[22m\u001b[39m\u001b[36m\u001b[1mInfo: \u001b[22m\u001b[39miteration 90\n",
      "\u001b[36m\u001b[1m│ \u001b[22m\u001b[39m  sol.keff = 1.0\n",
      "\u001b[36m\u001b[1m└ \u001b[22m\u001b[39m  ϵ = 0.43004481324936666\n",
      "\u001b[36m\u001b[1m┌ \u001b[22m\u001b[39m\u001b[36m\u001b[1mInfo: \u001b[22m\u001b[39miteration 100\n",
      "\u001b[36m\u001b[1m│ \u001b[22m\u001b[39m  sol.keff = 1.0\n",
      "\u001b[36m\u001b[1m└ \u001b[22m\u001b[39m  ϵ = 0.3668924289873452\n",
      "\u001b[36m\u001b[1m┌ \u001b[22m\u001b[39m\u001b[36m\u001b[1mInfo: \u001b[22m\u001b[39miteration 110\n",
      "\u001b[36m\u001b[1m│ \u001b[22m\u001b[39m  sol.keff = 1.0\n",
      "\u001b[36m\u001b[1m└ \u001b[22m\u001b[39m  ϵ = 0.3059033990554376\n",
      "\u001b[36m\u001b[1m┌ \u001b[22m\u001b[39m\u001b[36m\u001b[1mInfo: \u001b[22m\u001b[39miteration 120\n",
      "\u001b[36m\u001b[1m│ \u001b[22m\u001b[39m  sol.keff = 1.0\n",
      "\u001b[36m\u001b[1m└ \u001b[22m\u001b[39m  ϵ = 0.25312944132112686\n",
      "\u001b[36m\u001b[1m┌ \u001b[22m\u001b[39m\u001b[36m\u001b[1mInfo: \u001b[22m\u001b[39miteration 130\n",
      "\u001b[36m\u001b[1m│ \u001b[22m\u001b[39m  sol.keff = 1.0\n",
      "\u001b[36m\u001b[1m└ \u001b[22m\u001b[39m  ϵ = 0.21091789564012328\n",
      "\u001b[36m\u001b[1m┌ \u001b[22m\u001b[39m\u001b[36m\u001b[1mInfo: \u001b[22m\u001b[39miteration 140\n",
      "\u001b[36m\u001b[1m│ \u001b[22m\u001b[39m  sol.keff = 1.0\n",
      "\u001b[36m\u001b[1m└ \u001b[22m\u001b[39m  ϵ = 0.1753723751310266\n",
      "\u001b[36m\u001b[1m┌ \u001b[22m\u001b[39m\u001b[36m\u001b[1mInfo: \u001b[22m\u001b[39miteration 150\n",
      "\u001b[36m\u001b[1m│ \u001b[22m\u001b[39m  sol.keff = 1.0\n",
      "\u001b[36m\u001b[1m└ \u001b[22m\u001b[39m  ϵ = 0.14376937455560607\n",
      "\u001b[36m\u001b[1m┌ \u001b[22m\u001b[39m\u001b[36m\u001b[1mInfo: \u001b[22m\u001b[39miteration 160\n",
      "\u001b[36m\u001b[1m│ \u001b[22m\u001b[39m  sol.keff = 1.0\n",
      "\u001b[36m\u001b[1m└ \u001b[22m\u001b[39m  ϵ = 0.11209659589988917\n",
      "\u001b[36m\u001b[1m┌ \u001b[22m\u001b[39m\u001b[36m\u001b[1mInfo: \u001b[22m\u001b[39miteration 170\n",
      "\u001b[36m\u001b[1m│ \u001b[22m\u001b[39m  sol.keff = 1.0\n",
      "\u001b[36m\u001b[1m└ \u001b[22m\u001b[39m  ϵ = 0.0850457576058508\n",
      "\u001b[36m\u001b[1m┌ \u001b[22m\u001b[39m\u001b[36m\u001b[1mInfo: \u001b[22m\u001b[39miteration 180\n",
      "\u001b[36m\u001b[1m│ \u001b[22m\u001b[39m  sol.keff = 1.0\n",
      "\u001b[36m\u001b[1m└ \u001b[22m\u001b[39m  ϵ = 0.05685566738058775\n"
     ]
    },
    {
     "data": {
      "text/plain": [
       "  keff: 1.0\n",
       "  Residual: 0.0499150284389268\n",
       "  Iterations: 182"
      ]
     },
     "execution_count": 2,
     "metadata": {},
     "output_type": "execute_result"
    }
   ],
   "source": [
    "layer_thicknesses =  [0.5,20,1]  # eventually replace with dd.build.layer.ΔR ?\n",
    "material_names = [\"Tungsten\", \"lithium-lead-Li6enrich=90\",\"eurofer\"] # eventually replace with dd.build.layer.material\n",
    "data_path = \"/home/mclaughlink/\"\n",
    "data_filename= \"combined_mgxs_lib.h5\"\n",
    "save_path = \"/home/mclaughlink/.julia/dev/FUSE/playground/\"\n",
    "save_filename = \"concentric_circles\"\n",
    "sol = FUSE.concentric_circles(layer_thicknesses, material_names, data_path, data_filename, save_path, save_filename)"
   ]
  },
  {
   "cell_type": "code",
   "execution_count": 3,
   "metadata": {},
   "outputs": [
    {
     "data": {
      "text/plain": [
       "0.3384204772627338"
      ]
     },
     "execution_count": 3,
     "metadata": {},
     "output_type": "execute_result"
    }
   ],
   "source": [
    "tbr = FUSE.get_tbr(sol, data_path, data_filename)"
   ]
  },
  {
   "cell_type": "code",
   "execution_count": null,
   "metadata": {},
   "outputs": [],
   "source": []
  }
 ],
 "metadata": {
  "kernelspec": {
   "display_name": "Julia (10 threads) 1.9.0",
   "language": "julia",
   "name": "julia-_10-threads_-1.9"
  },
  "language_info": {
   "file_extension": ".jl",
   "mimetype": "application/julia",
   "name": "julia",
   "version": "1.9.0"
  }
 },
 "nbformat": 4,
 "nbformat_minor": 2
}
