{
 "cells": [
  {
   "cell_type": "code",
   "execution_count": null,
   "id": "a1c50669",
   "metadata": {},
   "outputs": [],
   "source": [
    "using Revise\n",
    "using FUSE"
   ]
  },
  {
   "cell_type": "code",
   "execution_count": null,
   "id": "009f8417",
   "metadata": {},
   "outputs": [],
   "source": [
    "ini, act = FUSE.case_parameters(:FPP; version=:v1_demount, init_from=:scalars);\n",
    "dd = FUSE.init(ini, act; do_plot=false);"
   ]
  },
  {
   "cell_type": "code",
   "execution_count": null,
   "id": "02231999",
   "metadata": {},
   "outputs": [],
   "source": [
    "data_path=\"/fusion/projects/ird/ptp/mclaughlink/\"\n",
    "data_filename=\"combined_mgxs_lib.h5\""
   ]
  },
  {
   "cell_type": "code",
   "execution_count": null,
   "id": "7f81ec0c",
   "metadata": {},
   "outputs": [],
   "source": [
    "xss, mshfile = FUSE.construct_2d(dd, data_path, data_filename)\n",
    "@time sol = FUSE.run_2d(xss, mshfile)"
   ]
  },
  {
   "cell_type": "code",
   "execution_count": null,
   "id": "a6195600",
   "metadata": {},
   "outputs": [],
   "source": [
    "FUSE.get_tbr(sol, dd, data_path, data_filename)"
   ]
  },
  {
   "cell_type": "code",
   "execution_count": null,
   "id": "e6d8682a",
   "metadata": {},
   "outputs": [],
   "source": [
    "FUSE.write_neutron_flux_vtk(sol)"
   ]
  },
  {
   "cell_type": "markdown",
   "id": "931b8a69",
   "metadata": {},
   "source": [
    "You can now use Paraview or a similar program to view the fluxes.vtu file. If running on Omega, you can type `/fusion/projects/codes/neutronics/ParaView-5.11.1-MPI-Linux-Python3.9-x86_64/bin/paraview` in your terminal window to launch Paraview."
   ]
  }
 ],
 "metadata": {
  "kernelspec": {
   "display_name": "Julia (10 threads) 1.9.0",
   "language": "julia",
   "name": "julia-_10-threads_-1.9"
  },
  "language_info": {
   "file_extension": ".jl",
   "mimetype": "application/julia",
   "name": "julia",
   "version": "1.9.0"
  }
 },
 "nbformat": 4,
 "nbformat_minor": 5
}
