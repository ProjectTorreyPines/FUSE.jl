{
 "cells": [
  {
   "cell_type": "code",
   "execution_count": null,
   "id": "f316ddfa-6709-40b0-8e5a-4c53f9ad89ad",
   "metadata": {},
   "outputs": [],
   "source": [
    "using Plots;\n",
    "gr();#plotlyjs();\n",
    "using Revise\n",
    "using FUSE\n",
    "FUSE.logging(Logging.Info; actors=Logging.Error);"
   ]
  },
  {
   "cell_type": "code",
   "execution_count": null,
   "id": "4db92ed0-e6ee-4404-900b-eb4bd8c99505",
   "metadata": {
    "tags": []
   },
   "outputs": [],
   "source": [
    "#ini,act = FUSE.case_parameters(:ITER; init_from=:ods);\n",
    "#ini,act = FUSE.case_parameters(:ITER; init_from=:scalars);\n",
    "#ini,act = FUSE.case_parameters(:D3D);\n",
    "ini, act = FUSE.case_parameters(:FPP; version=:v1_demount, init_from=:scalars);\n",
    "#ini,act = FUSE.case_parameters(:FPP; version=:v1, init_from=:scalars);\n",
    "#ini,act = FUSE.case_parameters(:CAT);\n",
    "#ini,act = FUSE.case_parameters(:HDB5; tokamak=:JET, case=500);\n",
    "\n",
    "# Modify default settings\n",
    "#ini.core_profiles.zeff = 2.0\n",
    "#ini.equilibrium.ζ = 0.1\n",
    "#act.ActorTauenn.transport_model = :ds03\n",
    "act.ActorEquilibrium.model = :CHEASE;"
   ]
  },
  {
   "cell_type": "code",
   "execution_count": null,
   "id": "39e7a502-262f-4dbb-8bc7-8d905ec29c67",
   "metadata": {
    "tags": []
   },
   "outputs": [],
   "source": [
    "# initialize data structure\n",
    "#ini.equilibrium.R0=10#4.824432302041749*1.5\n",
    "#ini.equilibrium.ϵ=0.2857142857142857*1.5\n",
    "dd = FUSE.init(ini, act; do_plot=true);"
   ]
  },
  {
   "cell_type": "code",
   "execution_count": null,
   "id": "6a317c40-d87b-4c07-bc5e-928e569ad5ee",
   "metadata": {},
   "outputs": [],
   "source": [
    "dd_copy = deepcopy(dd);"
   ]
  },
  {
   "cell_type": "code",
   "execution_count": null,
   "id": "066ecf57-a146-41f6-8047-28fbd7c3b0ad",
   "metadata": {},
   "outputs": [],
   "source": [
    "dd = deepcopy(dd_copy)\n",
    "act.ActorTauenn.do_plot = true\n",
    "FUSE.ActorWholeFacility(dd, act);"
   ]
  },
  {
   "cell_type": "code",
   "execution_count": null,
   "id": "db46351a",
   "metadata": {},
   "outputs": [],
   "source": [
    "IMAS.freeze(dd.costing)"
   ]
  },
  {
   "cell_type": "code",
   "execution_count": null,
   "id": "80143734",
   "metadata": {},
   "outputs": [],
   "source": [
    "dd = deepcopy(dd_copy)\n",
    "FUSE.ActorEquilibriumTransport(dd, act; do_plot=true);"
   ]
  },
  {
   "cell_type": "code",
   "execution_count": null,
   "id": "da0d6844-86dd-4114-b265-1053f412d3cf",
   "metadata": {},
   "outputs": [],
   "source": [
    "@time FUSE.ActorHFSsizing(dd, act; do_plot=true);\n",
    "display(plot(dd.solid_mechanics.center_stack.stress))\n",
    "dd.build.oh"
   ]
  },
  {
   "cell_type": "code",
   "execution_count": null,
   "id": "1fa74e76-af45-4104-b97a-fecded19f485",
   "metadata": {},
   "outputs": [],
   "source": [
    "@time FUSE.ActorLFSsizing(dd, act; do_plot=true);\n",
    "display(dd.build.tf)"
   ]
  },
  {
   "cell_type": "code",
   "execution_count": null,
   "id": "a974d49d-2579-4fee-87ec-899b9ec09a83",
   "metadata": {},
   "outputs": [],
   "source": [
    "@time FUSE.ActorCXbuild(dd, act; do_plot=true);"
   ]
  },
  {
   "cell_type": "code",
   "execution_count": null,
   "id": "04376c82-2b1c-402c-bf15-195663d27a95",
   "metadata": {},
   "outputs": [],
   "source": [
    "dd_copy = deepcopy(dd);"
   ]
  },
  {
   "cell_type": "code",
   "execution_count": null,
   "id": "510bad4a-4c83-471a-880b-7e5ef17d627d",
   "metadata": {},
   "outputs": [],
   "source": [
    "dd = deepcopy(dd_copy)\n",
    "ini.pf_active.n_pf_coils_outside = 5\n",
    "FUSE.init_pf_active(dd, ini, act)\n",
    "# λ_currents: make bigger to force currents to fit within the current limits\n",
    "# update_equilibrium: overwrite the target equilibrium with what the coils can actually generate\n",
    "@time FUSE.ActorPFcoilsOpt(dd, act; weight_lcfs=1, weight_null=1E-3, weight_currents=1.0, weight_strike=1.0, do_plot=true, update_equilibrium=true);"
   ]
  },
  {
   "cell_type": "code",
   "execution_count": null,
   "id": "1c250273-e169-4dc7-8b33-d68b5943a6db",
   "metadata": {},
   "outputs": [],
   "source": [
    "@time FUSE.ActorCXbuild(dd, act, rebuild_wall=true);\n",
    "@time FUSE.ActorPFcoilsOpt(dd, act; weight_lcfs=1, weight_null=1E-3, weight_currents=1.0, weight_strike=1.0, do_plot=true, update_equilibrium=false);"
   ]
  },
  {
   "cell_type": "code",
   "execution_count": null,
   "id": "0855932d-1a32-4831-af29-caea247b37b5",
   "metadata": {},
   "outputs": [],
   "source": [
    "@time FUSE.ActorNeutronics(dd, act; do_plot=true);"
   ]
  },
  {
   "cell_type": "code",
   "execution_count": null,
   "id": "b66d7d31-cdf8-4bab-8cb6-8758ad804f46",
   "metadata": {},
   "outputs": [],
   "source": [
    "@time FUSE.ActorBlanket(dd, act)#; do_plot=true);\n",
    "dd.blanket"
   ]
  },
  {
   "cell_type": "code",
   "execution_count": null,
   "id": "92866983-eac5-4473-9342-93ae8b422552",
   "metadata": {},
   "outputs": [],
   "source": [
    "@time FUSE.ActorDivertors(dd, act)#; do_plot=true);\n",
    "dd.divertors"
   ]
  },
  {
   "cell_type": "code",
   "execution_count": null,
   "id": "878ed705-e9f1-4451-a1e6-2adc7e5e996b",
   "metadata": {},
   "outputs": [],
   "source": [
    "@time FUSE.ActorBalanceOfPlant(dd, act)#; do_plot=true);\n",
    "IMAS.freeze(dd.balance_of_plant)"
   ]
  },
  {
   "cell_type": "code",
   "execution_count": null,
   "id": "0281c3a3-1c7f-43b8-8b2d-ea3af6cd8bea",
   "metadata": {},
   "outputs": [],
   "source": [
    "@time FUSE.ActorCosting(dd, act)#; do_plot=true);\n",
    "IMAS.freeze(dd.costing)"
   ]
  },
  {
   "cell_type": "code",
   "execution_count": null,
   "id": "d483726c-164f-4cbb-8f2a-ccb1b0bd6772",
   "metadata": {},
   "outputs": [],
   "source": [
    "# Save `dd` to Json, so we can share our results with others\n",
    "IMAS.imas2json(dd, \"fpp_v1_FUSE.json\")"
   ]
  },
  {
   "cell_type": "code",
   "execution_count": null,
   "id": "d3578913-d500-4ffd-a293-b89711bb7c8f",
   "metadata": {},
   "outputs": [],
   "source": [
    "plot(dd.equilibrium; cx=true)\n",
    "plot!(dd.build; legend=false)\n",
    "display(plot!(dd.pf_active))\n",
    "\n",
    "display(dd.build.layer)\n",
    "\n",
    "display(plot(dd.equilibrium))\n",
    "\n",
    "display(plot(dd.core_profiles))\n",
    "\n",
    "display(plot(dd.core_sources))\n",
    "\n",
    "display(IMAS.freeze(dd.balance_of_plant))\n",
    "\n",
    "display(IMAS.freeze(dd.costing))"
   ]
  }
 ],
 "metadata": {
  "@webio": {
   "lastCommId": "110bb38f-4915-470d-85b0-34426cb313a1",
   "lastKernelId": "b1e80a98-e4fb-4f36-a2e2-5db5359a95d8"
  },
  "kernelspec": {
   "display_name": "Julia 1.8.2",
   "language": "julia",
   "name": "julia-1.8"
  },
  "language_info": {
   "file_extension": ".jl",
   "mimetype": "application/julia",
   "name": "julia",
   "version": "1.8.2"
  }
 },
 "nbformat": 4,
 "nbformat_minor": 5
}
