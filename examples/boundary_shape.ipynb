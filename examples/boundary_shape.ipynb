{
 "cells": [
  {
   "cell_type": "markdown",
   "id": "b841be4f-688e-4d37-8da3-a5cbc487aee3",
   "metadata": {
    "tags": []
   },
   "source": [
    "# Notebook to interactively manipulate equilibrium boundary and getting corresponding MXH coefficients"
   ]
  },
  {
   "cell_type": "code",
   "execution_count": null,
   "id": "4e55da2a-99cf-485c-a867-446a48a7dcfb",
   "metadata": {
    "tags": []
   },
   "outputs": [],
   "source": [
    "using Plots; gr();\n",
    "using IMAS"
   ]
  },
  {
   "cell_type": "code",
   "execution_count": null,
   "id": "bc267a7d-ee8c-4593-b1bf-30bc3ce8573f",
   "metadata": {
    "tags": []
   },
   "outputs": [],
   "source": [
    "import Interact\n",
    "\n",
    "N = 101\n",
    "\n",
    "state = Dict()\n",
    "\n",
    "upnull = false\n",
    "lonull = false\n",
    "zoffset = 0.0\n",
    "Interact.@manipulate for mhx_order in 0:10,\n",
    "    a in LinRange(0.1, 10, N),\n",
    "    eps in LinRange(0.1, 1, N),\n",
    "    kapu in LinRange(1.0, 3.0, N),\n",
    "    kapl in LinRange(1.0, 3.0, N),\n",
    "    delu in LinRange(-1.0, 1.0, N)[2:end-1],\n",
    "    dell in LinRange(-1.0, 1.0, N)[2:end-1],\n",
    "    zetaou in LinRange(-sqrt(2) / 2, 1.0, N),\n",
    "    zetaiu in LinRange(-sqrt(2) / 2, 1.0, N),\n",
    "    zetaol in LinRange(-sqrt(2) / 2, 1.0, N),\n",
    "    zetail in LinRange(-sqrt(2) / 2, 1.0, N)#,\n",
    "    #    upnull in [false,true],\n",
    "    #    lonull in [false,true],\n",
    "\n",
    "    shape = Dict(:a => a, :eps => eps, :kapu => kapu, :kapl => kapl, :delu => delu, :dell => dell, :zetaou => zetaou, :zetaiu => zetaiu, :zetail => zetail, :zetaol => zetaol, :zoffset => zoffset, :upnull => upnull, :lonull => lonull)\n",
    "    state[\"shape\"] = shape\n",
    "    \n",
    "    r, z, zref = try\n",
    "        IMAS.boundary_shape(; shape...)\n",
    "    catch e\n",
    "        [NaN], [NaN], [NaN]\n",
    "    end\n",
    "    state[\"numeric\"] = (r,z)\n",
    "    \n",
    "    mxh = IMAS.MXH(r, z, mhx_order, optimize_fit=true)\n",
    "    state[\"mxh\"] = mxh\n",
    "\n",
    "    plot(r, z; aspect_ratio=:equal, lw=2, label=\"numeric\")\n",
    "    plot!(mxh,label=\"mxh\")\n",
    "end"
   ]
  },
  {
   "cell_type": "code",
   "execution_count": null,
   "id": "1a75e035-4b4a-420a-8a55-2abd3f92ec78",
   "metadata": {
    "tags": []
   },
   "outputs": [],
   "source": [
    "state[\"shape\"]"
   ]
  },
  {
   "cell_type": "code",
   "execution_count": null,
   "id": "d68caa84-13b7-4bab-b82c-ded2d24e628e",
   "metadata": {
    "tags": []
   },
   "outputs": [],
   "source": [
    "state[\"mxh\"]"
   ]
  },
  {
   "cell_type": "code",
   "execution_count": null,
   "id": "911aa4b3-b817-4986-97fd-f415f9b11369",
   "metadata": {
    "tags": []
   },
   "outputs": [],
   "source": [
    "IMAS.flat_coeffs(state[\"mxh\"])"
   ]
  }
 ],
 "metadata": {
  "@webio": {
   "lastCommId": "7210c17b-b36b-452d-afdc-116f2c279442",
   "lastKernelId": "285a5069-2b11-4a6a-afd1-a3e39799096d"
  },
  "kernelspec": {
   "display_name": "Julia 1.8.5",
   "language": "julia",
   "name": "julia-1.8"
  },
  "language_info": {
   "file_extension": ".jl",
   "mimetype": "application/julia",
   "name": "julia",
   "version": "1.8.5"
  }
 },
 "nbformat": 4,
 "nbformat_minor": 5
}
