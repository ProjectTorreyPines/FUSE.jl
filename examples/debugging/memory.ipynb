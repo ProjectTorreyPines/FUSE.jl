{
 "cells": [
  {
   "cell_type": "code",
   "execution_count": null,
   "id": "d4f05cb0-7e0b-4b11-8ea8-5b2d05961146",
   "metadata": {
    "tags": []
   },
   "outputs": [],
   "source": [
    "using Revise\n",
    "@time using FUSE\n",
    "using Plots;\n",
    "FUSE.logging(Logging.Info; actors=Logging.Info);"
   ]
  },
  {
   "cell_type": "code",
   "execution_count": null,
   "id": "7d0983db-e888-4601-87f6-3765955ae593",
   "metadata": {
    "tags": []
   },
   "outputs": [],
   "source": [
    "save_folder = <enter your save folder here could be tmp> # change to your save_folder\n",
    "\n",
    "if !isdir(save_folder)\n",
    "    mkdir(save_folder)\n",
    "end"
   ]
  },
  {
   "cell_type": "code",
   "execution_count": null,
   "id": "4afe4a8f-247d-4abf-b48f-01703dbb84b2",
   "metadata": {
    "tags": []
   },
   "outputs": [],
   "source": [
    "old_dir = pwd()\n",
    "mkpath(save_folder)\n",
    "try\n",
    "    cd(save_folder) # this is to save temporary distributed files in working folder\n",
    "    FUSE.parallel_environment(\"localhost\",5)\n",
    "finally\n",
    "    cd(old_dir)\n",
    "end\n",
    "display(pwd())\n"
   ]
  },
  {
   "cell_type": "code",
   "execution_count": null,
   "id": "fa759725-02ed-47db-bce6-44988ff169e4",
   "metadata": {
    "tags": []
   },
   "outputs": [],
   "source": [
    "#minimal working example for loading and saving dd using pmap\n",
    "using Distributed\n",
    "@everywhere import IMAS\n",
    "@everywhere import FUSE\n",
    "\n",
    "@everywhere function load_case(input_folder)\n",
    "    IMAS.json2imas(joinpath(input_folder,\"dd.json\")),FUSE.json2act(joinpath(input_folder,\"act.json\")) \n",
    "end\n",
    "   \n",
    "\n",
    "@everywhere function run_case_try(folder,input_folder)\n",
    "    if !isdir(folder)\n",
    "        mkdir(folder)\n",
    "    end\n",
    "    \n",
    "    try\n",
    "        dd,act = load_case(input_folder)\n",
    "        \n",
    "        FUSE.ActorNoOperation(dd,act)\n",
    "    \n",
    "        FUSE.save(FUSE.memtrace, joinpath(folder, \"memtrace.txt\"))\n",
    "        IMAS.imas2json(dd,joinpath(folder,\"outputdd.json\"))\n",
    "    catch e\n",
    "        println(e)\n",
    "    end\n",
    "    return nothing\n",
    "end\n",
    "\n",
    "@everywhere function run_case_no_try(folder,input_folder)\n",
    "\n",
    "    if !isdir(folder)\n",
    "        mkdir(folder)\n",
    "    end\n",
    "    \n",
    "    dd,act = load_case(input_folder)\n",
    "\n",
    "    FUSE.ActorNoOperation(dd,act)\n",
    "\n",
    "    FUSE.save(FUSE.memtrace, joinpath(folder, \"memtrace.txt\"))\n",
    "    IMAS.imas2json(dd,joinpath(folder,\"outputdd.json\"))\n",
    "\n",
    "    return nothing\n",
    "end\n",
    "\n",
    "\n",
    "@everywhere function _run_case_no_try(folder,input_folder)\n",
    "    tmp = run_case_no_try(folder,input_folder)\n",
    "    tmp = nothing\n",
    "    Gc.gc()\n",
    "end\n"
   ]
  },
  {
   "cell_type": "code",
   "execution_count": null,
   "id": "6c275aab-4b1f-4afb-b88f-ded6bf96a5ec",
   "metadata": {
    "tags": []
   },
   "outputs": [],
   "source": [
    "N_runs = 5000\n",
    "to_run = [joinpath(save_folder,\"$i\") for i in 1000:1:1000 + N_runs]\n",
    "input_folder = save_folder\n",
    "\n",
    "run_case_no_try(to_run[1],input_folder); # test 1 case"
   ]
  },
  {
   "cell_type": "code",
   "execution_count": null,
   "id": "79f778a2-00ee-498d-8338-3decef9a2618",
   "metadata": {
    "tags": []
   },
   "outputs": [],
   "source": [
    "pmap(folder -> run_case_no_try(folder, input_folder), to_run)    # load & save without gc\n",
    "#pmap(folder -> _run_case_no_try(folder, input_folder), to_run)  # warpped function with gc"
   ]
  },
  {
   "cell_type": "code",
   "execution_count": null,
   "id": "63fc37a1-a49e-47a5-9c37-e38b27d4d07f",
   "metadata": {
    "tags": []
   },
   "outputs": [],
   "source": [
    "# to see memory output\n",
    "\n",
    "f1 = readdir(save_folder)[end-3]\n",
    "@show f1\n",
    "mem = FUSE.load(FUSE.MemTrace(),joinpath(save_folder,f1,\"memtrace.txt\"))\n",
    "\n",
    "plot(mem,0)"
   ]
  }
 ],
 "metadata": {
  "kernelspec": {
   "display_name": "Julia tracecompile 1.9.4",
   "language": "julia",
   "name": "julia-tracecompile-1.9"
  },
  "language_info": {
   "file_extension": ".jl",
   "mimetype": "application/julia",
   "name": "julia",
   "version": "1.9.4"
  }
 },
 "nbformat": 4,
 "nbformat_minor": 5
}
