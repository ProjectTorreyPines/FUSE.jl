{
 "cells": [
  {
   "cell_type": "markdown",
   "id": "0faddccf",
   "metadata": {},
   "source": [
    "# Time dependent ITER simulation"
   ]
  },
  {
   "cell_type": "code",
   "execution_count": null,
   "id": "c0af3993",
   "metadata": {},
   "outputs": [],
   "source": [
    "using Plots;\n",
    "gr();\n",
    "@time using FUSE\n",
    "FUSE.logging(Logging.Info; actors=Logging.Info);\n",
    "FUSE.ProgressMeter.ijulia_behavior(:clear);"
   ]
  },
  {
   "cell_type": "code",
   "execution_count": null,
   "id": "3dbf490b-2b71-4b2d-a3fa-6d5286568368",
   "metadata": {
    "execution": {
     "iopub.execute_input": "2023-11-27T09:21:00.558000-08:00",
     "iopub.status.busy": "2023-11-27T09:21:00.558000-08:00",
     "iopub.status.idle": "2023-11-27T09:21:01.051000-08:00",
     "shell.execute_reply": "2023-11-27T09:21:01.050000-08:00"
    },
    "tags": []
   },
   "outputs": [],
   "source": [
    "ini, act = FUSE.case_parameters(:ITER; init_from=:ods);\n",
    "act.ActorEquilibrium.model = :CHEASE"
   ]
  },
  {
   "cell_type": "code",
   "execution_count": null,
   "id": "d389c197-ed55-4ff4-afd0-3df0b1c9e7b6",
   "metadata": {
    "execution": {
     "iopub.execute_input": "2023-11-27T09:21:00.558000-08:00",
     "iopub.status.busy": "2023-11-27T09:21:00.558000-08:00",
     "iopub.status.idle": "2023-11-27T09:21:01.051000-08:00",
     "shell.execute_reply": "2023-11-27T09:21:01.050000-08:00"
    },
    "tags": []
   },
   "outputs": [],
   "source": [
    "using Interact\n",
    "@manipulate for time0 in ini.time.pulse_shedule_time_basis\n",
    "    ini0 = deepcopy(ini)\n",
    "    ini0.time.simulation_start = time0\n",
    "    plot(ini, color=:red)\n",
    "    plot!(ini0, color=:blue)\n",
    "end"
   ]
  },
  {
   "cell_type": "code",
   "execution_count": null,
   "id": "d4ab0860-5e3c-4ed2-8d58-6a25ea3a79d0",
   "metadata": {
    "execution": {
     "iopub.execute_input": "2023-11-27T03:38:14.017000-08:00",
     "iopub.status.busy": "2023-11-27T03:38:14.017000-08:00",
     "iopub.status.idle": "2023-11-27T03:38:34.476000-08:00",
     "shell.execute_reply": "2023-11-27T03:38:34.476000-08:00"
    },
    "tags": []
   },
   "outputs": [],
   "source": [
    "chk = FUSE.Checkpoint();\n",
    "\n",
    "dd = IMAS.dd()\n",
    "@time dd = FUSE.init(dd, ini, act);\n",
    "chk[:init] = dd, ini, act;"
   ]
  },
  {
   "cell_type": "code",
   "execution_count": null,
   "id": "8fcec729-9b0e-4621-abc5-107e2c141a10",
   "metadata": {
    "tags": []
   },
   "outputs": [],
   "source": [
    "FUSE.digest(dd)"
   ]
  },
  {
   "cell_type": "code",
   "execution_count": null,
   "id": "0adccaba-a464-4dd5-a429-b8c6de9340ce",
   "metadata": {
    "execution": {
     "iopub.execute_input": "2023-11-26T08:05:11.005000-08:00",
     "iopub.status.busy": "2023-11-26T08:05:11.005000-08:00",
     "iopub.status.idle": "2023-11-26T08:05:17.569000-08:00",
     "shell.execute_reply": "2023-11-26T08:05:17.569000-08:00"
    },
    "tags": []
   },
   "outputs": [],
   "source": [
    "using Interact\n",
    "@manipulate for time0 in dd.pulse_schedule.flux_control.i_plasma.reference.time\n",
    "    plot(dd.pulse_schedule; time0)\n",
    "end"
   ]
  },
  {
   "cell_type": "code",
   "execution_count": null,
   "id": "8b8520a8-776b-46ff-bf98-f40c30cebdfd",
   "metadata": {
    "execution": {
     "iopub.execute_input": "2023-11-27T03:38:46.210000-08:00",
     "iopub.status.busy": "2023-11-27T03:38:46.210000-08:00",
     "iopub.status.idle": "2023-11-27T03:39:05.427000-08:00",
     "shell.execute_reply": "2023-11-27T03:39:05.426000-08:00"
    },
    "tags": []
   },
   "outputs": [],
   "source": [
    "dd = chk[:init].dd\n",
    "\n",
    "ini, act = FUSE.case_parameters(:ITER; init_from=:scalars);\n",
    "ini.time.simulation_start = 100.0\n",
    "act.ActorEquilibrium.model = :CHEASE\n",
    "\n",
    "FUSE.init(dd, ini, act; initialize_hardware=false);\n",
    "\n",
    "chk[:tinit] = (dd, ini, act);"
   ]
  },
  {
   "cell_type": "code",
   "execution_count": null,
   "id": "d369fe0b-cb26-4c89-9227-a6ae6845709c",
   "metadata": {
    "execution": {
     "iopub.execute_input": "2023-11-26T08:06:13.076000-08:00",
     "iopub.status.busy": "2023-11-26T08:06:13.076000-08:00",
     "iopub.status.idle": "2023-11-26T08:06:13.089000-08:00",
     "shell.execute_reply": "2023-11-26T08:06:13.088000-08:00"
    },
    "tags": []
   },
   "outputs": [],
   "source": [
    "FUSE.digest(dd)"
   ]
  },
  {
   "cell_type": "code",
   "execution_count": null,
   "id": "1c3ed46a-7f5e-474d-b847-0962a7d98875",
   "metadata": {
    "execution": {
     "iopub.execute_input": "2023-11-27T03:39:35.210000-08:00",
     "iopub.status.busy": "2023-11-27T03:39:35.210000-08:00",
     "iopub.status.idle": "2023-11-27T03:41:00.772000-08:00",
     "shell.execute_reply": "2023-11-27T03:41:00.772000-08:00"
    },
    "tags": []
   },
   "outputs": [],
   "source": [
    "dd, ini, act = chk[:tinit]\n",
    "\n",
    "act.ActorCoreTransport.model = :FluxMatcher\n",
    "\n",
    "# act.ActorStationaryPlasma.convergence_error=1E-3\n",
    "# act.ActorStationaryPlasma.max_iter=3\n",
    "# act.ActorFluxMatcher.max_iterations = 50\n",
    "# act.ActorFluxMatcher.rho_transport=0.25:0.1:0.85\n",
    "# act.ActorFluxMatcher.optimizer_algorithm=:trust_region\n",
    "\n",
    "act.ActorFluxMatcher.step_size = 1.0\n",
    "act.ActorFluxMatcher.optimizer_algorithm = :anderson\n",
    "act.ActorFluxMatcher.max_iterations = 300\n",
    "act.ActorStationaryPlasma.verbose = true;\n",
    "\n",
    "FUSE.ActorStationaryPlasma(dd, act; do_plot=false, verbose=true)\n",
    "chk[:stationary] = (dd, ini, act);"
   ]
  },
  {
   "cell_type": "code",
   "execution_count": null,
   "id": "b361d350-abde-4719-ab88-6ebd37fd24b6",
   "metadata": {
    "execution": {
     "iopub.execute_input": "2023-11-27T04:46:10.140000-08:00",
     "iopub.status.busy": "2023-11-27T04:46:10.140000-08:00",
     "iopub.status.idle": "2023-11-27T04:46:11.062000-08:00",
     "shell.execute_reply": "2023-11-27T04:46:11.061000-08:00"
    },
    "tags": []
   },
   "outputs": [],
   "source": [
    "FUSE.plot_plasma_overview(dd, dd.global_time; min_power=1E6, aggregate_radiation=true)"
   ]
  },
  {
   "cell_type": "code",
   "execution_count": null,
   "id": "f0569360-7b20-44b8-86cf-cfd6400f5990",
   "metadata": {
    "tags": []
   },
   "outputs": [],
   "source": [
    "FUSE.ProgressMeter.ijulia_behavior(:clear)\n",
    "\n",
    "dd, ini, act = chk[:stationary]\n",
    "\n",
    "act.ActorStationaryPlasma.convergence_error = 1E-3\n",
    "act.ActorStationaryPlasma.max_iter = 3\n",
    "act.ActorFluxMatcher.max_iterations = 50\n",
    "act.ActorFluxMatcher.rho_transport = 0.25:0.1:0.85\n",
    "act.ActorFluxMatcher.optimizer_algorithm = :trust_region\n",
    "\n",
    "act.ActorDynamicPlasma.Nt = 60\n",
    "act.ActorDynamicPlasma.Δt = 300.0\n",
    "act.ActorDynamicPlasma.evolve_current = true\n",
    "act.ActorDynamicPlasma.evolve_equilibrium = true\n",
    "act.ActorDynamicPlasma.evolve_transport = true\n",
    "act.ActorDynamicPlasma.evolve_hcd = true\n",
    "act.ActorDynamicPlasma.evolve_pf_active = true\n",
    "act.ActorDynamicPlasma.evolve_pedestal = true\n",
    "\n",
    "FUSE.ActorDynamicPlasma(dd, act);\n",
    "\n",
    "chk[:time_dep] = dd, ini, act;"
   ]
  },
  {
   "cell_type": "code",
   "execution_count": null,
   "id": "a4107523-508d-4f0f-bd2a-d9985a342ae4",
   "metadata": {
    "execution": {
     "iopub.execute_input": "2023-11-27T09:07:17.873000-08:00",
     "iopub.status.busy": "2023-11-27T09:07:17.871000-08:00",
     "iopub.status.idle": "2023-11-27T09:08:02.622000-08:00",
     "shell.execute_reply": "2023-11-27T09:08:02.622000-08:00"
    },
    "tags": []
   },
   "outputs": [],
   "source": [
    "dd.global_time = 200.0\n",
    "lw = 2\n",
    "using Interact\n",
    "\n",
    "a = @animate for (k, time0) in enumerate(dd.core_sources.time)\n",
    "    #@manipulate for k in eachindex(dd.core_sources.time)\n",
    "    time0 = dd.core_sources.time[k]\n",
    "    FUSE.plot_plasma_overview(dd, time0; min_power=1E6, aggregate_radiation=true)\n",
    "    #    savefig(joinpath(\"/Users/meneghini/Library/CloudStorage/Dropbox/tex/figures/FUSE/gif\", \"frame_$(lpad(k-1, 4, '0')).png\"));\n",
    "end"
   ]
  },
  {
   "cell_type": "code",
   "execution_count": null,
   "id": "f36f2042-ed8c-4a36-8709-8119d2980300",
   "metadata": {
    "execution": {
     "iopub.execute_input": "2023-11-27T09:08:02.622000-08:00",
     "iopub.status.busy": "2023-11-27T09:08:02.622000-08:00",
     "iopub.status.idle": "2023-11-27T09:08:09.278000-08:00",
     "shell.execute_reply": "2023-11-27T09:08:09.278000-08:00"
    },
    "tags": []
   },
   "outputs": [],
   "source": [
    "g = gif(a, \"ITER_time_dep_v5.gif\", fps=12)\n",
    "display(g)"
   ]
  }
 ],
 "metadata": {
  "@webio": {
   "lastCommId": "32dba9f8-523d-45ff-ac2d-b76b48eae2fe",
   "lastKernelId": "c71076bd-efd8-4478-acb5-6864dfc52081"
  },
  "kernelspec": {
   "display_name": "Julia (8 threads) 1.9.3",
   "language": "julia",
   "name": "julia-_8-threads_-1.9"
  },
  "language_info": {
   "file_extension": ".jl",
   "mimetype": "application/julia",
   "name": "julia",
   "version": "1.9.3"
  }
 },
 "nbformat": 4,
 "nbformat_minor": 5
}
