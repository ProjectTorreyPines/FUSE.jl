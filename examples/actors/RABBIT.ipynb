{
 "cells": [
  {
   "cell_type": "code",
   "execution_count": null,
   "id": "fef8e021-5db1-4a0b-9f4b-259ea0e3131c",
   "metadata": {
    "tags": []
   },
   "outputs": [],
   "source": [
    "using Revise\n",
    "using FUSE\n",
    "using Plots\n",
    "FUSE.logging(Logging.Info; actors=Logging.Info);\n",
    "FUSE.ProgressMeter.ijulia_behavior(:clear);"
   ]
  },
  {
   "cell_type": "code",
   "execution_count": null,
   "id": "eed2d2c8-d5ea-46ed-a897-b4097974565c",
   "metadata": {
    "execution": {
     "iopub.execute_input": "2024-07-17T15:53:35.074000-07:00",
     "iopub.status.busy": "2024-07-17T15:53:35.067000-07:00",
     "iopub.status.idle": "2024-07-17T15:53:40.429000-07:00",
     "shell.execute_reply": "2024-07-17T15:53:40.429000-07:00"
    },
    "tags": []
   },
   "outputs": [],
   "source": [
    "chk = FUSE.Checkpoint();\n",
    "ini, act = FUSE.case_parameters(:D3D)\n",
    "#ini.nb_unit[1].power_launched = t-> 2.5E6 + ramp(t-0.5) * 5E6\n",
    "act.ActorHCD.nb_model = :RABBIT\n",
    "dd = IMAS.dd();\n",
    "FUSE.init(dd, ini, act);\n",
    "chk[:init] = dd, ini, act;"
   ]
  },
  {
   "cell_type": "code",
   "execution_count": null,
   "id": "f6ac6dc4-25c8-4bd3-9c9f-ca2f2c193313",
   "metadata": {
    "execution": {
     "iopub.execute_input": "2024-07-17T15:53:55.359000-07:00",
     "iopub.status.busy": "2024-07-17T15:53:55.359000-07:00",
     "iopub.status.idle": "2024-07-17T15:53:55.725000-07:00",
     "shell.execute_reply": "2024-07-17T15:53:55.725000-07:00"
    },
    "tags": []
   },
   "outputs": [],
   "source": [
    "dd, ini, act = chk[:init];\n",
    "plot(dd.core_sources)\n",
    "FUSE.plot_plasma_overview(dd, dd.global_time; min_power=0.1E6, aggregate_radiation=true)"
   ]
  },
  {
   "cell_type": "code",
   "execution_count": null,
   "id": "2d174cf9-f9be-42cc-87aa-c574f9eafc05",
   "metadata": {
    "execution": {
     "iopub.execute_input": "2024-07-17T15:53:56.472000-07:00",
     "iopub.status.busy": "2024-07-17T15:53:56.472000-07:00",
     "iopub.status.idle": "2024-07-17T15:54:44.857000-07:00",
     "shell.execute_reply": "2024-07-17T15:54:44.857000-07:00"
    },
    "tags": []
   },
   "outputs": [],
   "source": [
    "dd, ini, act = chk[:init];\n",
    "act.ActorCoreTransport.model = :FluxMatcher\n",
    "FUSE.ActorStationaryPlasma(dd, act; verbose=true)\n",
    "chk[:stationary] = dd, ini, act;"
   ]
  },
  {
   "cell_type": "code",
   "execution_count": null,
   "id": "349846ae-b079-482d-8f95-c0426dbca02d",
   "metadata": {
    "execution": {
     "iopub.execute_input": "2024-07-17T15:54:54.953000-07:00",
     "iopub.status.busy": "2024-07-17T15:54:54.952000-07:00",
     "iopub.status.idle": "2024-07-17T15:54:55.341000-07:00",
     "shell.execute_reply": "2024-07-17T15:54:55.341000-07:00"
    },
    "tags": []
   },
   "outputs": [],
   "source": [
    "dd, ini, act = chk[:stationary];\n",
    "FUSE.plot_plasma_overview(dd, dd.global_time; min_power=0.1E6, aggregate_radiation=true)"
   ]
  },
  {
   "cell_type": "code",
   "execution_count": null,
   "id": "619678a0-f5ae-483e-9ea6-eba3c7232f6b",
   "metadata": {
    "execution": {
     "iopub.execute_input": "2024-07-17T15:55:05.837000-07:00",
     "iopub.status.busy": "2024-07-17T15:55:05.836000-07:00",
     "iopub.status.idle": "2024-07-17T15:55:53.644000-07:00",
     "shell.execute_reply": "2024-07-17T15:55:53.644000-07:00"
    },
    "tags": []
   },
   "outputs": [],
   "source": [
    "dd, ini, act = chk[:stationary];\n",
    "act.ActorDynamicPlasma.Δt = 1.0\n",
    "act.ActorDynamicPlasma.Nt = 15\n",
    "\n",
    "act.ActorDynamicPlasma.evolve_current = false\n",
    "act.ActorDynamicPlasma.evolve_equilibrium = false\n",
    "act.ActorDynamicPlasma.evolve_pedestal = false\n",
    "act.ActorDynamicPlasma.evolve_transport = false\n",
    "act.ActorDynamicPlasma.evolve_hcd = true\n",
    "act.ActorDynamicPlasma.evolve_pf_active = false\n",
    "# act.ActorDynamicPlasma.ip_controller = false\n",
    "\n",
    "FUSE.ActorDynamicPlasma(dd, act; verbose=true)\n",
    "chk[:dynamic_no_transport] = dd, ini, act;"
   ]
  },
  {
   "cell_type": "code",
   "execution_count": null,
   "id": "77b44733-4bff-4d68-abd4-0e266fd345de",
   "metadata": {
    "execution": {
     "iopub.execute_input": "2024-07-17T15:55:55.065000-07:00",
     "iopub.status.busy": "2024-07-17T15:55:55.065000-07:00",
     "iopub.status.idle": "2024-07-17T15:55:55.439000-07:00",
     "shell.execute_reply": "2024-07-17T15:55:55.439000-07:00"
    },
    "tags": []
   },
   "outputs": [],
   "source": [
    "dd, ini, act = chk[:dynamic_no_transport];\n",
    "using Interact\n",
    "@manipulate for time0 in dd.core_profiles.time[2:end]\n",
    "    #plot(dd2.core_sources; time0)\n",
    "    FUSE.plot_plasma_overview(dd, time0; min_power=0.1E6, aggregate_radiation=true)\n",
    "end"
   ]
  },
  {
   "cell_type": "code",
   "execution_count": null,
   "id": "7fc02d08-a561-4ea4-80e0-5138c7d042cf",
   "metadata": {
    "execution": {
     "iopub.execute_input": "2024-07-17T15:56:13.365000-07:00",
     "iopub.status.busy": "2024-07-17T15:56:13.364000-07:00",
     "iopub.status.idle": "2024-07-17T15:56:16.231000-07:00",
     "shell.execute_reply": "2024-07-17T15:56:16.231000-07:00"
    },
    "tags": []
   },
   "outputs": [],
   "source": [
    "actor=FUSE.ActorRABBIT(dd,act);"
   ]
  },
  {
   "cell_type": "code",
   "execution_count": null,
   "id": "51879d6c-59e4-4689-8286-7dd0863caaca",
   "metadata": {
    "execution": {
     "iopub.execute_input": "2024-07-17T15:56:26.966000-07:00",
     "iopub.status.busy": "2024-07-17T15:56:26.966000-07:00",
     "iopub.status.idle": "2024-07-17T15:56:27.038000-07:00",
     "shell.execute_reply": "2024-07-17T15:56:27.037000-07:00"
    },
    "tags": []
   },
   "outputs": [],
   "source": [
    "data = actor.outputs.powi_data\n",
    "n=size(data)[2]\n",
    "CList = reshape( range(colorant\"red\", stop=colorant\"blue\",length=n), 1, n );\n",
    "plot(data;label=\"\",seriescolor=CList)\n",
    "#plot!(data[:,end];label=\"\",seriescolor=CList)"
   ]
  },
  {
   "cell_type": "code",
   "execution_count": null,
   "id": "cefce7c0-3d81-42ac-a50b-81e96d778ef8",
   "metadata": {},
   "outputs": [],
   "source": []
  }
 ],
 "metadata": {
  "@webio": {
   "lastCommId": "f77e2a19-a472-4bfd-9da6-df160c8b1f16",
   "lastKernelId": "fc53ddbb-74b2-4223-aba9-b9ff3f32f84e"
  },
  "kernelspec": {
   "display_name": "Julia 1.10.0",
   "language": "julia",
   "name": "julia-1.10"
  },
  "language_info": {
   "file_extension": ".jl",
   "mimetype": "application/julia",
   "name": "julia",
   "version": "1.10.0"
  }
 },
 "nbformat": 4,
 "nbformat_minor": 5
}
