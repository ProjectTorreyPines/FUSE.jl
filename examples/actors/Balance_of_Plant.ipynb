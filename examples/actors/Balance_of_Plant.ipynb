{
 "cells": [
  {
   "cell_type": "markdown",
   "id": "c8eec54b-2533-4791-bd01-5745effb72bf",
   "metadata": {},
   "source": [
    "# Balance of plant"
   ]
  },
  {
   "cell_type": "code",
   "execution_count": 1,
   "id": "cc559b9e-0829-473f-bdc1-08bfb84dacca",
   "metadata": {},
   "outputs": [
    {
     "name": "stderr",
     "output_type": "stream",
     "text": [
      "\u001b[36m\u001b[1m[ \u001b[22m\u001b[39m\u001b[36m\u001b[1mInfo: \u001b[22m\u001b[39mPrecompiling FUSE [e64856f0-3bb8-4376-b4b7-c03396503992]\n"
     ]
    },
    {
     "data": {
      "application/vnd.webio.node+json": {
       "children": [],
       "instanceArgs": {
        "namespace": "html",
        "tag": "div"
       },
       "nodeType": "DOM",
       "props": {},
       "type": "node"
      },
      "text/html": [
       "<div style=\"padding: 1em; background-color: #f8d6da; border: 1px solid #f5c6cb; font-weight: bold;\">\n",
       "<p>The WebIO Jupyter extension was not detected. See the\n",
       "<a href=\"https://juliagizmos.github.io/WebIO.jl/latest/providers/ijulia/\" target=\"_blank\">\n",
       "    WebIO Jupyter integration documentation\n",
       "</a>\n",
       "for more information.\n",
       "</div>\n"
      ],
      "text/plain": [
       "WebIO._IJuliaInit()"
      ]
     },
     "metadata": {},
     "output_type": "display_data"
    }
   ],
   "source": [
    "using Revise\n",
    "using FUSE\n",
    "using Plots;\n",
    "FUSE.logging(Logging.Info);"
   ]
  },
  {
   "cell_type": "markdown",
   "id": "09535cb8-9230-43b5-a113-e2cd63664a6a",
   "metadata": {},
   "source": [
    "### Initialize FPP v1_demount case\n",
    "[FPP v1 demount case documentation](https://fuse.help/cases.html#FPP)"
   ]
  },
  {
   "cell_type": "code",
   "execution_count": 2,
   "id": "9efc3773-e08b-4229-a8c7-2dd70c729143",
   "metadata": {},
   "outputs": [],
   "source": [
    "dd, ini, act = FUSE.init(:FPP, version=:v1_demount, init_from=:ods, do_plot=false);"
   ]
  },
  {
   "cell_type": "markdown",
   "id": "8b364030-898b-41ce-8776-7bf4c096b3af",
   "metadata": {},
   "source": [
    "### Run Actors that will be needed for balance of plant"
   ]
  },
  {
   "cell_type": "code",
   "execution_count": null,
   "id": "3b4fab4a-9600-4ec8-8026-b52419464451",
   "metadata": {},
   "outputs": [],
   "source": [
    "FUSE.ActorEquilibriumTransport(dd, act)\n",
    "FUSE.ActorCXbuild(dd, act)\n",
    "FUSE.ActorNeutronics(dd, act; do_plot=true);"
   ]
  },
  {
   "cell_type": "markdown",
   "id": "da6ce578-1373-40fd-bf4b-1d7ef36baabe",
   "metadata": {},
   "source": [
    "### Running the simple blanket actor\n",
    "[ActorBlanket documentation](https://fuse.help/actors.html#Blanket)"
   ]
  },
  {
   "cell_type": "code",
   "execution_count": null,
   "id": "ba341eb3-3681-4628-91e3-a0f4cebebc4f",
   "metadata": {},
   "outputs": [],
   "source": [
    "dd.build.structure\n",
    "FUSE.ActorBlanket(dd, act);\n",
    "dd.blanket"
   ]
  },
  {
   "cell_type": "markdown",
   "id": "87aa53d7-6103-4e09-b50f-e62f422a97c9",
   "metadata": {},
   "source": [
    "### Running the divertors actor\n",
    "[ActorDivertors documentation](https://fuse.help/actors.html#Divertors)"
   ]
  },
  {
   "cell_type": "code",
   "execution_count": null,
   "id": "43275371-4f84-4151-b406-728bb4c8e0db",
   "metadata": {},
   "outputs": [],
   "source": [
    "FUSE.ActorDivertors(dd, act)\n",
    "dd.divertors"
   ]
  },
  {
   "cell_type": "markdown",
   "id": "78e2fd6c-0f1e-4ece-a041-804a0ddaacef",
   "metadata": {},
   "source": [
    "### Running the balance of plant actor\n",
    "[ActorBalanceOfPlant documentation](https://fuse.help/actors.html#BalanceOfPlant)"
   ]
  },
  {
   "cell_type": "code",
   "execution_count": null,
   "id": "f800e97a-dfc9-472f-a163-c28ab18abae1",
   "metadata": {},
   "outputs": [],
   "source": [
    "FUSE.ActorBalanceOfPlant(dd, act);\n",
    "\n",
    "println(\"The net electrical power to the grid is $(round(dd.balance_of_plant.power_electric_net[end]/1e6,digits=1)) [MWe] \\nWith Qplant = $(round(dd.balance_of_plant.Q_plant[end],digits=2)) \\n\")\n",
    "display(dd.balance_of_plant)\n"
   ]
  }
 ],
 "metadata": {
  "kernelspec": {
   "display_name": "Julia 1.8.4",
   "language": "julia",
   "name": "julia-1.8"
  },
  "language_info": {
   "file_extension": ".jl",
   "mimetype": "application/julia",
   "name": "julia",
   "version": "1.8.4"
  }
 },
 "nbformat": 4,
 "nbformat_minor": 5
}
