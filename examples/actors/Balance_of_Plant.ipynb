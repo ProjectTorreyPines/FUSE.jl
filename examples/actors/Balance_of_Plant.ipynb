{
 "cells": [
  {
   "cell_type": "markdown",
   "id": "c8eec54b-2533-4791-bd01-5745effb72bf",
   "metadata": {},
   "source": [
    "# Balance of plant"
   ]
  },
  {
   "cell_type": "code",
   "execution_count": 1,
   "id": "cc559b9e-0829-473f-bdc1-08bfb84dacca",
   "metadata": {
    "tags": []
   },
   "outputs": [],
   "source": [
    "using Revise\n",
    "using FUSE\n",
    "using Plots;\n",
    "FUSE.logging(Logging.Info; actors=Logging.Debug);"
   ]
  },
  {
   "cell_type": "markdown",
   "id": "09535cb8-9230-43b5-a113-e2cd63664a6a",
   "metadata": {},
   "source": [
    "### Initialize FPP v1_demount case\n",
    "[FPP v1 demount case documentation](https://fuse.help/cases.html#FPP)"
   ]
  },
  {
   "cell_type": "code",
   "execution_count": 2,
   "id": "9efc3773-e08b-4229-a8c7-2dd70c729143",
   "metadata": {
    "tags": []
   },
   "outputs": [],
   "source": [
    "ini, act = FUSE.case_parameters(:FPP; version=:v1_demount, init_from=:scalars);\n",
    "dd = FUSE.init(ini, act; do_plot=false);"
   ]
  },
  {
   "cell_type": "markdown",
   "id": "8b364030-898b-41ce-8776-7bf4c096b3af",
   "metadata": {},
   "source": [
    "### Run Actors that will be needed for balance of plant"
   ]
  },
  {
   "cell_type": "code",
   "execution_count": null,
   "id": "3b4fab4a-9600-4ec8-8026-b52419464451",
   "metadata": {
    "tags": []
   },
   "outputs": [],
   "source": [
    "FUSE.ActorNeutronics(dd, act; do_plot=false)\n",
    "FUSE.ActorDivertors(dd, act)\n",
    "FUSE.ActorBlanket(dd, act);"
   ]
  },
  {
   "cell_type": "markdown",
   "id": "da6ce578-1373-40fd-bf4b-1d7ef36baabe",
   "metadata": {},
   "source": [
    "### Running the simple brayton cycle\n",
    "Run the balance of plant actor, with for the simple case of \"brayton only\", this is a generalized power cycle which does not optimize itself depending on the configuration"
   ]
  },
  {
   "cell_type": "code",
   "execution_count": null,
   "id": "ba341eb3-3681-4628-91e3-a0f4cebebc4f",
   "metadata": {
    "tags": []
   },
   "outputs": [],
   "source": [
    "empty!(dd.balance_of_plant)\n",
    "act.ActorThermalCycle.power_cycle_type=:brayton_only\n",
    "FUSE.ActorBalanceOfPlant(dd, act; do_plot=true)\n",
    "display(IMAS.freeze(dd.balance_of_plant))"
   ]
  },
  {
   "cell_type": "markdown",
   "id": "87aa53d7-6103-4e09-b50f-e62f422a97c9",
   "metadata": {},
   "source": [
    "### Running the complex_brayton file\n",
    "[ActorBalanceOfPlant documentation](https://fuse.help/actors.html#BalanceOfPlant)\n",
    "Run the balance of plant with the model \"complex_brayton\". This configuration modifies the component order and operating temperatures to minimize the heat waste. For this case, the complex_brayton model has a thermal effeciency of 45%. \n",
    "This model relies on high operating temperatures"
   ]
  },
  {
   "cell_type": "code",
   "execution_count": null,
   "id": "43275371-4f84-4151-b406-728bb4c8e0db",
   "metadata": {
    "tags": []
   },
   "outputs": [],
   "source": [
    "empty!(dd.balance_of_plant)\n",
    "act.ActorThermalCycle.power_cycle_type=:complex_brayton\n",
    "FUSE.ActorBalanceOfPlant(dd, act; do_plot = true);\n",
    "display(IMAS.freeze(dd.balance_of_plant))"
   ]
  }
 ],
 "metadata": {
  "@webio": {
   "lastCommId": "7bbf65a5-8956-44ae-81ff-fec1ac9d5a76",
   "lastKernelId": "027b7204-803e-46aa-829e-315015c39ec4"
  },
  "kernelspec": {
   "display_name": "Julia 1.8.4",
   "language": "julia",
   "name": "julia-1.8"
  },
  "language_info": {
   "file_extension": ".jl",
   "mimetype": "application/julia",
   "name": "julia",
   "version": "1.8.4"
  }
 },
 "nbformat": 4,
 "nbformat_minor": 5
}
