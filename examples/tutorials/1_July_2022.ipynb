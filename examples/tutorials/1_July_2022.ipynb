{
 "cells": [
  {
   "cell_type": "markdown",
   "id": "74f43e27",
   "metadata": {},
   "source": [
    "# FUSE tutorial #1: July 7th 2022\n",
    "**NOTE:** Always referr to the [FUSE documentation](https://fuse.help/index.html) for most up-to-date information\n",
    "\n",
    "----------\n",
    "\n",
    "## Watch the [video recording of this tutorial](https://github.com/ProjectTorreyPines/FUSE_extra_files/raw/master/FUSE_tutorial_1_6Jul22.mp4)\n",
    "\n",
    "----------\n",
    "\n",
    "FUSE (**FU**sion **S**ynthesis **E**ngine) is GA's proprietary framework for Fusion Power Plant (FPP) integrated design.\n",
    "\n",
    "## FUSE objectives\n",
    "\n",
    "* Couple physics, engineering, control, costing, and balance of plant\n",
    "* Enable both stationary as well as time-dependent simulations\n",
    "* Be generic and modular, supporting hierarcy of models\n",
    "* Leverage parallelism and HPC systems for optimization studies\n",
    "* Support sensitivity and uncertainty quantification analyses\n",
    "\n",
    "## Basic concepts\n",
    "\n",
    "FUSE is written completely in Julia, and is structured as follows:\n",
    "1. Data is stored in the `dd` data structure, which is based on the ITER IMAS onthology\n",
    "1. Physics and engineering `actors` are the fundamental building blocks of FUSE simulations\n",
    "1. Actors functionality is controlled via `act` parameters\n",
    "1. The data structure can be initialized starting from 0D `ini` parameters\n",
    "1. FUSE comes with a series of template `use cases` for different machines (FPP, ITER, ARC, ...)\n",
    "1. `workflows` perform self-contained studies/optimizations (typically running many FUSE simulations)\n",
    "1. FUSE can interface with the existing GA ecosystem of modeling codes (GASC, OMFIT/OMAS) as well as IMAS\n",
    "\n",
    "These concepts are illustrated in the diagram below:\n",
    "\n",
    "![svg](../../docs/src/assets/FUSE.svg)\n",
    "\n",
    "## Tutorial outline\n",
    "+ The objectives and concepts of FUSE\n",
    "+ How to set-up a case (Fusion Power Plant v1_demount)\n",
    "+ How to interact with FUSE objects (dd, ini, act)\n",
    "+ How to run Actors and modify them\n",
    "+ Optimization\n",
    "\n",
    "#### NOTE:\n",
    "* This is not a [Julia tutorial](https://www.youtube.com/watch?v=FntEfT8R2fY)\n",
    "* This is not a [Jupyter Lab tutorial](https://jupyterlab.readthedocs.io/en/latest/user/notebook.html)"
   ]
  },
  {
   "cell_type": "markdown",
   "id": "d48f062b-61e7-4b90-ad17-06bf286e6c07",
   "metadata": {},
   "source": [
    "## A simple example"
   ]
  },
  {
   "cell_type": "code",
   "execution_count": null,
   "id": "ca27ad67-90d1-48de-ab4d-cf9bf5589d06",
   "metadata": {},
   "outputs": [],
   "source": [
    "@time begin # Julia is Just In Time compiled (JIT), which means the first execution takes a while (it needs to compile!), then it will be fast\n",
    "    \n",
    "    # Revise package for development (always import this first, will talk about this at the end)\n",
    "    using Revise\n",
    "\n",
    "    # FUSE package and logger\n",
    "    using FUSE\n",
    "    FUSE.logging(Logging.Info)\n",
    "\n",
    "    # Get `ini` and `act` for a given use-case\n",
    "    ini, act = FUSE.case_parameters(:FPP)\n",
    "\n",
    "    # Initialize `dd` from 0D parameters\n",
    "    dd = FUSE.init(ini, act; do_plot=false)\n",
    "\n",
    "    # Run an actor\n",
    "    FUSE.ActorEquilibrium(dd, act; ip_from = :equilibrium, do_plot=true);\n",
    "\n",
    "end;"
   ]
  },
  {
   "cell_type": "markdown",
   "id": "3",
   "metadata": {},
   "source": [
    "## Handling FUSE data: `dd`, `ini`, `act`"
   ]
  },
  {
   "cell_type": "markdown",
   "id": "45dd75d3-af57-4cff-8abc-ee22a588820f",
   "metadata": {},
   "source": [
    "### 1. Playing around with `dd`\n",
    "* FUSE stores data according to the IMAS data schema\n",
    "* The root of the data structure where FUSE stores data is generally referred to as `dd` (which stands for `Data Dictionary`)\n",
    "* See the [`IMAS.dd()` documentation](https://fuse.help/dd.html)\n",
    "\n",
    "#### Show `dd` content"
   ]
  },
  {
   "cell_type": "code",
   "execution_count": null,
   "id": "2f22924e-46eb-4f3b-aa65-599da681c1c7",
   "metadata": {},
   "outputs": [],
   "source": [
    "dd; # remove `;` to see the whole data structure"
   ]
  },
  {
   "cell_type": "code",
   "execution_count": null,
   "id": "e9467476-a0fd-43a3-9cd3-a7a79701cf8a",
   "metadata": {},
   "outputs": [],
   "source": [
    "# We take a look at only one portion of dd\n",
    "dd.equilibrium.time_slice[2].boundary"
   ]
  },
  {
   "cell_type": "markdown",
   "id": "094bc15c-f708-44c4-bc74-fab8c6ebafae",
   "metadata": {},
   "source": [
    "#### Show IMAS stucture\n",
    "\n",
    "* `dd`, `dd.equilibrium`, ... are instances of Julia `strut`s that are defined in the `IMASDD.jl` package\n",
    "  * `dd = IMAS.dd()`\n",
    "  * `dd.equilibrium` is of type `IMAS.equilibrium`\n",
    "  * `dd.equilibrium.time_slice` is of type `IMAS.equilibrium__time_slice`\n",
    "  * `dd.equilibrium.time_slice[1].boundary` is of type `IMAS.equilibrium__time_slice___boundary`\n",
    "  \n",
    "* The curious reader can take a look at the [IMASDD/src/dd.jl](../../../IMASDD/src/dd.jl) file to see those definitions"
   ]
  },
  {
   "cell_type": "code",
   "execution_count": null,
   "id": "72d07be2-f03e-4ffa-968c-e493cb98b8ab",
   "metadata": {},
   "outputs": [],
   "source": [
    "# whenever things start with `IMAS.`, then this is a Julia type\n",
    "IMAS.equilibrium"
   ]
  },
  {
   "cell_type": "code",
   "execution_count": null,
   "id": "2a69864c-b8ac-4b75-b92b-fd8b1cf4e497",
   "metadata": {},
   "outputs": [],
   "source": [
    "# which is different from the instance filled with data\n",
    "dd.equilibrium"
   ]
  },
  {
   "cell_type": "markdown",
   "id": "313cab67-91e0-4cf6-9f1a-3860d3dcd070",
   "metadata": {},
   "source": [
    "#### Plot data in `dd`\n",
    "\n",
    "* There are [Plots.jl recipies](https://docs.juliaplots.org/latest/recipes/) defined for different IMASDD.jl types of structs\n",
    "* These recipies are defined in [IMAS/src/plot.jl](../../../IMAS/src/plot.jl)\n",
    "* Plots can be [customized](https://docs.juliaplots.org/latest/generated/attributes_series)\n",
    "* NOTE: use `display()` is used to force the plot to show when `plot` is not called at the end of the cell"
   ]
  },
  {
   "cell_type": "code",
   "execution_count": null,
   "id": "9fc7645e-7fec-4324-b7b7-531e0471ca13",
   "metadata": {
    "tags": []
   },
   "outputs": [],
   "source": [
    "using Plots\n",
    "plot(dd.equilibrium)"
   ]
  },
  {
   "cell_type": "code",
   "execution_count": null,
   "id": "b61cfc50-e99c-44de-9974-b8be3f30a439",
   "metadata": {
    "tags": []
   },
   "outputs": [],
   "source": [
    "plot(dd.core_profiles)"
   ]
  },
  {
   "cell_type": "code",
   "execution_count": null,
   "id": "7fd9fd3c-cbad-4fdf-bd5b-bd618ad63a98",
   "metadata": {
    "tags": []
   },
   "outputs": [],
   "source": [
    "plot(dd.core_sources)"
   ]
  },
  {
   "cell_type": "code",
   "execution_count": null,
   "id": "98c0bc38-ca86-463d-a1ff-25e04065d388",
   "metadata": {
    "tags": []
   },
   "outputs": [],
   "source": [
    "# plots can be composed\n",
    "plot(dd.equilibrium, color=:gray)\n",
    "plot!(dd.build)\n",
    "plot!(dd.build, cx=false)"
   ]
  },
  {
   "cell_type": "code",
   "execution_count": null,
   "id": "1d4d1795-ec81-45dc-933c-67ff03a415b5",
   "metadata": {},
   "outputs": [],
   "source": [
    "# plot of an array ...\n",
    "plot(dd.core_profiles.profiles_1d[1].pressure_thermal)"
   ]
  },
  {
   "cell_type": "code",
   "execution_count": null,
   "id": "d32b9558-657d-4b4d-ab38-1ec976b0936c",
   "metadata": {},
   "outputs": [],
   "source": [
    "# ... is different than plotting of a field in an IDS\n",
    "plot(dd.core_profiles.profiles_1d[1], :pressure_thermal)"
   ]
  },
  {
   "cell_type": "code",
   "execution_count": null,
   "id": "55b801dd-b175-41af-8906-ac1c34362fe2",
   "metadata": {},
   "outputs": [],
   "source": [
    "# plots can be customized: https://docs.juliaplots.org/latest/generated/attributes_series\n",
    "plot(dd.core_profiles.profiles_1d[1], :pressure_thermal, label=\"\", linewidth=2, color=:red, labelfontsize=25)"
   ]
  },
  {
   "cell_type": "markdown",
   "id": "0058a8f8-f998-4a63-bf32-b68633ae284d",
   "metadata": {
    "tags": []
   },
   "source": [
    "#### Working with time series\n",
    "\n",
    "* The IMAS data structure can accomodate time-dependent data\n",
    "  \n",
    "* Manually handling time in IMAS is tedius and error-prone\n",
    "  \n",
    "* IMAS.jl provides convenient ways to handle time\n",
    "  * `dd.global_time`® sets the \"current working time\" throughout all of the `dd`\n",
    "  * different IDSs can have time arrays of different lengths\n",
    "  * data returned based on nearest neighbour"
   ]
  },
  {
   "cell_type": "code",
   "execution_count": null,
   "id": "b9e59d73-aa49-4bb7-831e-3acb6bf20937",
   "metadata": {},
   "outputs": [],
   "source": [
    "@show dd.global_time\n",
    "@show dd.equilibrium.time;"
   ]
  },
  {
   "cell_type": "code",
   "execution_count": null,
   "id": "a56f9d6c-56b3-48ae-9baf-22ec77c72b04",
   "metadata": {},
   "outputs": [],
   "source": [
    "# To access a time-dependent array of structures at time slice use **Integer** index\n",
    "eqt = dd.equilibrium.time_slice[2]\n",
    "@show eqt.time;"
   ]
  },
  {
   "cell_type": "code",
   "execution_count": null,
   "id": "f937d9f3-06d5-4eed-b1c5-8b13840a2149",
   "metadata": {},
   "outputs": [],
   "source": [
    "# To access a time-dependent array of structures at `dd.globaltime` use []\n",
    "eqt = dd.equilibrium.time_slice[]\n",
    "@show eqt.time;"
   ]
  },
  {
   "cell_type": "code",
   "execution_count": null,
   "id": "058e53cc-757c-4855-9614-72a15770166a",
   "metadata": {},
   "outputs": [],
   "source": [
    "# To access a time-dependent array of structures at a given time use **Float** time\n",
    "eqt = dd.equilibrium.time_slice[0.0]\n",
    "@show eqt.time;"
   ]
  },
  {
   "cell_type": "code",
   "execution_count": null,
   "id": "7743016a-8dfe-49e4-b6eb-ecde827dcdd2",
   "metadata": {},
   "outputs": [],
   "source": [
    "# To access a time-dependent array we use @ddtime macro\n",
    "@show dd.equilibrium.vacuum_toroidal_field.b0; # this is a time dependent data array"
   ]
  },
  {
   "cell_type": "code",
   "execution_count": null,
   "id": "c255bfc7-3e46-4a37-9918-e996ac7a260b",
   "metadata": {},
   "outputs": [],
   "source": [
    "# GET data of time-dependent array at `dd.globaltime` (use `IMAS.get_time_array()` to access at other times)\n",
    "my_b0 = @ddtime(dd.equilibrium.vacuum_toroidal_field.b0)"
   ]
  },
  {
   "cell_type": "code",
   "execution_count": null,
   "id": "b5e67ed3-6617-4981-885d-0f33b0e6922a",
   "metadata": {},
   "outputs": [],
   "source": [
    "# SET data of time-dependent array at `dd.globaltime` (use `IMAS.set_time_array()` to access at other times)\n",
    "my_b0 = round(my_b0; digits=3)\n",
    "@ddtime(dd.equilibrium.vacuum_toroidal_field.b0 = my_b0)"
   ]
  },
  {
   "cell_type": "markdown",
   "id": "6ea049d3-ff50-4d7a-ad5e-894e27224dbf",
   "metadata": {},
   "source": [
    "#### Expressions\n",
    "\n",
    "* Many fields in the IMAS data structure are related to one another. Given some fields others can be calculated. This leads to an issue of consistency, where if some field is updated, all the fields that relies on that data should be updated too.\n",
    "\n",
    "* IMAS.jl solves this problem by assigning expressions to certain fields. The value of these expressions are then evaluated on the fly, when the field is requested.\n",
    "\n",
    "* Expressions are defined in [IMAS/src/expressions/dynamic.jl](../../../IMAS/src/expressions/dynamic.jl) and [IMAS/src/expressions/onetime.jl](../../../IMAS/src/expressions/onetime.jl)"
   ]
  },
  {
   "cell_type": "code",
   "execution_count": null,
   "id": "27",
   "metadata": {},
   "outputs": [],
   "source": [
    "dd.core_profiles.profiles_1d[1].electrons"
   ]
  },
  {
   "cell_type": "code",
   "execution_count": null,
   "id": "08671cc1-d004-4004-a9d8-7a13667d8082",
   "metadata": {},
   "outputs": [],
   "source": [
    "# accessing the field evaluates the expression\n",
    "dd.core_profiles.profiles_1d[1].electrons.pressure"
   ]
  },
  {
   "cell_type": "code",
   "execution_count": null,
   "id": "f868d185-478c-4016-a3e7-8796a9040b6a",
   "metadata": {},
   "outputs": [],
   "source": [
    "# IMAS.freeze evaluates all expressions\n",
    "e1d = IMAS.freeze(dd.core_profiles.profiles_1d[1].electrons)"
   ]
  },
  {
   "cell_type": "markdown",
   "id": "71d03eed-e91d-47fc-8ae3-50d20c65edb3",
   "metadata": {
    "tags": []
   },
   "source": [
    "#### Saving/loading data\n",
    "\n",
    "* IMAS.jl can dump data in JSON format, to pass data to other codes (OMFIT/OMAS, ...)"
   ]
  },
  {
   "cell_type": "code",
   "execution_count": null,
   "id": "9f2f518a-680c-4055-bdc2-995dfabd645a",
   "metadata": {},
   "outputs": [],
   "source": [
    "using Printf\n",
    "\n",
    "# Dump data to JSON\n",
    "tutorial_dir = tempdir()\n",
    "save_name = \"FPP_v1_starting_point.json\"\n",
    "filename=joinpath(tutorial_dir, save_name)\n",
    "@time IMAS.imas2json(dd, filename);\n",
    "@show filename\n",
    "@printf(\"%2.2f MB\\n\",filesize(filename)/1024/1024)"
   ]
  },
  {
   "cell_type": "markdown",
   "id": "f8a161b3-d91c-4162-b924-425d413ee965",
   "metadata": {
    "tags": []
   },
   "source": [
    "* IMAS.jl can save/load data in JLD2 (JuLia Data format v2), which allows it to store/reload `dd` with all richness (expressions, `Inf`, `NaN`, complex, ...) that is not possible to capture with JSON format."
   ]
  },
  {
   "cell_type": "code",
   "execution_count": null,
   "id": "a73a4a43-c6bf-4513-96a8-84881f2a5f36",
   "metadata": {},
   "outputs": [],
   "source": [
    "# Save and reload from JLD2\n",
    "save_name = \"FPP_v1_starting_point.jld2\"\n",
    "filename = joinpath(tutorial_dir, save_name)\n",
    "@time IMAS.save(dd, filename)\n",
    "@time dd1 = IMAS.load(filename)\n",
    "@show filename\n",
    "@printf(\"%2.2f MB\\n\", filesize(filename)/1024/1024)"
   ]
  },
  {
   "cell_type": "code",
   "execution_count": null,
   "id": "1069fdf1-3676-49f1-807b-3d1ae97b55de",
   "metadata": {},
   "outputs": [],
   "source": [
    "# Check for differences\n",
    "dd1.equilibrium.time_slice[1].time = -100.0\n",
    "IMAS.diff(dd, dd1);"
   ]
  },
  {
   "cell_type": "markdown",
   "id": "1892e295-7664-4bc7-807b-ef60294ae98b",
   "metadata": {},
   "source": [
    "### 2. Playing around with `ini`\n",
    "* See the [`ParametersInit()` documentation](https://fuse.help/ini.html)\n",
    "* Organized by topical areas\n",
    "* Can have multiple layers of nesting\n",
    "* Most field defaulted to `missing`"
   ]
  },
  {
   "cell_type": "code",
   "execution_count": null,
   "id": "36",
   "metadata": {},
   "outputs": [],
   "source": [
    "new_ini = FUSE.ParametersInits()"
   ]
  },
  {
   "cell_type": "code",
   "execution_count": null,
   "id": "37",
   "metadata": {},
   "outputs": [],
   "source": [
    "# access a sub-tree\n",
    "new_ini.equilibrium"
   ]
  },
  {
   "cell_type": "code",
   "execution_count": null,
   "id": "15fc30ac-39aa-4dbc-a032-4cc469298912",
   "metadata": {},
   "outputs": [],
   "source": [
    "# access a leaf\n",
    "new_ini.equilibrium.Z0"
   ]
  },
  {
   "cell_type": "markdown",
   "id": "ae4f51f1-6c51-495f-b991-75de571146b3",
   "metadata": {},
   "source": [
    "#### Access detailed descriptions [online](https://fuse.help/ini_details.html#ini.equilibrium.Z0)\n",
    "* Notice **units**, **descriptons**\n",
    "* Some fields only allow a limited set of **options**\n",
    "* Each field stores three things:\n",
    "    * **default**: default value when `ini = ParametersInit()` is first called\n",
    "    * **base**: value when `FUSE.set_new_base!(ini)` is called\n",
    "    * **value**: current value"
   ]
  },
  {
   "cell_type": "code",
   "execution_count": null,
   "id": "6a8845af-95d9-4c00-be5d-a9ea29e5b3af",
   "metadata": {},
   "outputs": [],
   "source": [
    "# Error if trying to access something not initialized\n",
    "try\n",
    "    new_ini.equilibrium.ip\n",
    "catch e\n",
    "    Base.showerror(stderr, e)\n",
    "end"
   ]
  },
  {
   "cell_type": "code",
   "execution_count": null,
   "id": "d4b4183e-f06a-41df-8502-a776bc3d0b81",
   "metadata": {},
   "outputs": [],
   "source": [
    "# Some ini fields only allow a limited set of options\n",
    "try\n",
    "    new_ini.tf.technology.material = \"something\"\n",
    "catch e\n",
    "    Base.showerror(stderr, e)\n",
    "end"
   ]
  },
  {
   "cell_type": "code",
   "execution_count": null,
   "id": "2a2410f6-8c94-4b0b-80c9-bc54de68d033",
   "metadata": {},
   "outputs": [],
   "source": [
    "# Making changes highlight things in *red* \n",
    "new_ini.equilibrium.B0 = 6.12\n",
    "new_ini.equilibrium.R0 = 5.1\n",
    "new_ini.equilibrium"
   ]
  },
  {
   "cell_type": "code",
   "execution_count": null,
   "id": "f8fd8d42-340e-4240-88bd-ce917b21b7a9",
   "metadata": {},
   "outputs": [],
   "source": [
    "# setting a new `base`  (this is done at the end of use-cases definitions), highlights entries in *blue*\n",
    "FUSE.set_new_base!(new_ini)\n",
    "new_ini.equilibrium"
   ]
  },
  {
   "cell_type": "code",
   "execution_count": null,
   "id": "500048fa-44c3-41da-811e-16325b124277",
   "metadata": {},
   "outputs": [],
   "source": [
    "# Making changes highlight things in *red* \n",
    "new_ini.equilibrium.B0 = 6.123\n",
    "new_ini.equilibrium"
   ]
  },
  {
   "cell_type": "markdown",
   "id": "45",
   "metadata": {},
   "source": [
    "#### Usecases return pre-filled `ini` and `act` parameters\n",
    "\n",
    "See for example:\n",
    "* [FUSE/src/cases/FPP.jl](../../../FUSE/src/cases/FPP.jl)\n",
    "* [FUSE/src/cases/ITER.jl](../../../FUSE/src/cases/ITER.jl)\n",
    "* [FUSE/src/cases/ARC.jl](../../../FUSE/src/cases/ARC.jl)"
   ]
  },
  {
   "cell_type": "code",
   "execution_count": null,
   "id": "46",
   "metadata": {},
   "outputs": [],
   "source": [
    "ini, act = FUSE.case_parameters(:FPP)\n",
    "ini.equilibrium"
   ]
  },
  {
   "cell_type": "markdown",
   "id": "47",
   "metadata": {},
   "source": [
    "### 3. Playing around with `act`\n",
    "* [`FUSE.ParametersActor()` documentation](https://fuse.help/act.html)"
   ]
  },
  {
   "cell_type": "markdown",
   "id": "7dce127c-bb77-4c84-b733-9926eae507c7",
   "metadata": {},
   "source": [
    "#### Show overall organization\n",
    "* Organized by Actor\n",
    "* Works the same was as `ini` Parameters"
   ]
  },
  {
   "cell_type": "code",
   "execution_count": null,
   "id": "7e717358-7d7d-4d64-a65b-183cc62b160c",
   "metadata": {},
   "outputs": [],
   "source": [
    "act"
   ]
  },
  {
   "cell_type": "markdown",
   "id": "50",
   "metadata": {},
   "source": [
    "## Running actors \n",
    "* [Actors documentation](https://fuse.help/actors.html)\n",
    "* We'll manually step through what **Actor** do:\n",
    "  * **ActorEquilibrium**: equilibrium (Solovev, TEQUILA, CHEASE) \n",
    "  * **ActorHFSsizing**: Sizes the High Field Side of radial build (plug, OH, TF) superconductors and stresses\n",
    "  * **ActorLFSsizing**: Sizes the Low Field Side of radial build\n",
    "  * **ActorCXbuild**: Generate the 2D cross section of the build\n",
    "  * **ActorPFactive**: Find optimal PF coil locations and currents to match equilibrium boundary shape and a field-null region\n",
    "  * **ActorNeutronics**: Calculate neutron loading on the wall\n",
    "  * **ActorBlanket**: Blanket tritium breeding ration and heating\n",
    "  * **ActorDivertors**: Divertor heat flux\n",
    "  * **ActorBalanceOfPlant**: Calculate the net electrical power output\n",
    "  * **ActorCosting**: Calculate the cost of the fusion power plant"
   ]
  },
  {
   "cell_type": "code",
   "execution_count": null,
   "id": "51",
   "metadata": {},
   "outputs": [],
   "source": [
    "# Start from scratch\n",
    "ini, act = FUSE.case_parameters(:FPP)\n",
    "ini.pf_active.n_coils_outside = 6;\n",
    "ini.core_profiles.zeff = 2.0\n",
    "dd = FUSE.init(ini, act; do_plot=false);"
   ]
  },
  {
   "cell_type": "code",
   "execution_count": null,
   "id": "52",
   "metadata": {},
   "outputs": [],
   "source": [
    "@time FUSE.ActorEquilibrium(dd, act; ip_from =:equilibrium, do_plot=true);"
   ]
  },
  {
   "cell_type": "code",
   "execution_count": null,
   "id": "53",
   "metadata": {},
   "outputs": [],
   "source": [
    "@time FUSE.ActorHFSsizing(dd, act; do_plot=true);\n",
    "display(plot(dd.solid_mechanics.center_stack.stress))\n",
    "dd.build.oh"
   ]
  },
  {
   "cell_type": "code",
   "execution_count": null,
   "id": "1d2863aa-eeea-45e0-8240-0dbc447081c1",
   "metadata": {},
   "outputs": [],
   "source": [
    "@time FUSE.ActorLFSsizing(dd, act; do_plot=true);\n",
    "display(dd.build.tf)"
   ]
  },
  {
   "cell_type": "code",
   "execution_count": null,
   "id": "a819aec8-a3f2-466f-8444-6a936f1da4f0",
   "metadata": {},
   "outputs": [],
   "source": [
    "@time FUSE.ActorCXbuild(dd, act; do_plot=true);"
   ]
  },
  {
   "cell_type": "code",
   "execution_count": null,
   "id": "56",
   "metadata": {},
   "outputs": [],
   "source": [
    "# weight_currents: make smaller to force currents to fit in the limits\n",
    "# update_equilibrium: overwrite the target equilibrium with what the coils can actually generate\n",
    "@time FUSE.ActorPFactive(dd, act; do_plot=true, update_equilibrium=true);"
   ]
  },
  {
   "cell_type": "code",
   "execution_count": null,
   "id": "57",
   "metadata": {},
   "outputs": [],
   "source": [
    "# Let's run the ActorCXbuild to update the first wall shape based on the new equilibrium\n",
    "@time FUSE.ActorCXbuild(dd, act,rebuild_wall=true; do_plot=false);\n",
    "plot(dd.equilibrium; cx=true)\n",
    "plot!(dd.build; legend=false)"
   ]
  },
  {
   "cell_type": "code",
   "execution_count": null,
   "id": "7c1b25bb-14f8-401c-b82d-2314b8af11c5",
   "metadata": {},
   "outputs": [],
   "source": [
    "@time FUSE.ActorNeutronics(dd, act; do_plot=true);"
   ]
  },
  {
   "cell_type": "code",
   "execution_count": null,
   "id": "986cffcc-c098-4725-8ad9-3ca0b5005a6a",
   "metadata": {},
   "outputs": [],
   "source": [
    "@time FUSE.ActorBlanket(dd, act)#; do_plot=true);\n",
    "dd.blanket"
   ]
  },
  {
   "cell_type": "code",
   "execution_count": null,
   "id": "e169823c-f403-4489-aa12-78aab4d7e908",
   "metadata": {},
   "outputs": [],
   "source": [
    "@time FUSE.ActorDivertors(dd, act)#; do_plot=true);\n",
    "dd.divertors"
   ]
  },
  {
   "cell_type": "code",
   "execution_count": null,
   "id": "5b3d4714-625b-4666-8a24-d02a015ade75",
   "metadata": {},
   "outputs": [],
   "source": [
    "@time FUSE.ActorBalanceOfPlant(dd,act)#; do_plot=true);\n",
    "IMAS.freeze(dd.balance_of_plant)"
   ]
  },
  {
   "cell_type": "code",
   "execution_count": null,
   "id": "163ef076-c8cb-452f-af9f-71f9320b5daf",
   "metadata": {},
   "outputs": [],
   "source": [
    "@time FUSE.ActorCosting(dd, act)#; do_plot=true);\n",
    "IMAS.freeze(dd.costing)"
   ]
  },
  {
   "cell_type": "code",
   "execution_count": null,
   "id": "7e76d49b-a850-47aa-9564-ece99151e141",
   "metadata": {},
   "outputs": [],
   "source": [
    "# Save `dd` to Json, so we can share our results with others\n",
    "IMAS.imas2json(dd,\"fpp_v1_FUSE.json\")\n",
    "\n",
    "# NOTE: can be loaded in OMFIT this way\n",
    "# OMFIT[\"FUSE\"] = ODS().load(\".../fpp_v1_FUSE.json\", consistency_check=False)"
   ]
  },
  {
   "cell_type": "markdown",
   "id": "bfde4489-88d6-4919-bc01-0f56421cf8f8",
   "metadata": {},
   "source": [
    "## Worfklows (ie. studies)\n",
    "Perform self-contained studies/optimizations (typically running many FUSE simulations)\n",
    " \n",
    "* [HDB5 validation of ActorEquilibriumTransport](https://fuse.help/example_workflows__transport_equilibrium_validation.html)\n",
    "\n",
    "  [<img src=\"../../docs/src/assets/workflow_hdb5.png\" width=\"600\"/>](workflow_hdb5.png)\n",
    "\n",
    "* [Multi objective optimization](https://fuse.help/example_workflows__multi_objective_optimization.html)\n",
    "\n",
    "  [<img src=\"../../docs/src/assets/workflow_moopt.png\" width=\"600\"/>](workflow_moopt.png)"
   ]
  },
  {
   "cell_type": "markdown",
   "id": "93444586-6723-4d50-91f1-ec9546006de2",
   "metadata": {},
   "source": [
    "## Install Julia and FUSE\n",
    "* Julia comes with its own [package manager](https://blog.devgenius.io/the-most-underrated-feature-of-the-julia-programming-language-the-package-manager-652065f45a3a)\n",
    "* Refer to online documentation https://fuse.help/install.html\n",
    "  * How to install Julia/FUSE\n",
    "  * How to update FUSE"
   ]
  },
  {
   "cell_type": "markdown",
   "id": "05bcf79b-27a4-4b2e-b2f9-c5824e6a820b",
   "metadata": {},
   "source": [
    "## Development\n",
    "* Refer to online documentation https://fuse.help/develop.html\n",
    "* Use of `Revise`\n",
    "* Illustrate example development workflow using VScode\n",
    "* Commit\n",
    "* Tracking [issues actross different repositories](https://github.com/orgs/ProjectTorreyPines/projects/2/views/1)"
   ]
  }
 ],
 "metadata": {
  "@webio": {
   "lastCommId": "a782a072-97f2-4a29-be57-b636bd4af2f9",
   "lastKernelId": "786df1b8-4648-4980-b093-ff9853c6ef8b"
  },
  "kernelspec": {
   "display_name": "Julia 1.8.5",
   "language": "julia",
   "name": "julia-1.8"
  },
  "language_info": {
   "file_extension": ".jl",
   "mimetype": "application/julia",
   "name": "julia",
   "version": "1.8.5"
  }
 },
 "nbformat": 4,
 "nbformat_minor": 5
}
