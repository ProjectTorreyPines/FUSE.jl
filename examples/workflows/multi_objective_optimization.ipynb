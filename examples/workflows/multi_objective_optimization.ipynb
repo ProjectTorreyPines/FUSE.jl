{
 "cells": [
  {
   "cell_type": "markdown",
   "id": "a94d2fc3-c5ad-41e8-8706-5bc53b9f984a",
   "metadata": {},
   "source": [
    "# FPP multi objective optimization"
   ]
  },
  {
   "cell_type": "markdown",
   "id": "df421ef4-bef9-4295-a588-f4f0716b6ccc",
   "metadata": {},
   "source": [
    "### Setup distributed computing environment\n",
    "\n",
    "See more details here: https://fuse.help/parallel.html"
   ]
  },
  {
   "cell_type": "code",
   "execution_count": null,
   "id": "6f6a51bf-0d97-4f64-b44d-f3509f55a66c",
   "metadata": {
    "tags": []
   },
   "outputs": [],
   "source": [
    "if gethostname() == \"saga.cluster\"\n",
    "    nodes = 4\n",
    "    np = 30 * nodes\n",
    "    using Pkg\n",
    "    Pkg.activate(\"..\")\n",
    "    using Distributed\n",
    "    using ClusterManagers\n",
    "    ENV[\"JULIA_WORKER_TIMEOUT\"] = \"180\"\n",
    "    if nprocs() < np\n",
    "        addprocs(SlurmManager(np - nprocs()), exclusive=\"\", topology=:master_worker)\n",
    "    end\n",
    "else\n",
    "    using Distributed\n",
    "    np = length(Sys.cpu_info())\n",
    "    if nprocs() < np + 1\n",
    "        addprocs(np - nprocs() + 1, topology=:master_worker)\n",
    "    end\n",
    "end\n",
    "println(\"Working with $(nprocs()) processes\")"
   ]
  },
  {
   "cell_type": "markdown",
   "id": "6ff761d6-e893-45b8-b8e9-b6d00eee24da",
   "metadata": {},
   "source": [
    "### Import packages"
   ]
  },
  {
   "cell_type": "code",
   "execution_count": null,
   "id": "d432c81d-13bc-4eae-9623-25147ff8f60e",
   "metadata": {
    "tags": []
   },
   "outputs": [],
   "source": [
    "using Revise\n",
    "using FUSE\n",
    "using Plots;\n",
    "gr();\n",
    "FUSE.logging(Logging.Info; actors=Logging.Error);"
   ]
  },
  {
   "cell_type": "markdown",
   "id": "240d42c6-7c71-4ab4-8699-7920ab625438",
   "metadata": {},
   "source": [
    "### Get `ini` and `act` for FPP case and custmize as needed"
   ]
  },
  {
   "cell_type": "code",
   "execution_count": null,
   "id": "2c2e2bf4-519d-4ab4-9cb3-38c8f461e8a3",
   "metadata": {
    "tags": []
   },
   "outputs": [],
   "source": [
    "ini, act = FUSE.case_parameters(:FPP; version=:v1_demount, init_from=:scalars)\n",
    "act.ActorPFcoilsOpt.optimization_scheme = :none; # don't spend time optimizing the PFs"
   ]
  },
  {
   "cell_type": "markdown",
   "id": "16aa6e18-eb68-4704-87e6-cb44bc643138",
   "metadata": {},
   "source": [
    "### As a good practice, test the actor/workflow that you want to optimize first"
   ]
  },
  {
   "cell_type": "code",
   "execution_count": null,
   "id": "155cc710-ce81-4035-ad9e-017bbc481f2d",
   "metadata": {
    "tags": []
   },
   "outputs": [],
   "source": [
    "dd = FUSE.init(ini, act)\n",
    "FUSE.ActorWholeFacility(dd, act);"
   ]
  },
  {
   "cell_type": "code",
   "execution_count": null,
   "id": "2e7d2af6-1284-47db-8c37-c44c9ac2d3ef",
   "metadata": {
    "tags": []
   },
   "outputs": [],
   "source": [
    "#IMAS.freeze(dd.balance_of_plant)\n",
    "plot(dd.core_profiles)"
   ]
  },
  {
   "cell_type": "markdown",
   "id": "33e46e59-a6be-41f9-999d-2621a113986c",
   "metadata": {},
   "source": [
    "### Define optimization variables and ranges"
   ]
  },
  {
   "cell_type": "code",
   "execution_count": null,
   "id": "5596ff4e-23ed-46e9-817f-820999ad28d8",
   "metadata": {
    "tags": []
   },
   "outputs": [],
   "source": [
    "# nominal value and ranges\n",
    "ini_opt = deepcopy(ini)\n",
    "ini_opt.ec_launchers.power_launched = ini.ec_launchers.power_launched ↔ [10e6, 200e6];\n",
    "ini_opt.core_profiles.zeff = ini.core_profiles.zeff ↔ [1.1, 2.5]\n",
    "ini_opt.equilibrium.δ = ini.equilibrium.δ ↔ [-0.7,0.7]\n",
    "ini_opt.equilibrium.ζ = ini.equilibrium.ζ ↔ [0,0.2]\n",
    "ini_opt.equilibrium.κ = ini.equilibrium.κ ↔ [1.3,2.5]\n",
    "ini_opt.equilibrium.B0 = ini.equilibrium.B0 ↔ [1.0, 20.]\n",
    "ini_opt.equilibrium.ip = ini.equilibrium.ip ↔ [1.0e6, 22e6]\n",
    "ini_opt.equilibrium.R0 = ini.equilibrium.R0 ↔ [ini.equilibrium.R0, 10.0];"
   ]
  },
  {
   "cell_type": "markdown",
   "id": "900ac113-a182-41c8-9f4b-90aec9aecb69",
   "metadata": {},
   "source": [
    "### Define the optimization objectives"
   ]
  },
  {
   "cell_type": "code",
   "execution_count": null,
   "id": "fa44e397-92c7-4219-9358-d77c48cfc42c",
   "metadata": {
    "tags": []
   },
   "outputs": [],
   "source": [
    "# FUSE comes with a library of objective functions\n",
    "OFL = deepcopy(FUSE.ObjectivesFunctionsLibrary)\n",
    "OFL[:max_power_electric_net].target = 200.0\n",
    "objective_functions = [OFL[:max_power_electric_net], OFL[:min_log10_levelized_CoE], OFL[:max_log10_flattop]]\n",
    "\n",
    "CFL = deepcopy(FUSE.ConstraintFunctionsLibrary)\n",
    "CFL[:target_power_electric_net].limit = 200.0\n",
    "CFL[:target_power_electric_net].tolerance = 0.01\n",
    "constraint_functions = [CFL[:target_power_electric_net], CFL[:steady_state]]\n",
    "\n",
    "# ...but one can define custom objectives and constraints too\n",
    "# target_power_electric = FUSE.ObjectiveFunction(:target_power_electric_net, \"MW\", dd -> @ddtime(dd.balance_of_plant.power_electric_net)/1E6, 200)\n",
    "#objective_functions = [target_power_electric, OFL[:min_cost], OFL[:max_flattop]]\n",
    "\n",
    "display(objective_functions)\n",
    "display(constraint_functions)"
   ]
  },
  {
   "cell_type": "markdown",
   "id": "29dcfcce-bf1e-4b91-86b2-05ac0eafaae0",
   "metadata": {},
   "source": [
    "### Setup and run optimization"
   ]
  },
  {
   "cell_type": "code",
   "execution_count": null,
   "id": "f4a47c4c-d4dc-443a-8710-f40bd90abb63",
   "metadata": {
    "tags": []
   },
   "outputs": [],
   "source": [
    "# option to resume an optimization where it was left off\n",
    "if false\n",
    "    continue_results = results\n",
    "else\n",
    "    continue_results = missing\n",
    "end\n",
    "\n",
    "# define optimization parameters\n",
    "# For real optimization studies the population size (N) and number of iterations should be bigger\n",
    "# eg. N=100, iterations=25\n",
    "optimization_parameters = Dict(\n",
    "    :N => max(4, Int(floor((nprocs()-1)/2))*2), # even number\n",
    "    :iterations => 10,\n",
    "    :continue_results => continue_results,\n",
    "    :save_folder => \"optimization_runs\")\n",
    "\n",
    "# run optimization\n",
    "results = FUSE.workflow_multiobjective_optimization(ini_opt, act, FUSE.ActorWholeFacility, objective_functions, constraint_functions; optimization_parameters...);"
   ]
  },
  {
   "cell_type": "markdown",
   "id": "5b2fe850-4602-4c64-9ec4-7b9b3f227517",
   "metadata": {},
   "source": [
    "### Save optimization results to file"
   ]
  },
  {
   "cell_type": "code",
   "execution_count": null,
   "id": "7eedb035-eaa6-4088-a3cb-a3f19a90e585",
   "metadata": {
    "tags": []
   },
   "outputs": [],
   "source": [
    "# Optimization results can be re-loaded this way:\n",
    "filename = \"optimization_runs/optimization.bson\"\n",
    "@time results = FUSE.load_optimization(filename);"
   ]
  },
  {
   "cell_type": "markdown",
   "id": "47ef9245-af2f-48b3-8f5b-ace072535efc",
   "metadata": {},
   "source": [
    "### Plot multi-objective optimization results"
   ]
  },
  {
   "cell_type": "code",
   "execution_count": null,
   "id": "3562b43a-82b4-41be-8fcf-d2cbccdae53f",
   "metadata": {
    "tags": []
   },
   "outputs": [],
   "source": [
    "extract_inputs = Dict(\n",
    "    :Paux => (dd, ini, act) -> ini.ec_launchers.power_launched / 1E6,\n",
    "    :zeff => (dd, ini, act) -> ini.core_profiles.zeff,\n",
    "    :κ => (dd, ini, act) -> ini.equilibrium.κ,\n",
    "    :δ => (dd, ini, act) -> ini.equilibrium.δ,\n",
    "    :ζ => (dd, ini, act) -> ini.equilibrium.ζ,\n",
    "    :B0 => (dd, ini, act) -> ini.equilibrium.B0,\n",
    "    :ip => (dd, ini, act) -> ini.equilibrium.ip / 1E6,\n",
    "    :R0 => (dd, ini, act) -> ini.equilibrium.R0,\n",
    ")\n",
    "\n",
    "extract_outputs = Dict(\n",
    "    :beta_n => (dd, ini, act) -> dd.equilibrium.time_slice[].global_quantities.beta_normal,\n",
    "    :log10_levelized_CoE => (dd, ini, act) -> log10(dd.costing.levelized_CoE),\n",
    "    :Pfusion => (dd, ini, act) -> IMAS.fusion_power(dd.core_profiles.profiles_1d[]) / 1E6,\n",
    "    :Pelectric => (dd, ini, act) -> @ddtime(dd.balance_of_plant.power_electric_net) / 1E6,\n",
    "    :log10_flattop => (dd, ini, act) -> log10(dd.build.oh.flattop_duration / 3600.0)\n",
    ")\n",
    "\n",
    "path=\"optimization_runs\"\n",
    "dirs = filter(isdir,readdir(path; join=true));\n",
    "inputs,outputs = FUSE.load(dirs, [extract_inputs, extract_outputs]);"
   ]
  },
  {
   "cell_type": "code",
   "execution_count": null,
   "id": "7442f6c2-330a-43fd-96d1-ad62d5a26acf",
   "metadata": {
    "tags": []
   },
   "outputs": [],
   "source": [
    "using Plots\n",
    "display(plot([histogram(inputs[:,name], title=name, label=\"\") for name in names(inputs)]...))\n",
    "plot([histogram(outputs[:,name], title=name, label=\"\") for name in names(outputs)]...)"
   ]
  },
  {
   "cell_type": "code",
   "execution_count": null,
   "id": "ceac65aa-c6f3-4ea3-8110-1a116dce00cf",
   "metadata": {
    "tags": []
   },
   "outputs": [],
   "source": [
    "xname=\"log10_levelized_CoE\"\n",
    "x=outputs[:,xname]\n",
    "yname=\"Pelectric\"\n",
    "y=outputs[:,yname]\n",
    "cname=\"beta_n\"\n",
    "c=outputs[:,cname]\n",
    "scatter(x, y, marker_z=c ,xlabel=xname, ylabel=yname, colorbar_title=cname, marker=:circle, markerstrokewidth=0, label=\"\")"
   ]
  },
  {
   "cell_type": "markdown",
   "id": "d1a48497-e1cc-416e-b3a0-041ae3b1a4aa",
   "metadata": {},
   "source": [
    "### How to: Define and use a custom FUSE workflow"
   ]
  },
  {
   "cell_type": "code",
   "execution_count": null,
   "id": "6b3e3dab-cdce-4b48-a269-121274dbe028",
   "metadata": {},
   "outputs": [],
   "source": [
    "# Here `@everywhere` is needed to make all processes aware of the custom function\n",
    "@everywhere function workflow_custom(ini, act)\n",
    "    FUSE.init(dd, ini, act)\n",
    "    FUSE.ActorEquilibriumTransport(dd, act)\n",
    "    FUSE.ActorCXbuild(dd, act)\n",
    "    return dd\n",
    "end\n",
    "\n",
    "# results = FUSE.workflow_multiobjective_optimization(ini, act, custom_workflow, objective_functions; optimization_parameters...);"
   ]
  }
 ],
 "metadata": {
  "@webio": {
   "lastCommId": "4cf80770-58e1-497c-af06-e61af98f6601",
   "lastKernelId": "82d37acc-42e5-41b4-9e20-c7c40c2040b6"
  },
  "kernelspec": {
   "display_name": "Julia 1.8.2",
   "language": "julia",
   "name": "julia-1.8"
  },
  "language_info": {
   "file_extension": ".jl",
   "mimetype": "application/julia",
   "name": "julia",
   "version": "1.8.5"
  }
 },
 "nbformat": 4,
 "nbformat_minor": 5
}
