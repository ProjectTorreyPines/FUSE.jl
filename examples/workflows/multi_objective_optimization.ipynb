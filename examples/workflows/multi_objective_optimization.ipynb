{
 "cells": [
  {
   "cell_type": "markdown",
   "id": "a94d2fc3-c5ad-41e8-8706-5bc53b9f984a",
   "metadata": {},
   "source": [
    "# FPP multi objective optimization"
   ]
  },
  {
   "cell_type": "markdown",
   "id": "6ff761d6-e893-45b8-b8e9-b6d00eee24da",
   "metadata": {},
   "source": [
    "### Import packages"
   ]
  },
  {
   "cell_type": "code",
   "execution_count": null,
   "id": "d432c81d-13bc-4eae-9623-25147ff8f60e",
   "metadata": {
    "tags": []
   },
   "outputs": [],
   "source": [
    "#@time using WarmupFUSE\n",
    "@time using FUSE\n",
    "using Plots; gr();\n",
    "FUSE.logging(Logging.Info; actors=Logging.Error);"
   ]
  },
  {
   "cell_type": "markdown",
   "id": "3ec48595-128b-4c34-8ee3-6434f0ac0a91",
   "metadata": {},
   "source": [
    "### Define a working folder\n",
    "\n",
    "Results will be save here"
   ]
  },
  {
   "cell_type": "code",
   "execution_count": null,
   "id": "b4790711-2cf9-44fb-9650-8c97b5e04b4f",
   "metadata": {},
   "outputs": [],
   "source": [
    "save_folder = \"optimization_run_LTSorHTS_ohtf3\""
   ]
  },
  {
   "cell_type": "markdown",
   "id": "255cb65d-020d-4ee7-9bc2-248aec363c1a",
   "metadata": {},
   "source": [
    "### Setup distributed computing environment\n",
    "\n",
    "See more details here: https://fuse.help/parallel.html"
   ]
  },
  {
   "cell_type": "code",
   "execution_count": null,
   "id": "4af37eb5-ab99-4c8e-a873-f52c6a58cc58",
   "metadata": {
    "tags": []
   },
   "outputs": [],
   "source": [
    "old_dir = pwd()\n",
    "mkpath(save_folder)\n",
    "try\n",
    "    cd(save_folder) # this is to save temporary distributed files in working folder\n",
    "    FUSE.parallel_environment(\"omega\",128*2) # (\"saga\",120)\n",
    "finally\n",
    "    cd(old_dir)\n",
    "end\n",
    "display(pwd())\n",
    "using Distributed\n",
    "#@everywhere import WarmupFUSE\n",
    "@everywhere import FUSE"
   ]
  },
  {
   "cell_type": "markdown",
   "id": "240d42c6-7c71-4ab4-8699-7920ab625438",
   "metadata": {},
   "source": [
    "### Get `ini` and `act` for FPP case and custmize as needed"
   ]
  },
  {
   "cell_type": "code",
   "execution_count": null,
   "id": "2c2e2bf4-519d-4ab4-9cb3-38c8f461e8a3",
   "metadata": {
    "tags": []
   },
   "outputs": [],
   "source": [
    "ini, act = FUSE.case_parameters(:FPP; version=:v1_demount, init_from=:scalars, STEP=true)\n",
    "act.ActorPFcoilsOpt.optimization_scheme = :none; # don't spend time optimizing the PFs\n",
    "act.ActorStabilityLimits.models = [:beta_troyon_1984, :model_201, :model_401] # include βn check"
   ]
  },
  {
   "cell_type": "markdown",
   "id": "16aa6e18-eb68-4704-87e6-cb44bc643138",
   "metadata": {},
   "source": [
    "### As a good practice, test the actor/workflow that you want to optimize"
   ]
  },
  {
   "cell_type": "code",
   "execution_count": null,
   "id": "155cc710-ce81-4035-ad9e-017bbc481f2d",
   "metadata": {
    "tags": []
   },
   "outputs": [],
   "source": [
    "#dd = FUSE.init(ini, act);\n",
    "#FUSE.ActorWholeFacility(dd, act);"
   ]
  },
  {
   "cell_type": "code",
   "execution_count": null,
   "id": "2e7d2af6-1284-47db-8c37-c44c9ac2d3ef",
   "metadata": {
    "tags": []
   },
   "outputs": [],
   "source": [
    "#FUSE.digest(dd)"
   ]
  },
  {
   "cell_type": "markdown",
   "id": "33e46e59-a6be-41f9-999d-2621a113986c",
   "metadata": {},
   "source": [
    "### Define optimization variables and ranges"
   ]
  },
  {
   "cell_type": "code",
   "execution_count": null,
   "id": "5596ff4e-23ed-46e9-817f-820999ad28d8",
   "metadata": {
    "tags": []
   },
   "outputs": [],
   "source": [
    "# nominal value and ranges\n",
    "ini_opt = deepcopy(ini)\n",
    "ini_opt.ec_launchers.power_launched = ini.ec_launchers.power_launched[1] ↔ [1e6, 200e6];\n",
    "ini_opt.core_profiles.zeff = ini.core_profiles.zeff ↔ [1.1, 2.5]\n",
    "#ini_opt.equilibrium.δ = ini.equilibrium.δ ↔ [-0.7,0.7]\n",
    "#ini_opt.equilibrium.ζ = ini.equilibrium.ζ ↔ [0,0.2]\n",
    "ini_opt.equilibrium.κ = missing # k set to be 95% of maximum controllable value\n",
    "ini_opt.equilibrium.B0 = ini.equilibrium.B0 ↔ [1.0, 20.]\n",
    "ini_opt.equilibrium.ip = ini.equilibrium.ip ↔ [1.0e6, 22e6]\n",
    "ini_opt.equilibrium.R0 = ini.equilibrium.R0 ↔ [ini.equilibrium.R0, 10.0];\n",
    "\n",
    "ini_opt.tf.technology = :HTS ↔ (:HTS, :LTS);\n",
    "ini_opt.oh.technology = :HTS ↔ (:HTS, :LTS);"
   ]
  },
  {
   "cell_type": "markdown",
   "id": "900ac113-a182-41c8-9f4b-90aec9aecb69",
   "metadata": {},
   "source": [
    "### See what are the possible optimization objectives and constraints"
   ]
  },
  {
   "cell_type": "code",
   "execution_count": null,
   "id": "5cfebb6a-f142-4757-a1ae-effaede928f0",
   "metadata": {
    "tags": []
   },
   "outputs": [],
   "source": [
    "# FUSE comes with a library of objective and constraints functions\n",
    "OFL = deepcopy(FUSE.ObjectiveFunctionsLibrary)\n",
    "CFL = deepcopy(FUSE.ConstraintFunctionsLibrary)\n",
    "println(\"== OBJECTIVE FUNCTIONS ==\")\n",
    "display(OFL)\n",
    "println()\n",
    "println(\"== CONSTRAINT FUNCTIONS ==\")\n",
    "display(CFL)"
   ]
  },
  {
   "cell_type": "markdown",
   "id": "696f7f90-82a0-4608-b0c3-ac98728477e2",
   "metadata": {
    "tags": []
   },
   "source": [
    "## Set the optimization objectives and constraints"
   ]
  },
  {
   "cell_type": "code",
   "execution_count": null,
   "id": "2dbf8322-5ec0-44a7-9079-8733d93b29f2",
   "metadata": {
    "tags": []
   },
   "outputs": [],
   "source": [
    "objective_functions = [OFL[:min_βn], OFL[:min_capital_cost]]\n",
    "\n",
    "# setup the constraint functions\n",
    "CFL[:target_power_electric_net].limit = 200.0\n",
    "CFL[:target_power_electric_net].tolerance = 0.01\n",
    "constraint_functions = [CFL[:target_power_electric_net], CFL[:zero_ohmic]]\n",
    "\n",
    "# ...but one can define custom objective/constraint functions too\n",
    "# my_target_power_electric_net = FUSE.ObjectiveFunction(:my_target_power_electric_net, \"MW\", dd -> @ddtime(dd.balance_of_plant.power_electric_net)/1E6, 200.0)\n",
    "# objective_functions = [my_target_power_electric_net, OFL[:min_βn], OFL[:min_capital_cost]]\n",
    "\n",
    "println(\"== OBJECTIVE FUNCTIONS ==\")\n",
    "display(objective_functions)\n",
    "println()\n",
    "println(\"== CONSTRAINT FUNCTIONS ==\")\n",
    "display(constraint_functions)"
   ]
  },
  {
   "cell_type": "markdown",
   "id": "29dcfcce-bf1e-4b91-86b2-05ac0eafaae0",
   "metadata": {},
   "source": [
    "### Setup and run optimization"
   ]
  },
  {
   "cell_type": "code",
   "execution_count": null,
   "id": "f4a47c4c-d4dc-443a-8710-f40bd90abb63",
   "metadata": {
    "tags": []
   },
   "outputs": [],
   "source": [
    "# option to resume an optimization where it was left off\n",
    "if false\n",
    "    continue_results = results\n",
    "else\n",
    "    continue_results = missing\n",
    "end\n",
    "\n",
    "# define optimization parameters\n",
    "# For real optimization studies the population size (N) and number of iterations should be bigger\n",
    "# eg. N=100, iterations=25\n",
    "optimization_parameters = Dict(\n",
    "    :N => max(4, Int(floor((nprocs()-1)/2))*2), # even number\n",
    "    :iterations => 100,\n",
    "    :continue_results => continue_results,\n",
    "    :save_folder => save_folder)\n",
    "\n",
    "# run optimization\n",
    "results = FUSE.workflow_multiobjective_optimization(ini_opt, act, FUSE.ActorWholeFacility, objective_functions, constraint_functions; optimization_parameters...);"
   ]
  },
  {
   "cell_type": "code",
   "execution_count": null,
   "id": "7e800cbb-61b5-4bb7-bd5e-1fd2a92117e1",
   "metadata": {
    "tags": []
   },
   "outputs": [],
   "source": [
    "import Metaheuristics\n",
    "n_fes, fxs = Metaheuristics.convergence(results.state)"
   ]
  },
  {
   "cell_type": "markdown",
   "id": "719da158-4afd-44b3-8634-a024a144277e",
   "metadata": {
    "tags": []
   },
   "source": [
    "## Remember to always release computing resources!"
   ]
  },
  {
   "cell_type": "code",
   "execution_count": null,
   "id": "3a259a72-7fb9-4ea5-aa70-d2829993f112",
   "metadata": {
    "tags": []
   },
   "outputs": [],
   "source": [
    "for i in workers()\n",
    "    rmprocs(i)\n",
    "end"
   ]
  },
  {
   "cell_type": "markdown",
   "id": "d1a48497-e1cc-416e-b3a0-041ae3b1a4aa",
   "metadata": {},
   "source": [
    "### How to: Define and use a custom FUSE workflow"
   ]
  },
  {
   "cell_type": "code",
   "execution_count": null,
   "id": "6b3e3dab-cdce-4b48-a269-121274dbe028",
   "metadata": {},
   "outputs": [],
   "source": [
    "# Here `@everywhere` is needed to make all processes aware of the custom function\n",
    "@everywhere function workflow_custom(ini, act)\n",
    "    FUSE.init(dd, ini, act)\n",
    "    FUSE.ActorEquilibriumTransport(dd, act)\n",
    "    FUSE.ActorCXbuild(dd, act)\n",
    "    return dd\n",
    "end\n",
    "\n",
    "# results = FUSE.workflow_multiobjective_optimization(ini, act, custom_workflow, objective_functions; optimization_parameters...);"
   ]
  }
 ],
 "metadata": {
  "@webio": {
   "lastCommId": "dffcbd16-15af-47d8-8451-d6f4a1fb5da8",
   "lastKernelId": "61a17a7c-bb42-4e15-b15c-152ccd928c8f"
  },
  "kernelspec": {
   "display_name": "Julia 1.8.5",
   "language": "julia",
   "name": "julia-1.8"
  },
  "language_info": {
   "file_extension": ".jl",
   "mimetype": "application/julia",
   "name": "julia",
   "version": "1.8.5"
  }
 },
 "nbformat": 4,
 "nbformat_minor": 5
}
