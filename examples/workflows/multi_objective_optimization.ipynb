{
 "cells": [
  {
   "cell_type": "markdown",
   "id": "a94d2fc3-c5ad-41e8-8706-5bc53b9f984a",
   "metadata": {},
   "source": [
    "# FPP multi objective optimization"
   ]
  },
  {
   "cell_type": "markdown",
   "id": "6ff761d6-e893-45b8-b8e9-b6d00eee24da",
   "metadata": {},
   "source": [
    "### Import packages"
   ]
  },
  {
   "cell_type": "code",
   "execution_count": null,
   "id": "d432c81d-13bc-4eae-9623-25147ff8f60e",
   "metadata": {
    "tags": []
   },
   "outputs": [],
   "source": [
    "#@time using WarmupFUSE\n",
    "@time using FUSE\n",
    "using Plots;\n",
    "gr();\n",
    "FUSE.logging(Logging.Info; actors = Logging.Error);"
   ]
  },
  {
   "cell_type": "markdown",
   "id": "3ec48595-128b-4c34-8ee3-6434f0ac0a91",
   "metadata": {},
   "source": [
    "### Define a working folder"
   ]
  },
  {
   "cell_type": "code",
   "execution_count": null,
   "id": "b4790711-2cf9-44fb-9650-8c97b5e04b4f",
   "metadata": {
    "tags": []
   },
   "outputs": [],
   "source": [
    "save_folder = \"optimization_run_LTSorHTS_ohtf_fixHFS_req_dens_flattop_fixHFSagain_no0ohm_explore2_minopt_maxflat\""
   ]
  },
  {
   "cell_type": "markdown",
   "id": "255cb65d-020d-4ee7-9bc2-248aec363c1a",
   "metadata": {},
   "source": [
    "### Setup distributed computing environment"
   ]
  },
  {
   "cell_type": "code",
   "execution_count": null,
   "id": "4af37eb5-ab99-4c8e-a873-f52c6a58cc58",
   "metadata": {
    "tags": []
   },
   "outputs": [],
   "source": [
    "old_dir = pwd()\n",
    "mkpath(save_folder)\n",
    "try\n",
    "    cd(save_folder) # this is to save temporary distributed files in working folder\n",
    "    FUSE.parallel_environment(\"omega\", 128 * 2) # (\"saga\",120)\n",
    "finally\n",
    "    cd(old_dir)\n",
    "end\n",
    "display(pwd())\n",
    "using Distributed\n",
    "#@everywhere import WarmupFUSE\n",
    "@everywhere import FUSE"
   ]
  },
  {
   "cell_type": "markdown",
   "id": "240d42c6-7c71-4ab4-8699-7920ab625438",
   "metadata": {},
   "source": [
    "### Get `ini` and `act` for FPP case and custmize as needed"
   ]
  },
  {
   "cell_type": "code",
   "execution_count": null,
   "id": "2c2e2bf4-519d-4ab4-9cb3-38c8f461e8a3",
   "metadata": {
    "tags": []
   },
   "outputs": [],
   "source": [
    "ini, act = FUSE.case_parameters(:FPP; version = :v1_demount, init_from = :scalars, STEP = true)\n",
    "#act.ActorPFcoilsOpt.optimization_scheme = :none; # don't spend time optimizing the PFs\n",
    "act.ActorStabilityLimits.models = [:beta_troyon_1984, :model_201, :model_401] # include βn check\n",
    "act.ActorTauenn.eped_only_powerlaw = true # more reliable for broader exploration"
   ]
  },
  {
   "cell_type": "markdown",
   "id": "33e46e59-a6be-41f9-999d-2621a113986c",
   "metadata": {},
   "source": [
    "### Define optimization variables and ranges"
   ]
  },
  {
   "cell_type": "code",
   "execution_count": null,
   "id": "5596ff4e-23ed-46e9-817f-820999ad28d8",
   "metadata": {
    "tags": []
   },
   "outputs": [],
   "source": [
    "# nominal value and ranges\n",
    "ini.ec_launchers.power_launched = ini.ec_launchers.power_launched[1] ↔ [1e6, 200e6];\n",
    "ini.core_profiles.zeff = ini.core_profiles.zeff ↔ [1.1, 2.5]\n",
    "ini.core_profiles.greenwald_fraction = ini.core_profiles.greenwald_fraction ↔ [0.8, 1.3]\n",
    "#ini.equilibrium.δ = ini.equilibrium.δ ↔ [-0.7,0.7]\n",
    "#ini.equilibrium.ζ = ini.equilibrium.ζ ↔ [0,0.2]\n",
    "ini.equilibrium.κ = 0.95 # k set to be 95% of maximum controllable value\n",
    "ini.equilibrium.B0 = ini.equilibrium.B0 ↔ [1.0, 20.0]\n",
    "ini.equilibrium.ip = ini.equilibrium.ip ↔ [1.0e6, 22e6]\n",
    "ini.equilibrium.R0 = ini.equilibrium.R0 ↔ [ini.equilibrium.R0, 10.0];\n",
    "ini.requirements.log10_flattop_duration = log10(3600.0) ↔ [log10(3600.0), log10(1000.0 * 3600.0)];\n",
    "ini.tf.technology = :HTS ↔ (:HTS, :LTS);\n",
    "ini.oh.technology = :HTS ↔ (:HTS, :LTS);"
   ]
  },
  {
   "cell_type": "markdown",
   "id": "16aa6e18-eb68-4704-87e6-cb44bc643138",
   "metadata": {},
   "source": [
    "### As a good practice, test the actor/workflow that you want to optimize"
   ]
  },
  {
   "cell_type": "code",
   "execution_count": null,
   "id": "155cc710-ce81-4035-ad9e-017bbc481f2d",
   "metadata": {
    "tags": []
   },
   "outputs": [],
   "source": [
    "#dd = FUSE.init(ini, act);\n",
    "#FUSE.ActorWholeFacility(dd, act);"
   ]
  },
  {
   "cell_type": "code",
   "execution_count": null,
   "id": "2e7d2af6-1284-47db-8c37-c44c9ac2d3ef",
   "metadata": {
    "tags": []
   },
   "outputs": [],
   "source": [
    "#FUSE.digest(dd)"
   ]
  },
  {
   "cell_type": "markdown",
   "id": "900ac113-a182-41c8-9f4b-90aec9aecb69",
   "metadata": {},
   "source": [
    "### See what are the possible optimization objectives and constraints"
   ]
  },
  {
   "cell_type": "code",
   "execution_count": null,
   "id": "5cfebb6a-f142-4757-a1ae-effaede928f0",
   "metadata": {
    "tags": []
   },
   "outputs": [],
   "source": [
    "# FUSE comes with a library of objective and constraints functions\n",
    "OFL = deepcopy(FUSE.ObjectiveFunctionsLibrary)\n",
    "CFL = deepcopy(FUSE.ConstraintFunctionsLibrary)\n",
    "println(\"== OBJECTIVE FUNCTIONS ==\")\n",
    "display(OFL)\n",
    "println()\n",
    "println(\"== CONSTRAINT FUNCTIONS ==\")\n",
    "display(CFL)"
   ]
  },
  {
   "cell_type": "markdown",
   "id": "696f7f90-82a0-4608-b0c3-ac98728477e2",
   "metadata": {
    "tags": []
   },
   "source": [
    "## Set the optimization objectives and constraints"
   ]
  },
  {
   "cell_type": "code",
   "execution_count": null,
   "id": "2dbf8322-5ec0-44a7-9079-8733d93b29f2",
   "metadata": {
    "tags": []
   },
   "outputs": [],
   "source": [
    "objective_functions = [OFL[:min_βn], OFL[:min_capital_cost], OFL[:max_log10_flattop]]\n",
    "constraint_functions = [CFL[:min_required_power_electric_net]]#, CFL[:zero_ohmic]]\n",
    "println(\"== OBJECTIVE FUNCTIONS ==\")\n",
    "display(objective_functions)\n",
    "println()\n",
    "println(\"== CONSTRAINT FUNCTIONS ==\")\n",
    "display(constraint_functions)"
   ]
  },
  {
   "cell_type": "markdown",
   "id": "29dcfcce-bf1e-4b91-86b2-05ac0eafaae0",
   "metadata": {},
   "source": [
    "### Setup and run optimization"
   ]
  },
  {
   "cell_type": "code",
   "execution_count": null,
   "id": "f4a47c4c-d4dc-443a-8710-f40bd90abb63",
   "metadata": {
    "tags": []
   },
   "outputs": [],
   "source": [
    "# option to resume an optimization where it was left off\n",
    "if false\n",
    "    continue_results = results\n",
    "else\n",
    "    continue_results = missing\n",
    "end\n",
    "\n",
    "# define optimization parameters\n",
    "# For real optimization studies the population size (N) and number of iterations should be bigger\n",
    "# eg. N=100, iterations=25\n",
    "optimization_parameters = Dict(\n",
    "    :N => max(4, Int(floor((nprocs() - 1) / 2)) * 2), # even number\n",
    "    :iterations => 100,\n",
    "    :continue_results => continue_results,\n",
    "    :save_folder => save_folder)\n",
    "\n",
    "# run optimization\n",
    "results = FUSE.workflow_multiobjective_optimization(ini, act, FUSE.ActorWholeFacility, objective_functions, constraint_functions; optimization_parameters...);\n"
   ]
  },
  {
   "cell_type": "code",
   "execution_count": null,
   "id": "7e800cbb-61b5-4bb7-bd5e-1fd2a92117e1",
   "metadata": {
    "tags": []
   },
   "outputs": [],
   "source": [
    "#results = FUSE.load_optimization(joinpath(save_folder, \"optimization.bson\"))\n",
    "#state=results.state\n",
    "#plot(results,[1,2],pareto=false)"
   ]
  },
  {
   "cell_type": "markdown",
   "id": "719da158-4afd-44b3-8634-a024a144277e",
   "metadata": {
    "tags": []
   },
   "source": [
    "## Remember to always release computing resources!"
   ]
  },
  {
   "cell_type": "code",
   "execution_count": null,
   "id": "3a259a72-7fb9-4ea5-aa70-d2829993f112",
   "metadata": {
    "tags": []
   },
   "outputs": [],
   "source": [
    "for i in workers()\n",
    "    rmprocs(i)\n",
    "end"
   ]
  }
 ],
 "metadata": {
  "@webio": {
   "lastCommId": "dffcbd16-15af-47d8-8451-d6f4a1fb5da8",
   "lastKernelId": "61a17a7c-bb42-4e15-b15c-152ccd928c8f"
  },
  "kernelspec": {
   "display_name": "Julia 1.8.5",
   "language": "julia",
   "name": "julia-1.8"
  },
  "language_info": {
   "file_extension": ".jl",
   "mimetype": "application/julia",
   "name": "julia",
   "version": "1.8.5"
  }
 },
 "nbformat": 4,
 "nbformat_minor": 5
}
