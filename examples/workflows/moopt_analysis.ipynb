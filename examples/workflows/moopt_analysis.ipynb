{
 "cells": [
  {
   "cell_type": "markdown",
   "id": "c8eb3e92-2476-439b-a771-6dd9a7003472",
   "metadata": {},
   "source": [
    "# Multi objective optimization post-processing analysis"
   ]
  },
  {
   "cell_type": "code",
   "execution_count": null,
   "id": "b0776002",
   "metadata": {
    "tags": []
   },
   "outputs": [],
   "source": [
    "#import WarmupFUSE\n",
    "using FUSE\n",
    "using Plots;\n",
    "gr();"
   ]
  },
  {
   "cell_type": "code",
   "execution_count": null,
   "id": "b8c6f4fe-997a-4af3-99ee-5432ed9e341a",
   "metadata": {
    "tags": []
   },
   "outputs": [],
   "source": [
    "# load results from cache file alone\n",
    "cache_path = \"/Users/meneghini/Downloads/\";\n",
    "path = nothing;\n",
    "outputs = FUSE.extract(path; filter_invalid=:cols, cache=joinpath(cache_path, \"extract.csv\"), read_cache=true, write_cache=true);"
   ]
  },
  {
   "cell_type": "code",
   "execution_count": null,
   "id": "86a2723a-053f-418e-b36d-c81c274f84c1",
   "metadata": {
    "tags": []
   },
   "outputs": [],
   "source": [
    "# on SAGA\n",
    "path = \"/mnt/beegfs/users/meneghini/optimization_run_STEP_nodelta\"\n",
    "path = \"/mnt/beegfs/users/meneghini/optimization_run_STEP_nodelta_zerohm\"\n",
    "path = \"/mnt/beegfs/users/meneghini/optimization_run_STEP_nodelta_zerohm_expressions\"\n",
    "path = \"/mnt/beegfs/users/meneghini/optimization_run_STEP_nodelta_zerohm_expressions_jfix\"\n",
    "path = \"/mnt/beegfs/users/meneghini/optimization_run_STEP_nodelta_zerohm_expressions_jfix_noonetime\"\n",
    "path = \"/mnt/beegfs/users/meneghini/optimization_run_STEP_nodelta_zerohm_expressions_jfix_slvv\"\n",
    "path = \"/mnt/beegfs/users/meneghini/optimization_run_STEP_nodelta_zerohm_expressions_jfix_neo\"\n",
    "path = \"/mnt/beegfs/users/meneghini/optimization_run_STEP_nodelta_zerohm_expressions_jfix_neo_SMSEMOA\"\n",
    "path = \"/mnt/beegfs/users/meneghini/optimization_run_STEP_nodelta_zerohm_expressions_jfix_neo_SPEA2\"\n",
    "path = \"/mnt/beegfs/users/meneghini/optimization_run_STEP_nodelta_zerohm_expressions_jfix_neo_SPEA2_HCD\"\n",
    "\n",
    "# on OMEGA\n",
    "path = \"optimization_run_LTSorHTS_ohtf\"\n",
    "path = \"optimization_run_LTSorHTS_ohtf_CCMO\"\n",
    "path = \"optimization_run_LTSorHTS_ohtf_fixHFS2\"\n",
    "path = \"optimization_run_LTSorHTS_ohtf_fixHFS_req\"\n",
    "path = \"optimization_run_LTSorHTS_ohtf_fixHFS_req_dens\"\n",
    "path = \"optimization_run_LTSorHTS_ohtf_fixHFS_req_dens_flattop\"\n",
    "path = \"optimization_run_LTSorHTS_ohtf_fixHFS_req_dens_flattop_fixHFSagain\"\n",
    "path = \"optimization_run_LTSorHTS_ohtf_fixHFS_req_dens_flattop_fixHFSagain_no0ohm\"\n",
    "path = \"optimization_run_LTSorHTS_ohtf_fixHFS_req_dens_flattop_fixHFSagain_no0ohm_explore\"\n",
    "path = \"optimization_run_LTSorHTS_ohtf_fixHFS_req_dens_flattop_fixHFSagain_no0ohm_explore2\"\n",
    "path = \"optimization_run_LTSorHTS_ohtf_fixHFS_req_dens_flattop_fixHFSagain_no0ohm_explore2_minopt\"\n",
    "path = \"optimization_run_LTSorHTS_ohtf_fixHFS_req_dens_flattop_fixHFSagain_no0ohm_explore2_minopt_0ohm\"\n",
    "path = \"optimization_run_LTSorHTS_ohtf_fixHFS_req_dens_flattop_fixHFSagain_no0ohm_explore2_minopt_maxflat\"\n",
    "path = \"optimization_run_LTSorHTS_ohtf_fixHFS_req_dens_flattop_fixHFSagain_no0ohm_explore2_minopt_maxflat_aratio\"\n",
    "cache_path = path"
   ]
  },
  {
   "cell_type": "code",
   "execution_count": null,
   "id": "8a265e17-01ad-4f1b-8e40-8f2e579d2923",
   "metadata": {
    "tags": []
   },
   "outputs": [],
   "source": [
    "# load results from directories of optimization run and generate/update cache file\n",
    "\n",
    "all_dirs = filter(isdir, sort(readdir(path; join=true)))\n",
    "println(length(all_dirs))\n",
    "\n",
    "dirs = sort(filter(x -> !isfile(joinpath(x, \"error.txt\")) && isfile(joinpath(x, \"dd.json\")), all_dirs))\n",
    "println(length(dirs))\n",
    "\n",
    "IMAS.update_ExtractFunctionsLibrary!() # to pick up any ongoing development to extract function library\n",
    "outputs = FUSE.extract(dirs; filter_invalid=:cols, cache=joinpath(cache_path, \"extract.csv\"), read_cache=true, write_cache=true);"
   ]
  },
  {
   "cell_type": "code",
   "execution_count": null,
   "id": "bb4403a3-9e14-414d-880b-accc5b95e0e3",
   "metadata": {
    "tags": []
   },
   "outputs": [],
   "source": [
    "# error analysis\n",
    "errors = FUSE.categorize_errors(all_dirs; do_plot=true, show_first_line=true)\n",
    "#println(read(\"optimization_run_LTSorHTS_ohtf/2023-04-28T11:34:32.300__3823851/error.txt\",String))"
   ]
  },
  {
   "cell_type": "code",
   "execution_count": null,
   "id": "e034d57e-c4a4-474b-8e4c-f0c3a54e2736",
   "metadata": {
    "tags": []
   },
   "outputs": [],
   "source": [
    "# this is just to list all the fields that can be queried\n",
    "IMAS.ExtractFunctionsLibrary"
   ]
  },
  {
   "cell_type": "code",
   "execution_count": null,
   "id": "f285a28c-bd02-4f4a-852c-433cbf76b979",
   "metadata": {
    "tags": []
   },
   "outputs": [],
   "source": [
    "# plot evolution of key scalar quantities\n",
    "N = length(outputs[:, \"Pelectric_net\"])\n",
    "X = LinRange(1, N, 50)\n",
    "\n",
    "gr()\n",
    "\n",
    "import Statistics\n",
    "function y_auto_range(y; σ=5, N=50)\n",
    "    y_nonan = y[@. !isnan.(y)]\n",
    "    m = Statistics.median(y_nonan)\n",
    "    s = Statistics.median(Statistics.median(abs.(y_nonan .- m))) * σ\n",
    "    Y = LinRange(max(m - s, minimum(y_nonan)), min(m + s, maximum(y_nonan)), N)\n",
    "end\n",
    "\n",
    "y = outputs[:, \"Pelectric_net\"]\n",
    "yname = \"Pelectric net [MW]\"\n",
    "Y = y_auto_range(y)\n",
    "p = histogram2d(y, bins=(X, Y), ylabel=yname, xlabel=\"Indiviuals\")\n",
    "#scatter!(y, ylim=(minimum(Y),maximum(Y)), label=\"\")\n",
    "hline!([200.0], ls=:dash, label=\"\")\n",
    "display(p)\n",
    "\n",
    "y = outputs[:, \"βn\"]\n",
    "yname = \"βn net\"\n",
    "Y = y_auto_range(y)\n",
    "p = histogram2d(y, bins=(X, Y), ylabel=yname, xlabel=\"Indiviuals\")\n",
    "#scatter!(y, ylim=(minimum(Y),maximum(Y)), label=\"\")\n",
    "display(p)\n",
    "\n",
    "y = outputs[:, \"capital_cost\"]\n",
    "yname = \"capital_cost [\\$B]\"\n",
    "Y = y_auto_range(y)\n",
    "p = histogram2d(y, bins=(X, Y), ylabel=yname, xlabel=\"Indiviuals\")\n",
    "#scatter!(y, ylim=(minimum(Y),maximum(Y)), label=\"\")\n",
    "display(p)\n",
    "\n",
    "y = log10.(outputs[:, \"flattop\"])\n",
    "yname = \"Log10(flattop)\"\n",
    "Y = y_auto_range(y)\n",
    "p = histogram2d(y, bins=(X, Y), ylabel=yname, xlabel=\"Indiviuals\")\n",
    "#scatter!(y, ylim=(minimum(Y),maximum(Y)), label=\"\")\n",
    "display(p)\n",
    "\n",
    "y = outputs[:, \"ip_ohm\"]\n",
    "yname = \"Ip ohmic [MA]\"\n",
    "Y = y_auto_range(y)\n",
    "p = histogram2d(y, bins=(X, Y), ylabel=yname, xlabel=\"Indiviuals\")\n",
    "hline!([0.0], ls=:dash, label=\"\")\n",
    "#scatter!(y, ylim=(minimum(Y),maximum(Y)), label=\"\")\n",
    "display(p)\n",
    "\n",
    "y = (outputs[:, \"TF_material\"] .== \"ReBCO\") .+ (outputs[:, \"OH_material\"] .== \"ReBCO\") .* 2.0;\n",
    "yname = \"HTS\";\n",
    "Y = LinRange(0, 3.00001, 50)\n",
    "p = histogram2d(y, bins=(X, Y), ylabel=yname, xlabel=\"Indiviuals\")\n",
    "#scatter!(y, ylim=(minimum(Y),maximum(Y)), label=\"\")\n",
    "display(p)"
   ]
  },
  {
   "cell_type": "code",
   "execution_count": null,
   "id": "183d7bc9-cf71-41a0-9dad-2ecaf50f5c48",
   "metadata": {
    "tags": []
   },
   "outputs": [],
   "source": [
    "# plot evolution of all scalar quantities extracted from the dataset\n",
    "\n",
    "gr()\n",
    "\n",
    "for name in names(outputs)\n",
    "    if !(typeof(outputs[1, name]) <: Number) || all(isnan.(outputs[:, name]))\n",
    "        continue\n",
    "    end\n",
    "    y = outputs[:, name]\n",
    "    y_nonan = y[@. !isnan.(y)]\n",
    "    m = Statistics.median(y_nonan)\n",
    "    σ = Statistics.median(Statistics.median(abs.(y_nonan .- m))) * 10\n",
    "    Y = LinRange(max(m - σ, minimum(y_nonan)), min(m + σ, maximum(y_nonan)), 100)\n",
    "    if σ != 0.0\n",
    "        display(histogram2d(y, bins=(X, Y), ylabel=name))\n",
    "    end\n",
    "end"
   ]
  },
  {
   "cell_type": "code",
   "execution_count": null,
   "id": "8490502e-269f-4e44-9cc4-274f24a80c1b",
   "metadata": {
    "tags": []
   },
   "outputs": [],
   "source": [
    "# plot in optimization space\n",
    "\n",
    "# x axis\n",
    "xname = \"capital_cost\";\n",
    "x = outputs[:, xname];\n",
    "#xname=\"βpol\"; x=outputs[:,xname]\n",
    "#xname=\"Pec [MW]\"; x=outputs[:,\"Pec\"]\n",
    "\n",
    "# y axis\n",
    "yname = \"βn\";\n",
    "y = outputs[:, yname];\n",
    "#yname=\"ip_bs/ip_bs_aux_ohm\"; y=outputs[:,\"ip_bs\"]./outputs[:,\"ip_bs_aux_ohm\"];\n",
    "#yname=\"Pec=R0*ne*ip_aux(5+zeff)/(Te*0.09)\"; y= @. outputs[:,\"<ne>\"]/1E20*outputs[:,\"R0\"]*outputs[:,\"ip_aux\"]*(5.0+outputs[:,\"<zeff>\"])/(0.09*outputs[:,\"<Te>\"])\n",
    "\n",
    "# z axis\n",
    "zname = \"log10(flattop)\";\n",
    "z = log10.(outputs[:, \"flattop\"]);\n",
    "\n",
    "# color\n",
    "#cname=\"individual\"; c=1:length(outputs[:,xname]);clim=(1,Inf);\n",
    "#cname=\"log10(flattop)\"; c=log10.(outputs[:,\"flattop\"]);clim=(-Inf,Inf);\n",
    "#cname=\"Pelectric_net\"; c=outputs[:,cname];clim=(-Inf,Inf);\n",
    "#cname=\"Ip aux [MA]\"; c=outputs[:,\"ip_aux\"];clim=(-Inf,Inf);\n",
    "#cname=\"fGW\"; c=outputs[:,\"fGW\"];clim=(-Inf,Inf);\n",
    "#cname=\"<zeff>\"; c=outputs[:,\"<zeff>\"];clim=(-Inf,Inf);\n",
    "#cname=\"R0 [m]\"; c=outputs[:,\"R0\"];clim=(-Inf,Inf);\n",
    "#cname=\"B0 [T]\"; c=outputs[:,\"B0\"];clim=(-Inf,Inf);\n",
    "#cname=\"B0*R0 [T*m]\"; c=outputs[:,\"B0\"].*outputs[:,\"R0\"];clim=(-Inf,Inf);\n",
    "#cname=\"ip_ohm\"; c=outputs[:,cname];clim=(-Inf,Inf);\n",
    "#cname=\"ip\"; c=outputs[:,cname];clim=(-Inf,Inf);\n",
    "#cname = \"q95\"; c = outputs[:, cname]; clim = (-Inf, Inf);\n",
    "cname = \"1/ϵ\"; c = outputs[:, \"R0\"]./outputs[:, \"a\"]; clim = (-Inf, Inf);\n",
    "#cname=\"Pec [MW]\"; c=outputs[:,\"Pec\"];clim=(-Inf,Inf);\n",
    "#cname=\"ip_bs_aux_ohm/ip\"; c=outputs[:,\"ip_bs_aux_ohm\"]./outputs[:,\"ip\"];clim=(-Inf,Inf);\n",
    "#cname=\"ip_ohm\"; c=abs.(outputs[:,\"ip_ohm\"]);clim=(-Inf,Inf);\n",
    "#cname=\"ip_bs_aux_ohm/ip\"; c=outputs[:,\"ip_bs_aux_ohm\"]./outputs[:,\"ip\"];clim=(-Inf,Inf);\n",
    "#cname=\"Ip aux [MA]\"; c=outputs[:,\"ip_aux\"];clim=(-Inf,Inf);\n",
    "\n",
    "#cname=\"HTS\"; c=(outputs[:,\"TF_material\"].==\"ReBCO\").+(outputs[:,\"OH_material\"].==\"ReBCO\").*2.0; clim=(0,4)\n",
    "\n",
    "# selection\n",
    "sname0 = \"Pelectric_net\";\n",
    "s0 = outputs[:, sname0];\n",
    "sname1 = \"ip_ohm\";\n",
    "s1 = outputs[:, sname1];\n",
    "sname2 = \"flattop\";\n",
    "s2 = outputs[:, sname2];\n",
    "\n",
    "# Selection criterion\n",
    "min_Pelectric = -10000\n",
    "min_flattop = 00\n",
    "\n",
    "n = length(x)\n",
    "index = 1:n\n",
    "index = findall((s0 .> min_Pelectric) .&& (s2 .> min_flattop) .&& (index .> 0000))\n",
    "println(\"$(length(index)) points\")\n",
    "\n",
    "gr()\n",
    "\n",
    "# plotting\n",
    "annot = map(x -> (x, :center, 3, \"courier\"), index)\n",
    "P = scatter(x[index], y[index], marker_z=c[index], xlabel=xname, ylabel=yname, colorbar_title=cname, marker=:circle,\n",
    "    markersize=5, markerstrokewidth=0, label=\"\", clim=clim, alpha=0.5,\n",
    "    #    series_annotations=annot,\n",
    "    xlim=(0, 20), ylim=(0, 3.5))\n",
    "\n",
    "# Pareto front\n",
    "pindex = index[FUSE.pareto_front([[x[index[k]], y[index[k]]] for k in 1:length(index)])]\n",
    "sort!(pindex, by=i -> y[i])\n",
    "sort!(pindex, by=i -> x[i])\n",
    "println(length(pindex))\n",
    "println(pindex)\n",
    "pannot = map(x -> (\"\\n$x\", :right, 3, \"courier\", :red), pindex)\n",
    "plot!(P, x[pindex], y[pindex], series_annotations=pannot, color=:blue, label=\"pareto front\", lw=2)"
   ]
  },
  {
   "cell_type": "code",
   "execution_count": null,
   "id": "dbda5829-a2f3-4bf7-a1fc-f6aa9d085077",
   "metadata": {
    "tags": []
   },
   "outputs": [],
   "source": [
    "# Interactive 2D plotting\n",
    "\n",
    "using Interact\n",
    "@manipulate for min_Pelectric in LinRange(-1000, 1000, 101), min_flattop in LinRange(0, 1000, 101)\n",
    "\n",
    "    n = length(x)\n",
    "    index = 1:n\n",
    "    index = findall((s0 .> min_Pelectric) .&& (s2 .> min_flattop) .&& (index .> 0000))\n",
    "    #println(\"$(length(index)) points\")\n",
    "\n",
    "    # plotting\n",
    "    annot = map(x -> (x, :center, 3, \"courier\"), index)\n",
    "    P = scatter(x[index], y[index], marker_z=c[index], xlabel=xname, ylabel=yname, colorbar_title=cname, marker=:circle,\n",
    "        markersize=5, markerstrokewidth=0, label=\"\", clim=clim, alpha=0.5,\n",
    "        xlim=(0, 20), ylim=(0, 3.5))\n",
    "\n",
    "    # Pareto front\n",
    "    pindex = index[FUSE.pareto_front([[x[index[k]], y[index[k]]] for k in 1:length(index)])]\n",
    "    sort!(pindex, by=i -> y[i])\n",
    "    sort!(pindex, by=i -> x[i])\n",
    "    pannot = map(x -> (\"\\n$x\", :right, 3, \"courier\", :red), pindex)\n",
    "    plot!(P, x[pindex], y[pindex], series_annotations=pannot, color=:blue, label=\"pareto front\", lw=2)\n",
    "end"
   ]
  },
  {
   "cell_type": "code",
   "execution_count": null,
   "id": "0b58c4a7-eefc-4a79-bb85-1e607ae6eed3",
   "metadata": {
    "tags": []
   },
   "outputs": [],
   "source": [
    "# Interactive 3D plotting\n",
    "\n",
    "plotly()\n",
    "min_Pelectric = 200\n",
    "index = findall((s0 .> min_Pelectric) .&& (x .< 15))\n",
    "pindex = index[FUSE.pareto_front([[x[index[k]], y[index[k]], z[index[k]]] for k in 1:length(index)])]\n",
    "println(\"$(length(pindex)) points\")\n",
    "pannot = map(x -> (\"\\n$x\", :right, 3, \"courier\", :red), pindex)\n",
    "plot(x[pindex], y[pindex], z[pindex], marker_z=c[pindex],\n",
    "    xlabel=xname, ylabel=yname, zlabel=zname, colorbar_title=cname, label=cname,\n",
    "    marker=:dot, xlim=(0, Inf), ylim=(0, Inf), zlim=(0, Inf))"
   ]
  },
  {
   "cell_type": "code",
   "execution_count": null,
   "id": "8ee2fc90-8f86-42c5-a3b5-58e9cb7062cb",
   "metadata": {
    "tags": []
   },
   "outputs": [],
   "source": [
    "n = 17134\n",
    "dir = outputs[n, \"dir\"]\n",
    "#n=length(dirs)\n",
    "println(dir)\n",
    "dd, ini, act = FUSE.load(dir)\n",
    "FUSE.digest(dd)"
   ]
  }
 ],
 "metadata": {
  "@webio": {
   "lastCommId": "2cfdb662-8633-44be-abf9-061cc8048574",
   "lastKernelId": "59d16280-4a84-4782-b2e7-8a3b8e7103fb"
  },
  "kernelspec": {
   "display_name": "Julia (20 threads) 1.8.5",
   "language": "julia",
   "name": "julia-_20-threads_-1.8"
  },
  "language_info": {
   "file_extension": ".jl",
   "mimetype": "application/julia",
   "name": "julia",
   "version": "1.8.5"
  }
 },
 "nbformat": 4,
 "nbformat_minor": 5
}
