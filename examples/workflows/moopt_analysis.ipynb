{
 "cells": [
  {
   "cell_type": "markdown",
   "id": "c8eb3e92-2476-439b-a771-6dd9a7003472",
   "metadata": {},
   "source": [
    "# Multi objective optimization post-processing analysis"
   ]
  },
  {
   "cell_type": "code",
   "execution_count": null,
   "id": "b0776002",
   "metadata": {},
   "outputs": [],
   "source": [
    "#import WarmupFUSE\n",
    "using FUSE\n",
    "using Plots"
   ]
  },
  {
   "cell_type": "code",
   "execution_count": null,
   "id": "6bca601d-1cd4-4035-ba80-2bcc7b8845df",
   "metadata": {},
   "outputs": [],
   "source": [
    "path= \"/mnt/beegfs/users/meneghini/optimization_run_STEP_nodelta\"\n",
    "path= \"/mnt/beegfs/users/meneghini/optimization_run_STEP_nodelta_zerohm\"\n",
    "path= \"/mnt/beegfs/users/meneghini/optimization_run_STEP_nodelta_zerohm_expressions\"\n",
    "path= \"/mnt/beegfs/users/meneghini/optimization_run_STEP_nodelta_zerohm_expressions_jfix\"\n",
    "path= \"/mnt/beegfs/users/meneghini/optimization_run_STEP_nodelta_zerohm_expressions_jfix_noonetime\"\n",
    "path= \"/mnt/beegfs/users/meneghini/optimization_run_STEP_nodelta_zerohm_expressions_jfix_slvv\"\n",
    "path= \"/mnt/beegfs/users/meneghini/optimization_run_STEP_nodelta_zerohm_expressions_jfix_neo\"\n",
    "path= \"/mnt/beegfs/users/meneghini/optimization_run_STEP_nodelta_zerohm_expressions_jfix_neo_SMSEMOA\"\n",
    "path= \"/mnt/beegfs/users/meneghini/optimization_run_STEP_nodelta_zerohm_expressions_jfix_neo_SPEA2\"\n",
    "path= \"/mnt/beegfs/users/meneghini/optimization_run_STEP_nodelta_zerohm_expressions_jfix_neo_SPEA2_HCD\""
   ]
  },
  {
   "cell_type": "code",
   "execution_count": null,
   "id": "8a265e17-01ad-4f1b-8e40-8f2e579d2923",
   "metadata": {},
   "outputs": [],
   "source": [
    "IMAS.update_ExtractFunctionsLibrary!()\n",
    "# use this to regenerate CSV cache file\n",
    "dirs = filter(isdir,sort(readdir(path; join=true)))\n",
    "println(length(dirs))\n",
    "dirs = filter(x->!isfile(joinpath(x,\"error.txt\")) && isfile(joinpath(x,\"dd.json\")),dirs)#[1:100]\n",
    "println(length(dirs))\n",
    "outputs=FUSE.extract(dirs, filter_invalid=:cols);\n",
    "\n",
    "# cache extrated information to CSV file\n",
    "import DelimitedFiles\n",
    "DelimitedFiles.writedlm(joinpath(path,\"extract.csv\"), Iterators.flatten(([names(outputs)], eachrow(outputs))), ',')"
   ]
  },
  {
   "cell_type": "code",
   "execution_count": null,
   "id": "bb4403a3-9e14-414d-880b-accc5b95e0e3",
   "metadata": {},
   "outputs": [],
   "source": [
    "# error analysis\n",
    "dirs = filter(isdir,sort(readdir(path; join=true)))\n",
    "errors=FUSE.categorize_errors(dirs;do_plot=true,show_first_line=false)\n",
    "for (k,error) in enumerate(errors[:other])\n",
    "    if k<100\n",
    "        println(error)\n",
    "    end\n",
    "end"
   ]
  },
  {
   "cell_type": "code",
   "execution_count": null,
   "id": "6a279746-7c19-4cd6-a1da-12b1f644a326",
   "metadata": {},
   "outputs": [],
   "source": [
    "# use this to load CSV cache file\n",
    "outputs=FUSE.DataFrames.DataFrame(FUSE.CSV.File(joinpath(path,\"extract.csv\")));\n",
    "println(length(outputs[:,1]))"
   ]
  },
  {
   "cell_type": "code",
   "execution_count": null,
   "id": "e034d57e-c4a4-474b-8e4c-f0c3a54e2736",
   "metadata": {},
   "outputs": [],
   "source": [
    "# this is just to list the fields that can be queried\n",
    "IMAS.ExtractFunctionsLibrary"
   ]
  },
  {
   "cell_type": "code",
   "execution_count": null,
   "id": "f285a28c-bd02-4f4a-852c-433cbf76b979",
   "metadata": {},
   "outputs": [],
   "source": [
    "N=length(outputs[:,\"Pelectric_net\"])\n",
    "X=LinRange(1,N,50)\n",
    "\n",
    "histogram2d(outputs[:,\"Pelectric_net\"],bins=(X,LinRange(0,500,50)),ylabel=\"Pelectric net\", xlabel=\"Generation\")\n",
    "#scatter!(outputs[:,\"Pelectric_net\"],ylim=(-500,500))\n",
    "display(hline!([200.0], ls=:dash, label=\"\"))\n",
    "\n",
    "histogram2d(outputs[:,\"ip_ohm\"],bins=(X,LinRange(-5,5,50)),ylabel=\"Ip ohmic\", xlabel=\"Generation\")\n",
    "#scatter!(outputs[:,\"ip_ohm\"],ylim=(-50,50))\n",
    "display(hline!([0.0], ls=:dash, label=\"\"))"
   ]
  },
  {
   "cell_type": "code",
   "execution_count": null,
   "id": "183d7bc9-cf71-41a0-9dad-2ecaf50f5c48",
   "metadata": {},
   "outputs": [],
   "source": [
    "import Statistics\n",
    "for name in names(outputs)\n",
    "    if !(typeof(outputs[1,name]) <: Number) || all(isnan.(outputs[:,name]))\n",
    "        continue\n",
    "    end\n",
    "    y=outputs[:,name]\n",
    "    y_nonan=y[@. !isnan.(y)]\n",
    "    m=Statistics.median(y_nonan)\n",
    "    σ=Statistics.median(Statistics.median(abs.(y_nonan.-m)))*10\n",
    "    if σ != 0.0\n",
    "        display(histogram2d(y,bins=(X,LinRange(max(m-σ,minimum(y_nonan)),min(m+σ,maximum(y_nonan)),100)),ylabel=name))\n",
    "    end\n",
    "end"
   ]
  },
  {
   "cell_type": "code",
   "execution_count": null,
   "id": "9cf6969e-6a69-499d-bb9f-101a84ee6284",
   "metadata": {},
   "outputs": [],
   "source": [
    "# x axis\n",
    "xname=\"capital_cost\"; x=outputs[:,xname]\n",
    "#xname=\"βpol\"; x=outputs[:,xname]\n",
    "xname=\"Pec [MW]\"; x=outputs[:,\"Pec\"]\n",
    "\n",
    "# y axis\n",
    "yname=\"βn\"; y=outputs[:,yname]\n",
    "#yname=\"ip_bs/ip_bs_aux_ohm\"; y=outputs[:,\"ip_bs\"]./outputs[:,\"ip_bs_aux_ohm\"];\n",
    "yname=\"Pec=R0*ne*ip_aux(5+zeff)/(Te*0.09)\"; y= @. outputs[:,\"<ne>\"]/1E20*outputs[:,\"R0\"]*outputs[:,\"ip_aux\"]*(5.0+outputs[:,\"<zeff>\"])/(0.09*outputs[:,\"<Te>\"])\n",
    "\n",
    "# z axis\n",
    "#zname=\"R0\"; z=outputs[:,zname]\n",
    "\n",
    "# color\n",
    "#cname=\"generation\"; c=1:length(outputs[:,xname]);\n",
    "#cname=\"Pelectric_net\"; c=outputs[:,cname]\n",
    "#cname=\"Ip aux [MA]\"; c=outputs[:,\"ip_aux\"];\n",
    "#cname=\"<zeff>\"; c=outputs[:,\"<zeff>\"];\n",
    "#cname=\"R0 [m]\"; c=outputs[:,\"R0\"];\n",
    "#cname=\"B0 [T]\"; c=outputs[:,\"B0\"];\n",
    "#cname=\"ip_ohm\"; c=outputs[:,cname]\n",
    "#cname=\"ip\"; c=outputs[:,cname]\n",
    "#cname=\"ip_bs_aux_ohm/ip\"; c=outputs[:,\"ip_bs_aux_ohm\"]./outputs[:,\"ip\"];\n",
    "cname=\"ip_bs_aux_ohm/ip\"; c=outputs[:,\"ip_bs_aux_ohm\"]./outputs[:,\"ip\"];\n",
    "cname=\"Ip aux [MA]\"; c=outputs[:,\"ip_aux\"]\n",
    "\n",
    "clim=(-Inf,Inf)\n",
    "\n",
    "\n",
    "# selection\n",
    "sname0=\"Pelectric_net\"; s0=outputs[:,sname0]\n",
    "sname1=\"ip_ohm\"; s1=outputs[:,sname1]\n",
    "sname2=\"B0\"; s2=outputs[:,sname2]\n",
    "\n",
    "# subselection criterion\n",
    "Δf=10.0\n",
    "n=length(x)\n",
    "index=1:n\n",
    "index=findall(  abs.(s0.-200).<Δf .&& (abs.(s1).<0.5) .&& (index.> 000))\n",
    "#index=findall( abs.(s0.-200).<Δf .&& (index.>0000))\n",
    "#index=findall( abs.(s0.-200).<Δf)\n",
    "#index=findall( (index.>n-1000))\n",
    "annot=map(x->(x, :center, 3, \"courier\"), index)\n",
    "\n",
    "# plotting\n",
    "println(\"$(length(index)) points\")\n",
    "scatter(x[index], y[index], marker_z=c[index] ,xlabel=xname, ylabel=yname, colorbar_title=cname, marker=:circle,\n",
    "    markersize=5, markerstrokewidth=0, label=\"\", clim=clim, alpha=0.5,\n",
    "#    series_annotations=annot,\n",
    "    aspect_ratio=:equal,\n",
    "    xlim=(0,Inf), ylim=(0,Inf))\n",
    "#    xlim=(0,10), ylim=(0,4.5))\n",
    "#    xlim=(0,10), ylim=(0,5))\n",
    "\n",
    "Plots.abline!(1, 0, line=:dash, label=\"\")\n",
    "\n",
    "#plot!(x[index], 0.67.*outputs[:,\"βpol\"])\n",
    "#plot!(x[index], 0.75.*outputs[:,\"βpol\"])"
   ]
  },
  {
   "cell_type": "code",
   "execution_count": null,
   "id": "a1466135-2ab9-4b33-807e-525fb8fe0f15",
   "metadata": {},
   "outputs": [],
   "source": [
    "n=9053\n",
    "dir=outputs[n,\"dir\"]\n",
    "#n=length(dirs)\n",
    "println(dir)\n",
    "dd,ini,act=FUSE.load(dir)\n",
    "FUSE.ActorCosting(dd,act;model=:ARIES)\n",
    "FUSE.digest(dd)"
   ]
  }
 ],
 "metadata": {
  "@webio": {
   "lastCommId": "fa0d930b-902c-4679-8394-14c63116ee2c",
   "lastKernelId": "7a6aab96-3689-4d4c-b084-36bdb7055423"
  },
  "kernelspec": {
   "display_name": "Julia (20 threads) 1.8.5",
   "language": "julia",
   "name": "julia-_20-threads_-1.8"
  },
  "language_info": {
   "file_extension": ".jl",
   "mimetype": "application/julia",
   "name": "julia",
   "version": "1.8.5"
  }
 },
 "nbformat": 4,
 "nbformat_minor": 5
}
