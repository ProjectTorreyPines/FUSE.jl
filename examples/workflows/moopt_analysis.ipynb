{
 "cells": [
  {
   "cell_type": "code",
   "execution_count": null,
   "id": "c8eb3e92-2476-439b-a771-6dd9a7003472",
   "metadata": {},
   "outputs": [],
   "source": [
    "import Revise\n",
    "import Interact\n",
    "using FUSE\n",
    "using Plots"
   ]
  },
  {
   "cell_type": "code",
   "execution_count": null,
   "id": "d3d046ee-27e6-4bcf-b821-279403c5f6d8",
   "metadata": {},
   "outputs": [],
   "source": [
    "extract = Dict(\n",
    "    :Paux => (dd, ini, act) -> ini.ec_launchers.power_launched / 1E6,\n",
    "    :zeff => (dd, ini, act) -> ini.core_profiles.zeff,\n",
    "    :κ => (dd, ini, act) -> ini.equilibrium.κ,\n",
    "    :δ => (dd, ini, act) -> ini.equilibrium.δ,\n",
    "    :ζ => (dd, ini, act) -> ini.equilibrium.ζ,\n",
    "    :B0 => (dd, ini, act) -> ini.equilibrium.B0,\n",
    "    :ip => (dd, ini, act) -> ini.equilibrium.ip / 1E6,\n",
    "    :R0 => (dd, ini, act) -> ini.equilibrium.R0,\n",
    "    :beta_n => (dd, ini, act) -> dd.equilibrium.time_slice[].global_quantities.beta_normal,\n",
    "    :Te0 => (dd, ini, act) -> dd.core_profiles.profiles_1d[].electrons.temperature[1],\n",
    "    :levelized_CoE => (dd, ini, act) -> dd.costing.levelized_CoE,\n",
    "    :Pfusion => (dd, ini, act) -> IMAS.fusion_power(dd.core_profiles.profiles_1d[]) / 1E6,\n",
    "    :Pelectric => (dd, ini, act) -> @ddtime(dd.balance_of_plant.power_electric_net) / 1E6,\n",
    "    :log10_flattop => (dd, ini, act) -> log10(dd.build.oh.flattop_duration / 3600.0)\n",
    ")\n",
    "\n",
    "path= \"/mnt/beegfs/users/meneghini/optimization_runs_supersimple_sms\"\n",
    "path= \"/mnt/beegfs/users/meneghini/optimization_runs_supersimple_NSGA2\"\n",
    "path= \"/mnt/beegfs/users/meneghini/optimization_runs_simple_NSGA2\"\n",
    "dirs = filter(isdir,sort(readdir(path; join=true)))\n",
    "println(length(dirs))\n",
    "dirs = filter(x->!isfile(joinpath(x,\"error.txt\")) && isfile(joinpath(x,\"dd.json\")),dirs)\n",
    "println(length(dirs))\n",
    "outputs=FUSE.load(dirs, [extract], filter_invalid=true)[1];"
   ]
  },
  {
   "cell_type": "code",
   "execution_count": null,
   "id": "ab0eab57-53c0-44df-be2d-90b97bd4b5cc",
   "metadata": {},
   "outputs": [],
   "source": [
    "scatter(outputs[:,\"Pelectric\"])\n",
    "display(hline!([200]))\n",
    "\n",
    "scatter(outputs[:,\"log10_flattop\"])\n",
    "display(hline!([1]))"
   ]
  },
  {
   "cell_type": "code",
   "execution_count": null,
   "id": "183d7bc9-cf71-41a0-9dad-2ecaf50f5c48",
   "metadata": {},
   "outputs": [],
   "source": [
    "plot([histogram(outputs[:,name],title=name,label=\"\") for name in names(outputs)]...)"
   ]
  },
  {
   "cell_type": "code",
   "execution_count": null,
   "id": "64e845fa-428b-4a10-9d36-dab9a0beea20",
   "metadata": {},
   "outputs": [],
   "source": [
    "# x axis\n",
    "xname=\"levelized_CoE\"\n",
    "x=outputs[:,xname]\n",
    "\n",
    "# y axis\n",
    "yname=\"beta_n\"\n",
    "y=outputs[:,yname]\n",
    "\n",
    "# color\n",
    "cname=\"Pelectric\"\n",
    "c=outputs[:,cname]\n",
    "clim=(-Inf,Inf)\n",
    "\n",
    "# subselection criterion\n",
    "s=outputs[:,\"Pelectric\"]\n",
    "n=1000.0\n",
    "index=findall(cc->cc>200-n && cc<200+n, s)#[200:end]\n",
    "#index=(1:length(x))[100:end]\n",
    "\n",
    "# plotting\n",
    "x,y,c,s=x[index], y[index], c[index], s[index]\n",
    "scatter(x, y, marker_z=c ,xlabel=xname, ylabel=yname, colorbar_title=cname, marker=:circle,\n",
    "    markersize=5, markerstrokewidth=0, label=\"\", clim=clim,alpha=0.5,xlim=(0,1))"
   ]
  },
  {
   "cell_type": "code",
   "execution_count": null,
   "id": "6beea17b-2dcd-4a01-8f48-79a77ce27355",
   "metadata": {},
   "outputs": [],
   "source": [
    "n=sortperm(c)[1]\n",
    "println(dirs[n])\n",
    "dd,ini,act=FUSE.load(dirs[n])\n",
    "plot(dd.equilibrium,cx=true)\n",
    "plot!(dd.build)\n",
    "#plot(dd.solid_mechanics.center_stack.stress)\n",
    "#dd.blanket\n",
    "#ini\n",
    "#plot(dd.core_profiles)\n",
    "#plot(dd.equilibrium)\n",
    "#(dd.costing)\n",
    "#dd.costing"
   ]
  },
  {
   "cell_type": "code",
   "execution_count": null,
   "id": "d4d2a99e-a58d-4a2f-b697-b0ccc4b4ee10",
   "metadata": {},
   "outputs": [],
   "source": []
  }
 ],
 "metadata": {
  "@webio": {
   "lastCommId": "a8883c24-ed74-409f-b90d-a73b6b6b5ada",
   "lastKernelId": "35442df2-d641-4216-9e76-7b2a16a55f65"
  },
  "kernelspec": {
   "display_name": "Julia (20 threads) 1.8.5",
   "language": "julia",
   "name": "julia-_20-threads_-1.8"
  },
  "language_info": {
   "file_extension": ".jl",
   "mimetype": "application/julia",
   "name": "julia",
   "version": "1.8.5"
  }
 },
 "nbformat": 4,
 "nbformat_minor": 5
}
