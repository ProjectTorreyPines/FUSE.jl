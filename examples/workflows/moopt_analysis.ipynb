{
 "cells": [
  {
   "cell_type": "markdown",
   "id": "c8eb3e92-2476-439b-a771-6dd9a7003472",
   "metadata": {},
   "source": [
    "# Multi objective optimization post-processing analysis"
   ]
  },
  {
   "cell_type": "code",
   "execution_count": null,
   "id": "b0776002",
   "metadata": {
    "tags": []
   },
   "outputs": [],
   "source": [
    "#import WarmupFUSE\n",
    "using FUSE\n",
    "using Plots"
   ]
  },
  {
   "cell_type": "code",
   "execution_count": null,
   "id": "6bca601d-1cd4-4035-ba80-2bcc7b8845df",
   "metadata": {
    "tags": []
   },
   "outputs": [],
   "source": [
    "path= \"/mnt/beegfs/users/meneghini/optimization_run_STEP_nodelta\"\n",
    "path= \"/mnt/beegfs/users/meneghini/optimization_run_STEP_nodelta_zerohm\"\n",
    "path= \"/mnt/beegfs/users/meneghini/optimization_run_STEP_nodelta_zerohm_expressions\"\n",
    "path= \"/mnt/beegfs/users/meneghini/optimization_run_STEP_nodelta_zerohm_expressions_jfix\"\n",
    "path= \"/mnt/beegfs/users/meneghini/optimization_run_STEP_nodelta_zerohm_expressions_jfix_noonetime\"\n",
    "path= \"/mnt/beegfs/users/meneghini/optimization_run_STEP_nodelta_zerohm_expressions_jfix_slvv\"\n",
    "path= \"/mnt/beegfs/users/meneghini/optimization_run_STEP_nodelta_zerohm_expressions_jfix_neo\"\n",
    "path= \"/mnt/beegfs/users/meneghini/optimization_run_STEP_nodelta_zerohm_expressions_jfix_neo_SMSEMOA\"\n",
    "path= \"/mnt/beegfs/users/meneghini/optimization_run_STEP_nodelta_zerohm_expressions_jfix_neo_SPEA2\"\n",
    "path= \"/mnt/beegfs/users/meneghini/optimization_run_STEP_nodelta_zerohm_expressions_jfix_neo_SPEA2_HCD\"\n",
    "path= \"optimization_run_LTSorHTS_ohtf\"\n",
    "path= \"optimization_run_LTSorHTS_ohtf_CCMO\"\n",
    "path= \"optimization_run_LTSorHTS_ohtf_fixHFS2\"\n",
    "path= \"optimization_run_LTSorHTS_ohtf_fixHFS_req\"\n",
    "path= \"optimization_run_LTSorHTS_ohtf_fixHFS_req_dens\"\n",
    "path= \"optimization_run_LTSorHTS_ohtf_fixHFS_req_dens_flattop\"\n",
    "path = \"optimization_run_LTSorHTS_ohtf_fixHFS_req_dens_flattop_fixHFSagain\""
   ]
  },
  {
   "cell_type": "code",
   "execution_count": null,
   "id": "8a265e17-01ad-4f1b-8e40-8f2e579d2923",
   "metadata": {
    "tags": []
   },
   "outputs": [],
   "source": [
    "IMAS.update_ExtractFunctionsLibrary!()\n",
    "# use this to regenerate CSV cache file\n",
    "all_dirs = filter(isdir,sort(readdir(path; join=true)))\n",
    "println(length(all_dirs))\n",
    "dirs = filter(x->!isfile(joinpath(x,\"error.txt\")) && isfile(joinpath(x,\"dd.json\")),all_dirs)#[1:100]\n",
    "println(length(dirs))\n",
    "outputs=FUSE.extract(dirs, filter_invalid=:cols);\n",
    "\n",
    "# cache extrated information to CSV file\n",
    "import DelimitedFiles\n",
    "DelimitedFiles.writedlm(joinpath(path,\"extract.csv\"), Iterators.flatten(([names(outputs)], eachrow(outputs))), ',')"
   ]
  },
  {
   "cell_type": "code",
   "execution_count": null,
   "id": "bb4403a3-9e14-414d-880b-accc5b95e0e3",
   "metadata": {
    "tags": []
   },
   "outputs": [],
   "source": [
    "# error analysis\n",
    "errors=FUSE.categorize_errors(all_dirs;do_plot=true,show_first_line=true)\n",
    "#println(read(\"optimization_run_LTSorHTS_ohtf/2023-04-28T11:34:32.300__3823851/error.txt\",String))"
   ]
  },
  {
   "cell_type": "code",
   "execution_count": null,
   "id": "6a279746-7c19-4cd6-a1da-12b1f644a326",
   "metadata": {},
   "outputs": [],
   "source": [
    "# use this to load CSV cache file\n",
    "outputs=FUSE.DataFrames.DataFrame(FUSE.CSV.File(joinpath(path,\"extract.csv\")));\n",
    "println(length(outputs[:,1]))"
   ]
  },
  {
   "cell_type": "code",
   "execution_count": null,
   "id": "e034d57e-c4a4-474b-8e4c-f0c3a54e2736",
   "metadata": {
    "tags": []
   },
   "outputs": [],
   "source": [
    "# this is just to list the fields that can be queried\n",
    "IMAS.ExtractFunctionsLibrary"
   ]
  },
  {
   "cell_type": "code",
   "execution_count": null,
   "id": "f285a28c-bd02-4f4a-852c-433cbf76b979",
   "metadata": {
    "tags": []
   },
   "outputs": [],
   "source": [
    "N=length(outputs[:,\"Pelectric_net\"])\n",
    "X=LinRange(1,N,50)\n",
    "\n",
    "histogram2d(outputs[:,\"Pelectric_net\"],bins=(X,LinRange(0,500,50)),ylabel=\"Pelectric net\", xlabel=\"Indiviuals\")\n",
    "#scatter!(outputs[:,\"Pelectric_net\"],ylim=(-500,500))\n",
    "display(hline!([200.0], ls=:dash, label=\"\"))\n",
    "\n",
    "histogram2d(outputs[:,\"ip_ohm\"],bins=(X,LinRange(-5,5,50)),ylabel=\"Ip ohmic\", xlabel=\"Indiviuals\")\n",
    "#scatter!(outputs[:,\"ip_ohm\"],ylim=(-50,50))\n",
    "display(hline!([0.0], ls=:dash, label=\"\"))\n",
    "\n",
    "cname=\"HTS\"; c=(outputs[:,\"TF_material\"].==\"ReBCO\").+(outputs[:,\"OH_material\"].==\"ReBCO\").*2.0;\n",
    "histogram2d(c,bins=(X,LinRange(-5,5,50)),ylabel=cname, xlabel=\"Indiviuals\")"
   ]
  },
  {
   "cell_type": "code",
   "execution_count": null,
   "id": "183d7bc9-cf71-41a0-9dad-2ecaf50f5c48",
   "metadata": {
    "tags": []
   },
   "outputs": [],
   "source": [
    "import Statistics\n",
    "for name in names(outputs)\n",
    "    if !(typeof(outputs[1,name]) <: Number) || all(isnan.(outputs[:,name]))\n",
    "        continue\n",
    "    end\n",
    "    y=outputs[:,name]\n",
    "    y_nonan=y[@. !isnan.(y)]\n",
    "    m=Statistics.median(y_nonan)\n",
    "    σ=Statistics.median(Statistics.median(abs.(y_nonan.-m)))*10\n",
    "    if σ != 0.0\n",
    "        display(histogram2d(y,bins=(X,LinRange(max(m-σ,minimum(y_nonan)),min(m+σ,maximum(y_nonan)),100)),ylabel=name))\n",
    "    end\n",
    "end"
   ]
  },
  {
   "cell_type": "code",
   "execution_count": null,
   "id": "e8a2ec98-300f-4169-877b-66ffc250884c",
   "metadata": {
    "tags": []
   },
   "outputs": [],
   "source": [
    "# x axis\n",
    "xname=\"capital_cost\"; x=outputs[:,xname]\n",
    "#xname=\"βpol\"; x=outputs[:,xname]\n",
    "#xname=\"Pec [MW]\"; x=outputs[:,\"Pec\"]\n",
    "\n",
    "# y axis\n",
    "yname=\"βn\"; y=outputs[:,yname]\n",
    "#yname=\"ip_bs/ip_bs_aux_ohm\"; y=outputs[:,\"ip_bs\"]./outputs[:,\"ip_bs_aux_ohm\"];\n",
    "#yname=\"Pec=R0*ne*ip_aux(5+zeff)/(Te*0.09)\"; y= @. outputs[:,\"<ne>\"]/1E20*outputs[:,\"R0\"]*outputs[:,\"ip_aux\"]*(5.0+outputs[:,\"<zeff>\"])/(0.09*outputs[:,\"<Te>\"])\n",
    "\n",
    "# z axis\n",
    "#zname=\"R0\"; z=outputs[:,zname]\n",
    "\n",
    "# color\n",
    "#cname=\"individual\"; c=1:length(outputs[:,xname]);clim=(1,Inf);\n",
    "#cname=\"log10(flattop)\"; c=log10.(outputs[:,\"flattop\"]);clim=(-Inf,Inf);\n",
    "#cname=\"Pelectric_net\"; c=outputs[:,cname];clim=(-Inf,Inf);\n",
    "#cname=\"Ip aux [MA]\"; c=outputs[:,\"ip_aux\"];clim=(-Inf,Inf);\n",
    "#cname=\"fGW\"; c=outputs[:,\"fGW\"];clim=(-Inf,Inf);\n",
    "#cname=\"<zeff>\"; c=outputs[:,\"<zeff>\"];clim=(-Inf,Inf);\n",
    "#cname=\"R0 [m]\"; c=outputs[:,\"R0\"];clim=(-Inf,Inf);\n",
    "cname=\"B0 [T]\"; c=outputs[:,\"B0\"];clim=(-Inf,Inf);\n",
    "#cname=\"ip_ohm\"; c=outputs[:,cname];clim=(-Inf,Inf);\n",
    "#cname=\"ip\"; c=outputs[:,cname];clim=(-Inf,Inf);\n",
    "#cname=\"Pec [MW]\"; c=outputs[:,\"Pec\"];clim=(-Inf,Inf);\n",
    "#cname=\"ip_bs_aux_ohm/ip\"; c=outputs[:,\"ip_bs_aux_ohm\"]./outputs[:,\"ip\"];clim=(-Inf,Inf);\n",
    "#cname=\"ip_ohm\"; c=abs.(outputs[:,\"ip_ohm\"]);clim=(-Inf,Inf);\n",
    "#cname=\"ip_bs_aux_ohm/ip\"; c=outputs[:,\"ip_bs_aux_ohm\"]./outputs[:,\"ip\"];clim=(-Inf,Inf);\n",
    "#cname=\"Ip aux [MA]\"; c=outputs[:,\"ip_aux\"];clim=(-Inf,Inf);\n",
    "\n",
    "cname=\"HTS\"; c=(outputs[:,\"TF_material\"].==\"ReBCO\").+(outputs[:,\"OH_material\"].==\"ReBCO\").*2.0; clim=(0,4)\n",
    "\n",
    "# selection\n",
    "sname0=\"Pelectric_net\"; s0=outputs[:,sname0]\n",
    "sname1=\"ip_ohm\"; s1=outputs[:,sname1]\n",
    "sname2=\"flattop\"; s2=outputs[:,sname2]\n",
    "\n",
    "# subselection criterion\n",
    "Δf=10\n",
    "Δohm=1000\n",
    "flattop=11.5\n",
    "n=length(x)\n",
    "index=1:n\n",
    "index=findall(  abs.(s0.-200).<Δf .&& (abs.(s1).<Δohm) .&& (s2.>flattop) .&& (index.> 0000))\n",
    "#index=findall( abs.(s0.-200).<Δf .&& (index.>0000))\n",
    "#index=findall( abs.(s0.-200).<Δf)\n",
    "#index=findall( (index.>n-1000))\n",
    "annot=map(x->(x, :center, 3, \"courier\"), index)\n",
    "\n",
    "# plotting\n",
    "println(\"$(length(index)) points\")\n",
    "scatter(x[index], y[index], marker_z=c[index] ,xlabel=xname, ylabel=yname, colorbar_title=cname, marker=:circle,\n",
    "    markersize=5, markerstrokewidth=0, label=\"\", clim=clim, alpha=0.5,\n",
    "#    series_annotations=annot,\n",
    "#    aspect_ratio=:equal,\n",
    "    xlim=(0,20), ylim=(0,Inf))\n",
    "#    xlim=(0,10), ylim=(0,4.5))\n",
    "#    xlim=(0,10), ylim=(0,5))\n",
    "\n",
    "pindex=index[FUSE.pareto_front([[x[index[k]],y[index[k]]] for k in 1:length(index)])]\n",
    "sort!(pindex,by=i->y[i])\n",
    "sort!(pindex,by=i->x[i])\n",
    "println(pindex)\n",
    "pannot=map(x->(\"\\n$x\", :right, 3, \"courier\", :red), pindex)\n",
    "plot!(x[pindex],y[pindex],series_annotations=pannot,color=:blue, label=\"pareto front\")"
   ]
  },
  {
   "cell_type": "code",
   "execution_count": null,
   "id": "cb894651-14d6-44b0-b9b4-1b5efe5b297c",
   "metadata": {
    "tags": []
   },
   "outputs": [],
   "source": [
    "n=3946\n",
    "dir=outputs[n,\"dir\"]\n",
    "#n=length(dirs)\n",
    "println(dir)\n",
    "dd,ini,act=FUSE.load(dir)\n",
    "#FUSE.ActorHFSsizing(dd,act;verbose=true)\n",
    "FUSE.digest(dd)\n",
    "#ini.requirements"
   ]
  },
  {
   "cell_type": "code",
   "execution_count": null,
   "id": "afb65ff8-4a2d-421f-8ed4-64584be16a27",
   "metadata": {},
   "outputs": [],
   "source": []
  }
 ],
 "metadata": {
  "@webio": {
   "lastCommId": "fa0d930b-902c-4679-8394-14c63116ee2c",
   "lastKernelId": "7a6aab96-3689-4d4c-b084-36bdb7055423"
  },
  "kernelspec": {
   "display_name": "Julia (20 threads) 1.8.5",
   "language": "julia",
   "name": "julia-_20-threads_-1.8"
  },
  "language_info": {
   "file_extension": ".jl",
   "mimetype": "application/julia",
   "name": "julia",
   "version": "1.8.5"
  }
 },
 "nbformat": 4,
 "nbformat_minor": 5
}
