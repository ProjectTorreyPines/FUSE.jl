{
 "cells": [
  {
   "cell_type": "markdown",
   "id": "cad80a9f",
   "metadata": {},
   "source": [
    "# MANTA use case"
   ]
  },
  {
   "cell_type": "code",
   "execution_count": null,
   "id": "25928791-9f99-45b2-97c6-344cf86a68c0",
   "metadata": {
    "tags": []
   },
   "outputs": [],
   "source": [
    "using Revise\n",
    "using FUSE\n",
    "using Plots;\n",
    "FUSE.logging(Logging.Info; actors=Logging.Info);"
   ]
  },
  {
   "cell_type": "code",
   "execution_count": null,
   "id": "c6dfc973-0a20-4e13-a532-6f3e940c9e00",
   "metadata": {
    "tags": []
   },
   "outputs": [],
   "source": [
    "chk = FUSE.Checkpoint();\n",
    "ini, act = FUSE.case_parameters(:MANTA)\n",
    "ini;"
   ]
  },
  {
   "cell_type": "code",
   "execution_count": null,
   "id": "501e4150-1642-42a3-90bb-75e4466050fb",
   "metadata": {
    "tags": []
   },
   "outputs": [],
   "source": [
    "dd = IMAS.dd()\n",
    "FUSE.init(dd, ini, act);"
   ]
  },
  {
   "cell_type": "code",
   "execution_count": null,
   "id": "6c613a8f-e883-48cc-8dad-4f3154d67df9",
   "metadata": {
    "tags": []
   },
   "outputs": [],
   "source": [
    "FUSE.ActorWholeFacility(dd,act)"
   ]
  },
  {
   "cell_type": "code",
   "execution_count": null,
   "id": "29e62547-1e12-4fa4-9b7f-e5ef239a5e01",
   "metadata": {
    "tags": []
   },
   "outputs": [],
   "source": [
    "CAD = FUSE.TraceCAD(:MANTA)\n",
    "plot(CAD, size=(900,900))\n",
    "plot!(dd.equilibrium, cx=true, color=:red)\n",
    "plot!(dd.build, wireframe=true, linewidth=2, color=:black)"
   ]
  },
  {
   "cell_type": "code",
   "execution_count": null,
   "id": "a07780cf-9b81-43bd-8321-aff70e493007",
   "metadata": {
    "tags": []
   },
   "outputs": [],
   "source": [
    "FUSE.digest(dd)"
   ]
  }
 ],
 "metadata": {
  "kernelspec": {
   "display_name": "Julia (8 threads) 1.10.0",
   "language": "julia",
   "name": "julia-_8-threads_-1.10"
  },
  "language_info": {
   "file_extension": ".jl",
   "mimetype": "application/julia",
   "name": "julia",
   "version": "1.10.0"
  }
 },
 "nbformat": 4,
 "nbformat_minor": 5
}
