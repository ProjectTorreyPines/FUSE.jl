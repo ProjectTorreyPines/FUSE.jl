{
 "cells": [
  {
   "cell_type": "markdown",
   "id": "cad80a9f",
   "metadata": {},
   "source": [
    "# K-DEMO use case"
   ]
  },
  {
   "cell_type": "code",
   "execution_count": null,
   "id": "25928791-9f99-45b2-97c6-344cf86a68c0",
   "metadata": {
    "tags": []
   },
   "outputs": [],
   "source": [
    "using FUSE\n",
    "using Plots;\n",
    "FUSE.logging(Logging.Info; actors=Logging.Info);"
   ]
  },
  {
   "cell_type": "code",
   "execution_count": null,
   "id": "eaaf74cc-61ce-4580-a7da-e878a9a4de57",
   "metadata": {
    "tags": []
   },
   "outputs": [],
   "source": [
    "ini, act = FUSE.case_parameters(:KDEMO)\n",
    "display(ini.equilibrium)"
   ]
  },
  {
   "cell_type": "code",
   "execution_count": null,
   "id": "d4f1cb5b-c630-4151-8c9f-8b11af11755f",
   "metadata": {
    "tags": []
   },
   "outputs": [],
   "source": [
    "@show ini.oh.technology, ini.tf.technology, ini.pf_active.technology\n",
    "# a note that this is ITER-like LTS"
   ]
  },
  {
   "cell_type": "code",
   "execution_count": null,
   "id": "89e9650d-e208-4a96-abca-900d32141bea",
   "metadata": {
    "tags": []
   },
   "outputs": [],
   "source": [
    "dd_LTS = FUSE.init(ini, act);"
   ]
  },
  {
   "cell_type": "code",
   "execution_count": null,
   "id": "5b7fb44e-7a56-4934-8f68-2f4d5379384e",
   "metadata": {
    "tags": []
   },
   "outputs": [],
   "source": [
    "dd = deepcopy(dd_LTS)\n",
    "\n",
    "act.ActorStabilityLimits.raise_on_breach = false\n",
    "act.ActorHFSsizing.error_on_technology = false\n",
    "\n",
    "FUSE.ActorWholeFacility(dd, act);"
   ]
  },
  {
   "cell_type": "code",
   "execution_count": null,
   "id": "a44ab81b-92dd-4d91-a349-b6e09d1745d5",
   "metadata": {
    "tags": []
   },
   "outputs": [],
   "source": [
    "# Make magnets HTS (ideally we get K-DEMO LTS magnet techonolgy parameters)\n",
    "ini.oh.technology = :HTS\n",
    "ini.tf.technology = :HTS\n",
    "ini.pf_active.technology = :HTS\n",
    "\n",
    "dd_HTS = FUSE.init(ini, act)\n",
    "act.ActorPFcoilsOpt.do_plot = true\n",
    "\n",
    "act.ActorHFSsizing.verbose = true\n",
    "\n",
    "FUSE.ActorWholeFacility(dd_HTS, act);"
   ]
  },
  {
   "cell_type": "code",
   "execution_count": null,
   "id": "ced4ed81-60f3-4ca7-bc5b-52f6f28fdfd8",
   "metadata": {
    "tags": []
   },
   "outputs": [],
   "source": [
    "FUSE.digest(dd_HTS)"
   ]
  },
  {
   "cell_type": "code",
   "execution_count": null,
   "id": "a9fca603-a505-41e0-9d08-2192e4c3d046",
   "metadata": {
    "tags": []
   },
   "outputs": [],
   "source": [
    "# Core transport according to turbulent and neoclassical fluxes with EPED H-mode at the edge\n",
    "\n",
    "act.ActorFluxMatcher.max_iterations = 300\n",
    "act.ActorFluxMatcher.evolve_pedestal = true\n",
    "act.ActorFluxMatcher.verbose = true\n",
    "act.ActorTGLF.user_specified_model = \"sat1_em_iter\"\n",
    "FUSE.ActorFluxMatcher(dd_HTS, act);"
   ]
  },
  {
   "cell_type": "code",
   "execution_count": null,
   "id": "8b852868-aeb2-426e-8149-00b176e8829b",
   "metadata": {
    "tags": []
   },
   "outputs": [],
   "source": [
    "FUSE.digest(dd_HTS, \"K DEMO using FUSE WholeFacility\")"
   ]
  }
 ],
 "metadata": {
  "kernelspec": {
   "display_name": "Julia 1.9.3",
   "language": "julia",
   "name": "julia-1.9"
  },
  "language_info": {
   "file_extension": ".jl",
   "mimetype": "application/julia",
   "name": "julia",
   "version": "1.9.3"
  }
 },
 "nbformat": 4,
 "nbformat_minor": 5
}
