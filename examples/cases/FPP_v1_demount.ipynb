{
 "cells": [
  {
   "cell_type": "markdown",
   "id": "74f43e27",
   "metadata": {},
   "source": [
    "# GA's FPP use case"
   ]
  },
  {
   "cell_type": "code",
   "execution_count": null,
   "id": "038c65a1-369e-487b-a4ea-1d0fe33b3173",
   "metadata": {
    "tags": []
   },
   "outputs": [],
   "source": [
    "using Revise\n",
    "using FUSE\n",
    "using Plots; gr();\n",
    "FUSE.logging(Logging.Info);"
   ]
  },
  {
   "cell_type": "markdown",
   "id": "da0f26c9-5b95-446c-ba11-e3044ed62f7b",
   "metadata": {
    "tags": []
   },
   "source": [
    "### Get `ini` and `act` for FPP use case starting from scalars and taking the result from STEP in OMFIT (:ods)\n",
    "* [ini documentation](https://fuse.help/ini.html)\n",
    "* [act documentation](https://fuse.help/act.html)"
   ]
  },
  {
   "cell_type": "code",
   "execution_count": null,
   "id": "e07fc683-3be0-4109-b81a-ed4346870fe6",
   "metadata": {
    "tags": []
   },
   "outputs": [],
   "source": [
    "ini, act = FUSE.case_parameters(:FPP; version=:v1_demount, init_from=:scalars);\n",
    "ini_ods, act_ods = FUSE.case_parameters(:FPP; version=:v1_demount, init_from=:ods);"
   ]
  },
  {
   "cell_type": "markdown",
   "id": "4fa66465-5632-464e-bae7-1cb8a01ee88b",
   "metadata": {},
   "source": [
    "### Customize `ini` (or `act`) parameters"
   ]
  },
  {
   "cell_type": "code",
   "execution_count": null,
   "id": "f49310e6-43d5-47a6-8829-f7e864b9e1a0",
   "metadata": {
    "tags": []
   },
   "outputs": [],
   "source": [
    "# See the content of ini\n",
    "# ini.equilibrium.ζ = 0.15 # bump up squareness (requires CHEASE)\n",
    "ini"
   ]
  },
  {
   "cell_type": "code",
   "execution_count": null,
   "id": "29a1484e-4dfe-49da-b08c-34d59e98c93b",
   "metadata": {
    "tags": []
   },
   "outputs": [],
   "source": [
    "# See the content of act\n",
    "# act.ActorEquilibrium.model = :CHEASE # use CHEASE?\n",
    "act"
   ]
  },
  {
   "cell_type": "markdown",
   "id": "8d3c3029-de8e-4541-b62b-20bd39f609e5",
   "metadata": {},
   "source": [
    "### Initialize `dd` based on the `ini` and `act` parameters\n",
    "\n",
    "* [Data structure (dd) documentation](https://fuse.help/dd.html)"
   ]
  },
  {
   "cell_type": "code",
   "execution_count": null,
   "id": "151c4028-bca2-4fe4-80a6-e4543b7c0eec",
   "metadata": {
    "tags": []
   },
   "outputs": [],
   "source": [
    "dd = IMAS.dd()\n",
    "FUSE.init(dd, ini, act; do_plot=true);"
   ]
  },
  {
   "cell_type": "markdown",
   "id": "0b1009eb",
   "metadata": {},
   "source": [
    "### Run the coupled equilibrium-transport actor \n",
    "\n",
    "* [Equilibrium Transport actor documentation](https://fuse.help/actors.html#EquilibriumTransport)"
   ]
  },
  {
   "cell_type": "code",
   "execution_count": null,
   "id": "93501657-ddab-412b-8fc9-66bd009d10c6",
   "metadata": {},
   "outputs": [],
   "source": [
    "# look at what parameters for example ActorEquilibriumTransport and ActorTauenn use\n",
    "display(act.ActorEquilibriumTransport)\n",
    "display(act.ActorTauenn)\n",
    "\n",
    "# look at the details some of these parameters\n",
    "display(act.ActorTauenn[:temp_pedestal_ratio])\n",
    "\n",
    "# modify parameters\n",
    "act.ActorTauenn.temp_pedestal_ratio = 0.9;"
   ]
  },
  {
   "cell_type": "code",
   "execution_count": null,
   "id": "7793d4e1",
   "metadata": {},
   "outputs": [],
   "source": [
    "# run the actor\n",
    "FUSE.ActorEquilibriumTransport(dd, act; do_plot=true);"
   ]
  },
  {
   "cell_type": "markdown",
   "id": "5766629f-7ab7-4a0d-a053-ff7158166609",
   "metadata": {},
   "source": [
    "### Initialize FPP case from STEP"
   ]
  },
  {
   "cell_type": "code",
   "execution_count": null,
   "id": "8dfa8a7a-3494-483d-bd6f-977ce86137f8",
   "metadata": {
    "tags": []
   },
   "outputs": [],
   "source": [
    "dd_ods = IMAS.dd()\n",
    "FUSE.init(dd_ods, ini_ods, act_ods; do_plot=true);"
   ]
  },
  {
   "cell_type": "code",
   "execution_count": null,
   "id": "6b645c91-efd4-4bdf-8eeb-f7d5b5884135",
   "metadata": {
    "tags": []
   },
   "outputs": [],
   "source": [
    "dd_ods = IMAS.dd()\n",
    "FUSE.init(dd_ods, ini_ods, act_ods; do_plot=true);\n",
    "dd_ods.core_profiles.global_quantities.ejima = [0.4]\n",
    "\n",
    "# Running whole facility without transport as this was carefuly done in STEP to obtain the ITB scenario\n",
    "\n",
    "# Solvev into CHEASE to form the x-point from an equilibrium without x-points\n",
    "act_ods.ActorEquilibrium.model = :Solovev\n",
    "FUSE.ActorEquilibrium(dd_ods,act_ods)\n",
    "act_ods.ActorEquilibrium.model = :CHEASE\n",
    "FUSE.ActorEquilibrium(dd_ods,act_ods)\n",
    "\n",
    "FUSE.ActorHFSsizing(dd_ods,act_ods)\n",
    "FUSE.ActorLFSsizing(dd_ods,act_ods)\n",
    "FUSE.ActorCXbuild(dd_ods, act_ods)\n",
    "FUSE.ActorNeutronics(dd_ods,act_ods)\n",
    "FUSE.ActorBlanket(dd_ods,act_ods)\n",
    "FUSE.ActorDivertors(dd_ods,act_ods)\n",
    "FUSE.ActorBalanceOfPlant(dd_ods,act_ods)\n",
    "plot(dd_ods.build)\n",
    "display(plot!(dd_ods.equilibrium,cx=true))\n",
    "plot(dd_ods.core_profiles)\n",
    "println(\"Total net electricity out of this ITB FPP case from running STEP transport-equilibrium $(round(dd_ods.balance_of_plant.power_electric_net[1]/1e6)) MWe\")"
   ]
  }
 ],
 "metadata": {
  "@webio": {
   "lastCommId": "20953e41-6152-47ae-bbae-e74c5f38afa5",
   "lastKernelId": "553e8d43-e71f-4016-b614-fbf1b6be5364"
  },
  "kernelspec": {
   "display_name": "Julia 1.8.5",
   "language": "julia",
   "name": "julia-1.8"
  },
  "language_info": {
   "file_extension": ".jl",
   "mimetype": "application/julia",
   "name": "julia",
   "version": "1.8.5"
  }
 },
 "nbformat": 4,
 "nbformat_minor": 5
}
