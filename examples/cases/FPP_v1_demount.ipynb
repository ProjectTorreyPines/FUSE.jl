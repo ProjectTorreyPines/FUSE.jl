{
 "cells": [
  {
   "cell_type": "code",
   "execution_count": null,
   "id": "038c65a1-369e-487b-a4ea-1d0fe33b3173",
   "metadata": {},
   "outputs": [],
   "source": [
    "# Initalization of FUSE in this juptyer notebook\n",
    "using Pkg\n",
    "Pkg.activate(\"..\")\n",
    "using Revise\n",
    "using FUSE\n",
    "using Plots; gr();"
   ]
  },
  {
   "cell_type": "markdown",
   "id": "da0f26c9-5b95-446c-ba11-e3044ed62f7b",
   "metadata": {},
   "source": [
    "### Setting up initalization parameters => ini \n",
    "\n",
    "[ini documentation in the FUSE documentation](https://fuse.help/ini.html)\n",
    "\n",
    "Changing Zeff from 1.1 to 2.0 improves confinement significantly due to the pedestal increase!\n",
    "\n"
   ]
  },
  {
   "cell_type": "code",
   "execution_count": null,
   "id": "e06e39d9-436a-4235-93b4-705145f901d5",
   "metadata": {},
   "outputs": [],
   "source": [
    "ini, act = FUSE.case_parameters(:FPP; version=:v1_demount, init_from=:scalars);\n",
    "ini.core_profiles.zeff = 2.0;"
   ]
  },
  {
   "cell_type": "markdown",
   "id": "8d3c3029-de8e-4541-b62b-20bd39f609e5",
   "metadata": {},
   "source": [
    "### Initalization of a new dd datastructure\n",
    "\n",
    "[Data structure (dd) documentation](https://fuse.help/dd.html)\n",
    "\n"
   ]
  },
  {
   "cell_type": "code",
   "execution_count": null,
   "id": "2ecf5fd7-755f-4b02-a511-8515d88c2c37",
   "metadata": {},
   "outputs": [],
   "source": [
    "dd = IMAS.dd()\n",
    "\n",
    "# Fill the new datastructure using the ini parameters\n",
    "FUSE.init(dd, ini, act; do_plot=true);\n"
   ]
  },
  {
   "cell_type": "code",
   "execution_count": null,
   "id": "a95e207c-3748-48c9-96b8-7282459c6e66",
   "metadata": {},
   "outputs": [],
   "source": [
    "@show dd.equilibrium.time_slice[].global_quantities.beta_normal\n",
    "actor =FUSE.ActorSolovev(dd,act)\n",
    "actor.eq\n",
    "\n",
    "plot(dd.equilibrium)\n",
    "@show dd.equilibrium.time_slice[].global_quantities.beta_normal\n",
    "\n"
   ]
  },
  {
   "cell_type": "markdown",
   "id": "0b1009eb",
   "metadata": {},
   "source": [
    "## Run the equilibrium - transport actor \n",
    "\n",
    "[Equilibrium Transport actor documentation](https://fuse.help/actors.html#EquilibriumTransport)\n",
    "\n"
   ]
  },
  {
   "cell_type": "code",
   "execution_count": null,
   "id": "7793d4e1",
   "metadata": {},
   "outputs": [],
   "source": [
    "FUSE.ActorEquilibriumTransport(dd, act; do_plot=true);"
   ]
  }
 ],
 "metadata": {
  "kernelspec": {
   "display_name": "Julia 1.7.1",
   "language": "julia",
   "name": "julia-1.7"
  },
  "language_info": {
   "file_extension": ".jl",
   "mimetype": "application/julia",
   "name": "julia",
   "version": "1.7.1"
  }
 },
 "nbformat": 4,
 "nbformat_minor": 5
}
