{
 "cells": [
  {
   "cell_type": "markdown",
   "id": "cad80a9f",
   "metadata": {},
   "source": [
    "# STEP use case"
   ]
  },
  {
   "cell_type": "code",
   "execution_count": null,
   "id": "25928791-9f99-45b2-97c6-344cf86a68c0",
   "metadata": {
    "tags": []
   },
   "outputs": [],
   "source": [
    "using FUSE\n",
    "using Plots;\n",
    "FUSE.logging(Logging.Info; actors=Logging.Info);"
   ]
  },
  {
   "cell_type": "code",
   "execution_count": null,
   "id": "eaaf74cc-61ce-4580-a7da-e878a9a4de57",
   "metadata": {
    "tags": []
   },
   "outputs": [],
   "source": [
    "chk = FUSE.Checkpoint();\n",
    "ini, act = FUSE.case_parameters(:STEP)\n",
    "act.ActorEquilibrium.model=:Solovev\n",
    "ini;"
   ]
  },
  {
   "cell_type": "code",
   "execution_count": null,
   "id": "799d6fbc-a158-4ec1-8b81-ec0695237a47",
   "metadata": {
    "tags": []
   },
   "outputs": [],
   "source": [
    "dd = IMAS.dd()\n",
    "FUSE.init(dd, ini, act);"
   ]
  },
  {
   "cell_type": "code",
   "execution_count": null,
   "id": "29e62547-1e12-4fa4-9b7f-e5ef239a5e01",
   "metadata": {
    "tags": []
   },
   "outputs": [],
   "source": [
    "plot(dd.equilibrium;cx=true)\n",
    "plot!(dd.build)\n",
    "plot!(dd.pf_active)"
   ]
  },
  {
   "cell_type": "code",
   "execution_count": null,
   "id": "a07780cf-9b81-43bd-8321-aff70e493007",
   "metadata": {
    "tags": []
   },
   "outputs": [],
   "source": [
    "FUSE.digest(dd)"
   ]
  }
 ],
 "metadata": {
  "kernelspec": {
   "display_name": "Julia (8 threads) 1.9.4",
   "language": "julia",
   "name": "julia-_8-threads_-1.9"
  },
  "language_info": {
   "file_extension": ".jl",
   "mimetype": "application/julia",
   "name": "julia",
   "version": "1.9.4"
  }
 },
 "nbformat": 4,
 "nbformat_minor": 5
}
