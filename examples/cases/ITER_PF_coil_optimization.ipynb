{
 "cells": [
  {
   "cell_type": "markdown",
   "id": "a94d2fc3-c5ad-41e8-8706-5bc53b9f984a",
   "metadata": {},
   "source": [
    "## ITER Poloidal Field coil optimization example"
   ]
  },
  {
   "cell_type": "code",
   "execution_count": null,
   "id": "2c0ebbc2-53d3-4e91-8d33-e1babaa0f374",
   "metadata": {
    "tags": []
   },
   "outputs": [],
   "source": [
    "using Pkg\n",
    "Pkg.activate(\"..\")\n",
    "using Revise\n",
    "using FUSE\n",
    "using Plots; gr();"
   ]
  },
  {
   "cell_type": "markdown",
   "id": "240d42c6-7c71-4ab4-8699-7920ab625438",
   "metadata": {},
   "source": [
    "### Initialization of the ITER, dd,ini,act"
   ]
  },
  {
   "cell_type": "code",
   "execution_count": null,
   "id": "2c2e2bf4-519d-4ab4-9cb3-38c8f461e8a3",
   "metadata": {},
   "outputs": [],
   "source": [
    "dd, ini, act = FUSE.init(:ITER, init_from=:ods, do_plot=true);"
   ]
  },
  {
   "cell_type": "markdown",
   "id": "24f7d71e-e269-4196-b4bf-ea1fb749d492",
   "metadata": {},
   "source": [
    "### Run the SteadyStateCurrent actor in order to estimate how much ohmic current will be required during flattop\n",
    "[SteadyStateCurrent actor](https://fuse.help/actors.html#SteadyStateCurrent)\n"
   ]
  },
  {
   "cell_type": "code",
   "execution_count": null,
   "id": "42c2a46b-c9bf-46e2-8958-80a49a79b2de",
   "metadata": {},
   "outputs": [],
   "source": [
    "FUSE.ActorSteadyStateCurrent(dd,act);"
   ]
  },
  {
   "cell_type": "markdown",
   "id": "1636ea43-730b-41b0-8b9d-2d3a7edb7606",
   "metadata": {},
   "source": [
    "### Estimate how much flux is required during start-up\n",
    "[FluxSwing actor](https://fuse.help/actors.html#FluxSwing)\n",
    "\n"
   ]
  },
  {
   "cell_type": "code",
   "execution_count": null,
   "id": "857a0e78-02e1-431b-80bf-d8b0cfddf7b7",
   "metadata": {},
   "outputs": [],
   "source": [
    "FUSE.ActorFluxSwing(dd,act; operate_at_j_crit=true,j_tolerance=0.0)\n",
    "# critial_j shoudl be the same as max_j\n",
    "dd.build.oh\n",
    "# Estimated flattop durration at maximum oh current operation suggests that ITER can run for 3500 seconds! "
   ]
  },
  {
   "cell_type": "markdown",
   "id": "3db0b2c3-58a1-4130-8568-5c78a8189d01",
   "metadata": {},
   "source": [
    "### Plot FUSE build on top of ARC drawing\n"
   ]
  },
  {
   "cell_type": "code",
   "execution_count": null,
   "id": "05c87f00-9959-4c98-aa19-49b3c1a92472",
   "metadata": {},
   "outputs": [],
   "source": [
    "FUSE.init_pf_active(dd,ini,act)\n",
    "#plot(dd.pf_active)\n",
    "#act.ActorPFcoilsOpt[:optimization_scheme]\n",
    "FUSE.ActorPFcoilsOpt(dd,act;optimization_scheme=:currents,do_plot=true);"
   ]
  },
  {
   "cell_type": "code",
   "execution_count": null,
   "id": "3b7af7cb-beaa-419b-b0a4-14f1f5de2889",
   "metadata": {},
   "outputs": [],
   "source": []
  }
 ],
 "metadata": {
  "kernelspec": {
   "display_name": "Julia 1.7.1",
   "language": "julia",
   "name": "julia-1.7"
  },
  "language_info": {
   "file_extension": ".jl",
   "mimetype": "application/julia",
   "name": "julia",
   "version": "1.7.1"
  }
 },
 "nbformat": 4,
 "nbformat_minor": 5
}
