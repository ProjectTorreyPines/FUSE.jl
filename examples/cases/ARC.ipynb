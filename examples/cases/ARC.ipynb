{
 "cells": [
  {
   "cell_type": "markdown",
   "id": "a94d2fc3-c5ad-41e8-8706-5bc53b9f984a",
   "metadata": {},
   "source": [
    "## Validation of the transport, equilibrium workflow example "
   ]
  },
  {
   "cell_type": "code",
   "execution_count": null,
   "id": "2c0ebbc2-53d3-4e91-8d33-e1babaa0f374",
   "metadata": {
    "tags": []
   },
   "outputs": [],
   "source": [
    "using Pkg\n",
    "Pkg.activate(\"..\")\n",
    "using Revise\n",
    "using FUSE\n",
    "using Plots; gr();"
   ]
  },
  {
   "cell_type": "markdown",
   "id": "240d42c6-7c71-4ab4-8699-7920ab625438",
   "metadata": {},
   "source": [
    "### Initialize ARC: dd,ini,act"
   ]
  },
  {
   "cell_type": "code",
   "execution_count": null,
   "id": "2c2e2bf4-519d-4ab4-9cb3-38c8f461e8a3",
   "metadata": {},
   "outputs": [],
   "source": [
    "dd, ini, act = FUSE.init(:ARC, do_plot=true);"
   ]
  },
  {
   "cell_type": "markdown",
   "id": "3db0b2c3-58a1-4130-8568-5c78a8189d01",
   "metadata": {},
   "source": [
    "### Plot FUSE build on top of ARC drawing\n"
   ]
  },
  {
   "cell_type": "code",
   "execution_count": null,
   "id": "06a93cd9-87d9-4bfd-9985-dc2fb2195192",
   "metadata": {},
   "outputs": [],
   "source": [
    "CAD=FUSE.TraceCAD(:ARC)\n",
    "plot(CAD,size=(900,900))\n",
    "plot!(dd.equilibrium.time_slice[], color=:red)\n",
    "plot!(dd.build, wireframe=true, linewidth=2, color=:black)"
   ]
  }
 ],
 "metadata": {
  "kernelspec": {
   "display_name": "Julia 1.7.1",
   "language": "julia",
   "name": "julia-1.7"
  },
  "language_info": {
   "file_extension": ".jl",
   "mimetype": "application/julia",
   "name": "julia",
   "version": "1.7.1"
  }
 },
 "nbformat": 4,
 "nbformat_minor": 5
}
