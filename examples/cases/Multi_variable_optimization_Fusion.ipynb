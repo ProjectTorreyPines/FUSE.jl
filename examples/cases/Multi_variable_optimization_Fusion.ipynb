{
 "cells": [
  {
   "cell_type": "markdown",
   "id": "a94d2fc3-c5ad-41e8-8706-5bc53b9f984a",
   "metadata": {},
   "source": [
    "## Multi variable optimization to find maximum fusion power"
   ]
  },
  {
   "cell_type": "code",
   "execution_count": null,
   "id": "2c0ebbc2-53d3-4e91-8d33-e1babaa0f374",
   "metadata": {
    "tags": []
   },
   "outputs": [],
   "source": [
    "using Pkg\n",
    "Pkg.activate(\"..\")\n",
    "using Revise\n",
    "using FUSE\n",
    "using Plots; gr();"
   ]
  },
  {
   "cell_type": "markdown",
   "id": "240d42c6-7c71-4ab4-8699-7920ab625438",
   "metadata": {},
   "source": [
    "### bla"
   ]
  },
  {
   "cell_type": "code",
   "execution_count": null,
   "id": "2c2e2bf4-519d-4ab4-9cb3-38c8f461e8a3",
   "metadata": {},
   "outputs": [],
   "source": [
    "# Setting up multi variable optimization"
   ]
  },
  {
   "cell_type": "markdown",
   "id": "80aebb7e-71f8-4d66-973a-78b9603683c7",
   "metadata": {},
   "source": [
    "### Comment on the results"
   ]
  }
 ],
 "metadata": {
  "kernelspec": {
   "display_name": "Julia 1.7.1",
   "language": "julia",
   "name": "julia-1.7"
  },
  "language_info": {
   "file_extension": ".jl",
   "mimetype": "application/julia",
   "name": "julia",
   "version": "1.7.1"
  }
 },
 "nbformat": 4,
 "nbformat_minor": 5
}
