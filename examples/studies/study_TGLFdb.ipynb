{
 "cells": [
  {
   "cell_type": "code",
   "execution_count": null,
   "id": "d61dcfdb-a638-4a59-adf3-df98849c1bcd",
   "metadata": {
    "tags": []
   },
   "outputs": [],
   "source": [
    "using Revise\n",
    "using FUSE\n",
    "using Plots;\n",
    "FUSE.logging(Logging.Info; actors=Logging.Info);\n"
   ]
  },
  {
   "cell_type": "code",
   "execution_count": null,
   "id": "80329df2-2ece-4100-a31e-acde250e6988",
   "metadata": {
    "tags": []
   },
   "outputs": [],
   "source": [
    "# sty is the act equivalent for a study, it has common parameters like server and n_workers but also study dependent parameters like TGLF saturation rules\n",
    "sty,act = FUSE.study_parameters(:TGLFdb);\n",
    "sty"
   ]
  },
  {
   "cell_type": "code",
   "execution_count": null,
   "id": "d984ab89-239b-46c9-add5-8424aefc3753",
   "metadata": {
    "tags": []
   },
   "outputs": [],
   "source": [
    "# Interacting with sty\n",
    "sty.server = \"localhost\"\n",
    "sty.n_workers = 2\n",
    "\n",
    "sty.database_folder = <Your database folder>\n",
    "\n",
    "sty.save_folder = <Your save folder>\n",
    "sty.sat_rules = [:sat1,:sat2,:sat3] #study specific parameters\n",
    "# It's also possible to run with a custom tglfnn model, set sty.custom_tglf_models\n",
    "sty.release_workers_after_run = true # this is the default behavior and releases workers after running the study\n",
    "sty"
   ]
  },
  {
   "cell_type": "code",
   "execution_count": null,
   "id": "3b903794-8aca-4bd1-9e7c-738acad84ad7",
   "metadata": {
    "tags": []
   },
   "outputs": [],
   "source": [
    "# study is the actor equivalent of actors, here sty, act and outputs are kept of the workflow\n",
    "study = FUSE.StudyTGLFdb(sty, act; n_workers=2); # it is possible to pass in keyword arguments to sty\n",
    "\n",
    "# instantiating the study will also setup the study i.e. FUSE.setup(study);"
   ]
  },
  {
   "cell_type": "code",
   "execution_count": null,
   "id": "4d3741c5-6fc6-4d33-ad74-680a8de95aab",
   "metadata": {
    "tags": []
   },
   "outputs": [],
   "source": [
    "# for now you will have to import FUSE everywhere in your distributed computing\n",
    "using Distributed\n",
    "@everywhere import FUSE\n"
   ]
  },
  {
   "cell_type": "code",
   "execution_count": null,
   "id": "70c0d4f1-0af2-48ea-97b7-e394887ec394",
   "metadata": {
    "tags": []
   },
   "outputs": [],
   "source": [
    "study.act.ActorFluxMatcher.evolve_rotation = :flux_match\n",
    "study.act.ActorFluxMatcher"
   ]
  },
  {
   "cell_type": "code",
   "execution_count": null,
   "id": "94ec7cfc-9324-47b8-b387-5b0b15800359",
   "metadata": {
    "tags": []
   },
   "outputs": [],
   "source": [
    "FUSE.run(study);   # runs the study, this also writes the dataframes\n",
    "\n",
    "# at the end of the run workers are released so you will have to setup again if you want to run more"
   ]
  },
  {
   "cell_type": "code",
   "execution_count": null,
   "id": "176195de-8c49-49ec-bdab-f30ff5e6bc2a",
   "metadata": {
    "tags": []
   },
   "outputs": [],
   "source": [
    "# data for this workflow is stored in a dictionary of dataframes study.dataframes_dict\n",
    "study.dataframes_dict[:sat1]\n",
    "\n"
   ]
  },
  {
   "cell_type": "code",
   "execution_count": null,
   "id": "5640d434-e3e6-4d0e-979f-238c3846280a",
   "metadata": {
    "tags": []
   },
   "outputs": [],
   "source": [
    "# analyze the study results \n",
    "FUSE.analyze(study);\n",
    "\n"
   ]
  }
 ],
 "metadata": {
  "kernelspec": {
   "display_name": "Julia 1.10.0",
   "language": "julia",
   "name": "julia-1.10"
  },
  "language_info": {
   "file_extension": ".jl",
   "mimetype": "application/julia",
   "name": "julia",
   "version": "1.10.0"
  }
 },
 "nbformat": 4,
 "nbformat_minor": 5
}
