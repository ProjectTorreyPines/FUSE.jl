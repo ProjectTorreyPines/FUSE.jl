{
 "cells": [
  {
   "cell_type": "code",
   "execution_count": null,
   "id": "d61dcfdb-a638-4a59-adf3-df98849c1bcd",
   "metadata": {
    "tags": []
   },
   "outputs": [],
   "source": [
    "using Revise\n",
    "using FUSE\n",
    "using Plots;\n",
    "FUSE.logging(Logging.Info; actors=Logging.Info);\n"
   ]
  },
  {
   "cell_type": "code",
   "execution_count": null,
   "id": "80329df2-2ece-4100-a31e-acde250e6988",
   "metadata": {
    "tags": []
   },
   "outputs": [],
   "source": [
    "# sty is the act equivalent for a study, it has common parameters like server and n_workers but also study dependent parameters like TGLF saturation rules\n",
    "sty,act = FUSE.study_parameters(:TGLFdb);\n",
    "sty"
   ]
  },
  {
   "cell_type": "code",
   "execution_count": null,
   "id": "d984ab89-239b-46c9-add5-8424aefc3753",
   "metadata": {
    "tags": []
   },
   "outputs": [],
   "source": [
    "# Interacting with sty\n",
    "sty.server = \"saga\"\n",
    "sty.n_workers = 20\n",
    "\n",
    "sty.database_folder = \"/mnt/beegfs/users/neisert/ODSs/iri/full_166066\" #166066\" #mastu_test\" #d3d_negDcake_oak\"#\"/mnt/beegfs/users/neisert/ODSs/mastu\"\n",
    "\n",
    "sty.save_folder = \"/mnt/beegfs/users/neisert/ODSs/iri/full_166066/outputs_rho_0p1_0p05_0p85_rot\" #\"/mnt/beegfs/users/neisert/ODSs/mastu/outputs_sat1_es_d3d\"\n",
    "sty.sat_rules = missing #[:sat2]#,:sat1,:sat2,:sat3] #study specific parameters\n",
    "# It's also possible to run with a custom tglfnn model, set sty.custom_tglf_models\n",
    "sty.custom_tglf_models = [\"sat1_em_d3d\"]\n",
    "sty.file_save_mode = :safe_write\n",
    "sty.release_workers_after_run = true # this is the default behavior and releases workers after running the study\n",
    "sty"
   ]
  },
  {
   "cell_type": "code",
   "execution_count": null,
   "id": "3b903794-8aca-4bd1-9e7c-738acad84ad7",
   "metadata": {
    "tags": []
   },
   "outputs": [],
   "source": [
    "# study is the actor equivalent of actors, here sty, act and outputs are kept of the workflow\n",
    "study = FUSE.StudyTGLFdb(sty, act; n_workers=20); # it is possible to pass in keyword arguments to sty\n",
    "\n",
    "# instantiating the study will also setup the study i.e. FUSE.setup(study);"
   ]
  },
  {
   "cell_type": "code",
   "execution_count": null,
   "id": "4d3741c5-6fc6-4d33-ad74-680a8de95aab",
   "metadata": {
    "tags": []
   },
   "outputs": [],
   "source": [
    "# for now you will have to import FUSE everywhere in your distributed computing\n",
    "using Distributed\n",
    "@everywhere import FUSE\n"
   ]
  },
  {
   "cell_type": "code",
   "execution_count": null,
   "id": "70c0d4f1-0af2-48ea-97b7-e394887ec394",
   "metadata": {
    "tags": []
   },
   "outputs": [],
   "source": [
    "study.act.ActorFluxMatcher.evolve_rotation = :flux_match\n",
    "study.act.ActorFluxMatcher.rho_transport = 0.1:0.05:0.85\n",
    "# density is evolved now by default with impurities fixed\n",
    "#=study.act.ActorFluxMatcher.evolve_densities = Dict(\n",
    "    :D        => :quasi_neutrality,\n",
    "    :D_fast   => :fixed,\n",
    "    :C        => :fixed,\n",
    "    :electrons => :flux_match)\n",
    "=#\n",
    "study.act.ActorFluxMatcher"
   ]
  },
  {
   "cell_type": "code",
   "execution_count": null,
   "id": "94ec7cfc-9324-47b8-b387-5b0b15800359",
   "metadata": {
    "tags": []
   },
   "outputs": [],
   "source": [
    "FUSE.run(study);   # runs the study, this also writes the dataframes\n",
    "\n",
    "# at the end of the run workers are released so you will have to setup again if you want to run more"
   ]
  },
  {
   "cell_type": "code",
   "execution_count": null,
   "id": "176195de-8c49-49ec-bdab-f30ff5e6bc2a",
   "metadata": {
    "tags": []
   },
   "outputs": [],
   "source": [
    "# data for this workflow is stored in a dictionary of dataframes study.dataframes_dict\n",
    "#study.dataframes_dict[:sat1]\n",
    "#study.dataframes_dict[\"sat1_es_d3d\"]\n",
    "\n",
    "study.dataframes_dict[\"sat1_em_d3d\"]# \"sat3_em_d3d_azf1\"]"
   ]
  },
  {
   "cell_type": "code",
   "execution_count": null,
   "id": "5640d434-e3e6-4d0e-979f-238c3846280a",
   "metadata": {
    "tags": []
   },
   "outputs": [],
   "source": [
    "# analyze the study results \n",
    "FUSE.analyze(study);"
   ]
  }
 ],
 "metadata": {
  "kernelspec": {
   "display_name": "Julia (20 threads) 1.10.0",
   "language": "julia",
   "name": "julia-_20-threads_-1.10"
  },
  "language_info": {
   "file_extension": ".jl",
   "mimetype": "application/julia",
   "name": "julia",
   "version": "1.10.0"
  }
 },
 "nbformat": 4,
 "nbformat_minor": 5
}
