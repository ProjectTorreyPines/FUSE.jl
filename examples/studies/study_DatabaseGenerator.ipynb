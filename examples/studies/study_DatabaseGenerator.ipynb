{
 "cells": [
  {
   "cell_type": "code",
   "execution_count": null,
   "id": "d61dcfdb-a638-4a59-adf3-df98849c1bcd",
   "metadata": {
    "tags": []
   },
   "outputs": [],
   "source": [
    "using Pkg\n",
    "Pkg.activate(\"../..\")\n",
    "using Revise\n",
    "using TGLFNN\n",
    "using FUSE\n",
    "using Plots;\n",
    "FUSE.logging(Logging.Info; actors=Logging.Info);"
   ]
  },
  {
   "cell_type": "code",
   "execution_count": null,
   "id": "80329df2-2ece-4100-a31e-acde250e6988",
   "metadata": {
    "tags": []
   },
   "outputs": [],
   "source": [
    "# sty is the act equivalent for a study, it has common parameters like server and n_workers but also study dependent parameters like n_simulations\n",
    "sty,act = FUSE.study_parameters(:DatabaseGenerator);\n",
    "sty"
   ]
  },
  {
   "cell_type": "code",
   "execution_count": null,
   "id": "44d68040-b7f2-4f8a-8e63-58bed33c691b",
   "metadata": {
    "scrolled": true
   },
   "outputs": [],
   "source": [
    "using IMAS\n",
    "dd = IMAS.json2imas(\"/mnt/beegfs/users/neisert/ODSs/d3d/fuse_prepared_inputs/ods_161582_2300.json\");"
   ]
  },
  {
   "cell_type": "code",
   "execution_count": null,
   "id": "9748a49b-057f-4537-9d7e-9e3f2462ebed",
   "metadata": {},
   "outputs": [],
   "source": [
    "plot(dd.equilibrium,wall)"
   ]
  },
  {
   "cell_type": "code",
   "execution_count": null,
   "id": "d984ab89-239b-46c9-add5-8424aefc3753",
   "metadata": {
    "tags": []
   },
   "outputs": [],
   "source": [
    "# Interacting with sty\n",
    "sty.server = \"saga\"\n",
    "sty.n_workers = 2\n",
    "\n",
    "sty.save_folder = \"/mnt/beegfs/users/neisert/ODSs/ukaea/seq-2\"\n",
    "\n",
    "sty.release_workers_after_run = true # this is the default behavior and releases workers after running the study\n",
    "\n",
    "sty.n_simulations = 4\n",
    "\n",
    "sty"
   ]
  },
  {
   "cell_type": "code",
   "execution_count": null,
   "id": "dde71317-ef47-439b-8a53-18d6f5a6f187",
   "metadata": {},
   "outputs": [],
   "source": [
    "dd = IMAS.h5i2imas(\"/mnt/beegfs/users/neisert/ODSs/ukaea/seq-1/imasdb/step/3/88888/2/master.h5\");\n",
    "dd.global_time=102.07396074300034\n",
    "chk = FUSE.Checkpoint()\n",
    "chk[:init] = dd, FUSE.ParametersInits(),FUSE.ParametersActors()\n",
    "#dd.equilibrium.time_slice[].profiles_2d.psi = dd.equilibrium.time_slice[].profiles_2d.psi.T #grid1 grid2\n",
    "#FUSE.digest(dd)\n"
   ]
  },
  {
   "cell_type": "code",
   "execution_count": null,
   "id": "cefc2fb9-dff3-422f-b19b-46ed3cf6c0b3",
   "metadata": {},
   "outputs": [],
   "source": [
    "ini_step = FUSE.ParametersInits();\n",
    "ini_step.general.dd = dd\n",
    "ini_step.general.init_from=:ods\n",
    "\n",
    "FUSE.ini_from_ods!(ini_step;restore_expressions=false)\n",
    "\n",
    "ini_step"
   ]
  },
  {
   "cell_type": "code",
   "execution_count": null,
   "id": "ba107d86-92ff-4be3-93bc-62b1cdba496b",
   "metadata": {},
   "outputs": [],
   "source": [
    "dd.global_time = 1500.\n",
    "plot(dd.equilibrium)"
   ]
  },
  {
   "cell_type": "code",
   "execution_count": null,
   "id": "d6c68513-8353-4498-9db4-9bdf06608d47",
   "metadata": {},
   "outputs": [],
   "source": [
    "dd.global_time = 1500.\n",
    "plot(dd.equilibrium)"
   ]
  },
  {
   "cell_type": "code",
   "execution_count": null,
   "id": "e0f42238-dcb9-4929-8aff-25a0efce168b",
   "metadata": {},
   "outputs": [],
   "source": [
    "standard_lmode_dcit = FUSE.profiles[:Lmode]\n",
    "standard_lmode_dcit.tedge = 3.0 ↔ [2.5,3.5]\n",
    "\n",
    "ini_step.core_profiles.profiles = "
   ]
  },
  {
   "cell_type": "code",
   "execution_count": null,
   "id": "4fc0818f-5f5c-4e95-ac79-cf1cbde068cc",
   "metadata": {},
   "outputs": [],
   "source": [
    "p = plot(dd.equilibrium)\n",
    "\n",
    "ini_step.general.dd = missing\n",
    "ini_step.general.init_from = :scalars\n",
    "\n",
    "ini_step.core_profiles.greenwald_fraction_ped = 0.5 ↔ [0.3,0.85]\n",
    "ini_step.core_profiles.T_ratio = 0.5 ↔ [0.15,1.2]\n",
    "\n",
    "ini_step.equilibrium.boundary_from = :scalars\n",
    "ini_step.core_profiles.zeff = 3.0 ↔ [2.5,3.5]\n",
    "\n",
    "# Tom can figure these out\n",
    "ini_step.core_profiles.w_ped = 0.05 #↔ [2.5,3.5]\n",
    "\n",
    "\n",
    "\n",
    "p0 =  630797.\n",
    "ini_step.equilibrium.pressure_core = p0 ↔ [p0,p0*1.5]\n",
    "ini_step.core_profiles.zeff = 3.0 ↔ [2.5,3.5]\n",
    "\n",
    "ini_step.core_profiles.T_shaping =  1.5 ↔ [0.8,2.2]\n",
    "ini_step.core_profiles.n_shaping =  1.5 ↔ [0.8,2.2]\n",
    "ini_step.core_profiles.rot_core = 0.0 \n",
    "\n",
    "ini_step.core_profiles.impurity = :Ar\n",
    "ini_step.core_profiles.bulk = :DT\n",
    "ini_step.core_profiles.helium_fraction = 0.0\n",
    "#ini_step.core_profiles.zeff = 3.0 ↔ [2.5,3.5]\n",
    "\n",
    "for i in 1:3\n",
    "    @show i\n",
    "    dd_step = IMAS.dd()\n",
    "    \n",
    "    FUSE.rand!(ini_step)\n",
    "    FUSE.init(dd_step,ini_step,act)\n",
    "    plot!(p,dd_step.equilibrium)\n",
    "end\n",
    "display(p)\n",
    "# add a ne_sep / ne_ped ratio to the ini and set that accordingly to the s"
   ]
  },
  {
   "cell_type": "code",
   "execution_count": null,
   "id": "bbb3c356-4e35-4fac-aa56-d6c8233bc671",
   "metadata": {},
   "outputs": [],
   "source": [
    "p = plot(dd.core_profiles.profiles_1d[].electrons.temperature)\n",
    "for shape_1 in 0.8:0.1:2.2\n",
    "    for shape_2 in 0.8:0.1:2.2\n",
    "        profile = IMAS.Hmode_profiles(\n",
    "        plot!(p,profile)\n",
    "    end\n",
    "end\n",
    "display(p)\n"
   ]
  },
  {
   "cell_type": "code",
   "execution_count": null,
   "id": "b8bbb5d6-dad8-4d7f-b467-613c94de9196",
   "metadata": {},
   "outputs": [],
   "source": [
    "#ini_step.core_profiles.profiles = Dict(:L_mode => Dict(:core=>1e4,:edge=70,:shape=0.8,.....),:Hmode=> Dict(:bla=>10), :ITB=> Dict())"
   ]
  },
  {
   "cell_type": "code",
   "execution_count": null,
   "id": "57fe50bb-967c-4c84-93ad-9ee4615eeddc",
   "metadata": {},
   "outputs": [],
   "source": [
    "# Function to find the index of the nearest value\n",
    "function find_nearest_index(array, target)\n",
    "    differences = abs.(array .- target)  # Compute the absolute differences\n",
    "    nearest_index = argmin(differences)  # Find the index of the smallest difference\n",
    "    return nearest_index\n",
    "end\n",
    "index_of_nearest = find_nearest_index(dd.summary.time, dd.global_time)\n",
    "dd.summary.local.pedestal.t_e.value[index_of_nearest]\n",
    "\n",
    "IMAS.Hmode_profiles(dd.core_profiles.profiles_1d[].electrons.temperature[end], dd.summary.local.pedestal.t_e.value[index_of_nearest], dd.core_profiles.profiles_1d[].electrons.temperature[1],length(dd.core_profiles.profiles_1d[].grid.rho_tor_norm))\n"
   ]
  },
  {
   "cell_type": "code",
   "execution_count": null,
   "id": "d3b19902-d24d-428c-8b79-b218bd81e813",
   "metadata": {},
   "outputs": [],
   "source": [
    "length(dd.core_profiles.profiles_1d[].grid.rho_tor_norm)"
   ]
  },
  {
   "cell_type": "code",
   "execution_count": null,
   "id": "41addea7-5c76-4427-9ccf-b7bc139c9933",
   "metadata": {},
   "outputs": [],
   "source": [
    "plot(dd.core_profiles;only=2)"
   ]
  },
  {
   "cell_type": "code",
   "execution_count": null,
   "id": "083e5e9b-d08f-41b5-89cb-4f07029e1509",
   "metadata": {},
   "outputs": [],
   "source": [
    "plot(dd.core_profiles)"
   ]
  },
  {
   "cell_type": "code",
   "execution_count": null,
   "id": "8f8adfd9-503f-4485-8b38-3eb11b8bd07b",
   "metadata": {},
   "outputs": [],
   "source": [
    "ini.core_profiles.zeff = 2.5 ↔ [1.4,4.5]\n",
    "ini.core_profiles.greenwald_fraction_ped = 0.2 ↔[0.2,0.75*0.9]\n",
    "ini.core_profiles.temp_shape "
   ]
  },
  {
   "cell_type": "code",
   "execution_count": null,
   "id": "cabb2b81-321b-4cf1-b398-b8516a29a682",
   "metadata": {},
   "outputs": [],
   "source": [
    "dd,ini,act = chk[:init]\n",
    "dd.global_time= 14.1\n",
    "ini_test = FUSE.ParametersInits()\n",
    "ini_test.general.init_from =:ods\n",
    "ini_test.general.dd = dd\n",
    "ini_test\n",
    "FUSE.ini_from_ods!(ini_test;restore_expressions=false)"
   ]
  },
  {
   "cell_type": "code",
   "execution_count": null,
   "id": "a8a5adb2-18fb-4586-856d-279af2d4bb87",
   "metadata": {},
   "outputs": [],
   "source": [
    "#dd = IMAS.h5i2imas(\"/mnt/beegfs/users/neisert/ODSs/ukaea/seq-2/master.h5\");\n",
    "dd,ini,act = chk[:init]\n",
    "rhorange = range(0.1, 0.9, 9)\n",
    "act = FUSE.ParametersActors()\n",
    "act.ActorTGLF.rho_transport = rhorange\n",
    "\n",
    "t = 20\n",
    "#=dd.global_time=dd.summary.time[t+1]\n",
    "dd.equilibrium.time_slice[dd.summary.time[t+1]].profiles_2d[1].psi = Matrix(transpose(dd.equilibrium.time_slice[t].profiles_2d[1].psi))\n",
    "dd.equilibrium.time_slice[dd.summary.time[t+1]].profiles_1d.squareness_lower_inner = zeros(100)\n",
    "dd.equilibrium.time_slice[dd.summary.time[t+1]].profiles_1d.squareness_lower_outer = zeros(100)\n",
    "dd.equilibrium.time_slice[dd.summary.time[t+1]].profiles_1d.squareness_upper_inner = zeros(100)\n",
    "dd.equilibrium.time_slice[dd.summary.time[t+1]].profiles_1d.squareness_upper_outer = zeros(100)\n",
    "\n",
    "actor_tglf = FUSE.ActorTGLF(dd,act;rho_transport=rhorange) #dd_iter\n",
    "TGLFNN.save(actor_tglf.input_tglfs[1], \"./input_tglfs_seq1/input.tglf_test_2\")\n",
    "=#\n",
    "#ini_test = FUSE.ParametersInits()\n",
    "#ini_test.general.init_from =:ods\n",
    "#ini_test.general.dd = dd\n",
    "#ini_test\n",
    "#FUSE.ini_from_ods!(ini_test;restore_expressions=false)\n",
    "\n",
    "plot(dd.equilibrium.time_slice[t])"
   ]
  },
  {
   "cell_type": "code",
   "execution_count": null,
   "id": "071dfba7-52a1-44fc-8290-6e44e2f0d67b",
   "metadata": {},
   "outputs": [],
   "source": [
    "ini_test"
   ]
  },
  {
   "cell_type": "code",
   "execution_count": null,
   "id": "8bb363c5-a2e4-41fd-afa1-7355aac81821",
   "metadata": {},
   "outputs": [],
   "source": [
    "#for (t) in dd.summary.time\n",
    "#    println(t);\n",
    "#end\n",
    "println(size(dd.summary.time))\n",
    "println(dd.summary.time[1])\n",
    "println(dd.equilibrium.time_slice[dd.summary.time[1]].time)\n",
    "println(dd.summary.time[2])\n",
    "println(dd.equilibrium.time_slice[dd.summary.time[3]].time)\n",
    "println(dd.summary.time[19])\n",
    "println(dd.summary.time[20])\n",
    "println(dd.equilibrium.time_slice[dd.summary.time[20]].time)\n",
    "println(dd.equilibrium.time_slice[dd.summary.time[21]].time)"
   ]
  },
  {
   "cell_type": "code",
   "execution_count": null,
   "id": "665fd86f-4a09-491d-908c-f757590ed3ce",
   "metadata": {},
   "outputs": [],
   "source": [
    "FUSE.ActorTGLF"
   ]
  },
  {
   "cell_type": "code",
   "execution_count": null,
   "id": "f5c4cc9e-2a54-4b9c-ba23-b0c165ded6d3",
   "metadata": {
    "scrolled": true
   },
   "outputs": [],
   "source": [
    "rhorange = range(0.1, 0.9, 9)\n",
    "act = FUSE.ParametersActors()\n",
    "#act.ActorTGLF.tglfnn_model = \"sat1_em_d3d_azf-1\"\n",
    "\n",
    "\n",
    "for t in 1:1:2\n",
    "    println(dd.summary.time[t])\n",
    "    println(dd.equilibrium.time_slice[dd.summary.time[t+1]].time)\n",
    "    time = round(Int,dd.summary.time[t])\n",
    "    dd.global_time=dd.summary.time[t]\n",
    "    #=dd.equilibrium.time_slice[dd.summary.time[t+1]].profiles_2d[1].psi = Matrix(transpose(dd.equilibrium.time_slice[t].profiles_2d[1].psi))\n",
    "    dd.equilibrium.time_slice[dd.summary.time[t+1]].profiles_1d.squareness_lower_inner = zeros(100)\n",
    "    dd.equilibrium.time_slice[dd.summary.time[t+1]].profiles_1d.squareness_lower_outer = zeros(100)\n",
    "    dd.equilibrium.time_slice[dd.summary.time[t+1]].profiles_1d.squareness_upper_inner = zeros(100)\n",
    "    dd.equilibrium.time_slice[dd.summary.time[t+1]].profiles_1d.squareness_upper_outer = zeros(100)=#\n",
    "    #dd.equilibrium.time_slice[dd.summary.time[t]].profiles_2d[1].psi = Matrix(transpose(dd.equilibrium.time_slice[dd.summary.time[t]].profiles_2d[1].psi))\n",
    "    dd.equilibrium.time_slice[dd.summary.time[t]].profiles_1d.squareness_lower_inner = zeros(100)\n",
    "    dd.equilibrium.time_slice[dd.summary.time[t]].profiles_1d.squareness_lower_outer = zeros(100)\n",
    "    dd.equilibrium.time_slice[dd.summary.time[t]].profiles_1d.squareness_upper_inner = zeros(100)\n",
    "    dd.equilibrium.time_slice[dd.summary.time[t]].profiles_1d.squareness_upper_outer = zeros(100)\n",
    "    \n",
    "    actor_tglf = FUSE.ActorTGLF(dd,act;rho_transport=rhorange, electromagnetic=true, lump_ions=false) #dd_iter\n",
    "     for k in 1:length(rhorange)\n",
    "         println(k, \" \", rhorange[k])\n",
    "         TGLFNN.save(actor_tglf.input_tglfs[k], \"./input_tglfs_seq1_v2/input.tglf_$(time)_$(rhorange[k])\")\n",
    "     end\n",
    "    plot(dd.equilibrium.time_slice[t])\n",
    "end"
   ]
  },
  {
   "cell_type": "code",
   "execution_count": null,
   "id": "e04f5c2c-96e0-4210-b6b6-e481e99954f4",
   "metadata": {},
   "outputs": [],
   "source": [
    "dd.core_profiles.profiles_1d[t].time"
   ]
  },
  {
   "cell_type": "code",
   "execution_count": null,
   "id": "96217921-c6b8-4508-a3f2-1390aed8e787",
   "metadata": {},
   "outputs": [],
   "source": [
    "dd.equilibrium.time_slice[t].profiles_1d"
   ]
  },
  {
   "cell_type": "code",
   "execution_count": null,
   "id": "593b38bc-f3be-4240-94a0-df7c8274774b",
   "metadata": {},
   "outputs": [],
   "source": [
    "plot(dd.equilibrium.time_slice[t].profiles_1d.psi)"
   ]
  },
  {
   "cell_type": "code",
   "execution_count": null,
   "id": "f99978fe-fa35-406d-b1ce-8c9a39c46feb",
   "metadata": {},
   "outputs": [],
   "source": [
    "dd.equilibrium.time_slice[30]"
   ]
  },
  {
   "cell_type": "code",
   "execution_count": null,
   "id": "aa2bc542-958a-4183-a712-418048d8c0ca",
   "metadata": {},
   "outputs": [],
   "source": [
    "dd.global_time = 2000.\n",
    "FUSE.digest(dd)"
   ]
  },
  {
   "cell_type": "code",
   "execution_count": null,
   "id": "d139917c-a2d4-47a3-98ff-ef7504c82f0f",
   "metadata": {},
   "outputs": [],
   "source": [
    "dd_init = deepcopy(dd);"
   ]
  },
  {
   "cell_type": "code",
   "execution_count": null,
   "id": "7529904e-fa1b-448a-b17d-e3a4e6d1e911",
   "metadata": {},
   "outputs": [],
   "source": [
    "dd = deepcopy(dd_init)\n",
    "act= FUSE.ParametersActors();\n",
    "\n",
    "dd.global_time = 1600.\n",
    "act.ActorTGLF.model= :TGLFNN\n",
    "act.ActorTGLF.lump_ions = false\n",
    "#FUSE.ActorTGLF(dd,act)\n",
    "#dd.equilibrium.time_slice[].profiles_1d.j_tor = abs.(dd.equilibrium.time_slice[].profiles_1d.j_tor)\n",
    "actor_teq = FUSE.ActorTEQUILA(dd,act;ip_from=:equilibrium)\n",
    "#plot(dd.equilibrium)"
   ]
  },
  {
   "cell_type": "code",
   "execution_count": null,
   "id": "bde2662b-d929-4ca1-a2fd-4870463b32ea",
   "metadata": {},
   "outputs": [],
   "source": [
    "dd_init.equilibrium.time_slice[].profiles_2d"
   ]
  },
  {
   "cell_type": "code",
   "execution_count": null,
   "id": "8180eb62-7664-4abe-8ccb-d3f9724de5e6",
   "metadata": {},
   "outputs": [],
   "source": [
    "ini,act = FUSE.case_parameters(:STEP);\n",
    "\n",
    "ini_new = FUSE.ParametersInits()\n",
    "\n",
    "ini_new.general.init_from=  :ods\n",
    "ini_new.time.simulation_start = 1500.\n",
    "FUSE.ini_from_ods!(ini;restore_expressions=false)\n",
    "#dd.global_time = X\n",
    "#dd_init.global_time = 1500.\n",
    "\n",
    "ini_new.general.dd = deepcopy(dd_init);\n",
    "\n",
    "dd = IMAS.dd()\n",
    "ini_new.general.init_from=  :scalars\n",
    "\n",
    "FUSE.init(dd,ini_new,act);"
   ]
  },
  {
   "cell_type": "code",
   "execution_count": null,
   "id": "fe74895f-1a7e-48a4-a297-ae93608a70f6",
   "metadata": {},
   "outputs": [],
   "source": [
    "dd"
   ]
  },
  {
   "cell_type": "code",
   "execution_count": null,
   "id": "58063301-051b-44f9-a5cb-b9e8fbb6c340",
   "metadata": {},
   "outputs": [],
   "source": [
    "plot(dd.equilibrium.time_slice[1500.])"
   ]
  },
  {
   "cell_type": "code",
   "execution_count": null,
   "id": "def501a5",
   "metadata": {},
   "outputs": [],
   "source": [
    "# setup ini\n",
    "ini, act = FUSE.case_parameters(:ITER;init_from=:scalars)\n",
    "\n",
    "# core profiles\n",
    "ini.core_profiles.zeff = 2.5 ↔ [1.4,4.5]\n",
    "ini.core_profiles.greenwald_fraction_ped = 0.2 ↔[0.2,0.75*0.9]\n",
    "ini.core_profiles.temp_shape \n",
    "# H&CD\n",
    "ini.nb_unit[1].power_launched = 33.4e6 ↔ [0.0,33.4e6]\n",
    "ini.nb_unit[1].beam_energy = 1e6 ↔ [1e5,1e6]\n",
    "ini.ec_launcher[1].power_launched = 20e6 ↔ [0.0,20e6]\n",
    "ini.ec_launcher[1].rho_0 = 0.3 ↔ [0.1,0.9]\n",
    "ini.ic_antenna[1].power_launched = 24e6 ↔ [0.0,24e6]\n",
    "ini.lh_antenna[1].power_launched = 10e6 ↔ [0.0,10e6]\n",
    "\n",
    "# Change act for running ITER for IDA\n",
    "act.ActorCoreTransport.model = :FluxMatcher\n",
    "act.ActorFluxMatcher.evolve_pedestal = false\n",
    "act.ActorTGLF.warn_nn_train_bounds = false\n",
    "act.ActorFluxMatcher.evolve_rotation = :fixed\n",
    "act.ActorFluxMatcher.evolve_densities = :flux_match"
   ]
  },
  {
   "cell_type": "code",
   "execution_count": null,
   "id": "3b903794-8aca-4bd1-9e7c-738acad84ad7",
   "metadata": {
    "tags": []
   },
   "outputs": [],
   "source": [
    "# study is the actor equivalent of actors, here sty, act and outputs are kept of the workflow\n",
    "study = FUSE.StudyDatabaseGenerator(sty,ini, act; n_workers=2); # it is possible to pass in keyword arguments to sty\n",
    "\n",
    "# instantiating the study will also setup the study i.e. FUSE.setup(study);"
   ]
  },
  {
   "cell_type": "code",
   "execution_count": null,
   "id": "4d3741c5-6fc6-4d33-ad74-680a8de95aab",
   "metadata": {
    "tags": []
   },
   "outputs": [],
   "source": [
    "# for now you will have to import FUSE everywhere in your distributed computing\n",
    "using Distributed\n",
    "@everywhere import FUSE\n"
   ]
  },
  {
   "cell_type": "code",
   "execution_count": null,
   "id": "94ec7cfc-9324-47b8-b387-5b0b15800359",
   "metadata": {
    "tags": []
   },
   "outputs": [],
   "source": [
    "FUSE.run(study);   # runs the study, this also writes the dataframes\n",
    "\n",
    "# at the end of the run workers are released so you will have to setup again if you want to run more"
   ]
  },
  {
   "cell_type": "code",
   "execution_count": null,
   "id": "176195de-8c49-49ec-bdab-f30ff5e6bc2a",
   "metadata": {
    "tags": []
   },
   "outputs": [],
   "source": [
    "# data for this workflow is stored in a dictionary of dataframes study.dataframes_dict\n",
    "study.dataframes_dict[\"outputs_summary\"]\n",
    "\n"
   ]
  },
  {
   "cell_type": "code",
   "execution_count": null,
   "id": "5640d434-e3e6-4d0e-979f-238c3846280a",
   "metadata": {
    "tags": []
   },
   "outputs": [],
   "source": [
    "# analyze the study results \n",
    "FUSE.analyze(study);\n",
    "\n",
    "\n"
   ]
  }
 ],
 "metadata": {
  "kernelspec": {
   "display_name": "Julia 1.x 1.11.3",
   "language": "julia",
   "name": "julia-1.x-1.11"
  },
  "language_info": {
   "file_extension": ".jl",
   "mimetype": "application/julia",
   "name": "julia",
   "version": "1.11.3"
  }
 },
 "nbformat": 4,
 "nbformat_minor": 5
}
